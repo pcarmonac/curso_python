{
  "nbformat": 4,
  "nbformat_minor": 0,
  "metadata": {
    "colab": {
      "provenance": []
    },
    "kernelspec": {
      "name": "python3",
      "display_name": "Python 3"
    },
    "language_info": {
      "name": "python"
    }
  },
  "cells": [
    {
      "cell_type": "markdown",
      "source": [
        "# 6 Unique & Count"
      ],
      "metadata": {
        "id": "uI7_YNwXlMe1"
      }
    },
    {
      "cell_type": "code",
      "source": [
        "import numpy as np"
      ],
      "metadata": {
        "id": "V7BX79gEobw8"
      },
      "execution_count": 33,
      "outputs": []
    },
    {
      "cell_type": "code",
      "source": [
        "survey_responses = np.array([\"bueno\", \"excelente\", \"malo\",\n",
        "                             \"bueno\", \"malo\", \"excelente\",\n",
        "                             \"bueno\", \"bueno\", \"malo\",\n",
        "                             \"excelente\"])\n",
        "print(np.unique(survey_responses))"
      ],
      "metadata": {
        "colab": {
          "base_uri": "https://localhost:8080/"
        },
        "id": "tVuoKzn9oONI",
        "outputId": "b932a8b1-7b4f-4851-88f9-9238ee0ecf69"
      },
      "execution_count": 30,
      "outputs": [
        {
          "output_type": "stream",
          "name": "stdout",
          "text": [
            "['bueno' 'excelente' 'malo']\n"
          ]
        }
      ]
    },
    {
      "cell_type": "code",
      "source": [
        "unique_elements, counts = np.unique(survey_responses, return_counts=True)\n",
        "print(unique_elements)\n",
        "print(counts)"
      ],
      "metadata": {
        "colab": {
          "base_uri": "https://localhost:8080/"
        },
        "id": "riGfB59xoYO4",
        "outputId": "754352cc-38cc-415a-b868-5da1024ee8ed"
      },
      "execution_count": 31,
      "outputs": [
        {
          "output_type": "stream",
          "name": "stdout",
          "text": [
            "['bueno' 'excelente' 'malo']\n",
            "[4 3 3]\n"
          ]
        }
      ]
    },
    {
      "cell_type": "code",
      "source": [
        "array_x = np.arange(10)\n",
        "view_y = array_x[1:3]\n",
        "print(array_x)\n",
        "print(view_y)\n",
        "array_x[1:3] = [10,11]\n",
        "print(array_x)\n",
        "print(view_y)"
      ],
      "metadata": {
        "colab": {
          "base_uri": "https://localhost:8080/"
        },
        "id": "WSk9NrF7oZw-",
        "outputId": "63b7fb5e-699c-4315-8c60-54a57d727550"
      },
      "execution_count": 32,
      "outputs": [
        {
          "output_type": "stream",
          "name": "stdout",
          "text": [
            "[0 1 2 3 4 5 6 7 8 9]\n",
            "[1 2]\n",
            "[ 0 10 11  3  4  5  6  7  8  9]\n",
            "[10 11]\n"
          ]
        }
      ]
    },
    {
      "cell_type": "code",
      "source": [
        "array_x = np.arange(10)\n",
        "copy_x = array_x[[1,2]]\n",
        "print(array_x)\n",
        "print(copy_x)\n",
        "array_x[1:3] = [10,11]\n",
        "print(array_x)\n",
        "print(copy_x)"
      ],
      "metadata": {
        "colab": {
          "base_uri": "https://localhost:8080/"
        },
        "id": "EEeE-Uyeoc8S",
        "outputId": "931d787b-70f2-4043-8a86-4c9c9966c498"
      },
      "execution_count": 34,
      "outputs": [
        {
          "output_type": "stream",
          "name": "stdout",
          "text": [
            "[0 1 2 3 4 5 6 7 8 9]\n",
            "[1 2]\n",
            "[ 0 10 11  3  4  5  6  7  8  9]\n",
            "[1 2]\n"
          ]
        }
      ]
    }
  ]
}