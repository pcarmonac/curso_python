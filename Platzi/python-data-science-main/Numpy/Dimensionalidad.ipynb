{
  "nbformat": 4,
  "nbformat_minor": 0,
  "metadata": {
    "colab": {
      "provenance": []
    },
    "kernelspec": {
      "name": "python3",
      "display_name": "Python 3"
    },
    "language_info": {
      "name": "python"
    }
  },
  "cells": [
    {
      "cell_type": "markdown",
      "source": [
        "# Dimensionalidad"
      ],
      "metadata": {
        "id": "e0QTcru75CWE"
      }
    },
    {
      "cell_type": "code",
      "execution_count": 1,
      "metadata": {
        "id": "NtchhcrALNFW",
        "colab": {
          "base_uri": "https://localhost:8080/"
        },
        "outputId": "899d90ea-700a-4187-b2ea-b1a3ce7a6348"
      },
      "outputs": [
        {
          "output_type": "stream",
          "name": "stdout",
          "text": [
            "<class 'numpy.ndarray'>\n",
            "42\n"
          ]
        }
      ],
      "source": [
        "import numpy as np\n",
        "escalar = np.array(42)\n",
        "print(type(escalar))\n",
        "print(escalar)"
      ]
    },
    {
      "cell_type": "code",
      "source": [
        "vector = np.array([30,29,35,31,33,36,42])\n",
        "print(vector)"
      ],
      "metadata": {
        "id": "zo5IzHUXL7Sp",
        "colab": {
          "base_uri": "https://localhost:8080/"
        },
        "outputId": "d9b607d4-622f-450b-86ca-6f440df68141"
      },
      "execution_count": 2,
      "outputs": [
        {
          "output_type": "stream",
          "name": "stdout",
          "text": [
            "[30 29 35 31 33 36 42]\n"
          ]
        }
      ]
    },
    {
      "cell_type": "code",
      "source": [
        "matrix = np.array([[1,2,3],[4,5,6],[7,8,9]])\n",
        "print(matrix)"
      ],
      "metadata": {
        "colab": {
          "base_uri": "https://localhost:8080/"
        },
        "id": "4e83MkZ2Jyu_",
        "outputId": "3d81090c-94a5-46aa-b5dd-1bef3c81faba"
      },
      "execution_count": 3,
      "outputs": [
        {
          "output_type": "stream",
          "name": "stdout",
          "text": [
            "[[1 2 3]\n",
            " [4 5 6]\n",
            " [7 8 9]]\n"
          ]
        }
      ]
    },
    {
      "cell_type": "code",
      "source": [
        "tensor = np.array([[[1,2],[3,4],[5,6], [7,8]]])\n",
        "print(tensor)"
      ],
      "metadata": {
        "colab": {
          "base_uri": "https://localhost:8080/"
        },
        "id": "EDcMvmlkJ2ss",
        "outputId": "7cdeb3ea-d387-4543-d1bb-9c1a91fc2c2d"
      },
      "execution_count": 4,
      "outputs": [
        {
          "output_type": "stream",
          "name": "stdout",
          "text": [
            "[[[1 2]\n",
            "  [3 4]\n",
            "  [5 6]\n",
            "  [7 8]]]\n"
          ]
        }
      ]
    },
    {
      "cell_type": "code",
      "source": [
        "array_arange = np.arange(10)\n",
        "print(array_arange)"
      ],
      "metadata": {
        "colab": {
          "base_uri": "https://localhost:8080/"
        },
        "id": "j5yxoq_VJ4SM",
        "outputId": "c01f23ab-e3b1-4587-80f8-96f29bbf1e5e"
      },
      "execution_count": 5,
      "outputs": [
        {
          "output_type": "stream",
          "name": "stdout",
          "text": [
            "[0 1 2 3 4 5 6 7 8 9]\n"
          ]
        }
      ]
    },
    {
      "cell_type": "code",
      "source": [
        "eye_matrix = np.eye(6)\n",
        "print(eye_matrix)"
      ],
      "metadata": {
        "colab": {
          "base_uri": "https://localhost:8080/"
        },
        "id": "0vTQ7wfSJ5rN",
        "outputId": "a1442e57-b172-4ec4-9538-e78a4a5528b9"
      },
      "execution_count": 6,
      "outputs": [
        {
          "output_type": "stream",
          "name": "stdout",
          "text": [
            "[[1. 0. 0. 0. 0. 0.]\n",
            " [0. 1. 0. 0. 0. 0.]\n",
            " [0. 0. 1. 0. 0. 0.]\n",
            " [0. 0. 0. 1. 0. 0.]\n",
            " [0. 0. 0. 0. 1. 0.]\n",
            " [0. 0. 0. 0. 0. 1.]]\n"
          ]
        }
      ]
    },
    {
      "cell_type": "code",
      "source": [
        "diag = np.diag([1,2,3,4,5,6,7])\n",
        "print(diag)"
      ],
      "metadata": {
        "id": "2WHAqjwzJ7u1",
        "outputId": "94e81cc5-0a7e-4c42-eb65-e66296d39582",
        "colab": {
          "base_uri": "https://localhost:8080/"
        }
      },
      "execution_count": 7,
      "outputs": [
        {
          "output_type": "stream",
          "name": "stdout",
          "text": [
            "[[1 0 0 0 0 0 0]\n",
            " [0 2 0 0 0 0 0]\n",
            " [0 0 3 0 0 0 0]\n",
            " [0 0 0 4 0 0 0]\n",
            " [0 0 0 0 5 0 0]\n",
            " [0 0 0 0 0 6 0]\n",
            " [0 0 0 0 0 0 7]]\n"
          ]
        }
      ]
    },
    {
      "cell_type": "code",
      "source": [
        "random = np.random.random((2,3))\n",
        "print(random)"
      ],
      "metadata": {
        "id": "3oLbDa17J9iU",
        "outputId": "57a8c973-4773-4b20-de7a-3a53f73d3bb6",
        "colab": {
          "base_uri": "https://localhost:8080/"
        }
      },
      "execution_count": 8,
      "outputs": [
        {
          "output_type": "stream",
          "name": "stdout",
          "text": [
            "[[0.03029375 0.25984727 0.3012193 ]\n",
            " [0.60754954 0.56423421 0.65044375]]\n"
          ]
        }
      ]
    }
  ]
}