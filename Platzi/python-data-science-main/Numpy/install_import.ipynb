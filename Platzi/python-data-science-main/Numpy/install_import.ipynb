{
  "nbformat": 4,
  "nbformat_minor": 0,
  "metadata": {
    "colab": {
      "provenance": []
    },
    "kernelspec": {
      "name": "python3",
      "display_name": "Python 3"
    },
    "language_info": {
      "name": "python"
    }
  },
  "cells": [
    {
      "cell_type": "markdown",
      "source": [
        "# Instalación e Importación de la librería"
      ],
      "metadata": {
        "id": "e0QTcru75CWE"
      }
    },
    {
      "cell_type": "code",
      "execution_count": null,
      "metadata": {
        "id": "NtchhcrALNFW"
      },
      "outputs": [],
      "source": [
        "!pip install numpy pandas"
      ]
    },
    {
      "cell_type": "code",
      "source": [
        "import numpy as np"
      ],
      "metadata": {
        "id": "zo5IzHUXL7Sp"
      },
      "execution_count": null,
      "outputs": []
    }
  ]
}