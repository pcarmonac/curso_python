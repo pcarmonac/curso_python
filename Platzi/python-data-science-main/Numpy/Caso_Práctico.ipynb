{
  "nbformat": 4,
  "nbformat_minor": 0,
  "metadata": {
    "colab": {
      "provenance": []
    },
    "kernelspec": {
      "name": "python3",
      "display_name": "Python 3"
    },
    "language_info": {
      "name": "python"
    }
  },
  "cells": [
    {
      "cell_type": "markdown",
      "source": [
        "# 8 Caso Práctico"
      ],
      "metadata": {
        "id": "uI7_YNwXlMe1"
      }
    },
    {
      "cell_type": "code",
      "source": [
        "import numpy as np\n",
        "\n",
        "# Paso 1: Crear arrays con datos de ventas mensuales\n",
        "meses = np.array(['Enero', 'Febrero', 'Marzo', 'Abril', 'Mayo', 'Junio',\n",
        "                  'Julio', 'Agosto', 'Septiembre', 'Octubre', 'Noviembre', 'Diciembre'])\n",
        "ventas_A = np.array([150, 200, 250, 300, 220, 210, 180, 190, 230, 240, 280, 300])\n",
        "ventas_B = np.array([180, 210, 230, 250, 270, 260, 240, 250, 270, 290, 310, 330])\n",
        "ventas_C = np.array([200, 220, 240, 260, 280, 300, 320, 340, 360, 380, 400, 420])"
      ],
      "metadata": {
        "id": "V7BX79gEobw8"
      },
      "execution_count": 39,
      "outputs": []
    },
    {
      "cell_type": "code",
      "source": [
        "# Paso 2: Transformaciones básicas con NumPy\n",
        "# Estadísticas básicas\n",
        "media_A = np.mean(ventas_A)\n",
        "suma_A = np.sum(ventas_A)\n",
        "media_B = np.mean(ventas_B)\n",
        "suma_B = np.sum(ventas_B)\n",
        "media_C = np.mean(ventas_C)\n",
        "suma_C = np.sum(ventas_C)\n",
        "\n",
        "print(f\"Media de ventas Producto A: {media_A}\")\n",
        "print(f\"Suma de ventas Producto A: {suma_A}\")\n",
        "print(f\"Media de ventas Producto B: {media_B}\")\n",
        "print(f\"Suma de ventas Producto B: {suma_B}\")\n",
        "print(f\"Media de ventas Producto C: {media_C}\")\n",
        "print(f\"Suma de ventas Producto C: {suma_C}\")"
      ],
      "metadata": {
        "colab": {
          "base_uri": "https://localhost:8080/"
        },
        "id": "kPa2kCyUD3Po",
        "outputId": "b395f499-6282-4d24-b617-d43af2df8915"
      },
      "execution_count": 40,
      "outputs": [
        {
          "output_type": "stream",
          "name": "stdout",
          "text": [
            "Media de ventas Producto A: 229.16666666666666\n",
            "Suma de ventas Producto A: 2750\n",
            "Media de ventas Producto B: 257.5\n",
            "Suma de ventas Producto B: 3090\n",
            "Media de ventas Producto C: 310.0\n",
            "Suma de ventas Producto C: 3720\n"
          ]
        }
      ]
    },
    {
      "cell_type": "code",
      "source": [
        "# Paso 3: Manipulación y análisis de datos\n",
        "# Calcular el total de ventas por mes\n",
        "total_ventas_por_mes = ventas_A + ventas_B + ventas_C\n",
        "\n",
        "# Calcular el promedio de ventas por producto\n",
        "promedio_ventas_productos = np.array([media_A, media_B, media_C])\n",
        "\n",
        "# Identificar el mes con mayor y menor ventas\n",
        "mes_mayor_ventas = meses[np.argmax(total_ventas_por_mes)]\n",
        "mes_menor_ventas = meses[np.argmin(total_ventas_por_mes)]\n",
        "\n",
        "print(\"Total de ventas por mes:\", total_ventas_por_mes)\n",
        "print(\"Promedio de ventas por producto:\", promedio_ventas_productos)\n",
        "print(f\"Mes con mayor ventas: {mes_mayor_ventas}\")\n",
        "print(f\"Mes con menor ventas: {mes_menor_ventas}\")"
      ],
      "metadata": {
        "colab": {
          "base_uri": "https://localhost:8080/"
        },
        "id": "uPSYyWIMD7DJ",
        "outputId": "3311ff1c-c1c7-423a-aa75-3d29a855c54f"
      },
      "execution_count": 41,
      "outputs": [
        {
          "output_type": "stream",
          "name": "stdout",
          "text": [
            "Total de ventas por mes: [ 530  630  720  810  770  770  740  780  860  910  990 1050]\n",
            "Promedio de ventas por producto: [229.16666667 257.5        310.        ]\n",
            "Mes con mayor ventas: Diciembre\n",
            "Mes con menor ventas: Enero\n"
          ]
        }
      ]
    },
    {
      "cell_type": "code",
      "source": [
        "# Paso 4: Operaciones avanzadas con NumPy\n",
        "# Reshape y Transposición\n",
        "ventas_matrix = np.array([ventas_A, ventas_B, ventas_C])\n",
        "ventas_reshaped = ventas_matrix.reshape(3, 4, 3)\n",
        "ventas_transposed = ventas_matrix.T\n",
        "\n",
        "print(\"Ventas Matrix:\\n\", ventas_matrix)\n",
        "print(\"Ventas Reshaped (3, 4, 3):\\n\", ventas_reshaped)\n",
        "print(\"Ventas Transposed:\\n\", ventas_transposed)\n",
        "\n",
        "# Invertir arrays y aplanar matrices\n",
        "ventas_inverted = ventas_matrix[:, ::-1]\n",
        "ventas_flattened = ventas_matrix.flatten()\n",
        "\n",
        "print(\"Ventas Invertidas:\\n\", ventas_inverted)\n",
        "print(\"Ventas Aplanadas:\\n\", ventas_flattened)"
      ],
      "metadata": {
        "colab": {
          "base_uri": "https://localhost:8080/"
        },
        "id": "gH1V6i3nD98H",
        "outputId": "7a964937-a057-48ed-f185-84a2ec6b1405"
      },
      "execution_count": 42,
      "outputs": [
        {
          "output_type": "stream",
          "name": "stdout",
          "text": [
            "Ventas Matrix:\n",
            " [[150 200 250 300 220 210 180 190 230 240 280 300]\n",
            " [180 210 230 250 270 260 240 250 270 290 310 330]\n",
            " [200 220 240 260 280 300 320 340 360 380 400 420]]\n",
            "Ventas Reshaped (3, 4, 3):\n",
            " [[[150 200 250]\n",
            "  [300 220 210]\n",
            "  [180 190 230]\n",
            "  [240 280 300]]\n",
            "\n",
            " [[180 210 230]\n",
            "  [250 270 260]\n",
            "  [240 250 270]\n",
            "  [290 310 330]]\n",
            "\n",
            " [[200 220 240]\n",
            "  [260 280 300]\n",
            "  [320 340 360]\n",
            "  [380 400 420]]]\n",
            "Ventas Transposed:\n",
            " [[150 180 200]\n",
            " [200 210 220]\n",
            " [250 230 240]\n",
            " [300 250 260]\n",
            " [220 270 280]\n",
            " [210 260 300]\n",
            " [180 240 320]\n",
            " [190 250 340]\n",
            " [230 270 360]\n",
            " [240 290 380]\n",
            " [280 310 400]\n",
            " [300 330 420]]\n",
            "Ventas Invertidas:\n",
            " [[300 280 240 230 190 180 210 220 300 250 200 150]\n",
            " [330 310 290 270 250 240 260 270 250 230 210 180]\n",
            " [420 400 380 360 340 320 300 280 260 240 220 200]]\n",
            "Ventas Aplanadas:\n",
            " [150 200 250 300 220 210 180 190 230 240 280 300 180 210 230 250 270 260\n",
            " 240 250 270 290 310 330 200 220 240 260 280 300 320 340 360 380 400 420]\n"
          ]
        }
      ]
    },
    {
      "cell_type": "code",
      "source": [
        "# Paso 5: Análisis de elementos únicos y sus conteos\n",
        "unique_ventas, counts_ventas = np.unique(ventas_flattened, return_counts=True)\n",
        "print(\"Elementos únicos en las ventas:\", unique_ventas)\n",
        "print(\"Conteos de elementos únicos en las ventas:\", counts_ventas)"
      ],
      "metadata": {
        "colab": {
          "base_uri": "https://localhost:8080/"
        },
        "id": "mdLfdri7EAbC",
        "outputId": "fd5b486e-fa2e-415b-94bb-4b1afccad5f5"
      },
      "execution_count": 44,
      "outputs": [
        {
          "output_type": "stream",
          "name": "stdout",
          "text": [
            "Elementos únicos en las ventas: [150 180 190 200 210 220 230 240 250 260 270 280 290 300 310 320 330 340\n",
            " 360 380 400 420]\n",
            "Conteos de elementos únicos en las ventas: [1 2 1 2 2 2 2 3 3 2 2 2 1 3 1 1 1 1 1 1 1 1]\n"
          ]
        }
      ]
    },
    {
      "cell_type": "code",
      "source": [
        "# Paso 6: Indexación y slicing\n",
        "# Seleccionar ventas del primer trimestre\n",
        "ventas_primer_trimestre = ventas_matrix[:, :3]\n",
        "print(\"Ventas del primer trimestre:\\n\", ventas_primer_trimestre)\n",
        "\n",
        "# Indexación booleana para seleccionar meses con ventas totales superiores a 800\n",
        "meses_altas_ventas = meses[total_ventas_por_mes > 800]\n",
        "ventas_altas = total_ventas_por_mes[total_ventas_por_mes > 800]\n",
        "print(\"Meses con ventas totales superiores a 800:\", meses_altas_ventas)\n",
        "print(\"Ventas totales superiores a 800:\", ventas_altas)\n",
        "\n",
        "# Selección avanzada\n",
        "indices = [0, 2, 4, 6, 8, 10]\n",
        "ventas_indices_seleccionados = ventas_matrix[:, indices]\n",
        "print(\"Ventas en meses seleccionados:\\n\", ventas_indices_seleccionados)"
      ],
      "metadata": {
        "id": "uNyEtQ_iEDqo",
        "outputId": "005b99d8-00e5-4b6c-87a1-e1a57a54235b",
        "colab": {
          "base_uri": "https://localhost:8080/"
        }
      },
      "execution_count": 45,
      "outputs": [
        {
          "output_type": "stream",
          "name": "stdout",
          "text": [
            "Ventas del primer trimestre:\n",
            " [[150 200 250]\n",
            " [180 210 230]\n",
            " [200 220 240]]\n",
            "Meses con ventas totales superiores a 800: ['Abril' 'Septiembre' 'Octubre' 'Noviembre' 'Diciembre']\n",
            "Ventas totales superiores a 800: [ 810  860  910  990 1050]\n",
            "Ventas en meses seleccionados:\n",
            " [[150 250 220 180 230 280]\n",
            " [180 230 270 240 270 310]\n",
            " [200 240 280 320 360 400]]\n"
          ]
        }
      ]
    }
  ]
}