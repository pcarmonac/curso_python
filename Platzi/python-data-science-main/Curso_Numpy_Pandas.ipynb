{
  "cells": [
    {
      "cell_type": "markdown",
      "metadata": {
        "id": "hJftkellT_HL"
      },
      "source": [
        "# Dimensionalidades"
      ]
    },
    {
      "cell_type": "code",
      "execution_count": null,
      "metadata": {
        "colab": {
          "base_uri": "https://localhost:8080/"
        },
        "id": "fWQ-R__VSRhA",
        "outputId": "08ca63f1-a00f-41e3-ba0e-59f150fa655b"
      },
      "outputs": [
        {
          "name": "stdout",
          "output_type": "stream",
          "text": [
            "<class 'numpy.ndarray'>\n",
            "42\n"
          ]
        }
      ],
      "source": [
        "import numpy as np\n",
        "escalar = np.array(42)\n",
        "print(type(escalar))\n",
        "print(escalar)"
      ]
    },
    {
      "cell_type": "code",
      "execution_count": null,
      "metadata": {
        "colab": {
          "base_uri": "https://localhost:8080/"
        },
        "id": "dHwWlY5cg4vF",
        "outputId": "93c3d5f2-c26b-49b5-c830-a6892fd08a45"
      },
      "outputs": [
        {
          "name": "stdout",
          "output_type": "stream",
          "text": [
            "[30 29 35 31 33 36 42]\n"
          ]
        }
      ],
      "source": [
        "vector = np.array([30,29,35,31,33,36,42])\n",
        "print(vector)"
      ]
    },
    {
      "cell_type": "code",
      "execution_count": null,
      "metadata": {
        "colab": {
          "base_uri": "https://localhost:8080/"
        },
        "id": "2q0YTODYhCSh",
        "outputId": "533790d4-e432-4748-c11a-4ba362c33a28"
      },
      "outputs": [
        {
          "name": "stdout",
          "output_type": "stream",
          "text": [
            "[[1 2 3]\n",
            " [4 5 6]\n",
            " [7 8 9]]\n"
          ]
        }
      ],
      "source": [
        "matrix = np.array([[1,2,3],[4,5,6],[7,8,9]])\n",
        "print(matrix)"
      ]
    },
    {
      "cell_type": "code",
      "execution_count": null,
      "metadata": {
        "colab": {
          "base_uri": "https://localhost:8080/"
        },
        "id": "kuA9R4VVjfe7",
        "outputId": "4a633af2-2323-42da-8b50-34a344603a79"
      },
      "outputs": [
        {
          "name": "stdout",
          "output_type": "stream",
          "text": [
            "[[[1 2]\n",
            "  [3 4]\n",
            "  [5 6]\n",
            "  [7 8]]]\n"
          ]
        }
      ],
      "source": [
        "tensor = np.array([[[1,2],[3,4],[5,6], [7,8]]])\n",
        "print(tensor)"
      ]
    },
    {
      "cell_type": "code",
      "execution_count": null,
      "metadata": {
        "colab": {
          "base_uri": "https://localhost:8080/"
        },
        "id": "ZStoAPuvlrp_",
        "outputId": "0c877f0c-c2f7-4d84-c70a-055540a27d5e"
      },
      "outputs": [
        {
          "name": "stdout",
          "output_type": "stream",
          "text": [
            "[0 1 2 3 4 5 6 7 8 9]\n"
          ]
        }
      ],
      "source": [
        "array_arange = np.arange(10)\n",
        "print(array_arange)"
      ]
    },
    {
      "cell_type": "code",
      "execution_count": null,
      "metadata": {
        "colab": {
          "base_uri": "https://localhost:8080/"
        },
        "id": "6HSzCmckl6wa",
        "outputId": "66de6efe-9262-4c17-8bdd-e0047ae5d554"
      },
      "outputs": [
        {
          "name": "stdout",
          "output_type": "stream",
          "text": [
            "[[1. 0. 0. 0. 0. 0.]\n",
            " [0. 1. 0. 0. 0. 0.]\n",
            " [0. 0. 1. 0. 0. 0.]\n",
            " [0. 0. 0. 1. 0. 0.]\n",
            " [0. 0. 0. 0. 1. 0.]\n",
            " [0. 0. 0. 0. 0. 1.]]\n"
          ]
        }
      ],
      "source": [
        "eye_matrix = np.eye(6)\n",
        "print(eye_matrix)"
      ]
    },
    {
      "cell_type": "code",
      "execution_count": null,
      "metadata": {
        "colab": {
          "base_uri": "https://localhost:8080/"
        },
        "id": "jDZHIlxnmJzz",
        "outputId": "903bb958-cba0-49a9-841f-dca006f5ae44"
      },
      "outputs": [
        {
          "name": "stdout",
          "output_type": "stream",
          "text": [
            "[[1 0 0 0 0 0 0]\n",
            " [0 2 0 0 0 0 0]\n",
            " [0 0 3 0 0 0 0]\n",
            " [0 0 0 4 0 0 0]\n",
            " [0 0 0 0 5 0 0]\n",
            " [0 0 0 0 0 6 0]\n",
            " [0 0 0 0 0 0 7]]\n"
          ]
        }
      ],
      "source": [
        "diag = np.diag([1,2,3,4,5,6,7])\n",
        "print(diag)"
      ]
    },
    {
      "cell_type": "code",
      "execution_count": null,
      "metadata": {
        "colab": {
          "base_uri": "https://localhost:8080/"
        },
        "id": "BCFbTThtmng-",
        "outputId": "af3a13a4-d0d3-423b-b14f-4aca20c61a37"
      },
      "outputs": [
        {
          "name": "stdout",
          "output_type": "stream",
          "text": [
            "[[0.77629614 0.62932673 0.92080471]\n",
            " [0.04501054 0.47904574 0.57064826]]\n"
          ]
        }
      ],
      "source": [
        "random = np.random.random((2,3))\n",
        "print(random)"
      ]
    },
    {
      "cell_type": "markdown",
      "metadata": {
        "id": "y_pyqw0a_071"
      },
      "source": [
        "# Arrays"
      ]
    },
    {
      "cell_type": "code",
      "execution_count": null,
      "metadata": {
        "colab": {
          "base_uri": "https://localhost:8080/"
        },
        "id": "9eep-ytz_3pf",
        "outputId": "ab364310-1cd8-46cf-920a-f610b5ca928e"
      },
      "outputs": [
        {
          "name": "stdout",
          "output_type": "stream",
          "text": [
            "2\n",
            "(2, 3)\n",
            "int64\n"
          ]
        }
      ],
      "source": [
        "array = np.array([[1,2,3],[4,5,6]])\n",
        "print(array.ndim)\n",
        "print(array.shape)\n",
        "print(array.dtype)"
      ]
    },
    {
      "cell_type": "code",
      "execution_count": null,
      "metadata": {
        "colab": {
          "base_uri": "https://localhost:8080/"
        },
        "id": "MNpUDvybCgpW",
        "outputId": "d38420f1-0cc6-4a9c-c045-90e9a2e15cfb"
      },
      "outputs": [
        {
          "name": "stdout",
          "output_type": "stream",
          "text": [
            "3\n"
          ]
        }
      ],
      "source": [
        "z = np.array(3, dtype=np.uint8)\n",
        "print(z)"
      ]
    },
    {
      "cell_type": "code",
      "execution_count": null,
      "metadata": {
        "colab": {
          "base_uri": "https://localhost:8080/"
        },
        "id": "wYEU66TFDLv9",
        "outputId": "1f30bd40-f27f-4ac7-df77-837420ede10b"
      },
      "outputs": [
        {
          "name": "stdout",
          "output_type": "stream",
          "text": [
            "[1. 2. 3.]\n"
          ]
        }
      ],
      "source": [
        "double_array = np.array([1,2,3], dtype='d')\n",
        "print(double_array)"
      ]
    },
    {
      "cell_type": "code",
      "execution_count": null,
      "metadata": {
        "colab": {
          "base_uri": "https://localhost:8080/"
        },
        "id": "FF4ZojF9Dl7-",
        "outputId": "f5706c30-2fd0-4a44-e325-446690304d5b"
      },
      "outputs": [
        {
          "name": "stdout",
          "output_type": "stream",
          "text": [
            "3.0\n"
          ]
        }
      ],
      "source": [
        "z = z.astype(np.float64)\n",
        "print(z)"
      ]
    },
    {
      "cell_type": "code",
      "execution_count": null,
      "metadata": {
        "colab": {
          "base_uri": "https://localhost:8080/"
        },
        "id": "5vGqb4G8EOEz",
        "outputId": "6a87b94d-a85e-44c3-d36e-108ffb400838"
      },
      "outputs": [
        {
          "name": "stdout",
          "output_type": "stream",
          "text": [
            "21\n"
          ]
        }
      ],
      "source": [
        "array = np.array([[1,2,3],[4,5,6]])\n",
        "add = np.sum(array)\n",
        "print(add)"
      ]
    },
    {
      "cell_type": "code",
      "execution_count": null,
      "metadata": {
        "colab": {
          "base_uri": "https://localhost:8080/"
        },
        "id": "yJrVyoGuEl4G",
        "outputId": "fb681364-6733-4a1d-b795-83ca158119fc"
      },
      "outputs": [
        {
          "name": "stdout",
          "output_type": "stream",
          "text": [
            "21\n"
          ]
        }
      ],
      "source": [
        "array = np.array([[1,2,3],[4,5,6]])\n",
        "sum = np.sum(array)\n",
        "print(sum)"
      ]
    },
    {
      "cell_type": "code",
      "execution_count": null,
      "metadata": {
        "colab": {
          "base_uri": "https://localhost:8080/"
        },
        "id": "FztRSz_FE8QX",
        "outputId": "0e17e73a-feae-444c-92ec-14818387b257"
      },
      "outputs": [
        {
          "name": "stdout",
          "output_type": "stream",
          "text": [
            "3.5\n"
          ]
        }
      ],
      "source": [
        "mean = np.mean(array)\n",
        "print(mean)"
      ]
    },
    {
      "cell_type": "code",
      "execution_count": null,
      "metadata": {
        "colab": {
          "base_uri": "https://localhost:8080/"
        },
        "id": "C5a5R7YRFCIY",
        "outputId": "12226199-8ff5-40c0-ccd0-1affe814ce0c"
      },
      "outputs": [
        {
          "name": "stdout",
          "output_type": "stream",
          "text": [
            "1.707825127659933\n"
          ]
        }
      ],
      "source": [
        "std = np.std(array)\n",
        "print(std)"
      ]
    },
    {
      "cell_type": "markdown",
      "metadata": {
        "id": "zDxxN0p_YuJV"
      },
      "source": [
        "# Indexación y Slicing"
      ]
    },
    {
      "cell_type": "code",
      "execution_count": null,
      "metadata": {
        "colab": {
          "base_uri": "https://localhost:8080/"
        },
        "id": "dO_dx9dTY8W3",
        "outputId": "ee72652b-3861-44b8-9414-332e7647884e"
      },
      "outputs": [
        {
          "name": "stdout",
          "output_type": "stream",
          "text": [
            "20\n",
            "50\n"
          ]
        }
      ],
      "source": [
        "import numpy as np\n",
        "\n",
        "array = np.array([10,20,30,40,50])\n",
        "print(array[1])\n",
        "print(array[-1])"
      ]
    },
    {
      "cell_type": "code",
      "execution_count": null,
      "metadata": {
        "colab": {
          "base_uri": "https://localhost:8080/"
        },
        "id": "xJORgMhNd-pc",
        "outputId": "2f40010b-fd2e-4183-a16b-f2b322d17db3"
      },
      "outputs": [
        {
          "name": "stdout",
          "output_type": "stream",
          "text": [
            "[20 30 40]\n"
          ]
        }
      ],
      "source": [
        "print(array[1:4])"
      ]
    },
    {
      "cell_type": "code",
      "execution_count": null,
      "metadata": {
        "colab": {
          "base_uri": "https://localhost:8080/"
        },
        "id": "hgYu7T8SeFPg",
        "outputId": "c3b3e7ee-e0d3-4937-8282-80021b9287eb"
      },
      "outputs": [
        {
          "name": "stdout",
          "output_type": "stream",
          "text": [
            "[20 30 40 50]\n"
          ]
        }
      ],
      "source": [
        "print(array[1:7])"
      ]
    },
    {
      "cell_type": "code",
      "execution_count": null,
      "metadata": {
        "colab": {
          "base_uri": "https://localhost:8080/"
        },
        "id": "HqkNLEr0eK9m",
        "outputId": "e813fdcd-58b5-46d7-ca11-0f8aa58119d4"
      },
      "outputs": [
        {
          "name": "stdout",
          "output_type": "stream",
          "text": [
            "[]\n"
          ]
        }
      ],
      "source": [
        "print(array[-1:-7])"
      ]
    },
    {
      "cell_type": "code",
      "execution_count": null,
      "metadata": {
        "colab": {
          "base_uri": "https://localhost:8080/"
        },
        "id": "XLYWGTCQejyj",
        "outputId": "3c2972f5-65fc-4466-a1f7-d4c8132e40cc"
      },
      "outputs": [
        {
          "name": "stdout",
          "output_type": "stream",
          "text": [
            "[False False  True  True  True]\n",
            "<class 'numpy.ndarray'>\n"
          ]
        }
      ],
      "source": [
        "array = np.array([10,20,30,40,50])\n",
        "bool_index = array > 25\n",
        "print(bool_index)\n",
        "print(type(bool_index))"
      ]
    },
    {
      "cell_type": "code",
      "execution_count": null,
      "metadata": {
        "colab": {
          "base_uri": "https://localhost:8080/"
        },
        "id": "ZB58zavmfDcK",
        "outputId": "5d6e638e-3ca5-43af-b7ab-1decf7d449cd"
      },
      "outputs": [
        {
          "name": "stdout",
          "output_type": "stream",
          "text": [
            "[30 10 40]\n"
          ]
        }
      ],
      "source": [
        "index = [2,0,3]\n",
        "print(array[index])"
      ]
    },
    {
      "cell_type": "code",
      "execution_count": null,
      "metadata": {
        "colab": {
          "base_uri": "https://localhost:8080/"
        },
        "id": "t7tn_-rWf-93",
        "outputId": "c6a7b4b0-c198-4023-8723-1d5427728ada"
      },
      "outputs": [
        {
          "name": "stdout",
          "output_type": "stream",
          "text": [
            "[[8 5 1]\n",
            " [9 2 7]\n",
            " [8 3 6]]\n",
            "5\n"
          ]
        }
      ],
      "source": [
        "array = np.random.randint(1, 10, size=(3,3))\n",
        "print(array)\n",
        "print(array[0,1])"
      ]
    },
    {
      "cell_type": "code",
      "execution_count": null,
      "metadata": {
        "colab": {
          "base_uri": "https://localhost:8080/"
        },
        "id": "bxO7jTXogohW",
        "outputId": "8379e80b-9e1b-4abf-c3ea-c6dd5024b8cc"
      },
      "outputs": [
        {
          "name": "stdout",
          "output_type": "stream",
          "text": [
            "[[8 5]\n",
            " [9 2]]\n"
          ]
        }
      ],
      "source": [
        "print(array[:2,:2])"
      ]
    },
    {
      "cell_type": "markdown",
      "metadata": {
        "id": "fKZ6zzGvmfpA"
      },
      "source": [
        "# Broadcasting"
      ]
    },
    {
      "cell_type": "code",
      "execution_count": null,
      "metadata": {
        "colab": {
          "base_uri": "https://localhost:8080/"
        },
        "id": "tkQw7C90mfJq",
        "outputId": "b1318bed-f472-4a85-dfb4-77876dc2a24d"
      },
      "outputs": [
        {
          "name": "stdout",
          "output_type": "stream",
          "text": [
            "[ 90. 180. 270.]\n"
          ]
        }
      ],
      "source": [
        "import numpy as np\n",
        "prices = np.array([100,200,300])\n",
        "discount = np.array([0.9])\n",
        "discount_prices = prices * discount\n",
        "print(discount_prices)"
      ]
    },
    {
      "cell_type": "code",
      "execution_count": null,
      "metadata": {
        "colab": {
          "base_uri": "https://localhost:8080/"
        },
        "id": "z7wT79pwojiO",
        "outputId": "f2a21b47-c11a-4c7a-efbf-7525046a9b38"
      },
      "outputs": [
        {
          "name": "stdout",
          "output_type": "stream",
          "text": [
            "[[127 100 308]\n",
            " [458 108 493]\n",
            " [194 379 188]]\n",
            "[[137 120 338]\n",
            " [468 128 523]\n",
            " [204 399 218]]\n"
          ]
        }
      ],
      "source": [
        "prices = np.random.randint(100,500, size=(3,3))\n",
        "discount = np.array([10,20,30])\n",
        "discount_prices = prices + discount\n",
        "print(prices)\n",
        "print(discount_prices)"
      ]
    },
    {
      "cell_type": "code",
      "execution_count": null,
      "metadata": {
        "colab": {
          "base_uri": "https://localhost:8080/"
        },
        "id": "FxRlHkNvpPSn",
        "outputId": "60b759e9-ed24-45f1-9468-5229dec1bef2"
      },
      "outputs": [
        {
          "name": "stdout",
          "output_type": "stream",
          "text": [
            "False\n"
          ]
        }
      ],
      "source": [
        "array = np.array([1,2,3,4,5])\n",
        "print(np.all(array > 9))"
      ]
    },
    {
      "cell_type": "code",
      "execution_count": null,
      "metadata": {
        "colab": {
          "base_uri": "https://localhost:8080/"
        },
        "id": "y03TSXbXpe9D",
        "outputId": "4db826bd-53e6-4c2f-8520-83f10bb54434"
      },
      "outputs": [
        {
          "name": "stdout",
          "output_type": "stream",
          "text": [
            "True\n"
          ]
        }
      ],
      "source": [
        "print(np.any(array > 0))"
      ]
    },
    {
      "cell_type": "code",
      "execution_count": null,
      "metadata": {
        "colab": {
          "base_uri": "https://localhost:8080/"
        },
        "id": "_TZHE47xq5bm",
        "outputId": "38eb6256-fea2-4a39-927b-62e3002ff181"
      },
      "outputs": [
        {
          "name": "stdout",
          "output_type": "stream",
          "text": [
            "[1 2 3 1 2 3]\n",
            "[1 2 3 4 5 6]\n"
          ]
        }
      ],
      "source": [
        "array_a = np.array([1,2,3])\n",
        "array_b = np.array([4,5,6])\n",
        "concatenated_a = np.concatenate((array_a, array_a))\n",
        "concatenated_ab = np.concatenate((array_a, array_b))\n",
        "print(concatenated_a)\n",
        "print(concatenated_ab)"
      ]
    },
    {
      "cell_type": "code",
      "execution_count": null,
      "metadata": {
        "colab": {
          "base_uri": "https://localhost:8080/"
        },
        "id": "FGSSUKDbrsG5",
        "outputId": "b45a349b-5af1-4413-c829-2a10b45d9878"
      },
      "outputs": [
        {
          "name": "stdout",
          "output_type": "stream",
          "text": [
            "[[1 2 3]\n",
            " [4 5 6]]\n"
          ]
        }
      ],
      "source": [
        "stacked_v = np.vstack((array_a, array_b))\n",
        "print(stacked_v)"
      ]
    },
    {
      "cell_type": "code",
      "execution_count": null,
      "metadata": {
        "colab": {
          "base_uri": "https://localhost:8080/"
        },
        "id": "tXE73CyCr4hF",
        "outputId": "ae73c360-611f-4c7c-944a-942b1b3889e5"
      },
      "outputs": [
        {
          "name": "stdout",
          "output_type": "stream",
          "text": [
            "[1 2 3 4 5 6]\n"
          ]
        }
      ],
      "source": [
        "satecked_h = np.hstack((array_a, array_b))\n",
        "print(satecked_h)"
      ]
    },
    {
      "cell_type": "code",
      "execution_count": null,
      "metadata": {
        "colab": {
          "base_uri": "https://localhost:8080/"
        },
        "id": "8zGbhZVts4zW",
        "outputId": "546c8c28-553f-4491-f3cc-35425d161e71"
      },
      "outputs": [
        {
          "name": "stdout",
          "output_type": "stream",
          "text": [
            "[1 2 3 4 5]\n",
            "[array([1]), array([2]), array([3]), array([4]), array([5])]\n"
          ]
        }
      ],
      "source": [
        "array_c = np.arange(1,10)\n",
        "split_array = np.split(array,5)\n",
        "print(array)\n",
        "print(split_array)"
      ]
    },
    {
      "cell_type": "markdown",
      "metadata": {
        "id": "IQmcW41MyDx4"
      },
      "source": [
        "# Unique & Count"
      ]
    },
    {
      "cell_type": "code",
      "execution_count": null,
      "metadata": {
        "colab": {
          "base_uri": "https://localhost:8080/"
        },
        "id": "-jbfDUwy0P5x",
        "outputId": "f7c2ebc2-03ae-4943-ef95-9b883f194f0c"
      },
      "outputs": [
        {
          "name": "stdout",
          "output_type": "stream",
          "text": [
            "['bueno' 'excelente' 'malo']\n"
          ]
        }
      ],
      "source": [
        "survey_responses = np.array([\"bueno\", \"excelente\", \"malo\",\n",
        "                             \"bueno\", \"malo\", \"excelente\",\n",
        "                             \"bueno\", \"bueno\", \"malo\",\n",
        "                             \"excelente\"])\n",
        "print(np.unique(survey_responses))"
      ]
    },
    {
      "cell_type": "code",
      "execution_count": null,
      "metadata": {
        "colab": {
          "base_uri": "https://localhost:8080/"
        },
        "id": "zHqtwN2J8vGO",
        "outputId": "d6c0a5ed-736a-4d53-a3c5-47b20a611500"
      },
      "outputs": [
        {
          "name": "stdout",
          "output_type": "stream",
          "text": [
            "['bueno' 'excelente' 'malo']\n",
            "[4 5 3]\n"
          ]
        }
      ],
      "source": [
        "unique_elements, counts = np.unique(survey_responses, return_counts=True)\n",
        "print(unique_elements)\n",
        "print(counts)"
      ]
    },
    {
      "cell_type": "code",
      "execution_count": null,
      "metadata": {
        "colab": {
          "base_uri": "https://localhost:8080/"
        },
        "id": "09Wt5upj9eAE",
        "outputId": "b6d2b23e-b412-4e09-8f52-037cd6f898cd"
      },
      "outputs": [
        {
          "name": "stdout",
          "output_type": "stream",
          "text": [
            "[0 1 2 3 4 5 6 7 8 9]\n",
            "[1 2]\n",
            "[ 0 10 11  3  4  5  6  7  8  9]\n",
            "[10 11]\n"
          ]
        }
      ],
      "source": [
        "array_x = np.arange(10)\n",
        "view_y = array_x[1:3]\n",
        "print(array_x)\n",
        "print(view_y)\n",
        "array_x[1:3] = [10,11]\n",
        "print(array_x)\n",
        "print(view_y)"
      ]
    },
    {
      "cell_type": "code",
      "execution_count": null,
      "metadata": {
        "colab": {
          "base_uri": "https://localhost:8080/"
        },
        "id": "awy7XoZt_JKZ",
        "outputId": "7e71f7e2-0b55-450d-9001-2acf9ac99633"
      },
      "outputs": [
        {
          "name": "stdout",
          "output_type": "stream",
          "text": [
            "[0 1 2 3 4 5 6 7 8 9]\n",
            "[1 2]\n",
            "[ 0 10 11  3  4  5  6  7  8  9]\n",
            "[1 2]\n"
          ]
        }
      ],
      "source": [
        "array_x = np.arange(10)\n",
        "copy_x = array_x[[1,2]]\n",
        "print(array_x)\n",
        "print(copy_x)\n",
        "array_x[1:3] = [10,11]\n",
        "print(array_x)\n",
        "print(copy_x)"
      ]
    },
    {
      "cell_type": "markdown",
      "metadata": {
        "id": "f6IWzW9PBoyI"
      },
      "source": [
        "**texto en negrita**# 7 Transformación de Arrays"
      ]
    },
    {
      "cell_type": "code",
      "execution_count": null,
      "metadata": {
        "colab": {
          "base_uri": "https://localhost:8080/"
        },
        "id": "xW0IC_o7A6XN",
        "outputId": "bdc3d5dd-7d96-482b-e2d4-b244330b8d94"
      },
      "outputs": [
        {
          "name": "stdout",
          "output_type": "stream",
          "text": [
            "[[1 2 3]\n",
            " [4 5 6]\n",
            " [7 8 9]]\n",
            "[[1 4 7]\n",
            " [2 5 8]\n",
            " [3 6 9]]\n"
          ]
        }
      ],
      "source": [
        "matrix = np.array([[1,2,3],[4,5,6],[7,8,9]])\n",
        "transposed_matrix = matrix.T\n",
        "print(matrix)\n",
        "print(transposed_matrix)"
      ]
    },
    {
      "cell_type": "code",
      "execution_count": null,
      "metadata": {
        "colab": {
          "base_uri": "https://localhost:8080/"
        },
        "id": "E_S_o3WLF8xW",
        "outputId": "3c4859c1-1b6e-4ccc-908e-7b2eb4f2eae3"
      },
      "outputs": [
        {
          "name": "stdout",
          "output_type": "stream",
          "text": [
            "[ 1  2  3  4  5  6  7  8  9 10 11 12]\n",
            "[[ 1  2  3  4]\n",
            " [ 5  6  7  8]\n",
            " [ 9 10 11 12]]\n"
          ]
        }
      ],
      "source": [
        "array = np.arange(1,13)\n",
        "reshaped_array = array.reshape(3,4)\n",
        "print(array)\n",
        "print(reshaped_array)"
      ]
    },
    {
      "cell_type": "code",
      "execution_count": null,
      "metadata": {
        "colab": {
          "base_uri": "https://localhost:8080/"
        },
        "id": "5Ziv7pbDHbYM",
        "outputId": "de81cf6e-ecde-4ae3-b2e9-720ce5252a64"
      },
      "outputs": [
        {
          "name": "stdout",
          "output_type": "stream",
          "text": [
            "[ 1  2  3  4  5  6  7  8  9 10 11 12]\n",
            "[12 11 10  9  8  7  6  5  4  3  2  1]\n"
          ]
        }
      ],
      "source": [
        "reversed_array = array[::-1]\n",
        "print(array)\n",
        "print(reversed_array )"
      ]
    },
    {
      "cell_type": "code",
      "execution_count": null,
      "metadata": {
        "colab": {
          "base_uri": "https://localhost:8080/"
        },
        "id": "ymz9wOQxIjAH",
        "outputId": "d1b5c04a-182f-4be5-bfb5-152c5f7a6786"
      },
      "outputs": [
        {
          "name": "stdout",
          "output_type": "stream",
          "text": [
            "[[1 2 3]\n",
            " [4 5 6]\n",
            " [7 8 9]]\n",
            "[1 2 3 4 5 6 7 8 9]\n"
          ]
        }
      ],
      "source": [
        "matrix = np.array([[1,2,3],[4,5,6],[7,8,9]])\n",
        "flattened_array = matrix.flatten()\n",
        "print(matrix)\n",
        "print(flattened_array)"
      ]
    },
    {
      "cell_type": "markdown",
      "metadata": {
        "id": "sbacxokKL6zn"
      },
      "source": [
        "# Ejercicio"
      ]
    },
    {
      "cell_type": "code",
      "execution_count": null,
      "metadata": {
        "id": "s3ptt3FFL3PI"
      },
      "outputs": [],
      "source": [
        "import numpy as np\n",
        "\n",
        "# Paso 1: Crear arrays con datos de ventas mensuales\n",
        "meses = np.array(['Enero', 'Febrero', 'Marzo', 'Abril', 'Mayo', 'Junio',\n",
        "                  'Julio', 'Agosto', 'Septiembre', 'Octubre', 'Noviembre', 'Diciembre'])\n",
        "ventas_A = np.array([150, 200, 250, 300, 220, 210, 180, 190, 230, 240, 280, 300])\n",
        "ventas_B = np.array([180, 210, 230, 250, 270, 260, 240, 250, 270, 290, 310, 330])\n",
        "ventas_C = np.array([200, 220, 240, 260, 280, 300, 320, 340, 360, 380, 400, 420])"
      ]
    },
    {
      "cell_type": "code",
      "execution_count": null,
      "metadata": {
        "colab": {
          "base_uri": "https://localhost:8080/"
        },
        "id": "B9CxPXkxDr8T",
        "outputId": "5ffa534b-7d27-45fe-efdf-025cdfde3de4"
      },
      "outputs": [
        {
          "name": "stdout",
          "output_type": "stream",
          "text": [
            "Media de ventas Producto A: 229.16666666666666\n",
            "Suma de ventas Producto A: 2750\n",
            "Media de ventas Producto B: 257.5\n",
            "Suma de ventas Producto B: 3090\n",
            "Media de ventas Producto C: 310.0\n",
            "Suma de ventas Producto C: 3720\n",
            "Total de ventas por mes: [ 530  630  720  810  770  770  740  780  860  910  990 1050]\n",
            "Promedio de ventas por producto: [229.16666667 257.5        310.        ]\n",
            "Mes con mayor ventas: Diciembre\n",
            "Mes con menor ventas: Enero\n",
            "Ventas Matrix:\n",
            " [[150 200 250 300 220 210 180 190 230 240 280 300]\n",
            " [180 210 230 250 270 260 240 250 270 290 310 330]\n",
            " [200 220 240 260 280 300 320 340 360 380 400 420]]\n",
            "Ventas Reshaped (3, 4, 3):\n",
            " [[[150 200 250]\n",
            "  [300 220 210]\n",
            "  [180 190 230]\n",
            "  [240 280 300]]\n",
            "\n",
            " [[180 210 230]\n",
            "  [250 270 260]\n",
            "  [240 250 270]\n",
            "  [290 310 330]]\n",
            "\n",
            " [[200 220 240]\n",
            "  [260 280 300]\n",
            "  [320 340 360]\n",
            "  [380 400 420]]]\n",
            "Ventas Transposed:\n",
            " [[150 180 200]\n",
            " [200 210 220]\n",
            " [250 230 240]\n",
            " [300 250 260]\n",
            " [220 270 280]\n",
            " [210 260 300]\n",
            " [180 240 320]\n",
            " [190 250 340]\n",
            " [230 270 360]\n",
            " [240 290 380]\n",
            " [280 310 400]\n",
            " [300 330 420]]\n",
            "Ventas Invertidas:\n",
            " [[300 280 240 230 190 180 210 220 300 250 200 150]\n",
            " [330 310 290 270 250 240 260 270 250 230 210 180]\n",
            " [420 400 380 360 340 320 300 280 260 240 220 200]]\n",
            "Ventas Aplanadas:\n",
            " [150 200 250 300 220 210 180 190 230 240 280 300 180 210 230 250 270 260\n",
            " 240 250 270 290 310 330 200 220 240 260 280 300 320 340 360 380 400 420]\n",
            "Elementos únicos en las ventas: [150 180 190 200 210 220 230 240 250 260 270 280 290 300 310 320 330 340\n",
            " 360 380 400 420]\n",
            "Conteos de elementos únicos en las ventas: [1 2 1 2 2 2 2 3 3 2 2 2 1 3 1 1 1 1 1 1 1 1]\n",
            "Ventas del primer trimestre:\n",
            " [[150 200 250]\n",
            " [180 210 230]\n",
            " [200 220 240]]\n",
            "Meses con ventas totales superiores a 800: ['Abril' 'Septiembre' 'Octubre' 'Noviembre' 'Diciembre']\n",
            "Ventas totales superiores a 800: [ 810  860  910  990 1050]\n",
            "Ventas en meses seleccionados:\n",
            " [[150 250 220 180 230 280]\n",
            " [180 230 270 240 270 310]\n",
            " [200 240 280 320 360 400]]\n"
          ]
        }
      ],
      "source": [
        "# Paso 2: Transformaciones básicas con NumPy\n",
        "# Estadísticas básicas\n",
        "media_A = np.mean(ventas_A)\n",
        "suma_A = np.sum(ventas_A)\n",
        "media_B = np.mean(ventas_B)\n",
        "suma_B = np.sum(ventas_B)\n",
        "media_C = np.mean(ventas_C)\n",
        "suma_C = np.sum(ventas_C)\n",
        "\n",
        "print(f\"Media de ventas Producto A: {media_A}\")\n",
        "print(f\"Suma de ventas Producto A: {suma_A}\")\n",
        "print(f\"Media de ventas Producto B: {media_B}\")\n",
        "print(f\"Suma de ventas Producto B: {suma_B}\")\n",
        "print(f\"Media de ventas Producto C: {media_C}\")\n",
        "print(f\"Suma de ventas Producto C: {suma_C}\")\n",
        "\n",
        "# Paso 3: Manipulación y análisis de datos\n",
        "# Calcular el total de ventas por mes\n",
        "total_ventas_por_mes = ventas_A + ventas_B + ventas_C\n",
        "\n",
        "# Calcular el promedio de ventas por producto\n",
        "promedio_ventas_productos = np.array([media_A, media_B, media_C])\n",
        "\n",
        "# Identificar el mes con mayor y menor ventas\n",
        "mes_mayor_ventas = meses[np.argmax(total_ventas_por_mes)]\n",
        "mes_menor_ventas = meses[np.argmin(total_ventas_por_mes)]\n",
        "\n",
        "print(\"Total de ventas por mes:\", total_ventas_por_mes)\n",
        "print(\"Promedio de ventas por producto:\", promedio_ventas_productos)\n",
        "print(f\"Mes con mayor ventas: {mes_mayor_ventas}\")\n",
        "print(f\"Mes con menor ventas: {mes_menor_ventas}\")\n",
        "\n",
        "# Paso 4: Operaciones avanzadas con NumPy\n",
        "# Reshape y Transposición\n",
        "ventas_matrix = np.array([ventas_A, ventas_B, ventas_C])\n",
        "ventas_reshaped = ventas_matrix.reshape(3, 4, 3)\n",
        "ventas_transposed = ventas_matrix.T\n",
        "\n",
        "print(\"Ventas Matrix:\\n\", ventas_matrix)\n",
        "print(\"Ventas Reshaped (3, 4, 3):\\n\", ventas_reshaped)\n",
        "print(\"Ventas Transposed:\\n\", ventas_transposed)\n",
        "\n",
        "# Invertir arrays y aplanar matrices\n",
        "ventas_inverted = ventas_matrix[:, ::-1]\n",
        "ventas_flattened = ventas_matrix.flatten()\n",
        "\n",
        "print(\"Ventas Invertidas:\\n\", ventas_inverted)\n",
        "print(\"Ventas Aplanadas:\\n\", ventas_flattened)\n",
        "\n",
        "# Paso 5: Análisis de elementos únicos y sus conteos\n",
        "unique_ventas, counts_ventas = np.unique(ventas_flattened, return_counts=True)\n",
        "print(\"Elementos únicos en las ventas:\", unique_ventas)\n",
        "print(\"Conteos de elementos únicos en las ventas:\", counts_ventas)\n",
        "\n",
        "# Paso 6: Indexación y slicing\n",
        "# Seleccionar ventas del primer trimestre\n",
        "ventas_primer_trimestre = ventas_matrix[:, :3]\n",
        "print(\"Ventas del primer trimestre:\\n\", ventas_primer_trimestre)\n",
        "\n",
        "# Indexación booleana para seleccionar meses con ventas totales superiores a 800\n",
        "meses_altas_ventas = meses[total_ventas_por_mes > 800]\n",
        "ventas_altas = total_ventas_por_mes[total_ventas_por_mes > 800]\n",
        "print(\"Meses con ventas totales superiores a 800:\", meses_altas_ventas)\n",
        "print(\"Ventas totales superiores a 800:\", ventas_altas)\n",
        "\n",
        "# Selección avanzada\n",
        "indices = [0, 2, 4, 6, 8, 10]\n",
        "ventas_indices_seleccionados = ventas_matrix[:, indices]\n",
        "print(\"Ventas en meses seleccionados:\\n\", ventas_indices_seleccionados)\n"
      ]
    },
    {
      "cell_type": "markdown",
      "metadata": {
        "id": "DD9z-gvyVPeH"
      },
      "source": [
        "# Cálculos Matriciales"
      ]
    },
    {
      "cell_type": "code",
      "execution_count": null,
      "metadata": {
        "colab": {
          "base_uri": "https://localhost:8080/"
        },
        "id": "S0758eaEVVNe",
        "outputId": "4caf1081-d194-45ed-e9bd-82535907e645"
      },
      "outputs": [
        {
          "name": "stdout",
          "output_type": "stream",
          "text": [
            "[[1 2]\n",
            " [3 4]]\n",
            "[[5 6]\n",
            " [7 8]]\n",
            "[[ 6  8]\n",
            " [10 12]]\n"
          ]
        }
      ],
      "source": [
        "A = np.array([[1,2],[3,4]])\n",
        "B = np.array([[5,6],[7,8]])\n",
        "\n",
        "#Suma\n",
        "sum = A + B\n",
        "print(A)\n",
        "print(B)\n",
        "print(sum)"
      ]
    },
    {
      "cell_type": "code",
      "execution_count": null,
      "metadata": {
        "colab": {
          "base_uri": "https://localhost:8080/"
        },
        "id": "7B793DAgYL5-",
        "outputId": "17a5999e-71ec-43fb-cae1-b87200f724ba"
      },
      "outputs": [
        {
          "name": "stdout",
          "output_type": "stream",
          "text": [
            "[[19 22]\n",
            " [43 50]]\n"
          ]
        }
      ],
      "source": [
        "#Multiplicación\n",
        "product = np.dot(A, B)\n",
        "print(product)"
      ]
    },
    {
      "cell_type": "code",
      "execution_count": null,
      "metadata": {
        "colab": {
          "base_uri": "https://localhost:8080/"
        },
        "id": "lDIgvq1YZlYP",
        "outputId": "7b0cee65-906d-479c-a5fe-bfdc5c604ae9"
      },
      "outputs": [
        {
          "name": "stdout",
          "output_type": "stream",
          "text": [
            "[[1 2]\n",
            " [3 4]]\n",
            "-2.0000000000000004\n",
            "[[-2.   1. ]\n",
            " [ 1.5 -0.5]]\n"
          ]
        }
      ],
      "source": [
        "A = np.array([[1,2],[3,4]])\n",
        "det_A = np.linalg.det(A)\n",
        "inv_A = np.linalg.inv(A)\n",
        "print(A)\n",
        "print(det_A)\n",
        "print(inv_A)"
      ]
    },
    {
      "cell_type": "code",
      "execution_count": null,
      "metadata": {
        "colab": {
          "base_uri": "https://localhost:8080/"
        },
        "id": "X54AdRsraCmh",
        "outputId": "8c83a534-2338-4c98-efc3-0392b2b99452"
      },
      "outputs": [
        {
          "name": "stdout",
          "output_type": "stream",
          "text": [
            "[-7.  8.]\n"
          ]
        }
      ],
      "source": [
        "#Resolver Ax = b\n",
        "b = np.array([9,11])\n",
        "x = np.linalg.solve(A,b)\n",
        "print(x)"
      ]
    },
    {
      "cell_type": "markdown",
      "metadata": {
        "id": "mJ63tV3Ccbz3"
      },
      "source": [
        "# Guardar y visualizar"
      ]
    },
    {
      "cell_type": "code",
      "execution_count": null,
      "metadata": {
        "colab": {
          "base_uri": "https://localhost:8080/"
        },
        "id": "oVEpzGqIcgn9",
        "outputId": "e26dff5c-16ec-45c8-8570-183fc65b4120"
      },
      "outputs": [
        {
          "name": "stdout",
          "output_type": "stream",
          "text": [
            "[277 163 201 267 231 278 145 300 192 190 282 248]\n"
          ]
        }
      ],
      "source": [
        "sales = np.random.randint(100, 301, size = 12)\n",
        "print(sales)\n",
        "np.save('sales.npy', sales)"
      ]
    },
    {
      "cell_type": "code",
      "execution_count": null,
      "metadata": {
        "colab": {
          "base_uri": "https://localhost:8080/"
        },
        "id": "I3n2zagTdWyW",
        "outputId": "6b21f7e3-f0ff-4c7c-c099-0763b0233cb1"
      },
      "outputs": [
        {
          "name": "stdout",
          "output_type": "stream",
          "text": [
            "[277 163 201 267 231 278 145 300 192 190 282 248]\n"
          ]
        }
      ],
      "source": [
        "loaded_sales = np.load('sales.npy')\n",
        "print(loaded_sales)"
      ]
    },
    {
      "cell_type": "code",
      "execution_count": null,
      "metadata": {
        "id": "vLJ-FGI1eC16"
      },
      "outputs": [],
      "source": [
        "np.savetxt('sales.csv', sales, delimiter=',')"
      ]
    },
    {
      "cell_type": "code",
      "execution_count": null,
      "metadata": {
        "colab": {
          "base_uri": "https://localhost:8080/"
        },
        "id": "Uhf4bonbe0D7",
        "outputId": "988f6cef-3cbe-4eea-d84b-e9c51705ba85"
      },
      "outputs": [
        {
          "name": "stdout",
          "output_type": "stream",
          "text": [
            "[277. 163. 201. 267. 231. 278. 145. 300. 192. 190. 282. 248.]\n"
          ]
        }
      ],
      "source": [
        "loaded_sales_csv = np.loadtxt('sales.csv', delimiter=',')\n",
        "print(loaded_sales_csv)"
      ]
    },
    {
      "cell_type": "code",
      "execution_count": null,
      "metadata": {
        "colab": {
          "base_uri": "https://localhost:8080/",
          "height": 537
        },
        "id": "8O7J6XGsfhoB",
        "outputId": "82b214d4-53a1-48f0-a6d5-13bf543b95ae"
      },
      "outputs": [
        {
          "data": {
            "image/png": "[encoded data removed]",
            "text/plain": [
              "<Figure size 1000x500 with 1 Axes>"
            ]
          },
          "metadata": {},
          "output_type": "display_data"
        }
      ],
      "source": [
        "import numpy as np\n",
        "import matplotlib.pyplot as plt\n",
        "\n",
        "months = ['January', 'February', 'March', 'April', 'May', 'June', 'July', 'August', 'September', 'October', 'November', 'December']\n",
        "\n",
        "plt.figure(figsize=(10,5))\n",
        "plt.bar(months,sales, color = 'b', label = 'Ventas generadas')\n",
        "plt.title('Ventas por mes')\n",
        "plt.xlabel('Meses')\n",
        "plt.ylabel('Ventas')\n",
        "plt.xticks(rotation = 45)\n",
        "plt.show()"
      ]
    },
    {
      "cell_type": "markdown",
      "metadata": {
        "id": "R861s2E2BcTU"
      },
      "source": [
        "# Pandas: Dataset"
      ]
    },
    {
      "cell_type": "code",
      "execution_count": null,
      "metadata": {
        "colab": {
          "base_uri": "https://localhost:8080/"
        },
        "id": "E0CkOXAWBfA9",
        "outputId": "e035e31e-1a3c-4f8b-8be4-2364427a5d74"
      },
      "outputs": [
        {
          "name": "stdout",
          "output_type": "stream",
          "text": [
            "       InvoiceNo StockCode                          Description  Quantity  \\\n",
            "0         536365    85123A   WHITE HANGING HEART T-LIGHT HOLDER         6   \n",
            "1         536365     71053                  WHITE METAL LANTERN         6   \n",
            "2         536365    84406B       CREAM CUPID HEARTS COAT HANGER         8   \n",
            "3         536365    84029G  KNITTED UNION FLAG HOT WATER BOTTLE         6   \n",
            "4         536365    84029E       RED WOOLLY HOTTIE WHITE HEART.         6   \n",
            "...          ...       ...                                  ...       ...   \n",
            "541904    581587     22613          PACK OF 20 SPACEBOY NAPKINS        12   \n",
            "541905    581587     22899         CHILDREN'S APRON DOLLY GIRL          6   \n",
            "541906    581587     23254        CHILDRENS CUTLERY DOLLY GIRL          4   \n",
            "541907    581587     23255      CHILDRENS CUTLERY CIRCUS PARADE         4   \n",
            "541908    581587     22138        BAKING SET 9 PIECE RETROSPOT          3   \n",
            "\n",
            "                InvoiceDate  UnitPrice  CustomerID         Country  \n",
            "0       2010-12-01 08:26:00       2.55     17850.0  United Kingdom  \n",
            "1       2010-12-01 08:26:00       3.39     17850.0  United Kingdom  \n",
            "2       2010-12-01 08:26:00       2.75     17850.0  United Kingdom  \n",
            "3       2010-12-01 08:26:00       3.39     17850.0  United Kingdom  \n",
            "4       2010-12-01 08:26:00       3.39     17850.0  United Kingdom  \n",
            "...                     ...        ...         ...             ...  \n",
            "541904  2011-12-09 12:50:00       0.85     12680.0          France  \n",
            "541905  2011-12-09 12:50:00       2.10     12680.0          France  \n",
            "541906  2011-12-09 12:50:00       4.15     12680.0          France  \n",
            "541907  2011-12-09 12:50:00       4.15     12680.0          France  \n",
            "541908  2011-12-09 12:50:00       4.95     12680.0          France  \n",
            "\n",
            "[541909 rows x 8 columns]\n"
          ]
        }
      ],
      "source": [
        "import pandas as pd\n",
        "\n",
        "path = '/content/online_retail.csv'\n",
        "retail_data = pd.read_csv(path)\n",
        "\n",
        "#Excel\n",
        "#data_excel = pd.read_excel(path)\n",
        "\n",
        "#JSON\n",
        "#data_json = pd.read_json(path)\n",
        "\n",
        "#print(type(retail_data))\n",
        "print(retail_data)"
      ]
    },
    {
      "cell_type": "markdown",
      "metadata": {
        "id": "E7-UGd80H4yw"
      },
      "source": [
        "# Estructuras y funciones"
      ]
    },
    {
      "cell_type": "code",
      "execution_count": null,
      "metadata": {
        "colab": {
          "base_uri": "https://localhost:8080/"
        },
        "id": "HxxdTiAIH5Lu",
        "outputId": "3463a8fd-60f3-432e-9562-21870c4acb34"
      },
      "outputs": [
        {
          "name": "stdout",
          "output_type": "stream",
          "text": [
            "Index(['InvoiceNo', 'StockCode', 'Description', 'Quantity', 'InvoiceDate',\n",
            "       'UnitPrice', 'CustomerID', 'Country'],\n",
            "      dtype='object')\n"
          ]
        }
      ],
      "source": [
        "# Nombres de columnas\n",
        "columns_names = retail_data.columns\n",
        "print(columns_names)"
      ]
    },
    {
      "cell_type": "code",
      "execution_count": null,
      "metadata": {
        "colab": {
          "base_uri": "https://localhost:8080/"
        },
        "id": "2jNOZrPYJ44k",
        "outputId": "99aff14b-97e1-4368-e165-b5c7e3e4fa13"
      },
      "outputs": [
        {
          "name": "stdout",
          "output_type": "stream",
          "text": [
            "Número de filas 541909\n",
            "Número de columnas 8\n"
          ]
        }
      ],
      "source": [
        "num_rows, num_columns = retail_data.shape\n",
        "print('Número de filas', num_rows)\n",
        "print('Número de columnas', num_columns)"
      ]
    },
    {
      "cell_type": "code",
      "execution_count": null,
      "metadata": {
        "colab": {
          "base_uri": "https://localhost:8080/"
        },
        "id": "MQLOJOSOMTzT",
        "outputId": "6a5ea71e-000d-47ce-8fae-2096d2cdf401"
      },
      "outputs": [
        {
          "name": "stdout",
          "output_type": "stream",
          "text": [
            "0          6\n",
            "1          6\n",
            "2          8\n",
            "3          6\n",
            "4          6\n",
            "          ..\n",
            "541904    12\n",
            "541905     6\n",
            "541906     4\n",
            "541907     4\n",
            "541908     3\n",
            "Name: Quantity, Length: 541909, dtype: int64\n",
            "8\n"
          ]
        }
      ],
      "source": [
        "daily_sales = retail_data['Quantity']\n",
        "print(daily_sales)\n",
        "print(daily_sales[2])"
      ]
    },
    {
      "cell_type": "code",
      "execution_count": null,
      "metadata": {
        "colab": {
          "base_uri": "https://localhost:8080/"
        },
        "id": "OSmlt8brMwYA",
        "outputId": "a35b476b-09a6-4da0-dca1-d6b07dc68126"
      },
      "outputs": [
        {
          "name": "stdout",
          "output_type": "stream",
          "text": [
            "            Quantity      UnitPrice     CustomerID\n",
            "count  541909.000000  541909.000000  406829.000000\n",
            "mean        9.552250       4.611114   15287.690570\n",
            "std       218.081158      96.759853    1713.600303\n",
            "min    -80995.000000  -11062.060000   12346.000000\n",
            "25%         1.000000       1.250000   13953.000000\n",
            "50%         3.000000       2.080000   15152.000000\n",
            "75%        10.000000       4.130000   16791.000000\n",
            "max     80995.000000   38970.000000   18287.000000\n"
          ]
        }
      ],
      "source": [
        "summary = retail_data.describe()\n",
        "print(summary)"
      ]
    },
    {
      "cell_type": "code",
      "execution_count": null,
      "metadata": {
        "colab": {
          "base_uri": "https://localhost:8080/"
        },
        "id": "4KV2pdJLM_UW",
        "outputId": "c9b44194-b743-4f2d-98aa-860f24e7053c"
      },
      "outputs": [
        {
          "name": "stdout",
          "output_type": "stream",
          "text": [
            "La media es 9.55224954743324\n"
          ]
        }
      ],
      "source": [
        "mean_value = daily_sales.mean()\n",
        "print('La media es', mean_value)"
      ]
    },
    {
      "cell_type": "code",
      "execution_count": null,
      "metadata": {
        "colab": {
          "base_uri": "https://localhost:8080/"
        },
        "id": "SlWqvd1KNJT6",
        "outputId": "c811989b-9024-4925-a364-90601b677b8d"
      },
      "outputs": [
        {
          "name": "stdout",
          "output_type": "stream",
          "text": [
            "La mediana es 9.55224954743324\n"
          ]
        }
      ],
      "source": [
        "median_value = daily_sales.median()\n",
        "print('La mediana es', mean_value)"
      ]
    },
    {
      "cell_type": "code",
      "execution_count": null,
      "metadata": {
        "colab": {
          "base_uri": "https://localhost:8080/"
        },
        "id": "AcSuUBpxNN7w",
        "outputId": "f35eb50c-54e5-49e2-e151-8371dbce57c0"
      },
      "outputs": [
        {
          "name": "stdout",
          "output_type": "stream",
          "text": [
            "La suma total es 9.55224954743324\n"
          ]
        }
      ],
      "source": [
        "sum_value = daily_sales.sum()\n",
        "print('La suma total es', mean_value)"
      ]
    },
    {
      "cell_type": "code",
      "execution_count": null,
      "metadata": {
        "colab": {
          "base_uri": "https://localhost:8080/"
        },
        "id": "ke8tfvXNNYUy",
        "outputId": "75ea51a8-3e71-4e14-c7e5-7dfebcfc4fc7"
      },
      "outputs": [
        {
          "name": "stdout",
          "output_type": "stream",
          "text": [
            "541909\n"
          ]
        }
      ],
      "source": [
        "count_values = daily_sales.count()\n",
        "print(count_values)"
      ]
    },
    {
      "cell_type": "code",
      "execution_count": null,
      "metadata": {
        "colab": {
          "base_uri": "https://localhost:8080/"
        },
        "id": "JPwwObRPN75H",
        "outputId": "fb7b6746-0fa6-46b6-9c7a-89b5c085e0a3"
      },
      "outputs": [
        {
          "name": "stdout",
          "output_type": "stream",
          "text": [
            "Suma de Quantity: 120.0\n",
            "Conteo de Quantity: 4\n"
          ]
        }
      ],
      "source": [
        "import pandas as pd\n",
        "\n",
        "daily_sales = pd.Series([10, 20, None, 40, 50])\n",
        "\n",
        "# Suma de Quantity\n",
        "total_sum = daily_sales.sum()\n",
        "print(\"Suma de Quantity:\", total_sum)\n",
        "\n",
        "# Conteo de Quantity\n",
        "count_values = daily_sales.count()\n",
        "print(\"Conteo de Quantity:\", count_values)"
      ]
    },
    {
      "cell_type": "code",
      "execution_count": null,
      "metadata": {
        "colab": {
          "base_uri": "https://localhost:8080/",
          "height": 300
        },
        "id": "rN4vwtK8PAHD",
        "outputId": "9388dfb1-b2ea-4a31-cede-3fd121ca93fa"
      },
      "outputs": [
        {
          "data": {
            "application/vnd.google.colaboratory.intrinsic+json": {
              "type": "dataframe",
              "variable_name": "retail_data"
            },
            "text/html": [
              "\n",
              "  <div id=\"df-5b990f1c-d05f-4c94-aac0-e55193556e3e\" class=\"colab-df-container\">\n",
              "    <div>\n",
              "<style scoped>\n",
              "    .dataframe tbody tr th:only-of-type {\n",
              "        vertical-align: middle;\n",
              "    }\n",
              "\n",
              "    .dataframe tbody tr th {\n",
              "        vertical-align: top;\n",
              "    }\n",
              "\n",
              "    .dataframe thead th {\n",
              "        text-align: right;\n",
              "    }\n",
              "</style>\n",
              "<table border=\"1\" class=\"dataframe\">\n",
              "  <thead>\n",
              "    <tr style=\"text-align: right;\">\n",
              "      <th></th>\n",
              "      <th>InvoiceNo</th>\n",
              "      <th>StockCode</th>\n",
              "      <th>Description</th>\n",
              "      <th>Quantity</th>\n",
              "      <th>InvoiceDate</th>\n",
              "      <th>UnitPrice</th>\n",
              "      <th>CustomerID</th>\n",
              "      <th>Country</th>\n",
              "    </tr>\n",
              "  </thead>\n",
              "  <tbody>\n",
              "    <tr>\n",
              "      <th>0</th>\n",
              "      <td>536365</td>\n",
              "      <td>85123A</td>\n",
              "      <td>WHITE HANGING HEART T-LIGHT HOLDER</td>\n",
              "      <td>6</td>\n",
              "      <td>2010-12-01 08:26:00</td>\n",
              "      <td>2.55</td>\n",
              "      <td>17850.0</td>\n",
              "      <td>United Kingdom</td>\n",
              "    </tr>\n",
              "    <tr>\n",
              "      <th>1</th>\n",
              "      <td>536365</td>\n",
              "      <td>71053</td>\n",
              "      <td>WHITE METAL LANTERN</td>\n",
              "      <td>6</td>\n",
              "      <td>2010-12-01 08:26:00</td>\n",
              "      <td>3.39</td>\n",
              "      <td>17850.0</td>\n",
              "      <td>United Kingdom</td>\n",
              "    </tr>\n",
              "    <tr>\n",
              "      <th>2</th>\n",
              "      <td>536365</td>\n",
              "      <td>84406B</td>\n",
              "      <td>CREAM CUPID HEARTS COAT HANGER</td>\n",
              "      <td>8</td>\n",
              "      <td>2010-12-01 08:26:00</td>\n",
              "      <td>2.75</td>\n",
              "      <td>17850.0</td>\n",
              "      <td>United Kingdom</td>\n",
              "    </tr>\n",
              "    <tr>\n",
              "      <th>3</th>\n",
              "      <td>536365</td>\n",
              "      <td>84029G</td>\n",
              "      <td>KNITTED UNION FLAG HOT WATER BOTTLE</td>\n",
              "      <td>6</td>\n",
              "      <td>2010-12-01 08:26:00</td>\n",
              "      <td>3.39</td>\n",
              "      <td>17850.0</td>\n",
              "      <td>United Kingdom</td>\n",
              "    </tr>\n",
              "    <tr>\n",
              "      <th>4</th>\n",
              "      <td>536365</td>\n",
              "      <td>84029E</td>\n",
              "      <td>RED WOOLLY HOTTIE WHITE HEART.</td>\n",
              "      <td>6</td>\n",
              "      <td>2010-12-01 08:26:00</td>\n",
              "      <td>3.39</td>\n",
              "      <td>17850.0</td>\n",
              "      <td>United Kingdom</td>\n",
              "    </tr>\n",
              "    <tr>\n",
              "      <th>5</th>\n",
              "      <td>536365</td>\n",
              "      <td>22752</td>\n",
              "      <td>SET 7 BABUSHKA NESTING BOXES</td>\n",
              "      <td>2</td>\n",
              "      <td>2010-12-01 08:26:00</td>\n",
              "      <td>7.65</td>\n",
              "      <td>17850.0</td>\n",
              "      <td>United Kingdom</td>\n",
              "    </tr>\n",
              "    <tr>\n",
              "      <th>6</th>\n",
              "      <td>536365</td>\n",
              "      <td>21730</td>\n",
              "      <td>GLASS STAR FROSTED T-LIGHT HOLDER</td>\n",
              "      <td>6</td>\n",
              "      <td>2010-12-01 08:26:00</td>\n",
              "      <td>4.25</td>\n",
              "      <td>17850.0</td>\n",
              "      <td>United Kingdom</td>\n",
              "    </tr>\n",
              "    <tr>\n",
              "      <th>7</th>\n",
              "      <td>536366</td>\n",
              "      <td>22633</td>\n",
              "      <td>HAND WARMER UNION JACK</td>\n",
              "      <td>6</td>\n",
              "      <td>2010-12-01 08:28:00</td>\n",
              "      <td>1.85</td>\n",
              "      <td>17850.0</td>\n",
              "      <td>United Kingdom</td>\n",
              "    </tr>\n",
              "  </tbody>\n",
              "</table>\n",
              "</div>\n",
              "    <div class=\"colab-df-buttons\">\n",
              "\n",
              "  <div class=\"colab-df-container\">\n",
              "    <button class=\"colab-df-convert\" onclick=\"convertToInteractive('df-5b990f1c-d05f-4c94-aac0-e55193556e3e')\"\n",
              "            title=\"Convert this dataframe to an interactive table.\"\n",
              "            style=\"display:none;\">\n",
              "\n",
              "  <svg xmlns=\"http://www.w3.org/2000/svg\" height=\"24px\" viewBox=\"0 -960 960 960\">\n",
              "    <path d=\"M120-120v-720h720v720H120Zm60-500h600v-160H180v160Zm220 220h160v-160H400v160Zm0 220h160v-160H400v160ZM180-400h160v-160H180v160Zm440 0h160v-160H620v160ZM180-180h160v-160H180v160Zm440 0h160v-160H620v160Z\"/>\n",
              "  </svg>\n",
              "    </button>\n",
              "\n",
              "  <style>\n",
              "    .colab-df-container {\n",
              "      display:flex;\n",
              "      gap: 12px;\n",
              "    }\n",
              "\n",
              "    .colab-df-convert {\n",
              "      background-color: #E8F0FE;\n",
              "      border: none;\n",
              "      border-radius: 50%;\n",
              "      cursor: pointer;\n",
              "      display: none;\n",
              "      fill: #1967D2;\n",
              "      height: 32px;\n",
              "      padding: 0 0 0 0;\n",
              "      width: 32px;\n",
              "    }\n",
              "\n",
              "    .colab-df-convert:hover {\n",
              "      background-color: #E2EBFA;\n",
              "      box-shadow: 0px 1px 2px rgba(60, 64, 67, 0.3), 0px 1px 3px 1px rgba(60, 64, 67, 0.15);\n",
              "      fill: #174EA6;\n",
              "    }\n",
              "\n",
              "    .colab-df-buttons div {\n",
              "      margin-bottom: 4px;\n",
              "    }\n",
              "\n",
              "    [theme=dark] .colab-df-convert {\n",
              "      background-color: #3B4455;\n",
              "      fill: #D2E3FC;\n",
              "    }\n",
              "\n",
              "    [theme=dark] .colab-df-convert:hover {\n",
              "      background-color: #434B5C;\n",
              "      box-shadow: 0px 1px 3px 1px rgba(0, 0, 0, 0.15);\n",
              "      filter: drop-shadow(0px 1px 2px rgba(0, 0, 0, 0.3));\n",
              "      fill: #FFFFFF;\n",
              "    }\n",
              "  </style>\n",
              "\n",
              "    <script>\n",
              "      const buttonEl =\n",
              "        document.querySelector('#df-5b990f1c-d05f-4c94-aac0-e55193556e3e button.colab-df-convert');\n",
              "      buttonEl.style.display =\n",
              "        google.colab.kernel.accessAllowed ? 'block' : 'none';\n",
              "\n",
              "      async function convertToInteractive(key) {\n",
              "        const element = document.querySelector('#df-5b990f1c-d05f-4c94-aac0-e55193556e3e');\n",
              "        const dataTable =\n",
              "          await google.colab.kernel.invokeFunction('convertToInteractive',\n",
              "                                                    [key], {});\n",
              "        if (!dataTable) return;\n",
              "\n",
              "        const docLinkHtml = 'Like what you see? Visit the ' +\n",
              "          '<a target=\"_blank\" href=https://colab.research.google.com/notebooks/data_table.ipynb>data table notebook</a>'\n",
              "          + ' to learn more about interactive tables.';\n",
              "        element.innerHTML = '';\n",
              "        dataTable['output_type'] = 'display_data';\n",
              "        await google.colab.output.renderOutput(dataTable, element);\n",
              "        const docLink = document.createElement('div');\n",
              "        docLink.innerHTML = docLinkHtml;\n",
              "        element.appendChild(docLink);\n",
              "      }\n",
              "    </script>\n",
              "  </div>\n",
              "\n",
              "\n",
              "<div id=\"df-f28f7774-6785-4374-8416-33613aefccba\">\n",
              "  <button class=\"colab-df-quickchart\" onclick=\"quickchart('df-f28f7774-6785-4374-8416-33613aefccba')\"\n",
              "            title=\"Suggest charts\"\n",
              "            style=\"display:none;\">\n",
              "\n",
              "<svg xmlns=\"http://www.w3.org/2000/svg\" height=\"24px\"viewBox=\"0 0 24 24\"\n",
              "     width=\"24px\">\n",
              "    <g>\n",
              "        <path d=\"M19 3H5c-1.1 0-2 .9-2 2v14c0 1.1.9 2 2 2h14c1.1 0 2-.9 2-2V5c0-1.1-.9-2-2-2zM9 17H7v-7h2v7zm4 0h-2V7h2v10zm4 0h-2v-4h2v4z\"/>\n",
              "    </g>\n",
              "</svg>\n",
              "  </button>\n",
              "\n",
              "<style>\n",
              "  .colab-df-quickchart {\n",
              "      --bg-color: #E8F0FE;\n",
              "      --fill-color: #1967D2;\n",
              "      --hover-bg-color: #E2EBFA;\n",
              "      --hover-fill-color: #174EA6;\n",
              "      --disabled-fill-color: #AAA;\n",
              "      --disabled-bg-color: #DDD;\n",
              "  }\n",
              "\n",
              "  [theme=dark] .colab-df-quickchart {\n",
              "      --bg-color: #3B4455;\n",
              "      --fill-color: #D2E3FC;\n",
              "      --hover-bg-color: #434B5C;\n",
              "      --hover-fill-color: #FFFFFF;\n",
              "      --disabled-bg-color: #3B4455;\n",
              "      --disabled-fill-color: #666;\n",
              "  }\n",
              "\n",
              "  .colab-df-quickchart {\n",
              "    background-color: var(--bg-color);\n",
              "    border: none;\n",
              "    border-radius: 50%;\n",
              "    cursor: pointer;\n",
              "    display: none;\n",
              "    fill: var(--fill-color);\n",
              "    height: 32px;\n",
              "    padding: 0;\n",
              "    width: 32px;\n",
              "  }\n",
              "\n",
              "  .colab-df-quickchart:hover {\n",
              "    background-color: var(--hover-bg-color);\n",
              "    box-shadow: 0 1px 2px rgba(60, 64, 67, 0.3), 0 1px 3px 1px rgba(60, 64, 67, 0.15);\n",
              "    fill: var(--button-hover-fill-color);\n",
              "  }\n",
              "\n",
              "  .colab-df-quickchart-complete:disabled,\n",
              "  .colab-df-quickchart-complete:disabled:hover {\n",
              "    background-color: var(--disabled-bg-color);\n",
              "    fill: var(--disabled-fill-color);\n",
              "    box-shadow: none;\n",
              "  }\n",
              "\n",
              "  .colab-df-spinner {\n",
              "    border: 2px solid var(--fill-color);\n",
              "    border-color: transparent;\n",
              "    border-bottom-color: var(--fill-color);\n",
              "    animation:\n",
              "      spin 1s steps(1) infinite;\n",
              "  }\n",
              "\n",
              "  @keyframes spin {\n",
              "    0% {\n",
              "      border-color: transparent;\n",
              "      border-bottom-color: var(--fill-color);\n",
              "      border-left-color: var(--fill-color);\n",
              "    }\n",
              "    20% {\n",
              "      border-color: transparent;\n",
              "      border-left-color: var(--fill-color);\n",
              "      border-top-color: var(--fill-color);\n",
              "    }\n",
              "    30% {\n",
              "      border-color: transparent;\n",
              "      border-left-color: var(--fill-color);\n",
              "      border-top-color: var(--fill-color);\n",
              "      border-right-color: var(--fill-color);\n",
              "    }\n",
              "    40% {\n",
              "      border-color: transparent;\n",
              "      border-right-color: var(--fill-color);\n",
              "      border-top-color: var(--fill-color);\n",
              "    }\n",
              "    60% {\n",
              "      border-color: transparent;\n",
              "      border-right-color: var(--fill-color);\n",
              "    }\n",
              "    80% {\n",
              "      border-color: transparent;\n",
              "      border-right-color: var(--fill-color);\n",
              "      border-bottom-color: var(--fill-color);\n",
              "    }\n",
              "    90% {\n",
              "      border-color: transparent;\n",
              "      border-bottom-color: var(--fill-color);\n",
              "    }\n",
              "  }\n",
              "</style>\n",
              "\n",
              "  <script>\n",
              "    async function quickchart(key) {\n",
              "      const quickchartButtonEl =\n",
              "        document.querySelector('#' + key + ' button');\n",
              "      quickchartButtonEl.disabled = true;  // To prevent multiple clicks.\n",
              "      quickchartButtonEl.classList.add('colab-df-spinner');\n",
              "      try {\n",
              "        const charts = await google.colab.kernel.invokeFunction(\n",
              "            'suggestCharts', [key], {});\n",
              "      } catch (error) {\n",
              "        console.error('Error during call to suggestCharts:', error);\n",
              "      }\n",
              "      quickchartButtonEl.classList.remove('colab-df-spinner');\n",
              "      quickchartButtonEl.classList.add('colab-df-quickchart-complete');\n",
              "    }\n",
              "    (() => {\n",
              "      let quickchartButtonEl =\n",
              "        document.querySelector('#df-f28f7774-6785-4374-8416-33613aefccba button');\n",
              "      quickchartButtonEl.style.display =\n",
              "        google.colab.kernel.accessAllowed ? 'block' : 'none';\n",
              "    })();\n",
              "  </script>\n",
              "</div>\n",
              "\n",
              "    </div>\n",
              "  </div>\n"
            ],
            "text/plain": [
              "  InvoiceNo StockCode                          Description  Quantity  \\\n",
              "0    536365    85123A   WHITE HANGING HEART T-LIGHT HOLDER         6   \n",
              "1    536365     71053                  WHITE METAL LANTERN         6   \n",
              "2    536365    84406B       CREAM CUPID HEARTS COAT HANGER         8   \n",
              "3    536365    84029G  KNITTED UNION FLAG HOT WATER BOTTLE         6   \n",
              "4    536365    84029E       RED WOOLLY HOTTIE WHITE HEART.         6   \n",
              "5    536365     22752         SET 7 BABUSHKA NESTING BOXES         2   \n",
              "6    536365     21730    GLASS STAR FROSTED T-LIGHT HOLDER         6   \n",
              "7    536366     22633               HAND WARMER UNION JACK         6   \n",
              "\n",
              "           InvoiceDate  UnitPrice  CustomerID         Country  \n",
              "0  2010-12-01 08:26:00       2.55     17850.0  United Kingdom  \n",
              "1  2010-12-01 08:26:00       3.39     17850.0  United Kingdom  \n",
              "2  2010-12-01 08:26:00       2.75     17850.0  United Kingdom  \n",
              "3  2010-12-01 08:26:00       3.39     17850.0  United Kingdom  \n",
              "4  2010-12-01 08:26:00       3.39     17850.0  United Kingdom  \n",
              "5  2010-12-01 08:26:00       7.65     17850.0  United Kingdom  \n",
              "6  2010-12-01 08:26:00       4.25     17850.0  United Kingdom  \n",
              "7  2010-12-01 08:28:00       1.85     17850.0  United Kingdom  "
            ]
          },
          "execution_count": 27,
          "metadata": {},
          "output_type": "execute_result"
        }
      ],
      "source": [
        "retail_data.head(8)"
      ]
    },
    {
      "cell_type": "markdown",
      "metadata": {
        "id": "mnaDSILuTLEn"
      },
      "source": [
        "# iloc & loc"
      ]
    },
    {
      "cell_type": "code",
      "execution_count": null,
      "metadata": {
        "colab": {
          "base_uri": "https://localhost:8080/"
        },
        "id": "CNsyyJXeTKrS",
        "outputId": "482863f3-d435-4505-87d4-df2e226cf4ce"
      },
      "outputs": [
        {
          "name": "stdout",
          "output_type": "stream",
          "text": [
            "InvoiceNo                                  536365\n",
            "StockCode                                  85123A\n",
            "Description    WHITE HANGING HEART T-LIGHT HOLDER\n",
            "Quantity                                        6\n",
            "InvoiceDate                   2010-12-01 08:26:00\n",
            "UnitPrice                                    2.55\n",
            "CustomerID                                17850.0\n",
            "Country                            United Kingdom\n",
            "Name: 0, dtype: object\n"
          ]
        }
      ],
      "source": [
        "first_row = retail_data.iloc[0]\n",
        "print(first_row)"
      ]
    },
    {
      "cell_type": "code",
      "execution_count": null,
      "metadata": {
        "colab": {
          "base_uri": "https://localhost:8080/"
        },
        "id": "NS-2UhzCT70W",
        "outputId": "2e00930a-331b-46f9-f161-d610497defcb"
      },
      "outputs": [
        {
          "name": "stdout",
          "output_type": "stream",
          "text": [
            "  InvoiceNo StockCode                        Description  Quantity  \\\n",
            "6    536365     21730  GLASS STAR FROSTED T-LIGHT HOLDER         6   \n",
            "7    536366     22633             HAND WARMER UNION JACK         6   \n",
            "\n",
            "           InvoiceDate  UnitPrice  CustomerID         Country  \n",
            "6  2010-12-01 08:26:00       4.25     17850.0  United Kingdom  \n",
            "7  2010-12-01 08:28:00       1.85     17850.0  United Kingdom  \n"
          ]
        }
      ],
      "source": [
        "first_five_row = retail_data.iloc[6:8]\n",
        "print(first_five_row)"
      ]
    },
    {
      "cell_type": "code",
      "execution_count": null,
      "metadata": {
        "colab": {
          "base_uri": "https://localhost:8080/"
        },
        "id": "QUddkGwhUUVA",
        "outputId": "e3a9232a-8e7f-4dac-a053-a952ba3fad6e"
      },
      "outputs": [
        {
          "name": "stdout",
          "output_type": "stream",
          "text": [
            "  InvoiceNo StockCode\n",
            "0    536365    85123A\n",
            "1    536365     71053\n",
            "2    536365    84406B\n"
          ]
        }
      ],
      "source": [
        "subset = retail_data.iloc[:3, :2]\n",
        "print(subset)"
      ]
    },
    {
      "cell_type": "code",
      "execution_count": null,
      "metadata": {
        "colab": {
          "base_uri": "https://localhost:8080/"
        },
        "id": "ufIsgQqAUjFi",
        "outputId": "37afd31a-2530-4f95-ad37-f3b7ac6f6df9"
      },
      "outputs": [
        {
          "name": "stdout",
          "output_type": "stream",
          "text": [
            "6\n"
          ]
        }
      ],
      "source": [
        "retail_value = retail_data.iloc[1, 3]\n",
        "print(retail_value)"
      ]
    },
    {
      "cell_type": "code",
      "execution_count": null,
      "metadata": {
        "colab": {
          "base_uri": "https://localhost:8080/"
        },
        "id": "ghJEEVLZVZZ3",
        "outputId": "97c095f9-16d3-43a7-af15-aa5413f5ecc1"
      },
      "outputs": [
        {
          "name": "stdout",
          "output_type": "stream",
          "text": [
            "InvoiceNo                                   536365\n",
            "StockCode                                   84029G\n",
            "Description    KNITTED UNION FLAG HOT WATER BOTTLE\n",
            "Quantity                                         6\n",
            "InvoiceDate                    2010-12-01 08:26:00\n",
            "UnitPrice                                     3.39\n",
            "CustomerID                                 17850.0\n",
            "Country                             United Kingdom\n",
            "Name: 3, dtype: object\n"
          ]
        }
      ],
      "source": [
        "row_index_3 = retail_data.loc[3]\n",
        "print(row_index_3)"
      ]
    },
    {
      "cell_type": "code",
      "execution_count": null,
      "metadata": {
        "colab": {
          "base_uri": "https://localhost:8080/"
        },
        "id": "gTtG71qwVd6_",
        "outputId": "b4b9f4c5-5147-4680-f105-d435d56c18c3"
      },
      "outputs": [
        {
          "name": "stdout",
          "output_type": "stream",
          "text": [
            "  InvoiceNo StockCode                          Description  Quantity  \\\n",
            "0    536365    85123A   WHITE HANGING HEART T-LIGHT HOLDER         6   \n",
            "1    536365     71053                  WHITE METAL LANTERN         6   \n",
            "2    536365    84406B       CREAM CUPID HEARTS COAT HANGER         8   \n",
            "3    536365    84029G  KNITTED UNION FLAG HOT WATER BOTTLE         6   \n",
            "4    536365    84029E       RED WOOLLY HOTTIE WHITE HEART.         6   \n",
            "\n",
            "           InvoiceDate  UnitPrice  CustomerID         Country  \n",
            "0  2010-12-01 08:26:00       2.55     17850.0  United Kingdom  \n",
            "1  2010-12-01 08:26:00       3.39     17850.0  United Kingdom  \n",
            "2  2010-12-01 08:26:00       2.75     17850.0  United Kingdom  \n",
            "3  2010-12-01 08:26:00       3.39     17850.0  United Kingdom  \n",
            "4  2010-12-01 08:26:00       3.39     17850.0  United Kingdom  \n"
          ]
        }
      ],
      "source": [
        "row_index_0_to_4 = retail_data.loc[0:4]\n",
        "print(row_index_0_to_4)"
      ]
    },
    {
      "cell_type": "code",
      "execution_count": null,
      "metadata": {
        "colab": {
          "base_uri": "https://localhost:8080/"
        },
        "id": "NSbxoUe3Vr_x",
        "outputId": "2f9c0894-4687-4c1b-ba3d-5e53f81db0d1"
      },
      "outputs": [
        {
          "name": "stdout",
          "output_type": "stream",
          "text": [
            "0          6\n",
            "1          6\n",
            "2          8\n",
            "3          6\n",
            "4          6\n",
            "          ..\n",
            "541904    12\n",
            "541905     6\n",
            "541906     4\n",
            "541907     4\n",
            "541908     3\n",
            "Name: Quantity, Length: 541909, dtype: int64\n"
          ]
        }
      ],
      "source": [
        "quantity_column = retail_data.loc[:,'Quantity']\n",
        "print(quantity_column)"
      ]
    },
    {
      "cell_type": "code",
      "execution_count": null,
      "metadata": {
        "colab": {
          "base_uri": "https://localhost:8080/"
        },
        "id": "2BtrlO83V81k",
        "outputId": "dad76261-b0e3-4e86-919e-b0c3771aa9de"
      },
      "outputs": [
        {
          "name": "stdout",
          "output_type": "stream",
          "text": [
            "        Quantity  UnitPrice\n",
            "0              6       2.55\n",
            "1              6       3.39\n",
            "2              8       2.75\n",
            "3              6       3.39\n",
            "4              6       3.39\n",
            "...          ...        ...\n",
            "541904        12       0.85\n",
            "541905         6       2.10\n",
            "541906         4       4.15\n",
            "541907         4       4.15\n",
            "541908         3       4.95\n",
            "\n",
            "[541909 rows x 2 columns]\n"
          ]
        }
      ],
      "source": [
        "quantity_unitprices_column = retail_data.loc[:,['Quantity','UnitPrice']]\n",
        "print(quantity_unitprices_column)"
      ]
    },
    {
      "cell_type": "markdown",
      "metadata": {
        "id": "HttwsTREcFot"
      },
      "source": [
        "# Datos Faltantes"
      ]
    },
    {
      "cell_type": "code",
      "execution_count": null,
      "metadata": {
        "colab": {
          "base_uri": "https://localhost:8080/"
        },
        "id": "t7PsuEumcH9X",
        "outputId": "529d47b1-6910-4217-c0fc-f521679fb00f"
      },
      "outputs": [
        {
          "name": "stdout",
          "output_type": "stream",
          "text": [
            "        InvoiceNo  StockCode  Description  Quantity  InvoiceDate  UnitPrice  \\\n",
            "0           False      False        False     False        False      False   \n",
            "1           False      False        False     False        False      False   \n",
            "2           False      False        False     False        False      False   \n",
            "3           False      False        False     False        False      False   \n",
            "4           False      False        False     False        False      False   \n",
            "...           ...        ...          ...       ...          ...        ...   \n",
            "541904      False      False        False     False        False      False   \n",
            "541905      False      False        False     False        False      False   \n",
            "541906      False      False        False     False        False      False   \n",
            "541907      False      False        False     False        False      False   \n",
            "541908      False      False        False     False        False      False   \n",
            "\n",
            "        CustomerID  Country  \n",
            "0            False    False  \n",
            "1            False    False  \n",
            "2            False    False  \n",
            "3            False    False  \n",
            "4            False    False  \n",
            "...            ...      ...  \n",
            "541904       False    False  \n",
            "541905       False    False  \n",
            "541906       False    False  \n",
            "541907       False    False  \n",
            "541908       False    False  \n",
            "\n",
            "[541909 rows x 8 columns]\n"
          ]
        }
      ],
      "source": [
        "missing_data = retail_data.isna()\n",
        "print(missing_data)"
      ]
    },
    {
      "cell_type": "code",
      "execution_count": null,
      "metadata": {
        "colab": {
          "base_uri": "https://localhost:8080/"
        },
        "id": "BauZ_l4uduF1",
        "outputId": "02289d42-70e2-4987-9811-573539deecf3"
      },
      "outputs": [
        {
          "name": "stdout",
          "output_type": "stream",
          "text": [
            "   InvoiceNo  StockCode  Description  Quantity  InvoiceDate  UnitPrice  \\\n",
            "0      False      False        False     False        False      False   \n",
            "1      False      False        False     False        False      False   \n",
            "2      False      False        False     False        False      False   \n",
            "3      False      False        False     False        False      False   \n",
            "4      False      False        False     False        False      False   \n",
            "\n",
            "   CustomerID  Country  \n",
            "0       False    False  \n",
            "1       False    False  \n",
            "2       False    False  \n",
            "3       False    False  \n",
            "4       False    False  \n"
          ]
        }
      ],
      "source": [
        "print(missing_data.head())"
      ]
    },
    {
      "cell_type": "code",
      "execution_count": null,
      "metadata": {
        "colab": {
          "base_uri": "https://localhost:8080/"
        },
        "id": "CfaQlO-cdyjG",
        "outputId": "9703f5ba-e51f-4bdc-a2a1-7607f2eef5f2"
      },
      "outputs": [
        {
          "name": "stdout",
          "output_type": "stream",
          "text": [
            "Conteo de datos faltantes por columna:\n",
            " InvoiceNo           0\n",
            "StockCode           0\n",
            "Description      1454\n",
            "Quantity            0\n",
            "InvoiceDate         0\n",
            "UnitPrice           0\n",
            "CustomerID     135080\n",
            "Country             0\n",
            "dtype: int64\n"
          ]
        }
      ],
      "source": [
        "missing_data_count = retail_data.isna().sum()\n",
        "print('Conteo de datos faltantes por columna:\\n',missing_data_count )"
      ]
    },
    {
      "cell_type": "code",
      "execution_count": null,
      "metadata": {
        "colab": {
          "base_uri": "https://localhost:8080/"
        },
        "id": "CdFoJQZNek_H",
        "outputId": "cfed15a1-1daf-40f9-f386-487fc6fd1ea6"
      },
      "outputs": [
        {
          "name": "stdout",
          "output_type": "stream",
          "text": [
            "Datos sin filas con valores faltantes:\n",
            "        InvoiceNo StockCode                          Description  Quantity  \\\n",
            "0         536365    85123A   WHITE HANGING HEART T-LIGHT HOLDER         6   \n",
            "1         536365     71053                  WHITE METAL LANTERN         6   \n",
            "2         536365    84406B       CREAM CUPID HEARTS COAT HANGER         8   \n",
            "3         536365    84029G  KNITTED UNION FLAG HOT WATER BOTTLE         6   \n",
            "4         536365    84029E       RED WOOLLY HOTTIE WHITE HEART.         6   \n",
            "...          ...       ...                                  ...       ...   \n",
            "541904    581587     22613          PACK OF 20 SPACEBOY NAPKINS        12   \n",
            "541905    581587     22899         CHILDREN'S APRON DOLLY GIRL          6   \n",
            "541906    581587     23254        CHILDRENS CUTLERY DOLLY GIRL          4   \n",
            "541907    581587     23255      CHILDRENS CUTLERY CIRCUS PARADE         4   \n",
            "541908    581587     22138        BAKING SET 9 PIECE RETROSPOT          3   \n",
            "\n",
            "                InvoiceDate  UnitPrice  CustomerID         Country  \n",
            "0       2010-12-01 08:26:00       2.55     17850.0  United Kingdom  \n",
            "1       2010-12-01 08:26:00       3.39     17850.0  United Kingdom  \n",
            "2       2010-12-01 08:26:00       2.75     17850.0  United Kingdom  \n",
            "3       2010-12-01 08:26:00       3.39     17850.0  United Kingdom  \n",
            "4       2010-12-01 08:26:00       3.39     17850.0  United Kingdom  \n",
            "...                     ...        ...         ...             ...  \n",
            "541904  2011-12-09 12:50:00       0.85     12680.0          France  \n",
            "541905  2011-12-09 12:50:00       2.10     12680.0          France  \n",
            "541906  2011-12-09 12:50:00       4.15     12680.0          France  \n",
            "541907  2011-12-09 12:50:00       4.15     12680.0          France  \n",
            "541908  2011-12-09 12:50:00       4.95     12680.0          France  \n",
            "\n",
            "[406829 rows x 8 columns]\n"
          ]
        }
      ],
      "source": [
        "no_missing_rows = retail_data.dropna()\n",
        "print('Datos sin filas con valores faltantes:\\n', no_missing_rows)"
      ]
    },
    {
      "cell_type": "code",
      "execution_count": null,
      "metadata": {
        "colab": {
          "base_uri": "https://localhost:8080/"
        },
        "id": "cjmwDyQEe8Yw",
        "outputId": "51123485-ce1f-4fc1-f26c-83c2ac2ae9e1"
      },
      "outputs": [
        {
          "name": "stdout",
          "output_type": "stream",
          "text": [
            "DAtos sin columnas con valores faltantes:\n",
            "        InvoiceNo StockCode  Quantity          InvoiceDate  UnitPrice  \\\n",
            "0         536365    85123A         6  2010-12-01 08:26:00       2.55   \n",
            "1         536365     71053         6  2010-12-01 08:26:00       3.39   \n",
            "2         536365    84406B         8  2010-12-01 08:26:00       2.75   \n",
            "3         536365    84029G         6  2010-12-01 08:26:00       3.39   \n",
            "4         536365    84029E         6  2010-12-01 08:26:00       3.39   \n",
            "...          ...       ...       ...                  ...        ...   \n",
            "541904    581587     22613        12  2011-12-09 12:50:00       0.85   \n",
            "541905    581587     22899         6  2011-12-09 12:50:00       2.10   \n",
            "541906    581587     23254         4  2011-12-09 12:50:00       4.15   \n",
            "541907    581587     23255         4  2011-12-09 12:50:00       4.15   \n",
            "541908    581587     22138         3  2011-12-09 12:50:00       4.95   \n",
            "\n",
            "               Country  \n",
            "0       United Kingdom  \n",
            "1       United Kingdom  \n",
            "2       United Kingdom  \n",
            "3       United Kingdom  \n",
            "4       United Kingdom  \n",
            "...                ...  \n",
            "541904          France  \n",
            "541905          France  \n",
            "541906          France  \n",
            "541907          France  \n",
            "541908          France  \n",
            "\n",
            "[541909 rows x 6 columns]\n"
          ]
        }
      ],
      "source": [
        "no_missing_columns = retail_data.dropna(axis=1)\n",
        "print('DAtos sin columnas con valores faltantes:\\n', no_missing_columns)"
      ]
    },
    {
      "cell_type": "code",
      "execution_count": null,
      "metadata": {
        "colab": {
          "base_uri": "https://localhost:8080/"
        },
        "id": "GVB3VGdKfkao",
        "outputId": "f92a2a35-1aa6-48a2-f7bc-364c97e3cc95"
      },
      "outputs": [
        {
          "name": "stdout",
          "output_type": "stream",
          "text": [
            "InvoiceNo      0\n",
            "StockCode      0\n",
            "Description    0\n",
            "Quantity       0\n",
            "InvoiceDate    0\n",
            "UnitPrice      0\n",
            "CustomerID     0\n",
            "Country        0\n",
            "dtype: int64\n"
          ]
        }
      ],
      "source": [
        "retail_data_filled_zeros = retail_data.fillna(0)\n",
        "retail_data_filled_zeros_count = retail_data_filled_zeros.isna().sum()\n",
        "print(retail_data_filled_zeros_count)"
      ]
    },
    {
      "cell_type": "code",
      "execution_count": null,
      "metadata": {
        "colab": {
          "base_uri": "https://localhost:8080/"
        },
        "id": "CjnFkFD3gV3i",
        "outputId": "b74c6f8c-3d7b-4776-c99e-c05c34fe16af"
      },
      "outputs": [
        {
          "name": "stdout",
          "output_type": "stream",
          "text": [
            "0         2.55\n",
            "1         3.39\n",
            "2         2.75\n",
            "3         3.39\n",
            "4         3.39\n",
            "          ... \n",
            "541904    0.85\n",
            "541905    2.10\n",
            "541906    4.15\n",
            "541907    4.15\n",
            "541908    4.95\n",
            "Name: UnitPrice, Length: 541909, dtype: float64\n"
          ]
        }
      ],
      "source": [
        "mean_unit_price = retail_data['UnitPrice'].mean()\n",
        "retail_data_filled_mean = retail_data['UnitPrice'].fillna(mean_unit_price)\n",
        "print(retail_data_filled_mean)"
      ]
    },
    {
      "cell_type": "markdown",
      "metadata": {
        "id": "VXxEF97hj1ES"
      },
      "source": [
        "# Manipulación de columnas"
      ]
    },
    {
      "cell_type": "code",
      "execution_count": null,
      "metadata": {
        "colab": {
          "base_uri": "https://localhost:8080/"
        },
        "id": "BjNQlLW2j3XO",
        "outputId": "f6417e53-99ee-4843-9ad8-e92bd71cfc39"
      },
      "outputs": [
        {
          "name": "stdout",
          "output_type": "stream",
          "text": [
            "  InvoiceNo StockCode                          Description  Quantity  \\\n",
            "0    536365    85123A   WHITE HANGING HEART T-LIGHT HOLDER         6   \n",
            "1    536365     71053                  WHITE METAL LANTERN         6   \n",
            "2    536365    84406B       CREAM CUPID HEARTS COAT HANGER         8   \n",
            "3    536365    84029G  KNITTED UNION FLAG HOT WATER BOTTLE         6   \n",
            "4    536365    84029E       RED WOOLLY HOTTIE WHITE HEART.         6   \n",
            "\n",
            "           InvoiceDate  UnitPrice  CustomerID         Country  TotalPrice  \n",
            "0  2010-12-01 08:26:00       2.55     17850.0  United Kingdom       15.30  \n",
            "1  2010-12-01 08:26:00       3.39     17850.0  United Kingdom       20.34  \n",
            "2  2010-12-01 08:26:00       2.75     17850.0  United Kingdom       22.00  \n",
            "3  2010-12-01 08:26:00       3.39     17850.0  United Kingdom       20.34  \n",
            "4  2010-12-01 08:26:00       3.39     17850.0  United Kingdom       20.34  \n"
          ]
        }
      ],
      "source": [
        "import pandas as pd\n",
        "\n",
        "df = pd.read_csv('online_retail.csv')\n",
        "\n",
        "df['TotalPrice'] = df['Quantity'] * df['UnitPrice']\n",
        "\n",
        "print(df.head())"
      ]
    },
    {
      "cell_type": "code",
      "execution_count": null,
      "metadata": {
        "colab": {
          "base_uri": "https://localhost:8080/"
        },
        "id": "BmjCSEr8khkO",
        "outputId": "89686706-d1c5-4e32-abe3-6b953647af17"
      },
      "outputs": [
        {
          "name": "stdout",
          "output_type": "stream",
          "text": [
            "0    False\n",
            "1     True\n",
            "2     True\n",
            "3     True\n",
            "4     True\n",
            "5    False\n",
            "6     True\n",
            "7    False\n",
            "8    False\n",
            "9     True\n",
            "Name: HighValue, dtype: bool\n"
          ]
        }
      ],
      "source": [
        "df['HighValue'] = df['TotalPrice'] > 16\n",
        "print(df['HighValue'].head(10))"
      ]
    },
    {
      "cell_type": "code",
      "execution_count": null,
      "metadata": {
        "colab": {
          "base_uri": "https://localhost:8080/"
        },
        "id": "bDydG0ZPlebf",
        "outputId": "8d6c0206-64a8-4754-d4dc-56a3dbcd26b3"
      },
      "outputs": [
        {
          "name": "stdout",
          "output_type": "stream",
          "text": [
            "<class 'pandas.core.frame.DataFrame'>\n",
            "RangeIndex: 541909 entries, 0 to 541908\n",
            "Data columns (total 10 columns):\n",
            " #   Column       Non-Null Count   Dtype  \n",
            "---  ------       --------------   -----  \n",
            " 0   InvoiceNo    541909 non-null  object \n",
            " 1   StockCode    541909 non-null  object \n",
            " 2   Description  540455 non-null  object \n",
            " 3   Quantity     541909 non-null  int64  \n",
            " 4   InvoiceDate  541909 non-null  object \n",
            " 5   UnitPrice    541909 non-null  float64\n",
            " 6   CustomerID   406829 non-null  float64\n",
            " 7   Country      541909 non-null  object \n",
            " 8   TotalPrice   541909 non-null  float64\n",
            " 9   HighValue    541909 non-null  bool   \n",
            "dtypes: bool(1), float64(3), int64(1), object(5)\n",
            "memory usage: 37.7+ MB\n",
            "None\n"
          ]
        }
      ],
      "source": [
        "print(df.info())"
      ]
    },
    {
      "cell_type": "code",
      "execution_count": null,
      "metadata": {
        "colab": {
          "base_uri": "https://localhost:8080/"
        },
        "id": "CuQ7_0o7lpRT",
        "outputId": "73fbdf7a-e7e1-47dd-9639-007f83e9d483"
      },
      "outputs": [
        {
          "name": "stdout",
          "output_type": "stream",
          "text": [
            "<class 'pandas.core.frame.DataFrame'>\n",
            "RangeIndex: 541909 entries, 0 to 541908\n",
            "Data columns (total 10 columns):\n",
            " #   Column       Non-Null Count   Dtype         \n",
            "---  ------       --------------   -----         \n",
            " 0   InvoiceNo    541909 non-null  object        \n",
            " 1   StockCode    541909 non-null  object        \n",
            " 2   Description  540455 non-null  object        \n",
            " 3   Quantity     541909 non-null  int64         \n",
            " 4   InvoiceDate  541909 non-null  datetime64[ns]\n",
            " 5   UnitPrice    541909 non-null  float64       \n",
            " 6   CustomerID   406829 non-null  float64       \n",
            " 7   Country      541909 non-null  object        \n",
            " 8   TotalPrice   541909 non-null  float64       \n",
            " 9   HighValue    541909 non-null  bool          \n",
            "dtypes: bool(1), datetime64[ns](1), float64(3), int64(1), object(4)\n",
            "memory usage: 37.7+ MB\n",
            "None\n"
          ]
        }
      ],
      "source": [
        "df['InvoiceDate'] = pd.to_datetime(df['InvoiceDate'])\n",
        "print(df.info())"
      ]
    },
    {
      "cell_type": "code",
      "execution_count": null,
      "metadata": {
        "colab": {
          "base_uri": "https://localhost:8080/"
        },
        "id": "BDkT1VeNneGW",
        "outputId": "cfd964e3-88a8-4970-d1b6-066f2a2da8ab"
      },
      "outputs": [
        {
          "name": "stdout",
          "output_type": "stream",
          "text": [
            "  InvoiceNo StockCode                         Description  Quantity  \\\n",
            "0    536365    85123A  WHITE HANGING HEART T-LIGHT HOLDER         6   \n",
            "1    536365     71053                 WHITE METAL LANTERN         6   \n",
            "2    536365    84406B      CREAM CUPID HEARTS COAT HANGER         8   \n",
            "\n",
            "          InvoiceDate  UnitPrice  CustomerID         Country  TotalPrice  \\\n",
            "0 2010-12-01 08:26:00       2.55     17850.0  United Kingdom       15.30   \n",
            "1 2010-12-01 08:26:00       3.39     17850.0  United Kingdom       20.34   \n",
            "2 2010-12-01 08:26:00       2.75     17850.0  United Kingdom       22.00   \n",
            "\n",
            "   HighValue  DiscountedPrice  \n",
            "0      False            2.295  \n",
            "1       True            3.051  \n",
            "2       True            2.475  \n"
          ]
        }
      ],
      "source": [
        "df['DiscountedPrice'] = df['UnitPrice'].apply(lambda x: x* 0.9)\n",
        "print(df.head(3))"
      ]
    },
    {
      "cell_type": "code",
      "execution_count": null,
      "metadata": {
        "colab": {
          "base_uri": "https://localhost:8080/"
        },
        "id": "W0ToaaGCn8Jf",
        "outputId": "01c5dd6f-d553-41e9-c72f-ddb8d4a39d85"
      },
      "outputs": [
        {
          "name": "stdout",
          "output_type": "stream",
          "text": [
            "  InvoiceNo StockCode                          Description  Quantity  \\\n",
            "0    536365    85123A   WHITE HANGING HEART T-LIGHT HOLDER         6   \n",
            "1    536365     71053                  WHITE METAL LANTERN         6   \n",
            "2    536365    84406B       CREAM CUPID HEARTS COAT HANGER         8   \n",
            "3    536365    84029G  KNITTED UNION FLAG HOT WATER BOTTLE         6   \n",
            "4    536365    84029E       RED WOOLLY HOTTIE WHITE HEART.         6   \n",
            "5    536365     22752         SET 7 BABUSHKA NESTING BOXES         2   \n",
            "6    536365     21730    GLASS STAR FROSTED T-LIGHT HOLDER         6   \n",
            "7    536366     22633               HAND WARMER UNION JACK         6   \n",
            "8    536366     22632            HAND WARMER RED POLKA DOT         6   \n",
            "9    536367     84879        ASSORTED COLOUR BIRD ORNAMENT        32   \n",
            "\n",
            "          InvoiceDate  UnitPrice  CustomerID         Country  TotalPrice  \\\n",
            "0 2010-12-01 08:26:00       2.55     17850.0  United Kingdom       15.30   \n",
            "1 2010-12-01 08:26:00       3.39     17850.0  United Kingdom       20.34   \n",
            "2 2010-12-01 08:26:00       2.75     17850.0  United Kingdom       22.00   \n",
            "3 2010-12-01 08:26:00       3.39     17850.0  United Kingdom       20.34   \n",
            "4 2010-12-01 08:26:00       3.39     17850.0  United Kingdom       20.34   \n",
            "5 2010-12-01 08:26:00       7.65     17850.0  United Kingdom       15.30   \n",
            "6 2010-12-01 08:26:00       4.25     17850.0  United Kingdom       25.50   \n",
            "7 2010-12-01 08:28:00       1.85     17850.0  United Kingdom       11.10   \n",
            "8 2010-12-01 08:28:00       1.85     17850.0  United Kingdom       11.10   \n",
            "9 2010-12-01 08:34:00       1.69     13047.0  United Kingdom       54.08   \n",
            "\n",
            "   HighValue  DiscountedPrice PriceCategory  \n",
            "0      False            2.295        Medium  \n",
            "1       True            3.051        Medium  \n",
            "2       True            2.475        Medium  \n",
            "3       True            3.051        Medium  \n",
            "4       True            3.051        Medium  \n",
            "5      False            6.885        Medium  \n",
            "6       True            3.825        Medium  \n",
            "7      False            1.665        Medium  \n",
            "8      False            1.665        Medium  \n",
            "9       True            1.521        Medium  \n"
          ]
        }
      ],
      "source": [
        "def categorize_price(price):\n",
        "  if price > 50:\n",
        "    return 'High'\n",
        "  elif price < 20:\n",
        "    return 'Medium'\n",
        "  else:\n",
        "    return 'Low'\n",
        "\n",
        "df['PriceCategory'] = df['UnitPrice'].apply(categorize_price)\n",
        "print(df.head(10))"
      ]
    },
    {
      "cell_type": "markdown",
      "metadata": {
        "id": "YFaMmDl0xeq4"
      },
      "source": [
        "# Groupby"
      ]
    },
    {
      "cell_type": "code",
      "execution_count": null,
      "metadata": {
        "colab": {
          "base_uri": "https://localhost:8080/"
        },
        "id": "aMe1UqOpxggI",
        "outputId": "8cc10529-3d70-4f21-bb98-67ec0da08b36"
      },
      "outputs": [
        {
          "name": "stdout",
          "output_type": "stream",
          "text": [
            "Country\n",
            "United Kingdom          495478\n",
            "Germany                   9495\n",
            "France                    8557\n",
            "EIRE                      8196\n",
            "Spain                     2533\n",
            "Netherlands               2371\n",
            "Belgium                   2069\n",
            "Switzerland               2002\n",
            "Portugal                  1519\n",
            "Australia                 1259\n",
            "Norway                    1086\n",
            "Italy                      803\n",
            "Channel Islands            758\n",
            "Finland                    695\n",
            "Cyprus                     622\n",
            "Sweden                     462\n",
            "Unspecified                446\n",
            "Austria                    401\n",
            "Denmark                    389\n",
            "Japan                      358\n",
            "Poland                     341\n",
            "Israel                     297\n",
            "USA                        291\n",
            "Hong Kong                  288\n",
            "Singapore                  229\n",
            "Iceland                    182\n",
            "Canada                     151\n",
            "Greece                     146\n",
            "Malta                      127\n",
            "United Arab Emirates        68\n",
            "European Community          61\n",
            "RSA                         58\n",
            "Lebanon                     45\n",
            "Lithuania                   35\n",
            "Brazil                      32\n",
            "Czech Republic              30\n",
            "Bahrain                     19\n",
            "Saudi Arabia                10\n",
            "Name: count, dtype: int64\n"
          ]
        }
      ],
      "source": [
        "country_count = df['Country'].value_counts()\n",
        "print(country_count)"
      ]
    },
    {
      "cell_type": "code",
      "execution_count": null,
      "metadata": {
        "colab": {
          "base_uri": "https://localhost:8080/"
        },
        "id": "JIAJE-6Oyj9Z",
        "outputId": "06dca25b-0979-4419-ac7d-d0495c1a0513"
      },
      "outputs": [
        {
          "name": "stdout",
          "output_type": "stream",
          "text": [
            "Country\n",
            "Australia                 83653\n",
            "Austria                    4827\n",
            "Bahrain                     260\n",
            "Belgium                   23152\n",
            "Brazil                      356\n",
            "Canada                     2763\n",
            "Channel Islands            9479\n",
            "Cyprus                     6317\n",
            "Czech Republic              592\n",
            "Denmark                    8188\n",
            "EIRE                     142637\n",
            "European Community          497\n",
            "Finland                   10666\n",
            "France                   110480\n",
            "Germany                  117448\n",
            "Greece                     1556\n",
            "Hong Kong                  4769\n",
            "Iceland                    2458\n",
            "Israel                     4353\n",
            "Italy                      7999\n",
            "Japan                     25218\n",
            "Lebanon                     386\n",
            "Lithuania                   652\n",
            "Malta                       944\n",
            "Netherlands              200128\n",
            "Norway                    19247\n",
            "Poland                     3653\n",
            "Portugal                  16180\n",
            "RSA                         352\n",
            "Saudi Arabia                 75\n",
            "Singapore                  5234\n",
            "Spain                     26824\n",
            "Sweden                    35637\n",
            "Switzerland               30325\n",
            "USA                        1034\n",
            "United Arab Emirates        982\n",
            "United Kingdom          4263829\n",
            "Unspecified                3300\n",
            "Name: Quantity, dtype: int64\n"
          ]
        }
      ],
      "source": [
        "country_group = df.groupby('Country')['Quantity'].sum()\n",
        "print(country_group)"
      ]
    },
    {
      "cell_type": "code",
      "execution_count": null,
      "metadata": {
        "colab": {
          "base_uri": "https://localhost:8080/"
        },
        "id": "NQySa8hey-gn",
        "outputId": "931fb8ce-ad5a-4064-82ac-5edb4a70917e"
      },
      "outputs": [
        {
          "name": "stdout",
          "output_type": "stream",
          "text": [
            "                            mean          sum\n",
            "Country                                      \n",
            "Australia               3.220612     4054.750\n",
            "Austria                 4.243192     1701.520\n",
            "Bahrain                 4.556316       86.570\n",
            "Belgium                 3.644335     7540.130\n",
            "Brazil                  4.456250      142.600\n",
            "Canada                  6.030331      910.580\n",
            "Channel Islands         4.932124     3738.550\n",
            "Cyprus                  6.302363     3920.070\n",
            "Czech Republic          2.938333       88.150\n",
            "Denmark                 3.256941     1266.950\n",
            "EIRE                    5.911077    48447.190\n",
            "European Community      4.820492      294.050\n",
            "Finland                 5.448705     3786.850\n",
            "France                  5.028864    43031.990\n",
            "Germany                 3.966930    37666.000\n",
            "Greece                  4.885548      713.290\n",
            "Hong Kong              42.505208    12241.500\n",
            "Iceland                 2.644011      481.210\n",
            "Israel                  3.633131     1079.040\n",
            "Italy                   4.831121     3879.390\n",
            "Japan                   2.276145      814.860\n",
            "Lebanon                 5.387556      242.440\n",
            "Lithuania               2.841143       99.440\n",
            "Malta                   5.244173      666.010\n",
            "Netherlands             2.738317     6492.550\n",
            "Norway                  6.012026     6529.060\n",
            "Poland                  4.170880     1422.270\n",
            "Portugal                8.582976    13037.540\n",
            "RSA                     4.277586      248.100\n",
            "Saudi Arabia            2.411000       24.110\n",
            "Singapore             109.645808    25108.890\n",
            "Spain                   4.987544    12633.450\n",
            "Sweden                  3.910887     1806.830\n",
            "Switzerland             3.403442     6813.690\n",
            "USA                     2.216426      644.980\n",
            "United Arab Emirates    3.380735      229.890\n",
            "United Kingdom          4.532422  2245715.474\n",
            "Unspecified             2.699574     1204.010\n"
          ]
        }
      ],
      "source": [
        "country_stats = df.groupby('Country')['UnitPrice'].agg(['mean', 'sum'])\n",
        "print(country_stats)"
      ]
    },
    {
      "cell_type": "code",
      "execution_count": null,
      "metadata": {
        "colab": {
          "base_uri": "https://localhost:8080/"
        },
        "id": "itnMw4K1zWZ-",
        "outputId": "278fe970-64ac-4410-d3cc-4bead1a5b7d1"
      },
      "outputs": [
        {
          "name": "stdout",
          "output_type": "stream",
          "text": [
            "Country      StockCode\n",
            "Australia    15036        600\n",
            "             15056BL        3\n",
            "             16161P       400\n",
            "             16169E        25\n",
            "             20665          6\n",
            "                         ... \n",
            "Unspecified  85180A         2\n",
            "             85180B         1\n",
            "             85212         12\n",
            "             85213         12\n",
            "             85227         10\n",
            "Name: Quantity, Length: 19839, dtype: int64\n"
          ]
        }
      ],
      "source": [
        "country_stock_group = df.groupby(['Country', 'StockCode'])['Quantity'].sum()\n",
        "print(country_stock_group)"
      ]
    },
    {
      "cell_type": "code",
      "execution_count": null,
      "metadata": {
        "colab": {
          "base_uri": "https://localhost:8080/"
        },
        "id": "3O_zGiCe0BKI",
        "outputId": "f96494a9-8d69-4e50-f3e2-d5b2f9833a09"
      },
      "outputs": [
        {
          "name": "stdout",
          "output_type": "stream",
          "text": [
            "Country\n",
            "Australia                137077.270\n",
            "Austria                   10154.320\n",
            "Bahrain                     548.400\n",
            "Belgium                   40910.960\n",
            "Brazil                     1143.600\n",
            "Canada                     3666.380\n",
            "Channel Islands           20086.290\n",
            "Cyprus                    12946.290\n",
            "Czech Republic              707.720\n",
            "Denmark                   18768.140\n",
            "EIRE                     263276.820\n",
            "European Community         1291.750\n",
            "Finland                   22326.740\n",
            "France                   197403.900\n",
            "Germany                  221698.210\n",
            "Greece                     4710.520\n",
            "Hong Kong                 10117.040\n",
            "Iceland                    4310.000\n",
            "Israel                     7907.820\n",
            "Italy                     16890.510\n",
            "Japan                     35340.620\n",
            "Lebanon                    1693.880\n",
            "Lithuania                  1661.060\n",
            "Malta                      2505.470\n",
            "Netherlands              284661.540\n",
            "Norway                    35163.460\n",
            "Poland                     7213.140\n",
            "Portugal                  29367.020\n",
            "RSA                        1002.310\n",
            "Saudi Arabia                131.170\n",
            "Singapore                  9120.390\n",
            "Spain                     54774.580\n",
            "Sweden                    36595.910\n",
            "Switzerland               56385.350\n",
            "USA                        1730.920\n",
            "United Arab Emirates       1902.280\n",
            "United Kingdom          8187806.364\n",
            "Unspecified                4749.790\n",
            "dtype: float64\n"
          ]
        }
      ],
      "source": [
        "def total_revenue(group):\n",
        "  return (group['Quantity'] * group['UnitPrice']).sum()\n",
        "\n",
        "revenue_per_country = df.groupby('Country').apply(total_revenue)\n",
        "print(revenue_per_country)"
      ]
    },
    {
      "cell_type": "markdown",
      "metadata": {
        "id": "3DJZIwii_ET6"
      },
      "source": [
        "# Filtrado de datos"
      ]
    },
    {
      "cell_type": "code",
      "execution_count": null,
      "metadata": {
        "colab": {
          "base_uri": "https://localhost:8080/"
        },
        "id": "B5qc9HMv_LHa",
        "outputId": "47e255a6-f28c-4589-8f77-67e5c9b9df36"
      },
      "outputs": [
        {
          "name": "stdout",
          "output_type": "stream",
          "text": [
            "  InvoiceNo StockCode                          Description  Quantity  \\\n",
            "0    536365    85123A   WHITE HANGING HEART T-LIGHT HOLDER         6   \n",
            "1    536365     71053                  WHITE METAL LANTERN         6   \n",
            "2    536365    84406B       CREAM CUPID HEARTS COAT HANGER         8   \n",
            "3    536365    84029G  KNITTED UNION FLAG HOT WATER BOTTLE         6   \n",
            "4    536365    84029E       RED WOOLLY HOTTIE WHITE HEART.         6   \n",
            "\n",
            "          InvoiceDate  UnitPrice  CustomerID         Country  TotalPrice  \n",
            "0 2010-12-01 08:26:00       2.55     17850.0  United Kingdom       15.30  \n",
            "1 2010-12-01 08:26:00       3.39     17850.0  United Kingdom       20.34  \n",
            "2 2010-12-01 08:26:00       2.75     17850.0  United Kingdom       22.00  \n",
            "3 2010-12-01 08:26:00       3.39     17850.0  United Kingdom       20.34  \n",
            "4 2010-12-01 08:26:00       3.39     17850.0  United Kingdom       20.34  \n"
          ]
        }
      ],
      "source": [
        "import pandas as pd\n",
        "\n",
        "# Leer el dataset de ventas desde un archivo CSV\n",
        "file_path = \"/content/online_retail.csv\"\n",
        "sales_data = pd.read_csv(file_path)\n",
        "\n",
        "# Convertir la columna 'InvoiceDate' a tipo datetime\n",
        "sales_data['InvoiceDate'] = pd.to_datetime(sales_data['InvoiceDate'])\n",
        "\n",
        "# Eliminar filas con valores faltantes en las columnas críticas\n",
        "sales_data.dropna(subset=['CustomerID', 'InvoiceDate'], inplace=True)\n",
        "\n",
        "# Crear una nueva columna 'TotalPrice'\n",
        "sales_data['TotalPrice'] = sales_data['Quantity'] * sales_data['UnitPrice']\n",
        "\n",
        "print(sales_data.head())\n"
      ]
    },
    {
      "cell_type": "code",
      "execution_count": null,
      "metadata": {
        "colab": {
          "base_uri": "https://localhost:8080/"
        },
        "id": "HO2obI00RloX",
        "outputId": "feee6bbd-60b7-436e-a03c-b1f056d5dae3"
      },
      "outputs": [
        {
          "name": "stdout",
          "output_type": "stream",
          "text": [
            "       InvoiceNo StockCode                          Description  Quantity  \\\n",
            "0         536365    85123A   WHITE HANGING HEART T-LIGHT HOLDER         6   \n",
            "1         536365     71053                  WHITE METAL LANTERN         6   \n",
            "2         536365    84406B       CREAM CUPID HEARTS COAT HANGER         8   \n",
            "3         536365    84029G  KNITTED UNION FLAG HOT WATER BOTTLE         6   \n",
            "4         536365    84029E       RED WOOLLY HOTTIE WHITE HEART.         6   \n",
            "...          ...       ...                                  ...       ...   \n",
            "541889    581585     22466       FAIRY TALE COTTAGE NIGHT LIGHT        12   \n",
            "541890    581586     22061  LARGE CAKE STAND  HANGING STRAWBERY         8   \n",
            "541891    581586     23275     SET OF 3 HANGING OWLS OLLIE BEAK        24   \n",
            "541892    581586     21217        RED RETROSPOT ROUND CAKE TINS        24   \n",
            "541893    581586     20685                DOORMAT RED RETROSPOT        10   \n",
            "\n",
            "               InvoiceDate  UnitPrice  CustomerID         Country  TotalPrice  \n",
            "0      2010-12-01 08:26:00       2.55     17850.0  United Kingdom       15.30  \n",
            "1      2010-12-01 08:26:00       3.39     17850.0  United Kingdom       20.34  \n",
            "2      2010-12-01 08:26:00       2.75     17850.0  United Kingdom       22.00  \n",
            "3      2010-12-01 08:26:00       3.39     17850.0  United Kingdom       20.34  \n",
            "4      2010-12-01 08:26:00       3.39     17850.0  United Kingdom       20.34  \n",
            "...                    ...        ...         ...             ...         ...  \n",
            "541889 2011-12-09 12:31:00       1.95     15804.0  United Kingdom       23.40  \n",
            "541890 2011-12-09 12:49:00       2.95     13113.0  United Kingdom       23.60  \n",
            "541891 2011-12-09 12:49:00       1.25     13113.0  United Kingdom       30.00  \n",
            "541892 2011-12-09 12:49:00       8.95     13113.0  United Kingdom      214.80  \n",
            "541893 2011-12-09 12:49:00       7.08     13113.0  United Kingdom       70.80  \n",
            "\n",
            "[361878 rows x 9 columns]\n"
          ]
        }
      ],
      "source": [
        "#Filtrar ventas en el Reino Unido - UK\n",
        "uk_sales = sales_data[sales_data['Country'] == 'United Kingdom']\n",
        "print(uk_sales)"
      ]
    },
    {
      "cell_type": "code",
      "execution_count": null,
      "metadata": {
        "colab": {
          "base_uri": "https://localhost:8080/"
        },
        "id": "WSm9J1LISqhC",
        "outputId": "08d2e93a-7cdd-48e8-8f3f-3de7bac12e26"
      },
      "outputs": [
        {
          "name": "stdout",
          "output_type": "stream",
          "text": [
            "       InvoiceNo StockCode                         Description  Quantity  \\\n",
            "31        536370     10002         INFLATABLE POLITICAL GLOBE         48   \n",
            "46        536371     22086     PAPER CHAIN KIT 50'S CHRISTMAS         80   \n",
            "82        536376     22114   HOT WATER BOTTLE TEA AND SYMPATHY        48   \n",
            "83        536376     21733    RED HANGING HEART T-LIGHT HOLDER        64   \n",
            "96        536378     21212     PACK OF 72 RETROSPOT CAKE CASES       120   \n",
            "...          ...       ...                                 ...       ...   \n",
            "541746    581571     23167      SMALL CERAMIC TOP STORAGE JAR         96   \n",
            "541747    581571     21314       SMALL GLASS HEART TRINKET POT        48   \n",
            "541751    581572     23328  SET 6 SCHOOL MILK BOTTLES IN CRATE        48   \n",
            "541867    581584     20832    RED FLOCK LOVE HEART PHOTO FRAME        72   \n",
            "541868    581584     85038     6 CHOCOLATE LOVE HEART T-LIGHTS        48   \n",
            "\n",
            "               InvoiceDate  UnitPrice  CustomerID         Country  TotalPrice  \n",
            "31     2010-12-01 08:45:00       0.85     12583.0          France       40.80  \n",
            "46     2010-12-01 09:00:00       2.55     13748.0  United Kingdom      204.00  \n",
            "82     2010-12-01 09:32:00       3.45     15291.0  United Kingdom      165.60  \n",
            "83     2010-12-01 09:32:00       2.55     15291.0  United Kingdom      163.20  \n",
            "96     2010-12-01 09:37:00       0.42     14688.0  United Kingdom       50.40  \n",
            "...                    ...        ...         ...             ...         ...  \n",
            "541746 2011-12-09 12:00:00       0.69     15311.0  United Kingdom       66.24  \n",
            "541747 2011-12-09 12:00:00       1.85     15311.0  United Kingdom       88.80  \n",
            "541751 2011-12-09 12:08:00       3.39     16705.0  United Kingdom      162.72  \n",
            "541867 2011-12-09 12:25:00       0.72     13777.0  United Kingdom       51.84  \n",
            "541868 2011-12-09 12:25:00       1.85     13777.0  United Kingdom       88.80  \n",
            "\n",
            "[18591 rows x 9 columns]\n"
          ]
        }
      ],
      "source": [
        "high_quantity_sales = sales_data[sales_data['Quantity'] > 40]\n",
        "print(high_quantity_sales)"
      ]
    },
    {
      "cell_type": "code",
      "execution_count": null,
      "metadata": {
        "colab": {
          "base_uri": "https://localhost:8080/"
        },
        "id": "p89QdTFcTtCJ",
        "outputId": "a77dbe0a-1426-4c17-840e-9f5a834fff4c"
      },
      "outputs": [
        {
          "name": "stdout",
          "output_type": "stream",
          "text": [
            "       InvoiceNo StockCode                     Description  Quantity  \\\n",
            "181       536387     22466   FAIRY TALE COTTAGE NIGHTLIGHT       432   \n",
            "182       536387     21731   RED TOADSTOOL LED NIGHT LIGHT       432   \n",
            "730       536437     17021          NAMASTE SWAGAT INCENSE       600   \n",
            "870       536477     21137        BLACK RECORD COVER FRAME       480   \n",
            "2364      536584    84029E  RED WOOLLY HOTTIE WHITE HEART.       384   \n",
            "...          ...       ...                             ...       ...   \n",
            "540060    581457     22189         CREAM HEART CARD HOLDER       324   \n",
            "540061    581457     23543             WALL ART KEEP CALM        698   \n",
            "540070    581458     22197                  POPCORN HOLDER      1500   \n",
            "540071    581459     22197                  POPCORN HOLDER      1200   \n",
            "540421    581483     23843     PAPER CRAFT , LITTLE BIRDIE     80995   \n",
            "\n",
            "               InvoiceDate  UnitPrice  CustomerID         Country  TotalPrice  \n",
            "181    2010-12-01 09:58:00       1.45     16029.0  United Kingdom      626.40  \n",
            "182    2010-12-01 09:58:00       1.25     16029.0  United Kingdom      540.00  \n",
            "730    2010-12-01 12:12:00       0.24     13694.0  United Kingdom      144.00  \n",
            "870    2010-12-01 12:27:00       3.39     16210.0  United Kingdom     1627.20  \n",
            "2364   2010-12-01 16:22:00       2.95     13777.0  United Kingdom     1132.80  \n",
            "...                    ...        ...         ...             ...         ...  \n",
            "540060 2011-12-08 18:43:00       3.39     18102.0  United Kingdom     1098.36  \n",
            "540061 2011-12-08 18:43:00       4.15     18102.0  United Kingdom     2896.70  \n",
            "540070 2011-12-08 18:45:00       0.72     17949.0  United Kingdom     1080.00  \n",
            "540071 2011-12-08 18:46:00       0.72     17949.0  United Kingdom      864.00  \n",
            "540421 2011-12-09 09:15:00       2.08     16446.0  United Kingdom   168469.60  \n",
            "\n",
            "[727 rows x 9 columns]\n"
          ]
        }
      ],
      "source": [
        "uk_high_quantity_sales = sales_data[(sales_data['Country'] == 'United Kingdom') &\n",
        "                                    (sales_data['Quantity'] > 300)]\n",
        "print(uk_high_quantity_sales)"
      ]
    },
    {
      "cell_type": "code",
      "execution_count": null,
      "metadata": {
        "colab": {
          "base_uri": "https://localhost:8080/"
        },
        "id": "Nh5T8JInUgyo",
        "outputId": "5b75c1a4-9f0a-462e-a324-4d02e0c079f8"
      },
      "outputs": [
        {
          "name": "stdout",
          "output_type": "stream",
          "text": [
            "       InvoiceNo StockCode                      Description  Quantity  \\\n",
            "42481     539993     22386          JUMBO BAG PINK POLKADOT        10   \n",
            "42482     539993     21499               BLUE POLKADOT WRAP        25   \n",
            "42483     539993     21498              RED RETROSPOT WRAP         25   \n",
            "42484     539993     22379         RECYCLING BAG RETROSPOT          5   \n",
            "42485     539993     20718        RED RETROSPOT SHOPPER BAG        10   \n",
            "...          ...       ...                              ...       ...   \n",
            "541904    581587     22613      PACK OF 20 SPACEBOY NAPKINS        12   \n",
            "541905    581587     22899     CHILDREN'S APRON DOLLY GIRL          6   \n",
            "541906    581587     23254    CHILDRENS CUTLERY DOLLY GIRL          4   \n",
            "541907    581587     23255  CHILDRENS CUTLERY CIRCUS PARADE         4   \n",
            "541908    581587     22138    BAKING SET 9 PIECE RETROSPOT          3   \n",
            "\n",
            "               InvoiceDate  UnitPrice  CustomerID         Country  TotalPrice  \n",
            "42481  2011-01-04 10:00:00       1.95     13313.0  United Kingdom       19.50  \n",
            "42482  2011-01-04 10:00:00       0.42     13313.0  United Kingdom       10.50  \n",
            "42483  2011-01-04 10:00:00       0.42     13313.0  United Kingdom       10.50  \n",
            "42484  2011-01-04 10:00:00       2.10     13313.0  United Kingdom       10.50  \n",
            "42485  2011-01-04 10:00:00       1.25     13313.0  United Kingdom       12.50  \n",
            "...                    ...        ...         ...             ...         ...  \n",
            "541904 2011-12-09 12:50:00       0.85     12680.0          France       10.20  \n",
            "541905 2011-12-09 12:50:00       2.10     12680.0          France       12.60  \n",
            "541906 2011-12-09 12:50:00       4.15     12680.0          France       16.60  \n",
            "541907 2011-12-09 12:50:00       4.15     12680.0          France       16.60  \n",
            "541908 2011-12-09 12:50:00       4.95     12680.0          France       14.85  \n",
            "\n",
            "[379979 rows x 9 columns]\n"
          ]
        }
      ],
      "source": [
        "sales_2011 = sales_data[sales_data['InvoiceDate'].dt.year == 2011]\n",
        "print(sales_2011)"
      ]
    },
    {
      "cell_type": "code",
      "execution_count": null,
      "metadata": {
        "colab": {
          "base_uri": "https://localhost:8080/"
        },
        "id": "Jy1iyfsqUy0G",
        "outputId": "c4a57a33-506b-4c86-f730-05537eb0688b"
      },
      "outputs": [
        {
          "name": "stdout",
          "output_type": "stream",
          "text": [
            "      InvoiceNo StockCode                          Description  Quantity  \\\n",
            "0        536365    85123A   WHITE HANGING HEART T-LIGHT HOLDER         6   \n",
            "1        536365     71053                  WHITE METAL LANTERN         6   \n",
            "2        536365    84406B       CREAM CUPID HEARTS COAT HANGER         8   \n",
            "3        536365    84029G  KNITTED UNION FLAG HOT WATER BOTTLE         6   \n",
            "4        536365    84029E       RED WOOLLY HOTTIE WHITE HEART.         6   \n",
            "...         ...       ...                                  ...       ...   \n",
            "42448    539988     84380    SET OF 3 BUTTERFLY COOKIE CUTTERS         1   \n",
            "42449    539988    84849D                HOT BATHS SOAP HOLDER         1   \n",
            "42450    539988    84849B               FAIRY SOAP SOAP HOLDER         1   \n",
            "42451    539988     22854          CREAM SWEETHEART EGG HOLDER         2   \n",
            "42452    539988    47559B                  TEA TIME OVEN GLOVE         2   \n",
            "\n",
            "              InvoiceDate  UnitPrice  CustomerID         Country  TotalPrice  \n",
            "0     2010-12-01 08:26:00       2.55     17850.0  United Kingdom       15.30  \n",
            "1     2010-12-01 08:26:00       3.39     17850.0  United Kingdom       20.34  \n",
            "2     2010-12-01 08:26:00       2.75     17850.0  United Kingdom       22.00  \n",
            "3     2010-12-01 08:26:00       3.39     17850.0  United Kingdom       20.34  \n",
            "4     2010-12-01 08:26:00       3.39     17850.0  United Kingdom       20.34  \n",
            "...                   ...        ...         ...             ...         ...  \n",
            "42448 2010-12-23 16:06:00       1.25     18116.0  United Kingdom        1.25  \n",
            "42449 2010-12-23 16:06:00       1.69     18116.0  United Kingdom        1.69  \n",
            "42450 2010-12-23 16:06:00       1.69     18116.0  United Kingdom        1.69  \n",
            "42451 2010-12-23 16:06:00       4.95     18116.0  United Kingdom        9.90  \n",
            "42452 2010-12-23 16:06:00       1.25     18116.0  United Kingdom        2.50  \n",
            "\n",
            "[26850 rows x 9 columns]\n"
          ]
        }
      ],
      "source": [
        "sales_2010 = sales_data[sales_data['InvoiceDate'].dt.year == 2010]\n",
        "print(sales_2010)"
      ]
    },
    {
      "cell_type": "code",
      "execution_count": null,
      "metadata": {
        "colab": {
          "base_uri": "https://localhost:8080/"
        },
        "id": "VdloxsO_VQxF",
        "outputId": "491117a3-2b2d-410b-f246-5f50e2df8915"
      },
      "outputs": [
        {
          "name": "stdout",
          "output_type": "stream",
          "text": [
            "      InvoiceNo StockCode                          Description  Quantity  \\\n",
            "0        536365    85123A   WHITE HANGING HEART T-LIGHT HOLDER         6   \n",
            "1        536365     71053                  WHITE METAL LANTERN         6   \n",
            "2        536365    84406B       CREAM CUPID HEARTS COAT HANGER         8   \n",
            "3        536365    84029G  KNITTED UNION FLAG HOT WATER BOTTLE         6   \n",
            "4        536365    84029E       RED WOOLLY HOTTIE WHITE HEART.         6   \n",
            "...         ...       ...                                  ...       ...   \n",
            "42448    539988     84380    SET OF 3 BUTTERFLY COOKIE CUTTERS         1   \n",
            "42449    539988    84849D                HOT BATHS SOAP HOLDER         1   \n",
            "42450    539988    84849B               FAIRY SOAP SOAP HOLDER         1   \n",
            "42451    539988     22854          CREAM SWEETHEART EGG HOLDER         2   \n",
            "42452    539988    47559B                  TEA TIME OVEN GLOVE         2   \n",
            "\n",
            "              InvoiceDate  UnitPrice  CustomerID         Country  TotalPrice  \n",
            "0     2010-12-01 08:26:00       2.55     17850.0  United Kingdom       15.30  \n",
            "1     2010-12-01 08:26:00       3.39     17850.0  United Kingdom       20.34  \n",
            "2     2010-12-01 08:26:00       2.75     17850.0  United Kingdom       22.00  \n",
            "3     2010-12-01 08:26:00       3.39     17850.0  United Kingdom       20.34  \n",
            "4     2010-12-01 08:26:00       3.39     17850.0  United Kingdom       20.34  \n",
            "...                   ...        ...         ...             ...         ...  \n",
            "42448 2010-12-23 16:06:00       1.25     18116.0  United Kingdom        1.25  \n",
            "42449 2010-12-23 16:06:00       1.69     18116.0  United Kingdom        1.69  \n",
            "42450 2010-12-23 16:06:00       1.69     18116.0  United Kingdom        1.69  \n",
            "42451 2010-12-23 16:06:00       4.95     18116.0  United Kingdom        9.90  \n",
            "42452 2010-12-23 16:06:00       1.25     18116.0  United Kingdom        2.50  \n",
            "\n",
            "[26850 rows x 9 columns]\n"
          ]
        }
      ],
      "source": [
        "sales_dec_2010 = sales_data[(sales_data['InvoiceDate'].dt.year == 2010) &\n",
        "                            (sales_data['InvoiceDate'].dt.month == 12)]\n",
        "print(sales_dec_2010)"
      ]
    },
    {
      "cell_type": "markdown",
      "metadata": {
        "id": "tb_pFxQRZ26x"
      },
      "source": [
        "# Pivot Table y Reshape"
      ]
    },
    {
      "cell_type": "code",
      "execution_count": null,
      "metadata": {
        "colab": {
          "base_uri": "https://localhost:8080/"
        },
        "id": "XPoIXq-JZ5HD",
        "outputId": "d9beaafb-eb2e-40bf-d2fa-7fda35b6a9f3"
      },
      "outputs": [
        {
          "name": "stdout",
          "output_type": "stream",
          "text": [
            "StockCode              10002   10080   10120  10123C  10124A  10124G   10125  \\\n",
            "Country                                                                        \n",
            "Australia                NaN     NaN     NaN     NaN     NaN     NaN     NaN   \n",
            "Austria                  NaN     NaN     NaN     NaN     NaN     NaN     NaN   \n",
            "Bahrain                  NaN     NaN     NaN     NaN     NaN     NaN     NaN   \n",
            "Belgium                  NaN     NaN     NaN     NaN     NaN     NaN     NaN   \n",
            "Brazil                   NaN     NaN     NaN     NaN     NaN     NaN     NaN   \n",
            "Canada                   NaN     NaN     NaN     NaN     NaN     NaN     NaN   \n",
            "Channel Islands          NaN     NaN     NaN     NaN     NaN     NaN     NaN   \n",
            "Cyprus                   NaN     NaN     NaN     NaN     NaN     NaN     NaN   \n",
            "Czech Republic           NaN     NaN     NaN     NaN     NaN     NaN     NaN   \n",
            "Denmark                  NaN     NaN     NaN     NaN     NaN     NaN     NaN   \n",
            "EIRE                  $12.00     NaN     NaN     NaN     NaN     NaN     NaN   \n",
            "European Community       NaN     NaN     NaN     NaN     NaN     NaN     NaN   \n",
            "Finland                  NaN     NaN     NaN     NaN     NaN     NaN     NaN   \n",
            "France               $372.00     NaN  $10.00     NaN     NaN     NaN $470.00   \n",
            "Germany                $1.00     NaN     NaN     NaN     NaN     NaN $120.00   \n",
            "Greece                   NaN     NaN     NaN     NaN     NaN     NaN     NaN   \n",
            "Iceland                  NaN     NaN     NaN     NaN     NaN     NaN     NaN   \n",
            "Israel                   NaN     NaN     NaN     NaN     NaN     NaN     NaN   \n",
            "Italy                    NaN     NaN     NaN     NaN     NaN     NaN     NaN   \n",
            "Japan                  $1.00     NaN     NaN     NaN     NaN     NaN     NaN   \n",
            "Lebanon                  NaN     NaN     NaN     NaN     NaN     NaN     NaN   \n",
            "Lithuania                NaN     NaN     NaN     NaN     NaN     NaN     NaN   \n",
            "Malta                    NaN     NaN     NaN     NaN     NaN     NaN     NaN   \n",
            "Netherlands              NaN     NaN     NaN     NaN     NaN     NaN     NaN   \n",
            "Norway                   NaN     NaN     NaN     NaN     NaN     NaN     NaN   \n",
            "Poland                   NaN     NaN     NaN     NaN     NaN     NaN     NaN   \n",
            "Portugal                 NaN     NaN     NaN     NaN     NaN     NaN     NaN   \n",
            "RSA                      NaN     NaN     NaN     NaN     NaN     NaN     NaN   \n",
            "Saudi Arabia             NaN     NaN     NaN     NaN     NaN     NaN     NaN   \n",
            "Singapore                NaN     NaN     NaN     NaN     NaN     NaN     NaN   \n",
            "Spain                 $24.00     NaN     NaN     NaN     NaN     NaN     NaN   \n",
            "Sweden                   NaN     NaN     NaN     NaN     NaN     NaN     NaN   \n",
            "Switzerland           $12.00     NaN     NaN     NaN     NaN     NaN  $20.00   \n",
            "USA                      NaN     NaN     NaN     NaN     NaN     NaN     NaN   \n",
            "United Arab Emirates     NaN     NaN     NaN     NaN     NaN     NaN     NaN   \n",
            "United Kingdom       $401.00 $291.00 $183.00   $5.00  $16.00  $17.00 $616.00   \n",
            "Unspecified              NaN     NaN     NaN     NaN     NaN     NaN     NaN   \n",
            "\n",
            "StockCode                10133     10135   11001  ...  90214Y  90214Z  \\\n",
            "Country                                           ...                   \n",
            "Australia                  NaN       NaN     NaN  ...     NaN     NaN   \n",
            "Austria                    NaN       NaN     NaN  ...     NaN     NaN   \n",
            "Bahrain                    NaN       NaN     NaN  ...     NaN     NaN   \n",
            "Belgium                    NaN       NaN     NaN  ...     NaN     NaN   \n",
            "Brazil                     NaN       NaN     NaN  ...     NaN     NaN   \n",
            "Canada                  $40.00    $20.00     NaN  ...     NaN     NaN   \n",
            "Channel Islands            NaN       NaN     NaN  ...     NaN     NaN   \n",
            "Cyprus                     NaN       NaN     NaN  ...     NaN     NaN   \n",
            "Czech Republic             NaN       NaN     NaN  ...     NaN     NaN   \n",
            "Denmark                    NaN       NaN     NaN  ...     NaN     NaN   \n",
            "EIRE                    $40.00    $60.00  $48.00  ...     NaN     NaN   \n",
            "European Community         NaN       NaN     NaN  ...     NaN     NaN   \n",
            "Finland                    NaN       NaN     NaN  ...     NaN     NaN   \n",
            "France                     NaN    $10.00  $16.00  ...     NaN     NaN   \n",
            "Germany                    NaN   $200.00  $32.00  ...     NaN     NaN   \n",
            "Greece                     NaN       NaN     NaN  ...     NaN     NaN   \n",
            "Iceland                    NaN       NaN     NaN  ...     NaN     NaN   \n",
            "Israel                  $20.00       NaN     NaN  ...     NaN     NaN   \n",
            "Italy                      NaN       NaN     NaN  ...     NaN     NaN   \n",
            "Japan                      NaN       NaN     NaN  ...     NaN     NaN   \n",
            "Lebanon                    NaN       NaN     NaN  ...     NaN     NaN   \n",
            "Lithuania                  NaN       NaN     NaN  ...     NaN     NaN   \n",
            "Malta                      NaN       NaN     NaN  ...     NaN     NaN   \n",
            "Netherlands                NaN       NaN     NaN  ...     NaN     NaN   \n",
            "Norway                     NaN    $10.00  $16.00  ...     NaN     NaN   \n",
            "Poland                     NaN       NaN     NaN  ...     NaN     NaN   \n",
            "Portugal                $20.00       NaN  $16.00  ...     NaN     NaN   \n",
            "RSA                        NaN       NaN     NaN  ...     NaN     NaN   \n",
            "Saudi Arabia               NaN       NaN     NaN  ...     NaN     NaN   \n",
            "Singapore                  NaN       NaN     NaN  ...     NaN     NaN   \n",
            "Spain                      NaN       NaN  $16.00  ...     NaN     NaN   \n",
            "Sweden                     NaN       NaN     NaN  ...     NaN     NaN   \n",
            "Switzerland             $10.00       NaN     NaN  ...     NaN     NaN   \n",
            "USA                        NaN       NaN     NaN  ...     NaN     NaN   \n",
            "United Arab Emirates       NaN       NaN     NaN  ...     NaN     NaN   \n",
            "United Kingdom       $2,244.00 $1,637.00 $923.00  ...  $61.00  $12.00   \n",
            "Unspecified                NaN       NaN     NaN  ...     NaN     NaN   \n",
            "\n",
            "StockCode             BANK CHARGES     C2    CRUK          D    DOT         M  \\\n",
            "Country                                                                         \n",
            "Australia                      NaN    NaN     NaN        NaN    NaN       NaN   \n",
            "Austria                        NaN    NaN     NaN        NaN    NaN       NaN   \n",
            "Bahrain                        NaN    NaN     NaN        NaN    NaN       NaN   \n",
            "Belgium                        NaN    NaN     NaN        NaN    NaN       NaN   \n",
            "Brazil                         NaN    NaN     NaN        NaN    NaN       NaN   \n",
            "Canada                         NaN    NaN     NaN        NaN    NaN       NaN   \n",
            "Channel Islands                NaN  $3.00     NaN        NaN    NaN     $0.00   \n",
            "Cyprus                         NaN    NaN     NaN        NaN    NaN     $0.00   \n",
            "Czech Republic                 NaN    NaN     NaN        NaN    NaN       NaN   \n",
            "Denmark                        NaN    NaN     NaN        NaN    NaN       NaN   \n",
            "EIRE                           NaN $97.00     NaN     $-1.00    NaN    $-1.00   \n",
            "European Community             NaN    NaN     NaN        NaN    NaN       NaN   \n",
            "Finland                        NaN    NaN     NaN        NaN    NaN     $2.00   \n",
            "France                         NaN  $3.00     NaN        NaN    NaN   $-16.00   \n",
            "Germany                        NaN    NaN     NaN        NaN    NaN     $2.00   \n",
            "Greece                         NaN    NaN     NaN        NaN    NaN       NaN   \n",
            "Iceland                        NaN    NaN     NaN        NaN    NaN       NaN   \n",
            "Israel                         NaN    NaN     NaN        NaN    NaN       NaN   \n",
            "Italy                          NaN    NaN     NaN     $-1.00    NaN    $-1.00   \n",
            "Japan                          NaN    NaN     NaN        NaN    NaN    $-3.00   \n",
            "Lebanon                        NaN    NaN     NaN        NaN    NaN       NaN   \n",
            "Lithuania                      NaN    NaN     NaN        NaN    NaN       NaN   \n",
            "Malta                          NaN    NaN     NaN        NaN    NaN       NaN   \n",
            "Netherlands                    NaN    NaN     NaN     $-1.00    NaN  $-480.00   \n",
            "Norway                         NaN    NaN     NaN        NaN    NaN     $0.00   \n",
            "Poland                         NaN    NaN     NaN        NaN    NaN       NaN   \n",
            "Portugal                       NaN    NaN     NaN        NaN    NaN     $1.00   \n",
            "RSA                            NaN    NaN     NaN        NaN    NaN     $1.00   \n",
            "Saudi Arabia                   NaN    NaN     NaN        NaN    NaN       NaN   \n",
            "Singapore                      NaN    NaN     NaN        NaN    NaN     $0.00   \n",
            "Spain                          NaN    NaN     NaN        NaN    NaN    $-3.00   \n",
            "Sweden                         NaN    NaN     NaN        NaN    NaN     $1.00   \n",
            "Switzerland                    NaN    NaN     NaN        NaN    NaN       NaN   \n",
            "USA                            NaN    NaN     NaN        NaN    NaN       NaN   \n",
            "United Arab Emirates           NaN    NaN     NaN        NaN    NaN       NaN   \n",
            "United Kingdom              $12.00 $30.00 $-16.00 $-1,191.00 $16.00 $3,681.00   \n",
            "Unspecified                    NaN    NaN     NaN        NaN    NaN       NaN   \n",
            "\n",
            "StockCode             PADS      POST  \n",
            "Country                               \n",
            "Australia              NaN     $0.00  \n",
            "Austria                NaN    $37.00  \n",
            "Bahrain                NaN       NaN  \n",
            "Belgium                NaN   $272.00  \n",
            "Brazil                 NaN       NaN  \n",
            "Canada                 NaN     $1.00  \n",
            "Channel Islands        NaN       NaN  \n",
            "Cyprus                 NaN     $1.00  \n",
            "Czech Republic         NaN     $0.00  \n",
            "Denmark                NaN    $41.00  \n",
            "EIRE                   NaN       NaN  \n",
            "European Community     NaN     $9.00  \n",
            "Finland                NaN    $89.00  \n",
            "France                 NaN   $803.00  \n",
            "Germany                NaN $1,104.00  \n",
            "Greece                 NaN     $6.00  \n",
            "Iceland                NaN       NaN  \n",
            "Israel                 NaN       NaN  \n",
            "Italy                  NaN    $44.00  \n",
            "Japan                  NaN       NaN  \n",
            "Lebanon                NaN       NaN  \n",
            "Lithuania              NaN       NaN  \n",
            "Malta                  NaN    $10.00  \n",
            "Netherlands            NaN    $99.00  \n",
            "Norway                 NaN    $57.00  \n",
            "Poland                 NaN     $9.00  \n",
            "Portugal               NaN    $97.00  \n",
            "RSA                    NaN       NaN  \n",
            "Saudi Arabia           NaN       NaN  \n",
            "Singapore              NaN       NaN  \n",
            "Spain                  NaN   $209.00  \n",
            "Sweden                 NaN    $37.00  \n",
            "Switzerland            NaN    $97.00  \n",
            "USA                    NaN       NaN  \n",
            "United Arab Emirates   NaN     $1.00  \n",
            "United Kingdom       $4.00   $-21.00  \n",
            "Unspecified            NaN       NaN  \n",
            "\n",
            "[37 rows x 3684 columns]\n"
          ]
        }
      ],
      "source": [
        "pivot_table = pd.pivot_table(sales_data, values = 'Quantity', index = 'Country',\n",
        "                             columns='StockCode', aggfunc='sum')\n",
        "print(pivot_table)"
      ]
    },
    {
      "cell_type": "code",
      "execution_count": null,
      "metadata": {
        "colab": {
          "base_uri": "https://localhost:8080/"
        },
        "id": "qzebm6u-cKyQ",
        "outputId": "bcf5672b-1845-4691-c4e8-aff82707a73c"
      },
      "outputs": [
        {
          "name": "stdout",
          "output_type": "stream",
          "text": [
            "     A  B  C\n",
            "0  foo  1  4\n",
            "1  bar  2  5\n",
            "2  baz  3  6\n"
          ]
        }
      ],
      "source": [
        "df = pd.DataFrame({\n",
        "    'A': ['foo', 'bar', 'baz'],\n",
        "    'B': [1, 2, 3],\n",
        "    'C': [4, 5, 6]\n",
        "})\n",
        "print(df)"
      ]
    },
    {
      "cell_type": "code",
      "execution_count": null,
      "metadata": {
        "colab": {
          "base_uri": "https://localhost:8080/"
        },
        "id": "Xu8HOVhDcnoB",
        "outputId": "f2d8204d-feda-4faf-f832-3ed4043b86a2"
      },
      "outputs": [
        {
          "name": "stdout",
          "output_type": "stream",
          "text": [
            "0  A    foo\n",
            "   B      1\n",
            "   C      4\n",
            "1  A    bar\n",
            "   B      2\n",
            "   C      5\n",
            "2  A    baz\n",
            "   B      3\n",
            "   C      6\n",
            "dtype: object\n"
          ]
        }
      ],
      "source": [
        "df_stacked = df.stack()\n",
        "print(df_stacked)"
      ]
    },
    {
      "cell_type": "code",
      "execution_count": null,
      "metadata": {
        "colab": {
          "base_uri": "https://localhost:8080/"
        },
        "id": "cGmQa8Nhc3y9",
        "outputId": "f7e6f56f-7868-4bc5-a01e-d61669165f0e"
      },
      "outputs": [
        {
          "name": "stdout",
          "output_type": "stream",
          "text": [
            "     A  B  C\n",
            "0  foo  1  4\n",
            "1  bar  2  5\n",
            "2  baz  3  6\n"
          ]
        }
      ],
      "source": [
        "df_unstacked = df_stacked.unstack()\n",
        "print(df_unstacked)"
      ]
    },
    {
      "cell_type": "markdown",
      "metadata": {
        "id": "XeK48SxxUuHr"
      },
      "source": [
        "# Uniones"
      ]
    },
    {
      "cell_type": "code",
      "execution_count": null,
      "metadata": {
        "colab": {
          "base_uri": "https://localhost:8080/"
        },
        "id": "f5myeQS4Uw3j",
        "outputId": "3d1d523d-cb83-4411-f5b4-368b69146516"
      },
      "outputs": [
        {
          "name": "stdout",
          "output_type": "stream",
          "text": [
            "  key  value1\n",
            "0   A       1\n",
            "1   B       2\n",
            "2   C       3\n",
            "  key  value2\n",
            "0   B       4\n",
            "1   C       5\n",
            "2   D       6\n"
          ]
        }
      ],
      "source": [
        "import pandas as pd\n",
        "\n",
        "# Crear DataFrames de ejemplo\n",
        "df1 = pd.DataFrame({\n",
        "    'key': ['A', 'B', 'C'],\n",
        "    'value1': [1, 2, 3]\n",
        "})\n",
        "\n",
        "df2 = pd.DataFrame({\n",
        "    'key': ['B', 'C', 'D'],\n",
        "    'value2': [4, 5, 6]\n",
        "})\n",
        "print(df1)\n",
        "print(df2)"
      ]
    },
    {
      "cell_type": "code",
      "execution_count": null,
      "metadata": {
        "colab": {
          "base_uri": "https://localhost:8080/"
        },
        "id": "N9mfk3TuUz4j",
        "outputId": "9c1ab028-452f-4a5b-9f18-117abe205607"
      },
      "outputs": [
        {
          "name": "stdout",
          "output_type": "stream",
          "text": [
            "  key  value1  value2\n",
            "0   B       2       4\n",
            "1   C       3       5\n"
          ]
        }
      ],
      "source": [
        "inner_merged = pd.merge(df1, df2, on='key', how='inner')\n",
        "print(inner_merged)"
      ]
    },
    {
      "cell_type": "code",
      "execution_count": null,
      "metadata": {
        "colab": {
          "base_uri": "https://localhost:8080/"
        },
        "id": "3UqbTjZzU1ax",
        "outputId": "211f1523-e140-40e8-d502-26f32ea9e99f"
      },
      "outputs": [
        {
          "name": "stdout",
          "output_type": "stream",
          "text": [
            "  key  value1  value2\n",
            "0   A     1.0     NaN\n",
            "1   B     2.0     4.0\n",
            "2   C     3.0     5.0\n",
            "3   D     NaN     6.0\n"
          ]
        }
      ],
      "source": [
        "outer_merged = pd.merge(df1, df2, on='key', how= 'outer')\n",
        "print(outer_merged)"
      ]
    },
    {
      "cell_type": "code",
      "execution_count": null,
      "metadata": {
        "colab": {
          "base_uri": "https://localhost:8080/"
        },
        "id": "zV9e_FCjU3X5",
        "outputId": "ef9688ed-b65e-45f6-f82c-8154d52dfc8e"
      },
      "outputs": [
        {
          "name": "stdout",
          "output_type": "stream",
          "text": [
            "  key  value1  value2\n",
            "0   A       1     NaN\n",
            "1   B       2     4.0\n",
            "2   C       3     5.0\n"
          ]
        }
      ],
      "source": [
        "left_merged = pd.merge(df1,df2, on='key', how = 'left')\n",
        "print(left_merged)"
      ]
    },
    {
      "cell_type": "code",
      "execution_count": null,
      "metadata": {
        "colab": {
          "base_uri": "https://localhost:8080/"
        },
        "id": "0U0NHy4DU719",
        "outputId": "8dc720ff-aeba-4f7d-e8f6-1fae2330939e"
      },
      "outputs": [
        {
          "name": "stdout",
          "output_type": "stream",
          "text": [
            "  key  value1  value2\n",
            "0   B     2.0       4\n",
            "1   C     3.0       5\n",
            "2   D     NaN       6\n"
          ]
        }
      ],
      "source": [
        "right_merged = pd.merge(df1,df2, on='key', how = 'right')\n",
        "print(right_merged)"
      ]
    },
    {
      "cell_type": "markdown",
      "metadata": {
        "id": "l4ZcuxZQmNPY"
      },
      "source": [
        "# Series de Tiempo"
      ]
    },
    {
      "cell_type": "code",
      "execution_count": 1,
      "metadata": {
        "colab": {
          "base_uri": "https://localhost:8080/",
          "height": 224
        },
        "id": "Ggd0mM7LmPrB",
        "outputId": "053cff91-0bdf-442f-b68b-84fc3f6a69c1"
      },
      "outputs": [
        {
          "name": "stdout",
          "output_type": "stream",
          "text": [
            "Primeras filas del dataset original:\n"
          ]
        },
        {
          "data": {
            "application/vnd.google.colaboratory.intrinsic+json": {
              "type": "dataframe",
              "variable_name": "df"
            },
            "text/html": [
              "\n",
              "  <div id=\"df-7613a2d3-a836-45a3-9408-b16f76c21ec9\" class=\"colab-df-container\">\n",
              "    <div>\n",
              "<style scoped>\n",
              "    .dataframe tbody tr th:only-of-type {\n",
              "        vertical-align: middle;\n",
              "    }\n",
              "\n",
              "    .dataframe tbody tr th {\n",
              "        vertical-align: top;\n",
              "    }\n",
              "\n",
              "    .dataframe thead th {\n",
              "        text-align: right;\n",
              "    }\n",
              "</style>\n",
              "<table border=\"1\" class=\"dataframe\">\n",
              "  <thead>\n",
              "    <tr style=\"text-align: right;\">\n",
              "      <th></th>\n",
              "      <th>InvoiceNo</th>\n",
              "      <th>StockCode</th>\n",
              "      <th>Description</th>\n",
              "      <th>Quantity</th>\n",
              "      <th>InvoiceDate</th>\n",
              "      <th>UnitPrice</th>\n",
              "      <th>CustomerID</th>\n",
              "      <th>Country</th>\n",
              "    </tr>\n",
              "  </thead>\n",
              "  <tbody>\n",
              "    <tr>\n",
              "      <th>0</th>\n",
              "      <td>536365</td>\n",
              "      <td>85123A</td>\n",
              "      <td>WHITE HANGING HEART T-LIGHT HOLDER</td>\n",
              "      <td>6</td>\n",
              "      <td>2010-12-01 08:26:00</td>\n",
              "      <td>2.55</td>\n",
              "      <td>17850.0</td>\n",
              "      <td>United Kingdom</td>\n",
              "    </tr>\n",
              "    <tr>\n",
              "      <th>1</th>\n",
              "      <td>536365</td>\n",
              "      <td>71053</td>\n",
              "      <td>WHITE METAL LANTERN</td>\n",
              "      <td>6</td>\n",
              "      <td>2010-12-01 08:26:00</td>\n",
              "      <td>3.39</td>\n",
              "      <td>17850.0</td>\n",
              "      <td>United Kingdom</td>\n",
              "    </tr>\n",
              "    <tr>\n",
              "      <th>2</th>\n",
              "      <td>536365</td>\n",
              "      <td>84406B</td>\n",
              "      <td>CREAM CUPID HEARTS COAT HANGER</td>\n",
              "      <td>8</td>\n",
              "      <td>2010-12-01 08:26:00</td>\n",
              "      <td>2.75</td>\n",
              "      <td>17850.0</td>\n",
              "      <td>United Kingdom</td>\n",
              "    </tr>\n",
              "    <tr>\n",
              "      <th>3</th>\n",
              "      <td>536365</td>\n",
              "      <td>84029G</td>\n",
              "      <td>KNITTED UNION FLAG HOT WATER BOTTLE</td>\n",
              "      <td>6</td>\n",
              "      <td>2010-12-01 08:26:00</td>\n",
              "      <td>3.39</td>\n",
              "      <td>17850.0</td>\n",
              "      <td>United Kingdom</td>\n",
              "    </tr>\n",
              "    <tr>\n",
              "      <th>4</th>\n",
              "      <td>536365</td>\n",
              "      <td>84029E</td>\n",
              "      <td>RED WOOLLY HOTTIE WHITE HEART.</td>\n",
              "      <td>6</td>\n",
              "      <td>2010-12-01 08:26:00</td>\n",
              "      <td>3.39</td>\n",
              "      <td>17850.0</td>\n",
              "      <td>United Kingdom</td>\n",
              "    </tr>\n",
              "  </tbody>\n",
              "</table>\n",
              "</div>\n",
              "    <div class=\"colab-df-buttons\">\n",
              "\n",
              "  <div class=\"colab-df-container\">\n",
              "    <button class=\"colab-df-convert\" onclick=\"convertToInteractive('df-7613a2d3-a836-45a3-9408-b16f76c21ec9')\"\n",
              "            title=\"Convert this dataframe to an interactive table.\"\n",
              "            style=\"display:none;\">\n",
              "\n",
              "  <svg xmlns=\"http://www.w3.org/2000/svg\" height=\"24px\" viewBox=\"0 -960 960 960\">\n",
              "    <path d=\"M120-120v-720h720v720H120Zm60-500h600v-160H180v160Zm220 220h160v-160H400v160Zm0 220h160v-160H400v160ZM180-400h160v-160H180v160Zm440 0h160v-160H620v160ZM180-180h160v-160H180v160Zm440 0h160v-160H620v160Z\"/>\n",
              "  </svg>\n",
              "    </button>\n",
              "\n",
              "  <style>\n",
              "    .colab-df-container {\n",
              "      display:flex;\n",
              "      gap: 12px;\n",
              "    }\n",
              "\n",
              "    .colab-df-convert {\n",
              "      background-color: #E8F0FE;\n",
              "      border: none;\n",
              "      border-radius: 50%;\n",
              "      cursor: pointer;\n",
              "      display: none;\n",
              "      fill: #1967D2;\n",
              "      height: 32px;\n",
              "      padding: 0 0 0 0;\n",
              "      width: 32px;\n",
              "    }\n",
              "\n",
              "    .colab-df-convert:hover {\n",
              "      background-color: #E2EBFA;\n",
              "      box-shadow: 0px 1px 2px rgba(60, 64, 67, 0.3), 0px 1px 3px 1px rgba(60, 64, 67, 0.15);\n",
              "      fill: #174EA6;\n",
              "    }\n",
              "\n",
              "    .colab-df-buttons div {\n",
              "      margin-bottom: 4px;\n",
              "    }\n",
              "\n",
              "    [theme=dark] .colab-df-convert {\n",
              "      background-color: #3B4455;\n",
              "      fill: #D2E3FC;\n",
              "    }\n",
              "\n",
              "    [theme=dark] .colab-df-convert:hover {\n",
              "      background-color: #434B5C;\n",
              "      box-shadow: 0px 1px 3px 1px rgba(0, 0, 0, 0.15);\n",
              "      filter: drop-shadow(0px 1px 2px rgba(0, 0, 0, 0.3));\n",
              "      fill: #FFFFFF;\n",
              "    }\n",
              "  </style>\n",
              "\n",
              "    <script>\n",
              "      const buttonEl =\n",
              "        document.querySelector('#df-7613a2d3-a836-45a3-9408-b16f76c21ec9 button.colab-df-convert');\n",
              "      buttonEl.style.display =\n",
              "        google.colab.kernel.accessAllowed ? 'block' : 'none';\n",
              "\n",
              "      async function convertToInteractive(key) {\n",
              "        const element = document.querySelector('#df-7613a2d3-a836-45a3-9408-b16f76c21ec9');\n",
              "        const dataTable =\n",
              "          await google.colab.kernel.invokeFunction('convertToInteractive',\n",
              "                                                    [key], {});\n",
              "        if (!dataTable) return;\n",
              "\n",
              "        const docLinkHtml = 'Like what you see? Visit the ' +\n",
              "          '<a target=\"_blank\" href=https://colab.research.google.com/notebooks/data_table.ipynb>data table notebook</a>'\n",
              "          + ' to learn more about interactive tables.';\n",
              "        element.innerHTML = '';\n",
              "        dataTable['output_type'] = 'display_data';\n",
              "        await google.colab.output.renderOutput(dataTable, element);\n",
              "        const docLink = document.createElement('div');\n",
              "        docLink.innerHTML = docLinkHtml;\n",
              "        element.appendChild(docLink);\n",
              "      }\n",
              "    </script>\n",
              "  </div>\n",
              "\n",
              "\n",
              "<div id=\"df-0a9eb635-36cc-4fd2-ad59-bab4ee3fca8e\">\n",
              "  <button class=\"colab-df-quickchart\" onclick=\"quickchart('df-0a9eb635-36cc-4fd2-ad59-bab4ee3fca8e')\"\n",
              "            title=\"Suggest charts\"\n",
              "            style=\"display:none;\">\n",
              "\n",
              "<svg xmlns=\"http://www.w3.org/2000/svg\" height=\"24px\"viewBox=\"0 0 24 24\"\n",
              "     width=\"24px\">\n",
              "    <g>\n",
              "        <path d=\"M19 3H5c-1.1 0-2 .9-2 2v14c0 1.1.9 2 2 2h14c1.1 0 2-.9 2-2V5c0-1.1-.9-2-2-2zM9 17H7v-7h2v7zm4 0h-2V7h2v10zm4 0h-2v-4h2v4z\"/>\n",
              "    </g>\n",
              "</svg>\n",
              "  </button>\n",
              "\n",
              "<style>\n",
              "  .colab-df-quickchart {\n",
              "      --bg-color: #E8F0FE;\n",
              "      --fill-color: #1967D2;\n",
              "      --hover-bg-color: #E2EBFA;\n",
              "      --hover-fill-color: #174EA6;\n",
              "      --disabled-fill-color: #AAA;\n",
              "      --disabled-bg-color: #DDD;\n",
              "  }\n",
              "\n",
              "  [theme=dark] .colab-df-quickchart {\n",
              "      --bg-color: #3B4455;\n",
              "      --fill-color: #D2E3FC;\n",
              "      --hover-bg-color: #434B5C;\n",
              "      --hover-fill-color: #FFFFFF;\n",
              "      --disabled-bg-color: #3B4455;\n",
              "      --disabled-fill-color: #666;\n",
              "  }\n",
              "\n",
              "  .colab-df-quickchart {\n",
              "    background-color: var(--bg-color);\n",
              "    border: none;\n",
              "    border-radius: 50%;\n",
              "    cursor: pointer;\n",
              "    display: none;\n",
              "    fill: var(--fill-color);\n",
              "    height: 32px;\n",
              "    padding: 0;\n",
              "    width: 32px;\n",
              "  }\n",
              "\n",
              "  .colab-df-quickchart:hover {\n",
              "    background-color: var(--hover-bg-color);\n",
              "    box-shadow: 0 1px 2px rgba(60, 64, 67, 0.3), 0 1px 3px 1px rgba(60, 64, 67, 0.15);\n",
              "    fill: var(--button-hover-fill-color);\n",
              "  }\n",
              "\n",
              "  .colab-df-quickchart-complete:disabled,\n",
              "  .colab-df-quickchart-complete:disabled:hover {\n",
              "    background-color: var(--disabled-bg-color);\n",
              "    fill: var(--disabled-fill-color);\n",
              "    box-shadow: none;\n",
              "  }\n",
              "\n",
              "  .colab-df-spinner {\n",
              "    border: 2px solid var(--fill-color);\n",
              "    border-color: transparent;\n",
              "    border-bottom-color: var(--fill-color);\n",
              "    animation:\n",
              "      spin 1s steps(1) infinite;\n",
              "  }\n",
              "\n",
              "  @keyframes spin {\n",
              "    0% {\n",
              "      border-color: transparent;\n",
              "      border-bottom-color: var(--fill-color);\n",
              "      border-left-color: var(--fill-color);\n",
              "    }\n",
              "    20% {\n",
              "      border-color: transparent;\n",
              "      border-left-color: var(--fill-color);\n",
              "      border-top-color: var(--fill-color);\n",
              "    }\n",
              "    30% {\n",
              "      border-color: transparent;\n",
              "      border-left-color: var(--fill-color);\n",
              "      border-top-color: var(--fill-color);\n",
              "      border-right-color: var(--fill-color);\n",
              "    }\n",
              "    40% {\n",
              "      border-color: transparent;\n",
              "      border-right-color: var(--fill-color);\n",
              "      border-top-color: var(--fill-color);\n",
              "    }\n",
              "    60% {\n",
              "      border-color: transparent;\n",
              "      border-right-color: var(--fill-color);\n",
              "    }\n",
              "    80% {\n",
              "      border-color: transparent;\n",
              "      border-right-color: var(--fill-color);\n",
              "      border-bottom-color: var(--fill-color);\n",
              "    }\n",
              "    90% {\n",
              "      border-color: transparent;\n",
              "      border-bottom-color: var(--fill-color);\n",
              "    }\n",
              "  }\n",
              "</style>\n",
              "\n",
              "  <script>\n",
              "    async function quickchart(key) {\n",
              "      const quickchartButtonEl =\n",
              "        document.querySelector('#' + key + ' button');\n",
              "      quickchartButtonEl.disabled = true;  // To prevent multiple clicks.\n",
              "      quickchartButtonEl.classList.add('colab-df-spinner');\n",
              "      try {\n",
              "        const charts = await google.colab.kernel.invokeFunction(\n",
              "            'suggestCharts', [key], {});\n",
              "      } catch (error) {\n",
              "        console.error('Error during call to suggestCharts:', error);\n",
              "      }\n",
              "      quickchartButtonEl.classList.remove('colab-df-spinner');\n",
              "      quickchartButtonEl.classList.add('colab-df-quickchart-complete');\n",
              "    }\n",
              "    (() => {\n",
              "      let quickchartButtonEl =\n",
              "        document.querySelector('#df-0a9eb635-36cc-4fd2-ad59-bab4ee3fca8e button');\n",
              "      quickchartButtonEl.style.display =\n",
              "        google.colab.kernel.accessAllowed ? 'block' : 'none';\n",
              "    })();\n",
              "  </script>\n",
              "</div>\n",
              "\n",
              "    </div>\n",
              "  </div>\n"
            ],
            "text/plain": [
              "  InvoiceNo StockCode                          Description  Quantity  \\\n",
              "0    536365    85123A   WHITE HANGING HEART T-LIGHT HOLDER         6   \n",
              "1    536365     71053                  WHITE METAL LANTERN         6   \n",
              "2    536365    84406B       CREAM CUPID HEARTS COAT HANGER         8   \n",
              "3    536365    84029G  KNITTED UNION FLAG HOT WATER BOTTLE         6   \n",
              "4    536365    84029E       RED WOOLLY HOTTIE WHITE HEART.         6   \n",
              "\n",
              "           InvoiceDate  UnitPrice  CustomerID         Country  \n",
              "0  2010-12-01 08:26:00       2.55     17850.0  United Kingdom  \n",
              "1  2010-12-01 08:26:00       3.39     17850.0  United Kingdom  \n",
              "2  2010-12-01 08:26:00       2.75     17850.0  United Kingdom  \n",
              "3  2010-12-01 08:26:00       3.39     17850.0  United Kingdom  \n",
              "4  2010-12-01 08:26:00       3.39     17850.0  United Kingdom  "
            ]
          },
          "execution_count": 1,
          "metadata": {},
          "output_type": "execute_result"
        }
      ],
      "source": [
        "import pandas as pd\n",
        "\n",
        "# Cargar el dataset desde el archivo CSV\n",
        "file_path = 'online_retail.csv'\n",
        "df = pd.read_csv(file_path)\n",
        "\n",
        "# Mostrar las primeras filas para entender la estructura del dataset\n",
        "print(\"Primeras filas del dataset original:\")\n",
        "df.head()"
      ]
    },
    {
      "cell_type": "code",
      "execution_count": 2,
      "metadata": {
        "colab": {
          "base_uri": "https://localhost:8080/"
        },
        "id": "EBp0xWalpaUq",
        "outputId": "53794566-b5a3-4428-afe7-700c6b9c243e"
      },
      "outputs": [
        {
          "name": "stdout",
          "output_type": "stream",
          "text": [
            "<class 'pandas.core.frame.DataFrame'>\n",
            "RangeIndex: 541909 entries, 0 to 541908\n",
            "Data columns (total 8 columns):\n",
            " #   Column       Non-Null Count   Dtype  \n",
            "---  ------       --------------   -----  \n",
            " 0   InvoiceNo    541909 non-null  object \n",
            " 1   StockCode    541909 non-null  object \n",
            " 2   Description  540455 non-null  object \n",
            " 3   Quantity     541909 non-null  int64  \n",
            " 4   InvoiceDate  541909 non-null  object \n",
            " 5   UnitPrice    541909 non-null  float64\n",
            " 6   CustomerID   406829 non-null  float64\n",
            " 7   Country      541909 non-null  object \n",
            "dtypes: float64(2), int64(1), object(5)\n",
            "memory usage: 33.1+ MB\n"
          ]
        }
      ],
      "source": [
        "df.info()"
      ]
    },
    {
      "cell_type": "code",
      "execution_count": 3,
      "metadata": {
        "id": "NFETmNh_pbo6"
      },
      "outputs": [],
      "source": [
        "df['InvoiceDate'] = pd.to_datetime(df['InvoiceDate'])"
      ]
    },
    {
      "cell_type": "code",
      "execution_count": 4,
      "metadata": {
        "colab": {
          "base_uri": "https://localhost:8080/"
        },
        "id": "MnsZJ6o0pc2F",
        "outputId": "b0582a6a-4909-49d1-b0bb-af406f905c15"
      },
      "outputs": [
        {
          "name": "stdout",
          "output_type": "stream",
          "text": [
            "<class 'pandas.core.frame.DataFrame'>\n",
            "RangeIndex: 541909 entries, 0 to 541908\n",
            "Data columns (total 8 columns):\n",
            " #   Column       Non-Null Count   Dtype         \n",
            "---  ------       --------------   -----         \n",
            " 0   InvoiceNo    541909 non-null  object        \n",
            " 1   StockCode    541909 non-null  object        \n",
            " 2   Description  540455 non-null  object        \n",
            " 3   Quantity     541909 non-null  int64         \n",
            " 4   InvoiceDate  541909 non-null  datetime64[ns]\n",
            " 5   UnitPrice    541909 non-null  float64       \n",
            " 6   CustomerID   406829 non-null  float64       \n",
            " 7   Country      541909 non-null  object        \n",
            "dtypes: datetime64[ns](1), float64(2), int64(1), object(4)\n",
            "memory usage: 33.1+ MB\n"
          ]
        }
      ],
      "source": [
        "df.info()"
      ]
    },
    {
      "cell_type": "code",
      "execution_count": 5,
      "metadata": {
        "id": "0zmeWAbYpeHg"
      },
      "outputs": [],
      "source": [
        "df.dropna(subset=['InvoiceDate'], inplace=True)"
      ]
    },
    {
      "cell_type": "code",
      "execution_count": 6,
      "metadata": {
        "id": "OAr_e1cbpffG"
      },
      "outputs": [],
      "source": [
        "df.set_index('InvoiceDate', inplace=True)"
      ]
    },
    {
      "cell_type": "code",
      "execution_count": 7,
      "metadata": {
        "colab": {
          "base_uri": "https://localhost:8080/"
        },
        "id": "QPmS5aVIpiEv",
        "outputId": "fa9592af-10a1-47b6-c862-86e2411a5592"
      },
      "outputs": [
        {
          "name": "stdout",
          "output_type": "stream",
          "text": [
            "InvoiceDate\n",
            "2010-12-01 08:26:00    2010\n",
            "2010-12-01 08:26:00    2010\n",
            "2010-12-01 08:26:00    2010\n",
            "2010-12-01 08:26:00    2010\n",
            "2010-12-01 08:26:00    2010\n",
            "                       ... \n",
            "2011-12-09 12:50:00    2011\n",
            "2011-12-09 12:50:00    2011\n",
            "2011-12-09 12:50:00    2011\n",
            "2011-12-09 12:50:00    2011\n",
            "2011-12-09 12:50:00    2011\n",
            "Name: Year, Length: 541909, dtype: int32\n",
            "InvoiceDate\n",
            "2010-12-01 08:26:00     8\n",
            "2010-12-01 08:26:00     8\n",
            "2010-12-01 08:26:00     8\n",
            "2010-12-01 08:26:00     8\n",
            "2010-12-01 08:26:00     8\n",
            "                       ..\n",
            "2011-12-09 12:50:00    12\n",
            "2011-12-09 12:50:00    12\n",
            "2011-12-09 12:50:00    12\n",
            "2011-12-09 12:50:00    12\n",
            "2011-12-09 12:50:00    12\n",
            "Name: Hour, Length: 541909, dtype: int32\n"
          ]
        }
      ],
      "source": [
        "df['Year'] = df.index.year\n",
        "df['Month'] = df.index.month\n",
        "df['Day'] = df.index.day\n",
        "df['Weekdy'] = df.index.weekday #Error\n",
        "df['Hour'] = df.index.hour\n",
        "\n",
        "\n",
        "print(df['Year'])\n",
        "print(df['Hour'])"
      ]
    },
    {
      "cell_type": "code",
      "execution_count": 8,
      "metadata": {
        "colab": {
          "base_uri": "https://localhost:8080/",
          "height": 785
        },
        "id": "EAaG-q5gplN-",
        "outputId": "26dfdada-61a2-4e53-c24d-9126702a5cb8"
      },
      "outputs": [
        {
          "data": {
            "application/vnd.google.colaboratory.intrinsic+json": {
              "type": "dataframe",
              "variable_name": "df"
            },
            "text/html": [
              "\n",
              "  <div id=\"df-305e217d-7109-4835-b7ed-fa59cffe5489\" class=\"colab-df-container\">\n",
              "    <div>\n",
              "<style scoped>\n",
              "    .dataframe tbody tr th:only-of-type {\n",
              "        vertical-align: middle;\n",
              "    }\n",
              "\n",
              "    .dataframe tbody tr th {\n",
              "        vertical-align: top;\n",
              "    }\n",
              "\n",
              "    .dataframe thead th {\n",
              "        text-align: right;\n",
              "    }\n",
              "</style>\n",
              "<table border=\"1\" class=\"dataframe\">\n",
              "  <thead>\n",
              "    <tr style=\"text-align: right;\">\n",
              "      <th></th>\n",
              "      <th>InvoiceNo</th>\n",
              "      <th>StockCode</th>\n",
              "      <th>Description</th>\n",
              "      <th>Quantity</th>\n",
              "      <th>UnitPrice</th>\n",
              "      <th>CustomerID</th>\n",
              "      <th>Country</th>\n",
              "      <th>Year</th>\n",
              "      <th>Month</th>\n",
              "      <th>Day</th>\n",
              "      <th>Weekdy</th>\n",
              "      <th>Hour</th>\n",
              "    </tr>\n",
              "    <tr>\n",
              "      <th>InvoiceDate</th>\n",
              "      <th></th>\n",
              "      <th></th>\n",
              "      <th></th>\n",
              "      <th></th>\n",
              "      <th></th>\n",
              "      <th></th>\n",
              "      <th></th>\n",
              "      <th></th>\n",
              "      <th></th>\n",
              "      <th></th>\n",
              "      <th></th>\n",
              "      <th></th>\n",
              "    </tr>\n",
              "  </thead>\n",
              "  <tbody>\n",
              "    <tr>\n",
              "      <th>2010-12-01 08:26:00</th>\n",
              "      <td>536365</td>\n",
              "      <td>85123A</td>\n",
              "      <td>WHITE HANGING HEART T-LIGHT HOLDER</td>\n",
              "      <td>6</td>\n",
              "      <td>2.55</td>\n",
              "      <td>17850.0</td>\n",
              "      <td>United Kingdom</td>\n",
              "      <td>2010</td>\n",
              "      <td>12</td>\n",
              "      <td>1</td>\n",
              "      <td>2</td>\n",
              "      <td>8</td>\n",
              "    </tr>\n",
              "    <tr>\n",
              "      <th>2010-12-01 08:26:00</th>\n",
              "      <td>536365</td>\n",
              "      <td>71053</td>\n",
              "      <td>WHITE METAL LANTERN</td>\n",
              "      <td>6</td>\n",
              "      <td>3.39</td>\n",
              "      <td>17850.0</td>\n",
              "      <td>United Kingdom</td>\n",
              "      <td>2010</td>\n",
              "      <td>12</td>\n",
              "      <td>1</td>\n",
              "      <td>2</td>\n",
              "      <td>8</td>\n",
              "    </tr>\n",
              "    <tr>\n",
              "      <th>2010-12-01 08:26:00</th>\n",
              "      <td>536365</td>\n",
              "      <td>84406B</td>\n",
              "      <td>CREAM CUPID HEARTS COAT HANGER</td>\n",
              "      <td>8</td>\n",
              "      <td>2.75</td>\n",
              "      <td>17850.0</td>\n",
              "      <td>United Kingdom</td>\n",
              "      <td>2010</td>\n",
              "      <td>12</td>\n",
              "      <td>1</td>\n",
              "      <td>2</td>\n",
              "      <td>8</td>\n",
              "    </tr>\n",
              "    <tr>\n",
              "      <th>2010-12-01 08:26:00</th>\n",
              "      <td>536365</td>\n",
              "      <td>84029G</td>\n",
              "      <td>KNITTED UNION FLAG HOT WATER BOTTLE</td>\n",
              "      <td>6</td>\n",
              "      <td>3.39</td>\n",
              "      <td>17850.0</td>\n",
              "      <td>United Kingdom</td>\n",
              "      <td>2010</td>\n",
              "      <td>12</td>\n",
              "      <td>1</td>\n",
              "      <td>2</td>\n",
              "      <td>8</td>\n",
              "    </tr>\n",
              "    <tr>\n",
              "      <th>2010-12-01 08:26:00</th>\n",
              "      <td>536365</td>\n",
              "      <td>84029E</td>\n",
              "      <td>RED WOOLLY HOTTIE WHITE HEART.</td>\n",
              "      <td>6</td>\n",
              "      <td>3.39</td>\n",
              "      <td>17850.0</td>\n",
              "      <td>United Kingdom</td>\n",
              "      <td>2010</td>\n",
              "      <td>12</td>\n",
              "      <td>1</td>\n",
              "      <td>2</td>\n",
              "      <td>8</td>\n",
              "    </tr>\n",
              "    <tr>\n",
              "      <th>...</th>\n",
              "      <td>...</td>\n",
              "      <td>...</td>\n",
              "      <td>...</td>\n",
              "      <td>...</td>\n",
              "      <td>...</td>\n",
              "      <td>...</td>\n",
              "      <td>...</td>\n",
              "      <td>...</td>\n",
              "      <td>...</td>\n",
              "      <td>...</td>\n",
              "      <td>...</td>\n",
              "      <td>...</td>\n",
              "    </tr>\n",
              "    <tr>\n",
              "      <th>2011-12-09 12:50:00</th>\n",
              "      <td>581587</td>\n",
              "      <td>22613</td>\n",
              "      <td>PACK OF 20 SPACEBOY NAPKINS</td>\n",
              "      <td>12</td>\n",
              "      <td>0.85</td>\n",
              "      <td>12680.0</td>\n",
              "      <td>France</td>\n",
              "      <td>2011</td>\n",
              "      <td>12</td>\n",
              "      <td>9</td>\n",
              "      <td>4</td>\n",
              "      <td>12</td>\n",
              "    </tr>\n",
              "    <tr>\n",
              "      <th>2011-12-09 12:50:00</th>\n",
              "      <td>581587</td>\n",
              "      <td>22899</td>\n",
              "      <td>CHILDREN'S APRON DOLLY GIRL</td>\n",
              "      <td>6</td>\n",
              "      <td>2.10</td>\n",
              "      <td>12680.0</td>\n",
              "      <td>France</td>\n",
              "      <td>2011</td>\n",
              "      <td>12</td>\n",
              "      <td>9</td>\n",
              "      <td>4</td>\n",
              "      <td>12</td>\n",
              "    </tr>\n",
              "    <tr>\n",
              "      <th>2011-12-09 12:50:00</th>\n",
              "      <td>581587</td>\n",
              "      <td>23254</td>\n",
              "      <td>CHILDRENS CUTLERY DOLLY GIRL</td>\n",
              "      <td>4</td>\n",
              "      <td>4.15</td>\n",
              "      <td>12680.0</td>\n",
              "      <td>France</td>\n",
              "      <td>2011</td>\n",
              "      <td>12</td>\n",
              "      <td>9</td>\n",
              "      <td>4</td>\n",
              "      <td>12</td>\n",
              "    </tr>\n",
              "    <tr>\n",
              "      <th>2011-12-09 12:50:00</th>\n",
              "      <td>581587</td>\n",
              "      <td>23255</td>\n",
              "      <td>CHILDRENS CUTLERY CIRCUS PARADE</td>\n",
              "      <td>4</td>\n",
              "      <td>4.15</td>\n",
              "      <td>12680.0</td>\n",
              "      <td>France</td>\n",
              "      <td>2011</td>\n",
              "      <td>12</td>\n",
              "      <td>9</td>\n",
              "      <td>4</td>\n",
              "      <td>12</td>\n",
              "    </tr>\n",
              "    <tr>\n",
              "      <th>2011-12-09 12:50:00</th>\n",
              "      <td>581587</td>\n",
              "      <td>22138</td>\n",
              "      <td>BAKING SET 9 PIECE RETROSPOT</td>\n",
              "      <td>3</td>\n",
              "      <td>4.95</td>\n",
              "      <td>12680.0</td>\n",
              "      <td>France</td>\n",
              "      <td>2011</td>\n",
              "      <td>12</td>\n",
              "      <td>9</td>\n",
              "      <td>4</td>\n",
              "      <td>12</td>\n",
              "    </tr>\n",
              "  </tbody>\n",
              "</table>\n",
              "<p>541909 rows × 12 columns</p>\n",
              "</div>\n",
              "    <div class=\"colab-df-buttons\">\n",
              "\n",
              "  <div class=\"colab-df-container\">\n",
              "    <button class=\"colab-df-convert\" onclick=\"convertToInteractive('df-305e217d-7109-4835-b7ed-fa59cffe5489')\"\n",
              "            title=\"Convert this dataframe to an interactive table.\"\n",
              "            style=\"display:none;\">\n",
              "\n",
              "  <svg xmlns=\"http://www.w3.org/2000/svg\" height=\"24px\" viewBox=\"0 -960 960 960\">\n",
              "    <path d=\"M120-120v-720h720v720H120Zm60-500h600v-160H180v160Zm220 220h160v-160H400v160Zm0 220h160v-160H400v160ZM180-400h160v-160H180v160Zm440 0h160v-160H620v160ZM180-180h160v-160H180v160Zm440 0h160v-160H620v160Z\"/>\n",
              "  </svg>\n",
              "    </button>\n",
              "\n",
              "  <style>\n",
              "    .colab-df-container {\n",
              "      display:flex;\n",
              "      gap: 12px;\n",
              "    }\n",
              "\n",
              "    .colab-df-convert {\n",
              "      background-color: #E8F0FE;\n",
              "      border: none;\n",
              "      border-radius: 50%;\n",
              "      cursor: pointer;\n",
              "      display: none;\n",
              "      fill: #1967D2;\n",
              "      height: 32px;\n",
              "      padding: 0 0 0 0;\n",
              "      width: 32px;\n",
              "    }\n",
              "\n",
              "    .colab-df-convert:hover {\n",
              "      background-color: #E2EBFA;\n",
              "      box-shadow: 0px 1px 2px rgba(60, 64, 67, 0.3), 0px 1px 3px 1px rgba(60, 64, 67, 0.15);\n",
              "      fill: #174EA6;\n",
              "    }\n",
              "\n",
              "    .colab-df-buttons div {\n",
              "      margin-bottom: 4px;\n",
              "    }\n",
              "\n",
              "    [theme=dark] .colab-df-convert {\n",
              "      background-color: #3B4455;\n",
              "      fill: #D2E3FC;\n",
              "    }\n",
              "\n",
              "    [theme=dark] .colab-df-convert:hover {\n",
              "      background-color: #434B5C;\n",
              "      box-shadow: 0px 1px 3px 1px rgba(0, 0, 0, 0.15);\n",
              "      filter: drop-shadow(0px 1px 2px rgba(0, 0, 0, 0.3));\n",
              "      fill: #FFFFFF;\n",
              "    }\n",
              "  </style>\n",
              "\n",
              "    <script>\n",
              "      const buttonEl =\n",
              "        document.querySelector('#df-305e217d-7109-4835-b7ed-fa59cffe5489 button.colab-df-convert');\n",
              "      buttonEl.style.display =\n",
              "        google.colab.kernel.accessAllowed ? 'block' : 'none';\n",
              "\n",
              "      async function convertToInteractive(key) {\n",
              "        const element = document.querySelector('#df-305e217d-7109-4835-b7ed-fa59cffe5489');\n",
              "        const dataTable =\n",
              "          await google.colab.kernel.invokeFunction('convertToInteractive',\n",
              "                                                    [key], {});\n",
              "        if (!dataTable) return;\n",
              "\n",
              "        const docLinkHtml = 'Like what you see? Visit the ' +\n",
              "          '<a target=\"_blank\" href=https://colab.research.google.com/notebooks/data_table.ipynb>data table notebook</a>'\n",
              "          + ' to learn more about interactive tables.';\n",
              "        element.innerHTML = '';\n",
              "        dataTable['output_type'] = 'display_data';\n",
              "        await google.colab.output.renderOutput(dataTable, element);\n",
              "        const docLink = document.createElement('div');\n",
              "        docLink.innerHTML = docLinkHtml;\n",
              "        element.appendChild(docLink);\n",
              "      }\n",
              "    </script>\n",
              "  </div>\n",
              "\n",
              "\n",
              "<div id=\"df-7686adae-cee5-41cf-80f0-f48fcc04a4da\">\n",
              "  <button class=\"colab-df-quickchart\" onclick=\"quickchart('df-7686adae-cee5-41cf-80f0-f48fcc04a4da')\"\n",
              "            title=\"Suggest charts\"\n",
              "            style=\"display:none;\">\n",
              "\n",
              "<svg xmlns=\"http://www.w3.org/2000/svg\" height=\"24px\"viewBox=\"0 0 24 24\"\n",
              "     width=\"24px\">\n",
              "    <g>\n",
              "        <path d=\"M19 3H5c-1.1 0-2 .9-2 2v14c0 1.1.9 2 2 2h14c1.1 0 2-.9 2-2V5c0-1.1-.9-2-2-2zM9 17H7v-7h2v7zm4 0h-2V7h2v10zm4 0h-2v-4h2v4z\"/>\n",
              "    </g>\n",
              "</svg>\n",
              "  </button>\n",
              "\n",
              "<style>\n",
              "  .colab-df-quickchart {\n",
              "      --bg-color: #E8F0FE;\n",
              "      --fill-color: #1967D2;\n",
              "      --hover-bg-color: #E2EBFA;\n",
              "      --hover-fill-color: #174EA6;\n",
              "      --disabled-fill-color: #AAA;\n",
              "      --disabled-bg-color: #DDD;\n",
              "  }\n",
              "\n",
              "  [theme=dark] .colab-df-quickchart {\n",
              "      --bg-color: #3B4455;\n",
              "      --fill-color: #D2E3FC;\n",
              "      --hover-bg-color: #434B5C;\n",
              "      --hover-fill-color: #FFFFFF;\n",
              "      --disabled-bg-color: #3B4455;\n",
              "      --disabled-fill-color: #666;\n",
              "  }\n",
              "\n",
              "  .colab-df-quickchart {\n",
              "    background-color: var(--bg-color);\n",
              "    border: none;\n",
              "    border-radius: 50%;\n",
              "    cursor: pointer;\n",
              "    display: none;\n",
              "    fill: var(--fill-color);\n",
              "    height: 32px;\n",
              "    padding: 0;\n",
              "    width: 32px;\n",
              "  }\n",
              "\n",
              "  .colab-df-quickchart:hover {\n",
              "    background-color: var(--hover-bg-color);\n",
              "    box-shadow: 0 1px 2px rgba(60, 64, 67, 0.3), 0 1px 3px 1px rgba(60, 64, 67, 0.15);\n",
              "    fill: var(--button-hover-fill-color);\n",
              "  }\n",
              "\n",
              "  .colab-df-quickchart-complete:disabled,\n",
              "  .colab-df-quickchart-complete:disabled:hover {\n",
              "    background-color: var(--disabled-bg-color);\n",
              "    fill: var(--disabled-fill-color);\n",
              "    box-shadow: none;\n",
              "  }\n",
              "\n",
              "  .colab-df-spinner {\n",
              "    border: 2px solid var(--fill-color);\n",
              "    border-color: transparent;\n",
              "    border-bottom-color: var(--fill-color);\n",
              "    animation:\n",
              "      spin 1s steps(1) infinite;\n",
              "  }\n",
              "\n",
              "  @keyframes spin {\n",
              "    0% {\n",
              "      border-color: transparent;\n",
              "      border-bottom-color: var(--fill-color);\n",
              "      border-left-color: var(--fill-color);\n",
              "    }\n",
              "    20% {\n",
              "      border-color: transparent;\n",
              "      border-left-color: var(--fill-color);\n",
              "      border-top-color: var(--fill-color);\n",
              "    }\n",
              "    30% {\n",
              "      border-color: transparent;\n",
              "      border-left-color: var(--fill-color);\n",
              "      border-top-color: var(--fill-color);\n",
              "      border-right-color: var(--fill-color);\n",
              "    }\n",
              "    40% {\n",
              "      border-color: transparent;\n",
              "      border-right-color: var(--fill-color);\n",
              "      border-top-color: var(--fill-color);\n",
              "    }\n",
              "    60% {\n",
              "      border-color: transparent;\n",
              "      border-right-color: var(--fill-color);\n",
              "    }\n",
              "    80% {\n",
              "      border-color: transparent;\n",
              "      border-right-color: var(--fill-color);\n",
              "      border-bottom-color: var(--fill-color);\n",
              "    }\n",
              "    90% {\n",
              "      border-color: transparent;\n",
              "      border-bottom-color: var(--fill-color);\n",
              "    }\n",
              "  }\n",
              "</style>\n",
              "\n",
              "  <script>\n",
              "    async function quickchart(key) {\n",
              "      const quickchartButtonEl =\n",
              "        document.querySelector('#' + key + ' button');\n",
              "      quickchartButtonEl.disabled = true;  // To prevent multiple clicks.\n",
              "      quickchartButtonEl.classList.add('colab-df-spinner');\n",
              "      try {\n",
              "        const charts = await google.colab.kernel.invokeFunction(\n",
              "            'suggestCharts', [key], {});\n",
              "      } catch (error) {\n",
              "        console.error('Error during call to suggestCharts:', error);\n",
              "      }\n",
              "      quickchartButtonEl.classList.remove('colab-df-spinner');\n",
              "      quickchartButtonEl.classList.add('colab-df-quickchart-complete');\n",
              "    }\n",
              "    (() => {\n",
              "      let quickchartButtonEl =\n",
              "        document.querySelector('#df-7686adae-cee5-41cf-80f0-f48fcc04a4da button');\n",
              "      quickchartButtonEl.style.display =\n",
              "        google.colab.kernel.accessAllowed ? 'block' : 'none';\n",
              "    })();\n",
              "  </script>\n",
              "</div>\n",
              "\n",
              "  <div id=\"id_dfeccf38-6ce8-4427-b6d1-c707dcdcfd2b\">\n",
              "    <style>\n",
              "      .colab-df-generate {\n",
              "        background-color: #E8F0FE;\n",
              "        border: none;\n",
              "        border-radius: 50%;\n",
              "        cursor: pointer;\n",
              "        display: none;\n",
              "        fill: #1967D2;\n",
              "        height: 32px;\n",
              "        padding: 0 0 0 0;\n",
              "        width: 32px;\n",
              "      }\n",
              "\n",
              "      .colab-df-generate:hover {\n",
              "        background-color: #E2EBFA;\n",
              "        box-shadow: 0px 1px 2px rgba(60, 64, 67, 0.3), 0px 1px 3px 1px rgba(60, 64, 67, 0.15);\n",
              "        fill: #174EA6;\n",
              "      }\n",
              "\n",
              "      [theme=dark] .colab-df-generate {\n",
              "        background-color: #3B4455;\n",
              "        fill: #D2E3FC;\n",
              "      }\n",
              "\n",
              "      [theme=dark] .colab-df-generate:hover {\n",
              "        background-color: #434B5C;\n",
              "        box-shadow: 0px 1px 3px 1px rgba(0, 0, 0, 0.15);\n",
              "        filter: drop-shadow(0px 1px 2px rgba(0, 0, 0, 0.3));\n",
              "        fill: #FFFFFF;\n",
              "      }\n",
              "    </style>\n",
              "    <button class=\"colab-df-generate\" onclick=\"generateWithVariable('df')\"\n",
              "            title=\"Generate code using this dataframe.\"\n",
              "            style=\"display:none;\">\n",
              "\n",
              "  <svg xmlns=\"http://www.w3.org/2000/svg\" height=\"24px\"viewBox=\"0 0 24 24\"\n",
              "       width=\"24px\">\n",
              "    <path d=\"M7,19H8.4L18.45,9,17,7.55,7,17.6ZM5,21V16.75L18.45,3.32a2,2,0,0,1,2.83,0l1.4,1.43a1.91,1.91,0,0,1,.58,1.4,1.91,1.91,0,0,1-.58,1.4L9.25,21ZM18.45,9,17,7.55Zm-12,3A5.31,5.31,0,0,0,4.9,8.1,5.31,5.31,0,0,0,1,6.5,5.31,5.31,0,0,0,4.9,4.9,5.31,5.31,0,0,0,6.5,1,5.31,5.31,0,0,0,8.1,4.9,5.31,5.31,0,0,0,12,6.5,5.46,5.46,0,0,0,6.5,12Z\"/>\n",
              "  </svg>\n",
              "    </button>\n",
              "    <script>\n",
              "      (() => {\n",
              "      const buttonEl =\n",
              "        document.querySelector('#id_dfeccf38-6ce8-4427-b6d1-c707dcdcfd2b button.colab-df-generate');\n",
              "      buttonEl.style.display =\n",
              "        google.colab.kernel.accessAllowed ? 'block' : 'none';\n",
              "\n",
              "      buttonEl.onclick = () => {\n",
              "        google.colab.notebook.generateWithVariable('df');\n",
              "      }\n",
              "      })();\n",
              "    </script>\n",
              "  </div>\n",
              "\n",
              "    </div>\n",
              "  </div>\n"
            ],
            "text/plain": [
              "                    InvoiceNo StockCode                          Description  \\\n",
              "InvoiceDate                                                                    \n",
              "2010-12-01 08:26:00    536365    85123A   WHITE HANGING HEART T-LIGHT HOLDER   \n",
              "2010-12-01 08:26:00    536365     71053                  WHITE METAL LANTERN   \n",
              "2010-12-01 08:26:00    536365    84406B       CREAM CUPID HEARTS COAT HANGER   \n",
              "2010-12-01 08:26:00    536365    84029G  KNITTED UNION FLAG HOT WATER BOTTLE   \n",
              "2010-12-01 08:26:00    536365    84029E       RED WOOLLY HOTTIE WHITE HEART.   \n",
              "...                       ...       ...                                  ...   \n",
              "2011-12-09 12:50:00    581587     22613          PACK OF 20 SPACEBOY NAPKINS   \n",
              "2011-12-09 12:50:00    581587     22899         CHILDREN'S APRON DOLLY GIRL    \n",
              "2011-12-09 12:50:00    581587     23254        CHILDRENS CUTLERY DOLLY GIRL    \n",
              "2011-12-09 12:50:00    581587     23255      CHILDRENS CUTLERY CIRCUS PARADE   \n",
              "2011-12-09 12:50:00    581587     22138        BAKING SET 9 PIECE RETROSPOT    \n",
              "\n",
              "                     Quantity  UnitPrice  CustomerID         Country  Year  \\\n",
              "InvoiceDate                                                                  \n",
              "2010-12-01 08:26:00         6       2.55     17850.0  United Kingdom  2010   \n",
              "2010-12-01 08:26:00         6       3.39     17850.0  United Kingdom  2010   \n",
              "2010-12-01 08:26:00         8       2.75     17850.0  United Kingdom  2010   \n",
              "2010-12-01 08:26:00         6       3.39     17850.0  United Kingdom  2010   \n",
              "2010-12-01 08:26:00         6       3.39     17850.0  United Kingdom  2010   \n",
              "...                       ...        ...         ...             ...   ...   \n",
              "2011-12-09 12:50:00        12       0.85     12680.0          France  2011   \n",
              "2011-12-09 12:50:00         6       2.10     12680.0          France  2011   \n",
              "2011-12-09 12:50:00         4       4.15     12680.0          France  2011   \n",
              "2011-12-09 12:50:00         4       4.15     12680.0          France  2011   \n",
              "2011-12-09 12:50:00         3       4.95     12680.0          France  2011   \n",
              "\n",
              "                     Month  Day  Weekdy  Hour  \n",
              "InvoiceDate                                    \n",
              "2010-12-01 08:26:00     12    1       2     8  \n",
              "2010-12-01 08:26:00     12    1       2     8  \n",
              "2010-12-01 08:26:00     12    1       2     8  \n",
              "2010-12-01 08:26:00     12    1       2     8  \n",
              "2010-12-01 08:26:00     12    1       2     8  \n",
              "...                    ...  ...     ...   ...  \n",
              "2011-12-09 12:50:00     12    9       4    12  \n",
              "2011-12-09 12:50:00     12    9       4    12  \n",
              "2011-12-09 12:50:00     12    9       4    12  \n",
              "2011-12-09 12:50:00     12    9       4    12  \n",
              "2011-12-09 12:50:00     12    9       4    12  \n",
              "\n",
              "[541909 rows x 12 columns]"
            ]
          },
          "execution_count": 8,
          "metadata": {},
          "output_type": "execute_result"
        }
      ],
      "source": [
        "df"
      ]
    },
    {
      "cell_type": "code",
      "execution_count": 9,
      "metadata": {
        "id": "XdxveiZupmor"
      },
      "outputs": [],
      "source": [
        "df = df.drop(columns=['Weekdy'])"
      ]
    },
    {
      "cell_type": "code",
      "execution_count": 10,
      "metadata": {
        "colab": {
          "base_uri": "https://localhost:8080/",
          "height": 629
        },
        "id": "LiMDtPuGpoYi",
        "outputId": "be2f4023-51c9-4a7d-f91b-ed06ada5593b"
      },
      "outputs": [
        {
          "data": {
            "application/vnd.google.colaboratory.intrinsic+json": {
              "type": "dataframe",
              "variable_name": "df"
            },
            "text/html": [
              "\n",
              "  <div id=\"df-503ec328-ce70-4b2c-8972-c34b7d11c4ee\" class=\"colab-df-container\">\n",
              "    <div>\n",
              "<style scoped>\n",
              "    .dataframe tbody tr th:only-of-type {\n",
              "        vertical-align: middle;\n",
              "    }\n",
              "\n",
              "    .dataframe tbody tr th {\n",
              "        vertical-align: top;\n",
              "    }\n",
              "\n",
              "    .dataframe thead th {\n",
              "        text-align: right;\n",
              "    }\n",
              "</style>\n",
              "<table border=\"1\" class=\"dataframe\">\n",
              "  <thead>\n",
              "    <tr style=\"text-align: right;\">\n",
              "      <th></th>\n",
              "      <th>InvoiceNo</th>\n",
              "      <th>StockCode</th>\n",
              "      <th>Description</th>\n",
              "      <th>Quantity</th>\n",
              "      <th>UnitPrice</th>\n",
              "      <th>CustomerID</th>\n",
              "      <th>Country</th>\n",
              "      <th>Year</th>\n",
              "      <th>Month</th>\n",
              "      <th>Day</th>\n",
              "      <th>Hour</th>\n",
              "    </tr>\n",
              "    <tr>\n",
              "      <th>InvoiceDate</th>\n",
              "      <th></th>\n",
              "      <th></th>\n",
              "      <th></th>\n",
              "      <th></th>\n",
              "      <th></th>\n",
              "      <th></th>\n",
              "      <th></th>\n",
              "      <th></th>\n",
              "      <th></th>\n",
              "      <th></th>\n",
              "      <th></th>\n",
              "    </tr>\n",
              "  </thead>\n",
              "  <tbody>\n",
              "    <tr>\n",
              "      <th>2010-12-01 08:26:00</th>\n",
              "      <td>536365</td>\n",
              "      <td>85123A</td>\n",
              "      <td>WHITE HANGING HEART T-LIGHT HOLDER</td>\n",
              "      <td>6</td>\n",
              "      <td>2.55</td>\n",
              "      <td>17850.0</td>\n",
              "      <td>United Kingdom</td>\n",
              "      <td>2010</td>\n",
              "      <td>12</td>\n",
              "      <td>1</td>\n",
              "      <td>8</td>\n",
              "    </tr>\n",
              "    <tr>\n",
              "      <th>2010-12-01 08:26:00</th>\n",
              "      <td>536365</td>\n",
              "      <td>71053</td>\n",
              "      <td>WHITE METAL LANTERN</td>\n",
              "      <td>6</td>\n",
              "      <td>3.39</td>\n",
              "      <td>17850.0</td>\n",
              "      <td>United Kingdom</td>\n",
              "      <td>2010</td>\n",
              "      <td>12</td>\n",
              "      <td>1</td>\n",
              "      <td>8</td>\n",
              "    </tr>\n",
              "    <tr>\n",
              "      <th>2010-12-01 08:26:00</th>\n",
              "      <td>536365</td>\n",
              "      <td>84406B</td>\n",
              "      <td>CREAM CUPID HEARTS COAT HANGER</td>\n",
              "      <td>8</td>\n",
              "      <td>2.75</td>\n",
              "      <td>17850.0</td>\n",
              "      <td>United Kingdom</td>\n",
              "      <td>2010</td>\n",
              "      <td>12</td>\n",
              "      <td>1</td>\n",
              "      <td>8</td>\n",
              "    </tr>\n",
              "    <tr>\n",
              "      <th>2010-12-01 08:26:00</th>\n",
              "      <td>536365</td>\n",
              "      <td>84029G</td>\n",
              "      <td>KNITTED UNION FLAG HOT WATER BOTTLE</td>\n",
              "      <td>6</td>\n",
              "      <td>3.39</td>\n",
              "      <td>17850.0</td>\n",
              "      <td>United Kingdom</td>\n",
              "      <td>2010</td>\n",
              "      <td>12</td>\n",
              "      <td>1</td>\n",
              "      <td>8</td>\n",
              "    </tr>\n",
              "    <tr>\n",
              "      <th>2010-12-01 08:26:00</th>\n",
              "      <td>536365</td>\n",
              "      <td>84029E</td>\n",
              "      <td>RED WOOLLY HOTTIE WHITE HEART.</td>\n",
              "      <td>6</td>\n",
              "      <td>3.39</td>\n",
              "      <td>17850.0</td>\n",
              "      <td>United Kingdom</td>\n",
              "      <td>2010</td>\n",
              "      <td>12</td>\n",
              "      <td>1</td>\n",
              "      <td>8</td>\n",
              "    </tr>\n",
              "    <tr>\n",
              "      <th>...</th>\n",
              "      <td>...</td>\n",
              "      <td>...</td>\n",
              "      <td>...</td>\n",
              "      <td>...</td>\n",
              "      <td>...</td>\n",
              "      <td>...</td>\n",
              "      <td>...</td>\n",
              "      <td>...</td>\n",
              "      <td>...</td>\n",
              "      <td>...</td>\n",
              "      <td>...</td>\n",
              "    </tr>\n",
              "    <tr>\n",
              "      <th>2011-12-09 12:50:00</th>\n",
              "      <td>581587</td>\n",
              "      <td>22613</td>\n",
              "      <td>PACK OF 20 SPACEBOY NAPKINS</td>\n",
              "      <td>12</td>\n",
              "      <td>0.85</td>\n",
              "      <td>12680.0</td>\n",
              "      <td>France</td>\n",
              "      <td>2011</td>\n",
              "      <td>12</td>\n",
              "      <td>9</td>\n",
              "      <td>12</td>\n",
              "    </tr>\n",
              "    <tr>\n",
              "      <th>2011-12-09 12:50:00</th>\n",
              "      <td>581587</td>\n",
              "      <td>22899</td>\n",
              "      <td>CHILDREN'S APRON DOLLY GIRL</td>\n",
              "      <td>6</td>\n",
              "      <td>2.10</td>\n",
              "      <td>12680.0</td>\n",
              "      <td>France</td>\n",
              "      <td>2011</td>\n",
              "      <td>12</td>\n",
              "      <td>9</td>\n",
              "      <td>12</td>\n",
              "    </tr>\n",
              "    <tr>\n",
              "      <th>2011-12-09 12:50:00</th>\n",
              "      <td>581587</td>\n",
              "      <td>23254</td>\n",
              "      <td>CHILDRENS CUTLERY DOLLY GIRL</td>\n",
              "      <td>4</td>\n",
              "      <td>4.15</td>\n",
              "      <td>12680.0</td>\n",
              "      <td>France</td>\n",
              "      <td>2011</td>\n",
              "      <td>12</td>\n",
              "      <td>9</td>\n",
              "      <td>12</td>\n",
              "    </tr>\n",
              "    <tr>\n",
              "      <th>2011-12-09 12:50:00</th>\n",
              "      <td>581587</td>\n",
              "      <td>23255</td>\n",
              "      <td>CHILDRENS CUTLERY CIRCUS PARADE</td>\n",
              "      <td>4</td>\n",
              "      <td>4.15</td>\n",
              "      <td>12680.0</td>\n",
              "      <td>France</td>\n",
              "      <td>2011</td>\n",
              "      <td>12</td>\n",
              "      <td>9</td>\n",
              "      <td>12</td>\n",
              "    </tr>\n",
              "    <tr>\n",
              "      <th>2011-12-09 12:50:00</th>\n",
              "      <td>581587</td>\n",
              "      <td>22138</td>\n",
              "      <td>BAKING SET 9 PIECE RETROSPOT</td>\n",
              "      <td>3</td>\n",
              "      <td>4.95</td>\n",
              "      <td>12680.0</td>\n",
              "      <td>France</td>\n",
              "      <td>2011</td>\n",
              "      <td>12</td>\n",
              "      <td>9</td>\n",
              "      <td>12</td>\n",
              "    </tr>\n",
              "  </tbody>\n",
              "</table>\n",
              "<p>541909 rows × 11 columns</p>\n",
              "</div>\n",
              "    <div class=\"colab-df-buttons\">\n",
              "\n",
              "  <div class=\"colab-df-container\">\n",
              "    <button class=\"colab-df-convert\" onclick=\"convertToInteractive('df-503ec328-ce70-4b2c-8972-c34b7d11c4ee')\"\n",
              "            title=\"Convert this dataframe to an interactive table.\"\n",
              "            style=\"display:none;\">\n",
              "\n",
              "  <svg xmlns=\"http://www.w3.org/2000/svg\" height=\"24px\" viewBox=\"0 -960 960 960\">\n",
              "    <path d=\"M120-120v-720h720v720H120Zm60-500h600v-160H180v160Zm220 220h160v-160H400v160Zm0 220h160v-160H400v160ZM180-400h160v-160H180v160Zm440 0h160v-160H620v160ZM180-180h160v-160H180v160Zm440 0h160v-160H620v160Z\"/>\n",
              "  </svg>\n",
              "    </button>\n",
              "\n",
              "  <style>\n",
              "    .colab-df-container {\n",
              "      display:flex;\n",
              "      gap: 12px;\n",
              "    }\n",
              "\n",
              "    .colab-df-convert {\n",
              "      background-color: #E8F0FE;\n",
              "      border: none;\n",
              "      border-radius: 50%;\n",
              "      cursor: pointer;\n",
              "      display: none;\n",
              "      fill: #1967D2;\n",
              "      height: 32px;\n",
              "      padding: 0 0 0 0;\n",
              "      width: 32px;\n",
              "    }\n",
              "\n",
              "    .colab-df-convert:hover {\n",
              "      background-color: #E2EBFA;\n",
              "      box-shadow: 0px 1px 2px rgba(60, 64, 67, 0.3), 0px 1px 3px 1px rgba(60, 64, 67, 0.15);\n",
              "      fill: #174EA6;\n",
              "    }\n",
              "\n",
              "    .colab-df-buttons div {\n",
              "      margin-bottom: 4px;\n",
              "    }\n",
              "\n",
              "    [theme=dark] .colab-df-convert {\n",
              "      background-color: #3B4455;\n",
              "      fill: #D2E3FC;\n",
              "    }\n",
              "\n",
              "    [theme=dark] .colab-df-convert:hover {\n",
              "      background-color: #434B5C;\n",
              "      box-shadow: 0px 1px 3px 1px rgba(0, 0, 0, 0.15);\n",
              "      filter: drop-shadow(0px 1px 2px rgba(0, 0, 0, 0.3));\n",
              "      fill: #FFFFFF;\n",
              "    }\n",
              "  </style>\n",
              "\n",
              "    <script>\n",
              "      const buttonEl =\n",
              "        document.querySelector('#df-503ec328-ce70-4b2c-8972-c34b7d11c4ee button.colab-df-convert');\n",
              "      buttonEl.style.display =\n",
              "        google.colab.kernel.accessAllowed ? 'block' : 'none';\n",
              "\n",
              "      async function convertToInteractive(key) {\n",
              "        const element = document.querySelector('#df-503ec328-ce70-4b2c-8972-c34b7d11c4ee');\n",
              "        const dataTable =\n",
              "          await google.colab.kernel.invokeFunction('convertToInteractive',\n",
              "                                                    [key], {});\n",
              "        if (!dataTable) return;\n",
              "\n",
              "        const docLinkHtml = 'Like what you see? Visit the ' +\n",
              "          '<a target=\"_blank\" href=https://colab.research.google.com/notebooks/data_table.ipynb>data table notebook</a>'\n",
              "          + ' to learn more about interactive tables.';\n",
              "        element.innerHTML = '';\n",
              "        dataTable['output_type'] = 'display_data';\n",
              "        await google.colab.output.renderOutput(dataTable, element);\n",
              "        const docLink = document.createElement('div');\n",
              "        docLink.innerHTML = docLinkHtml;\n",
              "        element.appendChild(docLink);\n",
              "      }\n",
              "    </script>\n",
              "  </div>\n",
              "\n",
              "\n",
              "<div id=\"df-eb449a46-979a-46d2-ad2d-0b53fc3da541\">\n",
              "  <button class=\"colab-df-quickchart\" onclick=\"quickchart('df-eb449a46-979a-46d2-ad2d-0b53fc3da541')\"\n",
              "            title=\"Suggest charts\"\n",
              "            style=\"display:none;\">\n",
              "\n",
              "<svg xmlns=\"http://www.w3.org/2000/svg\" height=\"24px\"viewBox=\"0 0 24 24\"\n",
              "     width=\"24px\">\n",
              "    <g>\n",
              "        <path d=\"M19 3H5c-1.1 0-2 .9-2 2v14c0 1.1.9 2 2 2h14c1.1 0 2-.9 2-2V5c0-1.1-.9-2-2-2zM9 17H7v-7h2v7zm4 0h-2V7h2v10zm4 0h-2v-4h2v4z\"/>\n",
              "    </g>\n",
              "</svg>\n",
              "  </button>\n",
              "\n",
              "<style>\n",
              "  .colab-df-quickchart {\n",
              "      --bg-color: #E8F0FE;\n",
              "      --fill-color: #1967D2;\n",
              "      --hover-bg-color: #E2EBFA;\n",
              "      --hover-fill-color: #174EA6;\n",
              "      --disabled-fill-color: #AAA;\n",
              "      --disabled-bg-color: #DDD;\n",
              "  }\n",
              "\n",
              "  [theme=dark] .colab-df-quickchart {\n",
              "      --bg-color: #3B4455;\n",
              "      --fill-color: #D2E3FC;\n",
              "      --hover-bg-color: #434B5C;\n",
              "      --hover-fill-color: #FFFFFF;\n",
              "      --disabled-bg-color: #3B4455;\n",
              "      --disabled-fill-color: #666;\n",
              "  }\n",
              "\n",
              "  .colab-df-quickchart {\n",
              "    background-color: var(--bg-color);\n",
              "    border: none;\n",
              "    border-radius: 50%;\n",
              "    cursor: pointer;\n",
              "    display: none;\n",
              "    fill: var(--fill-color);\n",
              "    height: 32px;\n",
              "    padding: 0;\n",
              "    width: 32px;\n",
              "  }\n",
              "\n",
              "  .colab-df-quickchart:hover {\n",
              "    background-color: var(--hover-bg-color);\n",
              "    box-shadow: 0 1px 2px rgba(60, 64, 67, 0.3), 0 1px 3px 1px rgba(60, 64, 67, 0.15);\n",
              "    fill: var(--button-hover-fill-color);\n",
              "  }\n",
              "\n",
              "  .colab-df-quickchart-complete:disabled,\n",
              "  .colab-df-quickchart-complete:disabled:hover {\n",
              "    background-color: var(--disabled-bg-color);\n",
              "    fill: var(--disabled-fill-color);\n",
              "    box-shadow: none;\n",
              "  }\n",
              "\n",
              "  .colab-df-spinner {\n",
              "    border: 2px solid var(--fill-color);\n",
              "    border-color: transparent;\n",
              "    border-bottom-color: var(--fill-color);\n",
              "    animation:\n",
              "      spin 1s steps(1) infinite;\n",
              "  }\n",
              "\n",
              "  @keyframes spin {\n",
              "    0% {\n",
              "      border-color: transparent;\n",
              "      border-bottom-color: var(--fill-color);\n",
              "      border-left-color: var(--fill-color);\n",
              "    }\n",
              "    20% {\n",
              "      border-color: transparent;\n",
              "      border-left-color: var(--fill-color);\n",
              "      border-top-color: var(--fill-color);\n",
              "    }\n",
              "    30% {\n",
              "      border-color: transparent;\n",
              "      border-left-color: var(--fill-color);\n",
              "      border-top-color: var(--fill-color);\n",
              "      border-right-color: var(--fill-color);\n",
              "    }\n",
              "    40% {\n",
              "      border-color: transparent;\n",
              "      border-right-color: var(--fill-color);\n",
              "      border-top-color: var(--fill-color);\n",
              "    }\n",
              "    60% {\n",
              "      border-color: transparent;\n",
              "      border-right-color: var(--fill-color);\n",
              "    }\n",
              "    80% {\n",
              "      border-color: transparent;\n",
              "      border-right-color: var(--fill-color);\n",
              "      border-bottom-color: var(--fill-color);\n",
              "    }\n",
              "    90% {\n",
              "      border-color: transparent;\n",
              "      border-bottom-color: var(--fill-color);\n",
              "    }\n",
              "  }\n",
              "</style>\n",
              "\n",
              "  <script>\n",
              "    async function quickchart(key) {\n",
              "      const quickchartButtonEl =\n",
              "        document.querySelector('#' + key + ' button');\n",
              "      quickchartButtonEl.disabled = true;  // To prevent multiple clicks.\n",
              "      quickchartButtonEl.classList.add('colab-df-spinner');\n",
              "      try {\n",
              "        const charts = await google.colab.kernel.invokeFunction(\n",
              "            'suggestCharts', [key], {});\n",
              "      } catch (error) {\n",
              "        console.error('Error during call to suggestCharts:', error);\n",
              "      }\n",
              "      quickchartButtonEl.classList.remove('colab-df-spinner');\n",
              "      quickchartButtonEl.classList.add('colab-df-quickchart-complete');\n",
              "    }\n",
              "    (() => {\n",
              "      let quickchartButtonEl =\n",
              "        document.querySelector('#df-eb449a46-979a-46d2-ad2d-0b53fc3da541 button');\n",
              "      quickchartButtonEl.style.display =\n",
              "        google.colab.kernel.accessAllowed ? 'block' : 'none';\n",
              "    })();\n",
              "  </script>\n",
              "</div>\n",
              "\n",
              "  <div id=\"id_d844b62d-99df-40e7-86f3-e788199b6b0a\">\n",
              "    <style>\n",
              "      .colab-df-generate {\n",
              "        background-color: #E8F0FE;\n",
              "        border: none;\n",
              "        border-radius: 50%;\n",
              "        cursor: pointer;\n",
              "        display: none;\n",
              "        fill: #1967D2;\n",
              "        height: 32px;\n",
              "        padding: 0 0 0 0;\n",
              "        width: 32px;\n",
              "      }\n",
              "\n",
              "      .colab-df-generate:hover {\n",
              "        background-color: #E2EBFA;\n",
              "        box-shadow: 0px 1px 2px rgba(60, 64, 67, 0.3), 0px 1px 3px 1px rgba(60, 64, 67, 0.15);\n",
              "        fill: #174EA6;\n",
              "      }\n",
              "\n",
              "      [theme=dark] .colab-df-generate {\n",
              "        background-color: #3B4455;\n",
              "        fill: #D2E3FC;\n",
              "      }\n",
              "\n",
              "      [theme=dark] .colab-df-generate:hover {\n",
              "        background-color: #434B5C;\n",
              "        box-shadow: 0px 1px 3px 1px rgba(0, 0, 0, 0.15);\n",
              "        filter: drop-shadow(0px 1px 2px rgba(0, 0, 0, 0.3));\n",
              "        fill: #FFFFFF;\n",
              "      }\n",
              "    </style>\n",
              "    <button class=\"colab-df-generate\" onclick=\"generateWithVariable('df')\"\n",
              "            title=\"Generate code using this dataframe.\"\n",
              "            style=\"display:none;\">\n",
              "\n",
              "  <svg xmlns=\"http://www.w3.org/2000/svg\" height=\"24px\"viewBox=\"0 0 24 24\"\n",
              "       width=\"24px\">\n",
              "    <path d=\"M7,19H8.4L18.45,9,17,7.55,7,17.6ZM5,21V16.75L18.45,3.32a2,2,0,0,1,2.83,0l1.4,1.43a1.91,1.91,0,0,1,.58,1.4,1.91,1.91,0,0,1-.58,1.4L9.25,21ZM18.45,9,17,7.55Zm-12,3A5.31,5.31,0,0,0,4.9,8.1,5.31,5.31,0,0,0,1,6.5,5.31,5.31,0,0,0,4.9,4.9,5.31,5.31,0,0,0,6.5,1,5.31,5.31,0,0,0,8.1,4.9,5.31,5.31,0,0,0,12,6.5,5.46,5.46,0,0,0,6.5,12Z\"/>\n",
              "  </svg>\n",
              "    </button>\n",
              "    <script>\n",
              "      (() => {\n",
              "      const buttonEl =\n",
              "        document.querySelector('#id_d844b62d-99df-40e7-86f3-e788199b6b0a button.colab-df-generate');\n",
              "      buttonEl.style.display =\n",
              "        google.colab.kernel.accessAllowed ? 'block' : 'none';\n",
              "\n",
              "      buttonEl.onclick = () => {\n",
              "        google.colab.notebook.generateWithVariable('df');\n",
              "      }\n",
              "      })();\n",
              "    </script>\n",
              "  </div>\n",
              "\n",
              "    </div>\n",
              "  </div>\n"
            ],
            "text/plain": [
              "                    InvoiceNo StockCode                          Description  \\\n",
              "InvoiceDate                                                                    \n",
              "2010-12-01 08:26:00    536365    85123A   WHITE HANGING HEART T-LIGHT HOLDER   \n",
              "2010-12-01 08:26:00    536365     71053                  WHITE METAL LANTERN   \n",
              "2010-12-01 08:26:00    536365    84406B       CREAM CUPID HEARTS COAT HANGER   \n",
              "2010-12-01 08:26:00    536365    84029G  KNITTED UNION FLAG HOT WATER BOTTLE   \n",
              "2010-12-01 08:26:00    536365    84029E       RED WOOLLY HOTTIE WHITE HEART.   \n",
              "...                       ...       ...                                  ...   \n",
              "2011-12-09 12:50:00    581587     22613          PACK OF 20 SPACEBOY NAPKINS   \n",
              "2011-12-09 12:50:00    581587     22899         CHILDREN'S APRON DOLLY GIRL    \n",
              "2011-12-09 12:50:00    581587     23254        CHILDRENS CUTLERY DOLLY GIRL    \n",
              "2011-12-09 12:50:00    581587     23255      CHILDRENS CUTLERY CIRCUS PARADE   \n",
              "2011-12-09 12:50:00    581587     22138        BAKING SET 9 PIECE RETROSPOT    \n",
              "\n",
              "                     Quantity  UnitPrice  CustomerID         Country  Year  \\\n",
              "InvoiceDate                                                                  \n",
              "2010-12-01 08:26:00         6       2.55     17850.0  United Kingdom  2010   \n",
              "2010-12-01 08:26:00         6       3.39     17850.0  United Kingdom  2010   \n",
              "2010-12-01 08:26:00         8       2.75     17850.0  United Kingdom  2010   \n",
              "2010-12-01 08:26:00         6       3.39     17850.0  United Kingdom  2010   \n",
              "2010-12-01 08:26:00         6       3.39     17850.0  United Kingdom  2010   \n",
              "...                       ...        ...         ...             ...   ...   \n",
              "2011-12-09 12:50:00        12       0.85     12680.0          France  2011   \n",
              "2011-12-09 12:50:00         6       2.10     12680.0          France  2011   \n",
              "2011-12-09 12:50:00         4       4.15     12680.0          France  2011   \n",
              "2011-12-09 12:50:00         4       4.15     12680.0          France  2011   \n",
              "2011-12-09 12:50:00         3       4.95     12680.0          France  2011   \n",
              "\n",
              "                     Month  Day  Hour  \n",
              "InvoiceDate                            \n",
              "2010-12-01 08:26:00     12    1     8  \n",
              "2010-12-01 08:26:00     12    1     8  \n",
              "2010-12-01 08:26:00     12    1     8  \n",
              "2010-12-01 08:26:00     12    1     8  \n",
              "2010-12-01 08:26:00     12    1     8  \n",
              "...                    ...  ...   ...  \n",
              "2011-12-09 12:50:00     12    9    12  \n",
              "2011-12-09 12:50:00     12    9    12  \n",
              "2011-12-09 12:50:00     12    9    12  \n",
              "2011-12-09 12:50:00     12    9    12  \n",
              "2011-12-09 12:50:00     12    9    12  \n",
              "\n",
              "[541909 rows x 11 columns]"
            ]
          },
          "execution_count": 10,
          "metadata": {},
          "output_type": "execute_result"
        }
      ],
      "source": [
        "df"
      ]
    },
    {
      "cell_type": "code",
      "execution_count": 11,
      "metadata": {
        "id": "tDHEg49PpqWT"
      },
      "outputs": [],
      "source": [
        "df['Weekday'] = df.index.weekday"
      ]
    },
    {
      "cell_type": "code",
      "execution_count": 12,
      "metadata": {
        "colab": {
          "base_uri": "https://localhost:8080/",
          "height": 785
        },
        "id": "O2e3ytBSprz1",
        "outputId": "74a2459d-6453-4959-c525-0c75f7e1ee37"
      },
      "outputs": [
        {
          "data": {
            "application/vnd.google.colaboratory.intrinsic+json": {
              "type": "dataframe",
              "variable_name": "df"
            },
            "text/html": [
              "\n",
              "  <div id=\"df-e0a632d1-33e9-4683-83fc-7aff799d721c\" class=\"colab-df-container\">\n",
              "    <div>\n",
              "<style scoped>\n",
              "    .dataframe tbody tr th:only-of-type {\n",
              "        vertical-align: middle;\n",
              "    }\n",
              "\n",
              "    .dataframe tbody tr th {\n",
              "        vertical-align: top;\n",
              "    }\n",
              "\n",
              "    .dataframe thead th {\n",
              "        text-align: right;\n",
              "    }\n",
              "</style>\n",
              "<table border=\"1\" class=\"dataframe\">\n",
              "  <thead>\n",
              "    <tr style=\"text-align: right;\">\n",
              "      <th></th>\n",
              "      <th>InvoiceNo</th>\n",
              "      <th>StockCode</th>\n",
              "      <th>Description</th>\n",
              "      <th>Quantity</th>\n",
              "      <th>UnitPrice</th>\n",
              "      <th>CustomerID</th>\n",
              "      <th>Country</th>\n",
              "      <th>Year</th>\n",
              "      <th>Month</th>\n",
              "      <th>Day</th>\n",
              "      <th>Hour</th>\n",
              "      <th>Weekday</th>\n",
              "    </tr>\n",
              "    <tr>\n",
              "      <th>InvoiceDate</th>\n",
              "      <th></th>\n",
              "      <th></th>\n",
              "      <th></th>\n",
              "      <th></th>\n",
              "      <th></th>\n",
              "      <th></th>\n",
              "      <th></th>\n",
              "      <th></th>\n",
              "      <th></th>\n",
              "      <th></th>\n",
              "      <th></th>\n",
              "      <th></th>\n",
              "    </tr>\n",
              "  </thead>\n",
              "  <tbody>\n",
              "    <tr>\n",
              "      <th>2010-12-01 08:26:00</th>\n",
              "      <td>536365</td>\n",
              "      <td>85123A</td>\n",
              "      <td>WHITE HANGING HEART T-LIGHT HOLDER</td>\n",
              "      <td>6</td>\n",
              "      <td>2.55</td>\n",
              "      <td>17850.0</td>\n",
              "      <td>United Kingdom</td>\n",
              "      <td>2010</td>\n",
              "      <td>12</td>\n",
              "      <td>1</td>\n",
              "      <td>8</td>\n",
              "      <td>2</td>\n",
              "    </tr>\n",
              "    <tr>\n",
              "      <th>2010-12-01 08:26:00</th>\n",
              "      <td>536365</td>\n",
              "      <td>71053</td>\n",
              "      <td>WHITE METAL LANTERN</td>\n",
              "      <td>6</td>\n",
              "      <td>3.39</td>\n",
              "      <td>17850.0</td>\n",
              "      <td>United Kingdom</td>\n",
              "      <td>2010</td>\n",
              "      <td>12</td>\n",
              "      <td>1</td>\n",
              "      <td>8</td>\n",
              "      <td>2</td>\n",
              "    </tr>\n",
              "    <tr>\n",
              "      <th>2010-12-01 08:26:00</th>\n",
              "      <td>536365</td>\n",
              "      <td>84406B</td>\n",
              "      <td>CREAM CUPID HEARTS COAT HANGER</td>\n",
              "      <td>8</td>\n",
              "      <td>2.75</td>\n",
              "      <td>17850.0</td>\n",
              "      <td>United Kingdom</td>\n",
              "      <td>2010</td>\n",
              "      <td>12</td>\n",
              "      <td>1</td>\n",
              "      <td>8</td>\n",
              "      <td>2</td>\n",
              "    </tr>\n",
              "    <tr>\n",
              "      <th>2010-12-01 08:26:00</th>\n",
              "      <td>536365</td>\n",
              "      <td>84029G</td>\n",
              "      <td>KNITTED UNION FLAG HOT WATER BOTTLE</td>\n",
              "      <td>6</td>\n",
              "      <td>3.39</td>\n",
              "      <td>17850.0</td>\n",
              "      <td>United Kingdom</td>\n",
              "      <td>2010</td>\n",
              "      <td>12</td>\n",
              "      <td>1</td>\n",
              "      <td>8</td>\n",
              "      <td>2</td>\n",
              "    </tr>\n",
              "    <tr>\n",
              "      <th>2010-12-01 08:26:00</th>\n",
              "      <td>536365</td>\n",
              "      <td>84029E</td>\n",
              "      <td>RED WOOLLY HOTTIE WHITE HEART.</td>\n",
              "      <td>6</td>\n",
              "      <td>3.39</td>\n",
              "      <td>17850.0</td>\n",
              "      <td>United Kingdom</td>\n",
              "      <td>2010</td>\n",
              "      <td>12</td>\n",
              "      <td>1</td>\n",
              "      <td>8</td>\n",
              "      <td>2</td>\n",
              "    </tr>\n",
              "    <tr>\n",
              "      <th>...</th>\n",
              "      <td>...</td>\n",
              "      <td>...</td>\n",
              "      <td>...</td>\n",
              "      <td>...</td>\n",
              "      <td>...</td>\n",
              "      <td>...</td>\n",
              "      <td>...</td>\n",
              "      <td>...</td>\n",
              "      <td>...</td>\n",
              "      <td>...</td>\n",
              "      <td>...</td>\n",
              "      <td>...</td>\n",
              "    </tr>\n",
              "    <tr>\n",
              "      <th>2011-12-09 12:50:00</th>\n",
              "      <td>581587</td>\n",
              "      <td>22613</td>\n",
              "      <td>PACK OF 20 SPACEBOY NAPKINS</td>\n",
              "      <td>12</td>\n",
              "      <td>0.85</td>\n",
              "      <td>12680.0</td>\n",
              "      <td>France</td>\n",
              "      <td>2011</td>\n",
              "      <td>12</td>\n",
              "      <td>9</td>\n",
              "      <td>12</td>\n",
              "      <td>4</td>\n",
              "    </tr>\n",
              "    <tr>\n",
              "      <th>2011-12-09 12:50:00</th>\n",
              "      <td>581587</td>\n",
              "      <td>22899</td>\n",
              "      <td>CHILDREN'S APRON DOLLY GIRL</td>\n",
              "      <td>6</td>\n",
              "      <td>2.10</td>\n",
              "      <td>12680.0</td>\n",
              "      <td>France</td>\n",
              "      <td>2011</td>\n",
              "      <td>12</td>\n",
              "      <td>9</td>\n",
              "      <td>12</td>\n",
              "      <td>4</td>\n",
              "    </tr>\n",
              "    <tr>\n",
              "      <th>2011-12-09 12:50:00</th>\n",
              "      <td>581587</td>\n",
              "      <td>23254</td>\n",
              "      <td>CHILDRENS CUTLERY DOLLY GIRL</td>\n",
              "      <td>4</td>\n",
              "      <td>4.15</td>\n",
              "      <td>12680.0</td>\n",
              "      <td>France</td>\n",
              "      <td>2011</td>\n",
              "      <td>12</td>\n",
              "      <td>9</td>\n",
              "      <td>12</td>\n",
              "      <td>4</td>\n",
              "    </tr>\n",
              "    <tr>\n",
              "      <th>2011-12-09 12:50:00</th>\n",
              "      <td>581587</td>\n",
              "      <td>23255</td>\n",
              "      <td>CHILDRENS CUTLERY CIRCUS PARADE</td>\n",
              "      <td>4</td>\n",
              "      <td>4.15</td>\n",
              "      <td>12680.0</td>\n",
              "      <td>France</td>\n",
              "      <td>2011</td>\n",
              "      <td>12</td>\n",
              "      <td>9</td>\n",
              "      <td>12</td>\n",
              "      <td>4</td>\n",
              "    </tr>\n",
              "    <tr>\n",
              "      <th>2011-12-09 12:50:00</th>\n",
              "      <td>581587</td>\n",
              "      <td>22138</td>\n",
              "      <td>BAKING SET 9 PIECE RETROSPOT</td>\n",
              "      <td>3</td>\n",
              "      <td>4.95</td>\n",
              "      <td>12680.0</td>\n",
              "      <td>France</td>\n",
              "      <td>2011</td>\n",
              "      <td>12</td>\n",
              "      <td>9</td>\n",
              "      <td>12</td>\n",
              "      <td>4</td>\n",
              "    </tr>\n",
              "  </tbody>\n",
              "</table>\n",
              "<p>541909 rows × 12 columns</p>\n",
              "</div>\n",
              "    <div class=\"colab-df-buttons\">\n",
              "\n",
              "  <div class=\"colab-df-container\">\n",
              "    <button class=\"colab-df-convert\" onclick=\"convertToInteractive('df-e0a632d1-33e9-4683-83fc-7aff799d721c')\"\n",
              "            title=\"Convert this dataframe to an interactive table.\"\n",
              "            style=\"display:none;\">\n",
              "\n",
              "  <svg xmlns=\"http://www.w3.org/2000/svg\" height=\"24px\" viewBox=\"0 -960 960 960\">\n",
              "    <path d=\"M120-120v-720h720v720H120Zm60-500h600v-160H180v160Zm220 220h160v-160H400v160Zm0 220h160v-160H400v160ZM180-400h160v-160H180v160Zm440 0h160v-160H620v160ZM180-180h160v-160H180v160Zm440 0h160v-160H620v160Z\"/>\n",
              "  </svg>\n",
              "    </button>\n",
              "\n",
              "  <style>\n",
              "    .colab-df-container {\n",
              "      display:flex;\n",
              "      gap: 12px;\n",
              "    }\n",
              "\n",
              "    .colab-df-convert {\n",
              "      background-color: #E8F0FE;\n",
              "      border: none;\n",
              "      border-radius: 50%;\n",
              "      cursor: pointer;\n",
              "      display: none;\n",
              "      fill: #1967D2;\n",
              "      height: 32px;\n",
              "      padding: 0 0 0 0;\n",
              "      width: 32px;\n",
              "    }\n",
              "\n",
              "    .colab-df-convert:hover {\n",
              "      background-color: #E2EBFA;\n",
              "      box-shadow: 0px 1px 2px rgba(60, 64, 67, 0.3), 0px 1px 3px 1px rgba(60, 64, 67, 0.15);\n",
              "      fill: #174EA6;\n",
              "    }\n",
              "\n",
              "    .colab-df-buttons div {\n",
              "      margin-bottom: 4px;\n",
              "    }\n",
              "\n",
              "    [theme=dark] .colab-df-convert {\n",
              "      background-color: #3B4455;\n",
              "      fill: #D2E3FC;\n",
              "    }\n",
              "\n",
              "    [theme=dark] .colab-df-convert:hover {\n",
              "      background-color: #434B5C;\n",
              "      box-shadow: 0px 1px 3px 1px rgba(0, 0, 0, 0.15);\n",
              "      filter: drop-shadow(0px 1px 2px rgba(0, 0, 0, 0.3));\n",
              "      fill: #FFFFFF;\n",
              "    }\n",
              "  </style>\n",
              "\n",
              "    <script>\n",
              "      const buttonEl =\n",
              "        document.querySelector('#df-e0a632d1-33e9-4683-83fc-7aff799d721c button.colab-df-convert');\n",
              "      buttonEl.style.display =\n",
              "        google.colab.kernel.accessAllowed ? 'block' : 'none';\n",
              "\n",
              "      async function convertToInteractive(key) {\n",
              "        const element = document.querySelector('#df-e0a632d1-33e9-4683-83fc-7aff799d721c');\n",
              "        const dataTable =\n",
              "          await google.colab.kernel.invokeFunction('convertToInteractive',\n",
              "                                                    [key], {});\n",
              "        if (!dataTable) return;\n",
              "\n",
              "        const docLinkHtml = 'Like what you see? Visit the ' +\n",
              "          '<a target=\"_blank\" href=https://colab.research.google.com/notebooks/data_table.ipynb>data table notebook</a>'\n",
              "          + ' to learn more about interactive tables.';\n",
              "        element.innerHTML = '';\n",
              "        dataTable['output_type'] = 'display_data';\n",
              "        await google.colab.output.renderOutput(dataTable, element);\n",
              "        const docLink = document.createElement('div');\n",
              "        docLink.innerHTML = docLinkHtml;\n",
              "        element.appendChild(docLink);\n",
              "      }\n",
              "    </script>\n",
              "  </div>\n",
              "\n",
              "\n",
              "<div id=\"df-c702dade-1b9f-41d2-aab9-10bb857b90e8\">\n",
              "  <button class=\"colab-df-quickchart\" onclick=\"quickchart('df-c702dade-1b9f-41d2-aab9-10bb857b90e8')\"\n",
              "            title=\"Suggest charts\"\n",
              "            style=\"display:none;\">\n",
              "\n",
              "<svg xmlns=\"http://www.w3.org/2000/svg\" height=\"24px\"viewBox=\"0 0 24 24\"\n",
              "     width=\"24px\">\n",
              "    <g>\n",
              "        <path d=\"M19 3H5c-1.1 0-2 .9-2 2v14c0 1.1.9 2 2 2h14c1.1 0 2-.9 2-2V5c0-1.1-.9-2-2-2zM9 17H7v-7h2v7zm4 0h-2V7h2v10zm4 0h-2v-4h2v4z\"/>\n",
              "    </g>\n",
              "</svg>\n",
              "  </button>\n",
              "\n",
              "<style>\n",
              "  .colab-df-quickchart {\n",
              "      --bg-color: #E8F0FE;\n",
              "      --fill-color: #1967D2;\n",
              "      --hover-bg-color: #E2EBFA;\n",
              "      --hover-fill-color: #174EA6;\n",
              "      --disabled-fill-color: #AAA;\n",
              "      --disabled-bg-color: #DDD;\n",
              "  }\n",
              "\n",
              "  [theme=dark] .colab-df-quickchart {\n",
              "      --bg-color: #3B4455;\n",
              "      --fill-color: #D2E3FC;\n",
              "      --hover-bg-color: #434B5C;\n",
              "      --hover-fill-color: #FFFFFF;\n",
              "      --disabled-bg-color: #3B4455;\n",
              "      --disabled-fill-color: #666;\n",
              "  }\n",
              "\n",
              "  .colab-df-quickchart {\n",
              "    background-color: var(--bg-color);\n",
              "    border: none;\n",
              "    border-radius: 50%;\n",
              "    cursor: pointer;\n",
              "    display: none;\n",
              "    fill: var(--fill-color);\n",
              "    height: 32px;\n",
              "    padding: 0;\n",
              "    width: 32px;\n",
              "  }\n",
              "\n",
              "  .colab-df-quickchart:hover {\n",
              "    background-color: var(--hover-bg-color);\n",
              "    box-shadow: 0 1px 2px rgba(60, 64, 67, 0.3), 0 1px 3px 1px rgba(60, 64, 67, 0.15);\n",
              "    fill: var(--button-hover-fill-color);\n",
              "  }\n",
              "\n",
              "  .colab-df-quickchart-complete:disabled,\n",
              "  .colab-df-quickchart-complete:disabled:hover {\n",
              "    background-color: var(--disabled-bg-color);\n",
              "    fill: var(--disabled-fill-color);\n",
              "    box-shadow: none;\n",
              "  }\n",
              "\n",
              "  .colab-df-spinner {\n",
              "    border: 2px solid var(--fill-color);\n",
              "    border-color: transparent;\n",
              "    border-bottom-color: var(--fill-color);\n",
              "    animation:\n",
              "      spin 1s steps(1) infinite;\n",
              "  }\n",
              "\n",
              "  @keyframes spin {\n",
              "    0% {\n",
              "      border-color: transparent;\n",
              "      border-bottom-color: var(--fill-color);\n",
              "      border-left-color: var(--fill-color);\n",
              "    }\n",
              "    20% {\n",
              "      border-color: transparent;\n",
              "      border-left-color: var(--fill-color);\n",
              "      border-top-color: var(--fill-color);\n",
              "    }\n",
              "    30% {\n",
              "      border-color: transparent;\n",
              "      border-left-color: var(--fill-color);\n",
              "      border-top-color: var(--fill-color);\n",
              "      border-right-color: var(--fill-color);\n",
              "    }\n",
              "    40% {\n",
              "      border-color: transparent;\n",
              "      border-right-color: var(--fill-color);\n",
              "      border-top-color: var(--fill-color);\n",
              "    }\n",
              "    60% {\n",
              "      border-color: transparent;\n",
              "      border-right-color: var(--fill-color);\n",
              "    }\n",
              "    80% {\n",
              "      border-color: transparent;\n",
              "      border-right-color: var(--fill-color);\n",
              "      border-bottom-color: var(--fill-color);\n",
              "    }\n",
              "    90% {\n",
              "      border-color: transparent;\n",
              "      border-bottom-color: var(--fill-color);\n",
              "    }\n",
              "  }\n",
              "</style>\n",
              "\n",
              "  <script>\n",
              "    async function quickchart(key) {\n",
              "      const quickchartButtonEl =\n",
              "        document.querySelector('#' + key + ' button');\n",
              "      quickchartButtonEl.disabled = true;  // To prevent multiple clicks.\n",
              "      quickchartButtonEl.classList.add('colab-df-spinner');\n",
              "      try {\n",
              "        const charts = await google.colab.kernel.invokeFunction(\n",
              "            'suggestCharts', [key], {});\n",
              "      } catch (error) {\n",
              "        console.error('Error during call to suggestCharts:', error);\n",
              "      }\n",
              "      quickchartButtonEl.classList.remove('colab-df-spinner');\n",
              "      quickchartButtonEl.classList.add('colab-df-quickchart-complete');\n",
              "    }\n",
              "    (() => {\n",
              "      let quickchartButtonEl =\n",
              "        document.querySelector('#df-c702dade-1b9f-41d2-aab9-10bb857b90e8 button');\n",
              "      quickchartButtonEl.style.display =\n",
              "        google.colab.kernel.accessAllowed ? 'block' : 'none';\n",
              "    })();\n",
              "  </script>\n",
              "</div>\n",
              "\n",
              "  <div id=\"id_dd53136e-07cd-4a5f-94ea-f35bc57d179f\">\n",
              "    <style>\n",
              "      .colab-df-generate {\n",
              "        background-color: #E8F0FE;\n",
              "        border: none;\n",
              "        border-radius: 50%;\n",
              "        cursor: pointer;\n",
              "        display: none;\n",
              "        fill: #1967D2;\n",
              "        height: 32px;\n",
              "        padding: 0 0 0 0;\n",
              "        width: 32px;\n",
              "      }\n",
              "\n",
              "      .colab-df-generate:hover {\n",
              "        background-color: #E2EBFA;\n",
              "        box-shadow: 0px 1px 2px rgba(60, 64, 67, 0.3), 0px 1px 3px 1px rgba(60, 64, 67, 0.15);\n",
              "        fill: #174EA6;\n",
              "      }\n",
              "\n",
              "      [theme=dark] .colab-df-generate {\n",
              "        background-color: #3B4455;\n",
              "        fill: #D2E3FC;\n",
              "      }\n",
              "\n",
              "      [theme=dark] .colab-df-generate:hover {\n",
              "        background-color: #434B5C;\n",
              "        box-shadow: 0px 1px 3px 1px rgba(0, 0, 0, 0.15);\n",
              "        filter: drop-shadow(0px 1px 2px rgba(0, 0, 0, 0.3));\n",
              "        fill: #FFFFFF;\n",
              "      }\n",
              "    </style>\n",
              "    <button class=\"colab-df-generate\" onclick=\"generateWithVariable('df')\"\n",
              "            title=\"Generate code using this dataframe.\"\n",
              "            style=\"display:none;\">\n",
              "\n",
              "  <svg xmlns=\"http://www.w3.org/2000/svg\" height=\"24px\"viewBox=\"0 0 24 24\"\n",
              "       width=\"24px\">\n",
              "    <path d=\"M7,19H8.4L18.45,9,17,7.55,7,17.6ZM5,21V16.75L18.45,3.32a2,2,0,0,1,2.83,0l1.4,1.43a1.91,1.91,0,0,1,.58,1.4,1.91,1.91,0,0,1-.58,1.4L9.25,21ZM18.45,9,17,7.55Zm-12,3A5.31,5.31,0,0,0,4.9,8.1,5.31,5.31,0,0,0,1,6.5,5.31,5.31,0,0,0,4.9,4.9,5.31,5.31,0,0,0,6.5,1,5.31,5.31,0,0,0,8.1,4.9,5.31,5.31,0,0,0,12,6.5,5.46,5.46,0,0,0,6.5,12Z\"/>\n",
              "  </svg>\n",
              "    </button>\n",
              "    <script>\n",
              "      (() => {\n",
              "      const buttonEl =\n",
              "        document.querySelector('#id_dd53136e-07cd-4a5f-94ea-f35bc57d179f button.colab-df-generate');\n",
              "      buttonEl.style.display =\n",
              "        google.colab.kernel.accessAllowed ? 'block' : 'none';\n",
              "\n",
              "      buttonEl.onclick = () => {\n",
              "        google.colab.notebook.generateWithVariable('df');\n",
              "      }\n",
              "      })();\n",
              "    </script>\n",
              "  </div>\n",
              "\n",
              "    </div>\n",
              "  </div>\n"
            ],
            "text/plain": [
              "                    InvoiceNo StockCode                          Description  \\\n",
              "InvoiceDate                                                                    \n",
              "2010-12-01 08:26:00    536365    85123A   WHITE HANGING HEART T-LIGHT HOLDER   \n",
              "2010-12-01 08:26:00    536365     71053                  WHITE METAL LANTERN   \n",
              "2010-12-01 08:26:00    536365    84406B       CREAM CUPID HEARTS COAT HANGER   \n",
              "2010-12-01 08:26:00    536365    84029G  KNITTED UNION FLAG HOT WATER BOTTLE   \n",
              "2010-12-01 08:26:00    536365    84029E       RED WOOLLY HOTTIE WHITE HEART.   \n",
              "...                       ...       ...                                  ...   \n",
              "2011-12-09 12:50:00    581587     22613          PACK OF 20 SPACEBOY NAPKINS   \n",
              "2011-12-09 12:50:00    581587     22899         CHILDREN'S APRON DOLLY GIRL    \n",
              "2011-12-09 12:50:00    581587     23254        CHILDRENS CUTLERY DOLLY GIRL    \n",
              "2011-12-09 12:50:00    581587     23255      CHILDRENS CUTLERY CIRCUS PARADE   \n",
              "2011-12-09 12:50:00    581587     22138        BAKING SET 9 PIECE RETROSPOT    \n",
              "\n",
              "                     Quantity  UnitPrice  CustomerID         Country  Year  \\\n",
              "InvoiceDate                                                                  \n",
              "2010-12-01 08:26:00         6       2.55     17850.0  United Kingdom  2010   \n",
              "2010-12-01 08:26:00         6       3.39     17850.0  United Kingdom  2010   \n",
              "2010-12-01 08:26:00         8       2.75     17850.0  United Kingdom  2010   \n",
              "2010-12-01 08:26:00         6       3.39     17850.0  United Kingdom  2010   \n",
              "2010-12-01 08:26:00         6       3.39     17850.0  United Kingdom  2010   \n",
              "...                       ...        ...         ...             ...   ...   \n",
              "2011-12-09 12:50:00        12       0.85     12680.0          France  2011   \n",
              "2011-12-09 12:50:00         6       2.10     12680.0          France  2011   \n",
              "2011-12-09 12:50:00         4       4.15     12680.0          France  2011   \n",
              "2011-12-09 12:50:00         4       4.15     12680.0          France  2011   \n",
              "2011-12-09 12:50:00         3       4.95     12680.0          France  2011   \n",
              "\n",
              "                     Month  Day  Hour  Weekday  \n",
              "InvoiceDate                                     \n",
              "2010-12-01 08:26:00     12    1     8        2  \n",
              "2010-12-01 08:26:00     12    1     8        2  \n",
              "2010-12-01 08:26:00     12    1     8        2  \n",
              "2010-12-01 08:26:00     12    1     8        2  \n",
              "2010-12-01 08:26:00     12    1     8        2  \n",
              "...                    ...  ...   ...      ...  \n",
              "2011-12-09 12:50:00     12    9    12        4  \n",
              "2011-12-09 12:50:00     12    9    12        4  \n",
              "2011-12-09 12:50:00     12    9    12        4  \n",
              "2011-12-09 12:50:00     12    9    12        4  \n",
              "2011-12-09 12:50:00     12    9    12        4  \n",
              "\n",
              "[541909 rows x 12 columns]"
            ]
          },
          "execution_count": 12,
          "metadata": {},
          "output_type": "execute_result"
        }
      ],
      "source": [
        "df"
      ]
    },
    {
      "cell_type": "code",
      "execution_count": 13,
      "metadata": {
        "colab": {
          "base_uri": "https://localhost:8080/",
          "height": 359
        },
        "id": "jye7NOofps8m",
        "outputId": "bb255532-1793-4e4d-b877-5b295fec5517"
      },
      "outputs": [
        {
          "data": {
            "application/vnd.google.colaboratory.intrinsic+json": {
              "type": "dataframe",
              "variable_name": "df_2011"
            },
            "text/html": [
              "\n",
              "  <div id=\"df-25655db1-658e-401a-87b8-86d74ef3f2cb\" class=\"colab-df-container\">\n",
              "    <div>\n",
              "<style scoped>\n",
              "    .dataframe tbody tr th:only-of-type {\n",
              "        vertical-align: middle;\n",
              "    }\n",
              "\n",
              "    .dataframe tbody tr th {\n",
              "        vertical-align: top;\n",
              "    }\n",
              "\n",
              "    .dataframe thead th {\n",
              "        text-align: right;\n",
              "    }\n",
              "</style>\n",
              "<table border=\"1\" class=\"dataframe\">\n",
              "  <thead>\n",
              "    <tr style=\"text-align: right;\">\n",
              "      <th></th>\n",
              "      <th>InvoiceNo</th>\n",
              "      <th>StockCode</th>\n",
              "      <th>Description</th>\n",
              "      <th>Quantity</th>\n",
              "      <th>UnitPrice</th>\n",
              "      <th>CustomerID</th>\n",
              "      <th>Country</th>\n",
              "      <th>Year</th>\n",
              "      <th>Month</th>\n",
              "      <th>Day</th>\n",
              "      <th>Hour</th>\n",
              "      <th>Weekday</th>\n",
              "    </tr>\n",
              "    <tr>\n",
              "      <th>InvoiceDate</th>\n",
              "      <th></th>\n",
              "      <th></th>\n",
              "      <th></th>\n",
              "      <th></th>\n",
              "      <th></th>\n",
              "      <th></th>\n",
              "      <th></th>\n",
              "      <th></th>\n",
              "      <th></th>\n",
              "      <th></th>\n",
              "      <th></th>\n",
              "      <th></th>\n",
              "    </tr>\n",
              "  </thead>\n",
              "  <tbody>\n",
              "    <tr>\n",
              "      <th>2011-01-04 10:00:00</th>\n",
              "      <td>539993</td>\n",
              "      <td>22386</td>\n",
              "      <td>JUMBO BAG PINK POLKADOT</td>\n",
              "      <td>10</td>\n",
              "      <td>1.95</td>\n",
              "      <td>13313.0</td>\n",
              "      <td>United Kingdom</td>\n",
              "      <td>2011</td>\n",
              "      <td>1</td>\n",
              "      <td>4</td>\n",
              "      <td>10</td>\n",
              "      <td>1</td>\n",
              "    </tr>\n",
              "    <tr>\n",
              "      <th>2011-01-04 10:00:00</th>\n",
              "      <td>539993</td>\n",
              "      <td>21499</td>\n",
              "      <td>BLUE POLKADOT WRAP</td>\n",
              "      <td>25</td>\n",
              "      <td>0.42</td>\n",
              "      <td>13313.0</td>\n",
              "      <td>United Kingdom</td>\n",
              "      <td>2011</td>\n",
              "      <td>1</td>\n",
              "      <td>4</td>\n",
              "      <td>10</td>\n",
              "      <td>1</td>\n",
              "    </tr>\n",
              "    <tr>\n",
              "      <th>2011-01-04 10:00:00</th>\n",
              "      <td>539993</td>\n",
              "      <td>21498</td>\n",
              "      <td>RED RETROSPOT WRAP</td>\n",
              "      <td>25</td>\n",
              "      <td>0.42</td>\n",
              "      <td>13313.0</td>\n",
              "      <td>United Kingdom</td>\n",
              "      <td>2011</td>\n",
              "      <td>1</td>\n",
              "      <td>4</td>\n",
              "      <td>10</td>\n",
              "      <td>1</td>\n",
              "    </tr>\n",
              "    <tr>\n",
              "      <th>2011-01-04 10:00:00</th>\n",
              "      <td>539993</td>\n",
              "      <td>22379</td>\n",
              "      <td>RECYCLING BAG RETROSPOT</td>\n",
              "      <td>5</td>\n",
              "      <td>2.10</td>\n",
              "      <td>13313.0</td>\n",
              "      <td>United Kingdom</td>\n",
              "      <td>2011</td>\n",
              "      <td>1</td>\n",
              "      <td>4</td>\n",
              "      <td>10</td>\n",
              "      <td>1</td>\n",
              "    </tr>\n",
              "    <tr>\n",
              "      <th>2011-01-04 10:00:00</th>\n",
              "      <td>539993</td>\n",
              "      <td>20718</td>\n",
              "      <td>RED RETROSPOT SHOPPER BAG</td>\n",
              "      <td>10</td>\n",
              "      <td>1.25</td>\n",
              "      <td>13313.0</td>\n",
              "      <td>United Kingdom</td>\n",
              "      <td>2011</td>\n",
              "      <td>1</td>\n",
              "      <td>4</td>\n",
              "      <td>10</td>\n",
              "      <td>1</td>\n",
              "    </tr>\n",
              "  </tbody>\n",
              "</table>\n",
              "</div>\n",
              "    <div class=\"colab-df-buttons\">\n",
              "\n",
              "  <div class=\"colab-df-container\">\n",
              "    <button class=\"colab-df-convert\" onclick=\"convertToInteractive('df-25655db1-658e-401a-87b8-86d74ef3f2cb')\"\n",
              "            title=\"Convert this dataframe to an interactive table.\"\n",
              "            style=\"display:none;\">\n",
              "\n",
              "  <svg xmlns=\"http://www.w3.org/2000/svg\" height=\"24px\" viewBox=\"0 -960 960 960\">\n",
              "    <path d=\"M120-120v-720h720v720H120Zm60-500h600v-160H180v160Zm220 220h160v-160H400v160Zm0 220h160v-160H400v160ZM180-400h160v-160H180v160Zm440 0h160v-160H620v160ZM180-180h160v-160H180v160Zm440 0h160v-160H620v160Z\"/>\n",
              "  </svg>\n",
              "    </button>\n",
              "\n",
              "  <style>\n",
              "    .colab-df-container {\n",
              "      display:flex;\n",
              "      gap: 12px;\n",
              "    }\n",
              "\n",
              "    .colab-df-convert {\n",
              "      background-color: #E8F0FE;\n",
              "      border: none;\n",
              "      border-radius: 50%;\n",
              "      cursor: pointer;\n",
              "      display: none;\n",
              "      fill: #1967D2;\n",
              "      height: 32px;\n",
              "      padding: 0 0 0 0;\n",
              "      width: 32px;\n",
              "    }\n",
              "\n",
              "    .colab-df-convert:hover {\n",
              "      background-color: #E2EBFA;\n",
              "      box-shadow: 0px 1px 2px rgba(60, 64, 67, 0.3), 0px 1px 3px 1px rgba(60, 64, 67, 0.15);\n",
              "      fill: #174EA6;\n",
              "    }\n",
              "\n",
              "    .colab-df-buttons div {\n",
              "      margin-bottom: 4px;\n",
              "    }\n",
              "\n",
              "    [theme=dark] .colab-df-convert {\n",
              "      background-color: #3B4455;\n",
              "      fill: #D2E3FC;\n",
              "    }\n",
              "\n",
              "    [theme=dark] .colab-df-convert:hover {\n",
              "      background-color: #434B5C;\n",
              "      box-shadow: 0px 1px 3px 1px rgba(0, 0, 0, 0.15);\n",
              "      filter: drop-shadow(0px 1px 2px rgba(0, 0, 0, 0.3));\n",
              "      fill: #FFFFFF;\n",
              "    }\n",
              "  </style>\n",
              "\n",
              "    <script>\n",
              "      const buttonEl =\n",
              "        document.querySelector('#df-25655db1-658e-401a-87b8-86d74ef3f2cb button.colab-df-convert');\n",
              "      buttonEl.style.display =\n",
              "        google.colab.kernel.accessAllowed ? 'block' : 'none';\n",
              "\n",
              "      async function convertToInteractive(key) {\n",
              "        const element = document.querySelector('#df-25655db1-658e-401a-87b8-86d74ef3f2cb');\n",
              "        const dataTable =\n",
              "          await google.colab.kernel.invokeFunction('convertToInteractive',\n",
              "                                                    [key], {});\n",
              "        if (!dataTable) return;\n",
              "\n",
              "        const docLinkHtml = 'Like what you see? Visit the ' +\n",
              "          '<a target=\"_blank\" href=https://colab.research.google.com/notebooks/data_table.ipynb>data table notebook</a>'\n",
              "          + ' to learn more about interactive tables.';\n",
              "        element.innerHTML = '';\n",
              "        dataTable['output_type'] = 'display_data';\n",
              "        await google.colab.output.renderOutput(dataTable, element);\n",
              "        const docLink = document.createElement('div');\n",
              "        docLink.innerHTML = docLinkHtml;\n",
              "        element.appendChild(docLink);\n",
              "      }\n",
              "    </script>\n",
              "  </div>\n",
              "\n",
              "\n",
              "<div id=\"df-65265b9a-ad0c-451e-aa7b-d5b88bcb2630\">\n",
              "  <button class=\"colab-df-quickchart\" onclick=\"quickchart('df-65265b9a-ad0c-451e-aa7b-d5b88bcb2630')\"\n",
              "            title=\"Suggest charts\"\n",
              "            style=\"display:none;\">\n",
              "\n",
              "<svg xmlns=\"http://www.w3.org/2000/svg\" height=\"24px\"viewBox=\"0 0 24 24\"\n",
              "     width=\"24px\">\n",
              "    <g>\n",
              "        <path d=\"M19 3H5c-1.1 0-2 .9-2 2v14c0 1.1.9 2 2 2h14c1.1 0 2-.9 2-2V5c0-1.1-.9-2-2-2zM9 17H7v-7h2v7zm4 0h-2V7h2v10zm4 0h-2v-4h2v4z\"/>\n",
              "    </g>\n",
              "</svg>\n",
              "  </button>\n",
              "\n",
              "<style>\n",
              "  .colab-df-quickchart {\n",
              "      --bg-color: #E8F0FE;\n",
              "      --fill-color: #1967D2;\n",
              "      --hover-bg-color: #E2EBFA;\n",
              "      --hover-fill-color: #174EA6;\n",
              "      --disabled-fill-color: #AAA;\n",
              "      --disabled-bg-color: #DDD;\n",
              "  }\n",
              "\n",
              "  [theme=dark] .colab-df-quickchart {\n",
              "      --bg-color: #3B4455;\n",
              "      --fill-color: #D2E3FC;\n",
              "      --hover-bg-color: #434B5C;\n",
              "      --hover-fill-color: #FFFFFF;\n",
              "      --disabled-bg-color: #3B4455;\n",
              "      --disabled-fill-color: #666;\n",
              "  }\n",
              "\n",
              "  .colab-df-quickchart {\n",
              "    background-color: var(--bg-color);\n",
              "    border: none;\n",
              "    border-radius: 50%;\n",
              "    cursor: pointer;\n",
              "    display: none;\n",
              "    fill: var(--fill-color);\n",
              "    height: 32px;\n",
              "    padding: 0;\n",
              "    width: 32px;\n",
              "  }\n",
              "\n",
              "  .colab-df-quickchart:hover {\n",
              "    background-color: var(--hover-bg-color);\n",
              "    box-shadow: 0 1px 2px rgba(60, 64, 67, 0.3), 0 1px 3px 1px rgba(60, 64, 67, 0.15);\n",
              "    fill: var(--button-hover-fill-color);\n",
              "  }\n",
              "\n",
              "  .colab-df-quickchart-complete:disabled,\n",
              "  .colab-df-quickchart-complete:disabled:hover {\n",
              "    background-color: var(--disabled-bg-color);\n",
              "    fill: var(--disabled-fill-color);\n",
              "    box-shadow: none;\n",
              "  }\n",
              "\n",
              "  .colab-df-spinner {\n",
              "    border: 2px solid var(--fill-color);\n",
              "    border-color: transparent;\n",
              "    border-bottom-color: var(--fill-color);\n",
              "    animation:\n",
              "      spin 1s steps(1) infinite;\n",
              "  }\n",
              "\n",
              "  @keyframes spin {\n",
              "    0% {\n",
              "      border-color: transparent;\n",
              "      border-bottom-color: var(--fill-color);\n",
              "      border-left-color: var(--fill-color);\n",
              "    }\n",
              "    20% {\n",
              "      border-color: transparent;\n",
              "      border-left-color: var(--fill-color);\n",
              "      border-top-color: var(--fill-color);\n",
              "    }\n",
              "    30% {\n",
              "      border-color: transparent;\n",
              "      border-left-color: var(--fill-color);\n",
              "      border-top-color: var(--fill-color);\n",
              "      border-right-color: var(--fill-color);\n",
              "    }\n",
              "    40% {\n",
              "      border-color: transparent;\n",
              "      border-right-color: var(--fill-color);\n",
              "      border-top-color: var(--fill-color);\n",
              "    }\n",
              "    60% {\n",
              "      border-color: transparent;\n",
              "      border-right-color: var(--fill-color);\n",
              "    }\n",
              "    80% {\n",
              "      border-color: transparent;\n",
              "      border-right-color: var(--fill-color);\n",
              "      border-bottom-color: var(--fill-color);\n",
              "    }\n",
              "    90% {\n",
              "      border-color: transparent;\n",
              "      border-bottom-color: var(--fill-color);\n",
              "    }\n",
              "  }\n",
              "</style>\n",
              "\n",
              "  <script>\n",
              "    async function quickchart(key) {\n",
              "      const quickchartButtonEl =\n",
              "        document.querySelector('#' + key + ' button');\n",
              "      quickchartButtonEl.disabled = true;  // To prevent multiple clicks.\n",
              "      quickchartButtonEl.classList.add('colab-df-spinner');\n",
              "      try {\n",
              "        const charts = await google.colab.kernel.invokeFunction(\n",
              "            'suggestCharts', [key], {});\n",
              "      } catch (error) {\n",
              "        console.error('Error during call to suggestCharts:', error);\n",
              "      }\n",
              "      quickchartButtonEl.classList.remove('colab-df-spinner');\n",
              "      quickchartButtonEl.classList.add('colab-df-quickchart-complete');\n",
              "    }\n",
              "    (() => {\n",
              "      let quickchartButtonEl =\n",
              "        document.querySelector('#df-65265b9a-ad0c-451e-aa7b-d5b88bcb2630 button');\n",
              "      quickchartButtonEl.style.display =\n",
              "        google.colab.kernel.accessAllowed ? 'block' : 'none';\n",
              "    })();\n",
              "  </script>\n",
              "</div>\n",
              "\n",
              "    </div>\n",
              "  </div>\n"
            ],
            "text/plain": [
              "                    InvoiceNo StockCode                Description  Quantity  \\\n",
              "InvoiceDate                                                                    \n",
              "2011-01-04 10:00:00    539993     22386    JUMBO BAG PINK POLKADOT        10   \n",
              "2011-01-04 10:00:00    539993     21499         BLUE POLKADOT WRAP        25   \n",
              "2011-01-04 10:00:00    539993     21498        RED RETROSPOT WRAP         25   \n",
              "2011-01-04 10:00:00    539993     22379   RECYCLING BAG RETROSPOT          5   \n",
              "2011-01-04 10:00:00    539993     20718  RED RETROSPOT SHOPPER BAG        10   \n",
              "\n",
              "                     UnitPrice  CustomerID         Country  Year  Month  Day  \\\n",
              "InvoiceDate                                                                    \n",
              "2011-01-04 10:00:00       1.95     13313.0  United Kingdom  2011      1    4   \n",
              "2011-01-04 10:00:00       0.42     13313.0  United Kingdom  2011      1    4   \n",
              "2011-01-04 10:00:00       0.42     13313.0  United Kingdom  2011      1    4   \n",
              "2011-01-04 10:00:00       2.10     13313.0  United Kingdom  2011      1    4   \n",
              "2011-01-04 10:00:00       1.25     13313.0  United Kingdom  2011      1    4   \n",
              "\n",
              "                     Hour  Weekday  \n",
              "InvoiceDate                         \n",
              "2011-01-04 10:00:00    10        1  \n",
              "2011-01-04 10:00:00    10        1  \n",
              "2011-01-04 10:00:00    10        1  \n",
              "2011-01-04 10:00:00    10        1  \n",
              "2011-01-04 10:00:00    10        1  "
            ]
          },
          "execution_count": 13,
          "metadata": {},
          "output_type": "execute_result"
        }
      ],
      "source": [
        "df_2011 = df.loc['2011']\n",
        "\n",
        "df_2011.head()"
      ]
    },
    {
      "cell_type": "code",
      "execution_count": 14,
      "metadata": {
        "colab": {
          "base_uri": "https://localhost:8080/",
          "height": 394
        },
        "id": "Y7HldPompuRp",
        "outputId": "de328997-b286-4e38-dca5-d75610d8fbf4"
      },
      "outputs": [
        {
          "data": {
            "application/vnd.google.colaboratory.intrinsic+json": {
              "summary": "{\n  \"name\": \"df_2011_dec\",\n  \"rows\": 25525,\n  \"fields\": [\n    {\n      \"column\": \"InvoiceDate\",\n      \"properties\": {\n        \"dtype\": \"date\",\n        \"min\": \"2011-12-01 08:12:00\",\n        \"max\": \"2011-12-09 12:50:00\",\n        \"num_unique_values\": 899,\n        \"samples\": [\n          \"2011-12-04 15:28:00\",\n          \"2011-12-08 15:24:00\",\n          \"2011-12-08 10:40:00\"\n        ],\n        \"semantic_type\": \"\",\n        \"description\": \"\"\n      }\n    },\n    {\n      \"column\": \"InvoiceNo\",\n      \"properties\": {\n        \"dtype\": \"category\",\n        \"num_unique_values\": 1015,\n        \"samples\": [\n          \"581133\",\n          \"580718\",\n          \"C580179\"\n        ],\n        \"semantic_type\": \"\",\n        \"description\": \"\"\n      }\n    },\n    {\n      \"column\": \"StockCode\",\n      \"properties\": {\n        \"dtype\": \"category\",\n        \"num_unique_values\": 2494,\n        \"samples\": [\n          \"22394\",\n          \"23178\",\n          \"22981\"\n        ],\n        \"semantic_type\": \"\",\n        \"description\": \"\"\n      }\n    },\n    {\n      \"column\": \"Description\",\n      \"properties\": {\n        \"dtype\": \"category\",\n        \"num_unique_values\": 2467,\n        \"samples\": [\n          \"DOORMAT FAIRY CAKE\",\n          \"SOMBRERO \",\n          \"PAPERWEIGHT HOME SWEET HOME\"\n        ],\n        \"semantic_type\": \"\",\n        \"description\": \"\"\n      }\n    },\n    {\n      \"column\": \"Quantity\",\n      \"properties\": {\n        \"dtype\": \"number\",\n        \"std\": 717,\n        \"min\": -80995,\n        \"max\": 80995,\n        \"num_unique_values\": 184,\n        \"samples\": [\n          -11,\n          60,\n          -55\n        ],\n        \"semantic_type\": \"\",\n        \"description\": \"\"\n      }\n    },\n    {\n      \"column\": \"UnitPrice\",\n      \"properties\": {\n        \"dtype\": \"number\",\n        \"std\": 137.5414114673158,\n        \"min\": 0.0,\n        \"max\": 17836.46,\n        \"num_unique_values\": 240,\n        \"samples\": [\n          1.49,\n          9.95,\n          24.96\n        ],\n        \"semantic_type\": \"\",\n        \"description\": \"\"\n      }\n    },\n    {\n      \"column\": \"CustomerID\",\n      \"properties\": {\n        \"dtype\": \"number\",\n        \"std\": 1727.6445384534684,\n        \"min\": 12347.0,\n        \"max\": 18283.0,\n        \"num_unique_values\": 686,\n        \"samples\": [\n          13521.0,\n          15208.0,\n          13536.0\n        ],\n        \"semantic_type\": \"\",\n        \"description\": \"\"\n      }\n    },\n    {\n      \"column\": \"Country\",\n      \"properties\": {\n        \"dtype\": \"category\",\n        \"num_unique_values\": 21,\n        \"samples\": [\n          \"United Kingdom\",\n          \"Spain\",\n          \"Greece\"\n        ],\n        \"semantic_type\": \"\",\n        \"description\": \"\"\n      }\n    },\n    {\n      \"column\": \"Year\",\n      \"properties\": {\n        \"dtype\": \"int32\",\n        \"num_unique_values\": 1,\n        \"samples\": [\n          2011\n        ],\n        \"semantic_type\": \"\",\n        \"description\": \"\"\n      }\n    },\n    {\n      \"column\": \"Month\",\n      \"properties\": {\n        \"dtype\": \"int32\",\n        \"num_unique_values\": 1,\n        \"samples\": [\n          12\n        ],\n        \"semantic_type\": \"\",\n        \"description\": \"\"\n      }\n    },\n    {\n      \"column\": \"Day\",\n      \"properties\": {\n        \"dtype\": \"int32\",\n        \"num_unique_values\": 8,\n        \"samples\": [\n          2\n        ],\n        \"semantic_type\": \"\",\n        \"description\": \"\"\n      }\n    },\n    {\n      \"column\": \"Hour\",\n      \"properties\": {\n        \"dtype\": \"int32\",\n        \"num_unique_values\": 13,\n        \"samples\": [\n          19\n        ],\n        \"semantic_type\": \"\",\n        \"description\": \"\"\n      }\n    },\n    {\n      \"column\": \"Weekday\",\n      \"properties\": {\n        \"dtype\": \"int32\",\n        \"num_unique_values\": 6,\n        \"samples\": [\n          3\n        ],\n        \"semantic_type\": \"\",\n        \"description\": \"\"\n      }\n    }\n  ]\n}",
              "type": "dataframe",
              "variable_name": "df_2011_dec"
            },
            "text/html": [
              "\n",
              "  <div id=\"df-f81ed655-4ecd-408d-8abd-a25f49699790\" class=\"colab-df-container\">\n",
              "    <div>\n",
              "<style scoped>\n",
              "    .dataframe tbody tr th:only-of-type {\n",
              "        vertical-align: middle;\n",
              "    }\n",
              "\n",
              "    .dataframe tbody tr th {\n",
              "        vertical-align: top;\n",
              "    }\n",
              "\n",
              "    .dataframe thead th {\n",
              "        text-align: right;\n",
              "    }\n",
              "</style>\n",
              "<table border=\"1\" class=\"dataframe\">\n",
              "  <thead>\n",
              "    <tr style=\"text-align: right;\">\n",
              "      <th></th>\n",
              "      <th>InvoiceNo</th>\n",
              "      <th>StockCode</th>\n",
              "      <th>Description</th>\n",
              "      <th>Quantity</th>\n",
              "      <th>UnitPrice</th>\n",
              "      <th>CustomerID</th>\n",
              "      <th>Country</th>\n",
              "      <th>Year</th>\n",
              "      <th>Month</th>\n",
              "      <th>Day</th>\n",
              "      <th>Hour</th>\n",
              "      <th>Weekday</th>\n",
              "    </tr>\n",
              "    <tr>\n",
              "      <th>InvoiceDate</th>\n",
              "      <th></th>\n",
              "      <th></th>\n",
              "      <th></th>\n",
              "      <th></th>\n",
              "      <th></th>\n",
              "      <th></th>\n",
              "      <th></th>\n",
              "      <th></th>\n",
              "      <th></th>\n",
              "      <th></th>\n",
              "      <th></th>\n",
              "      <th></th>\n",
              "    </tr>\n",
              "  </thead>\n",
              "  <tbody>\n",
              "    <tr>\n",
              "      <th>2011-12-01 08:12:00</th>\n",
              "      <td>C579889</td>\n",
              "      <td>23245</td>\n",
              "      <td>SET OF 3 REGENCY CAKE TINS</td>\n",
              "      <td>-8</td>\n",
              "      <td>4.15</td>\n",
              "      <td>13853.0</td>\n",
              "      <td>United Kingdom</td>\n",
              "      <td>2011</td>\n",
              "      <td>12</td>\n",
              "      <td>1</td>\n",
              "      <td>8</td>\n",
              "      <td>3</td>\n",
              "    </tr>\n",
              "    <tr>\n",
              "      <th>2011-12-01 08:14:00</th>\n",
              "      <td>C579890</td>\n",
              "      <td>84947</td>\n",
              "      <td>ANTIQUE SILVER TEA GLASS ENGRAVED</td>\n",
              "      <td>-1</td>\n",
              "      <td>1.25</td>\n",
              "      <td>15197.0</td>\n",
              "      <td>United Kingdom</td>\n",
              "      <td>2011</td>\n",
              "      <td>12</td>\n",
              "      <td>1</td>\n",
              "      <td>8</td>\n",
              "      <td>3</td>\n",
              "    </tr>\n",
              "    <tr>\n",
              "      <th>2011-12-01 08:14:00</th>\n",
              "      <td>C579890</td>\n",
              "      <td>23374</td>\n",
              "      <td>RED SPOT PAPER GIFT BAG</td>\n",
              "      <td>-1</td>\n",
              "      <td>0.82</td>\n",
              "      <td>15197.0</td>\n",
              "      <td>United Kingdom</td>\n",
              "      <td>2011</td>\n",
              "      <td>12</td>\n",
              "      <td>1</td>\n",
              "      <td>8</td>\n",
              "      <td>3</td>\n",
              "    </tr>\n",
              "    <tr>\n",
              "      <th>2011-12-01 08:14:00</th>\n",
              "      <td>C579890</td>\n",
              "      <td>84945</td>\n",
              "      <td>MULTI COLOUR SILVER T-LIGHT HOLDER</td>\n",
              "      <td>-2</td>\n",
              "      <td>0.85</td>\n",
              "      <td>15197.0</td>\n",
              "      <td>United Kingdom</td>\n",
              "      <td>2011</td>\n",
              "      <td>12</td>\n",
              "      <td>1</td>\n",
              "      <td>8</td>\n",
              "      <td>3</td>\n",
              "    </tr>\n",
              "    <tr>\n",
              "      <th>2011-12-01 08:18:00</th>\n",
              "      <td>C579891</td>\n",
              "      <td>23485</td>\n",
              "      <td>BOTANICAL GARDENS WALL CLOCK</td>\n",
              "      <td>-1</td>\n",
              "      <td>25.00</td>\n",
              "      <td>13644.0</td>\n",
              "      <td>United Kingdom</td>\n",
              "      <td>2011</td>\n",
              "      <td>12</td>\n",
              "      <td>1</td>\n",
              "      <td>8</td>\n",
              "      <td>3</td>\n",
              "    </tr>\n",
              "  </tbody>\n",
              "</table>\n",
              "</div>\n",
              "    <div class=\"colab-df-buttons\">\n",
              "\n",
              "  <div class=\"colab-df-container\">\n",
              "    <button class=\"colab-df-convert\" onclick=\"convertToInteractive('df-f81ed655-4ecd-408d-8abd-a25f49699790')\"\n",
              "            title=\"Convert this dataframe to an interactive table.\"\n",
              "            style=\"display:none;\">\n",
              "\n",
              "  <svg xmlns=\"http://www.w3.org/2000/svg\" height=\"24px\" viewBox=\"0 -960 960 960\">\n",
              "    <path d=\"M120-120v-720h720v720H120Zm60-500h600v-160H180v160Zm220 220h160v-160H400v160Zm0 220h160v-160H400v160ZM180-400h160v-160H180v160Zm440 0h160v-160H620v160ZM180-180h160v-160H180v160Zm440 0h160v-160H620v160Z\"/>\n",
              "  </svg>\n",
              "    </button>\n",
              "\n",
              "  <style>\n",
              "    .colab-df-container {\n",
              "      display:flex;\n",
              "      gap: 12px;\n",
              "    }\n",
              "\n",
              "    .colab-df-convert {\n",
              "      background-color: #E8F0FE;\n",
              "      border: none;\n",
              "      border-radius: 50%;\n",
              "      cursor: pointer;\n",
              "      display: none;\n",
              "      fill: #1967D2;\n",
              "      height: 32px;\n",
              "      padding: 0 0 0 0;\n",
              "      width: 32px;\n",
              "    }\n",
              "\n",
              "    .colab-df-convert:hover {\n",
              "      background-color: #E2EBFA;\n",
              "      box-shadow: 0px 1px 2px rgba(60, 64, 67, 0.3), 0px 1px 3px 1px rgba(60, 64, 67, 0.15);\n",
              "      fill: #174EA6;\n",
              "    }\n",
              "\n",
              "    .colab-df-buttons div {\n",
              "      margin-bottom: 4px;\n",
              "    }\n",
              "\n",
              "    [theme=dark] .colab-df-convert {\n",
              "      background-color: #3B4455;\n",
              "      fill: #D2E3FC;\n",
              "    }\n",
              "\n",
              "    [theme=dark] .colab-df-convert:hover {\n",
              "      background-color: #434B5C;\n",
              "      box-shadow: 0px 1px 3px 1px rgba(0, 0, 0, 0.15);\n",
              "      filter: drop-shadow(0px 1px 2px rgba(0, 0, 0, 0.3));\n",
              "      fill: #FFFFFF;\n",
              "    }\n",
              "  </style>\n",
              "\n",
              "    <script>\n",
              "      const buttonEl =\n",
              "        document.querySelector('#df-f81ed655-4ecd-408d-8abd-a25f49699790 button.colab-df-convert');\n",
              "      buttonEl.style.display =\n",
              "        google.colab.kernel.accessAllowed ? 'block' : 'none';\n",
              "\n",
              "      async function convertToInteractive(key) {\n",
              "        const element = document.querySelector('#df-f81ed655-4ecd-408d-8abd-a25f49699790');\n",
              "        const dataTable =\n",
              "          await google.colab.kernel.invokeFunction('convertToInteractive',\n",
              "                                                    [key], {});\n",
              "        if (!dataTable) return;\n",
              "\n",
              "        const docLinkHtml = 'Like what you see? Visit the ' +\n",
              "          '<a target=\"_blank\" href=https://colab.research.google.com/notebooks/data_table.ipynb>data table notebook</a>'\n",
              "          + ' to learn more about interactive tables.';\n",
              "        element.innerHTML = '';\n",
              "        dataTable['output_type'] = 'display_data';\n",
              "        await google.colab.output.renderOutput(dataTable, element);\n",
              "        const docLink = document.createElement('div');\n",
              "        docLink.innerHTML = docLinkHtml;\n",
              "        element.appendChild(docLink);\n",
              "      }\n",
              "    </script>\n",
              "  </div>\n",
              "\n",
              "\n",
              "<div id=\"df-3380c763-62cb-4d33-88d7-5cc3fdafdcce\">\n",
              "  <button class=\"colab-df-quickchart\" onclick=\"quickchart('df-3380c763-62cb-4d33-88d7-5cc3fdafdcce')\"\n",
              "            title=\"Suggest charts\"\n",
              "            style=\"display:none;\">\n",
              "\n",
              "<svg xmlns=\"http://www.w3.org/2000/svg\" height=\"24px\"viewBox=\"0 0 24 24\"\n",
              "     width=\"24px\">\n",
              "    <g>\n",
              "        <path d=\"M19 3H5c-1.1 0-2 .9-2 2v14c0 1.1.9 2 2 2h14c1.1 0 2-.9 2-2V5c0-1.1-.9-2-2-2zM9 17H7v-7h2v7zm4 0h-2V7h2v10zm4 0h-2v-4h2v4z\"/>\n",
              "    </g>\n",
              "</svg>\n",
              "  </button>\n",
              "\n",
              "<style>\n",
              "  .colab-df-quickchart {\n",
              "      --bg-color: #E8F0FE;\n",
              "      --fill-color: #1967D2;\n",
              "      --hover-bg-color: #E2EBFA;\n",
              "      --hover-fill-color: #174EA6;\n",
              "      --disabled-fill-color: #AAA;\n",
              "      --disabled-bg-color: #DDD;\n",
              "  }\n",
              "\n",
              "  [theme=dark] .colab-df-quickchart {\n",
              "      --bg-color: #3B4455;\n",
              "      --fill-color: #D2E3FC;\n",
              "      --hover-bg-color: #434B5C;\n",
              "      --hover-fill-color: #FFFFFF;\n",
              "      --disabled-bg-color: #3B4455;\n",
              "      --disabled-fill-color: #666;\n",
              "  }\n",
              "\n",
              "  .colab-df-quickchart {\n",
              "    background-color: var(--bg-color);\n",
              "    border: none;\n",
              "    border-radius: 50%;\n",
              "    cursor: pointer;\n",
              "    display: none;\n",
              "    fill: var(--fill-color);\n",
              "    height: 32px;\n",
              "    padding: 0;\n",
              "    width: 32px;\n",
              "  }\n",
              "\n",
              "  .colab-df-quickchart:hover {\n",
              "    background-color: var(--hover-bg-color);\n",
              "    box-shadow: 0 1px 2px rgba(60, 64, 67, 0.3), 0 1px 3px 1px rgba(60, 64, 67, 0.15);\n",
              "    fill: var(--button-hover-fill-color);\n",
              "  }\n",
              "\n",
              "  .colab-df-quickchart-complete:disabled,\n",
              "  .colab-df-quickchart-complete:disabled:hover {\n",
              "    background-color: var(--disabled-bg-color);\n",
              "    fill: var(--disabled-fill-color);\n",
              "    box-shadow: none;\n",
              "  }\n",
              "\n",
              "  .colab-df-spinner {\n",
              "    border: 2px solid var(--fill-color);\n",
              "    border-color: transparent;\n",
              "    border-bottom-color: var(--fill-color);\n",
              "    animation:\n",
              "      spin 1s steps(1) infinite;\n",
              "  }\n",
              "\n",
              "  @keyframes spin {\n",
              "    0% {\n",
              "      border-color: transparent;\n",
              "      border-bottom-color: var(--fill-color);\n",
              "      border-left-color: var(--fill-color);\n",
              "    }\n",
              "    20% {\n",
              "      border-color: transparent;\n",
              "      border-left-color: var(--fill-color);\n",
              "      border-top-color: var(--fill-color);\n",
              "    }\n",
              "    30% {\n",
              "      border-color: transparent;\n",
              "      border-left-color: var(--fill-color);\n",
              "      border-top-color: var(--fill-color);\n",
              "      border-right-color: var(--fill-color);\n",
              "    }\n",
              "    40% {\n",
              "      border-color: transparent;\n",
              "      border-right-color: var(--fill-color);\n",
              "      border-top-color: var(--fill-color);\n",
              "    }\n",
              "    60% {\n",
              "      border-color: transparent;\n",
              "      border-right-color: var(--fill-color);\n",
              "    }\n",
              "    80% {\n",
              "      border-color: transparent;\n",
              "      border-right-color: var(--fill-color);\n",
              "      border-bottom-color: var(--fill-color);\n",
              "    }\n",
              "    90% {\n",
              "      border-color: transparent;\n",
              "      border-bottom-color: var(--fill-color);\n",
              "    }\n",
              "  }\n",
              "</style>\n",
              "\n",
              "  <script>\n",
              "    async function quickchart(key) {\n",
              "      const quickchartButtonEl =\n",
              "        document.querySelector('#' + key + ' button');\n",
              "      quickchartButtonEl.disabled = true;  // To prevent multiple clicks.\n",
              "      quickchartButtonEl.classList.add('colab-df-spinner');\n",
              "      try {\n",
              "        const charts = await google.colab.kernel.invokeFunction(\n",
              "            'suggestCharts', [key], {});\n",
              "      } catch (error) {\n",
              "        console.error('Error during call to suggestCharts:', error);\n",
              "      }\n",
              "      quickchartButtonEl.classList.remove('colab-df-spinner');\n",
              "      quickchartButtonEl.classList.add('colab-df-quickchart-complete');\n",
              "    }\n",
              "    (() => {\n",
              "      let quickchartButtonEl =\n",
              "        document.querySelector('#df-3380c763-62cb-4d33-88d7-5cc3fdafdcce button');\n",
              "      quickchartButtonEl.style.display =\n",
              "        google.colab.kernel.accessAllowed ? 'block' : 'none';\n",
              "    })();\n",
              "  </script>\n",
              "</div>\n",
              "\n",
              "    </div>\n",
              "  </div>\n"
            ],
            "text/plain": [
              "                    InvoiceNo StockCode                         Description  \\\n",
              "InvoiceDate                                                                   \n",
              "2011-12-01 08:12:00   C579889     23245          SET OF 3 REGENCY CAKE TINS   \n",
              "2011-12-01 08:14:00   C579890     84947   ANTIQUE SILVER TEA GLASS ENGRAVED   \n",
              "2011-12-01 08:14:00   C579890     23374             RED SPOT PAPER GIFT BAG   \n",
              "2011-12-01 08:14:00   C579890     84945  MULTI COLOUR SILVER T-LIGHT HOLDER   \n",
              "2011-12-01 08:18:00   C579891     23485       BOTANICAL GARDENS WALL CLOCK    \n",
              "\n",
              "                     Quantity  UnitPrice  CustomerID         Country  Year  \\\n",
              "InvoiceDate                                                                  \n",
              "2011-12-01 08:12:00        -8       4.15     13853.0  United Kingdom  2011   \n",
              "2011-12-01 08:14:00        -1       1.25     15197.0  United Kingdom  2011   \n",
              "2011-12-01 08:14:00        -1       0.82     15197.0  United Kingdom  2011   \n",
              "2011-12-01 08:14:00        -2       0.85     15197.0  United Kingdom  2011   \n",
              "2011-12-01 08:18:00        -1      25.00     13644.0  United Kingdom  2011   \n",
              "\n",
              "                     Month  Day  Hour  Weekday  \n",
              "InvoiceDate                                     \n",
              "2011-12-01 08:12:00     12    1     8        3  \n",
              "2011-12-01 08:14:00     12    1     8        3  \n",
              "2011-12-01 08:14:00     12    1     8        3  \n",
              "2011-12-01 08:14:00     12    1     8        3  \n",
              "2011-12-01 08:18:00     12    1     8        3  "
            ]
          },
          "execution_count": 14,
          "metadata": {},
          "output_type": "execute_result"
        }
      ],
      "source": [
        "df_2011_dec = df.loc['2011-12']\n",
        "\n",
        "df_2011_dec.head()"
      ]
    },
    {
      "cell_type": "code",
      "execution_count": 15,
      "metadata": {
        "colab": {
          "base_uri": "https://localhost:8080/",
          "height": 394
        },
        "id": "DERKLZGKpv7j",
        "outputId": "f8f3d598-0cf8-437c-8e47-d651e5340f89"
      },
      "outputs": [
        {
          "data": {
            "application/vnd.google.colaboratory.intrinsic+json": {
              "summary": "{\n  \"name\": \"df_dec_range\",\n  \"rows\": 32451,\n  \"fields\": [\n    {\n      \"column\": \"InvoiceDate\",\n      \"properties\": {\n        \"dtype\": \"date\",\n        \"min\": \"2010-12-01 08:26:00\",\n        \"max\": \"2010-12-15 17:28:00\",\n        \"num_unique_values\": 1344,\n        \"samples\": [\n          \"2010-12-03 10:43:00\",\n          \"2010-12-02 17:48:00\",\n          \"2010-12-10 12:42:00\"\n        ],\n        \"semantic_type\": \"\",\n        \"description\": \"\"\n      }\n    },\n    {\n      \"column\": \"InvoiceNo\",\n      \"properties\": {\n        \"dtype\": \"category\",\n        \"num_unique_values\": 1556,\n        \"samples\": [\n          \"C539003\",\n          \"536623\",\n          \"536971\"\n        ],\n        \"semantic_type\": \"\",\n        \"description\": \"\"\n      }\n    },\n    {\n      \"column\": \"StockCode\",\n      \"properties\": {\n        \"dtype\": \"category\",\n        \"num_unique_values\": 2688,\n        \"samples\": [\n          \"84926A\",\n          \"90129C\",\n          \"22273\"\n        ],\n        \"semantic_type\": \"\",\n        \"description\": \"\"\n      }\n    },\n    {\n      \"column\": \"Description\",\n      \"properties\": {\n        \"dtype\": \"category\",\n        \"num_unique_values\": 2630,\n        \"samples\": [\n          \"BIRD HOUSE HOT WATER BOTTLE\",\n          \"AIRLINE BAG VINTAGE TOKYO 78\",\n          \"BEADED CRYSTAL HEART GREEN ON STICK\"\n        ],\n        \"semantic_type\": \"\",\n        \"description\": \"\"\n      }\n    },\n    {\n      \"column\": \"Quantity\",\n      \"properties\": {\n        \"dtype\": \"number\",\n        \"std\": 63,\n        \"min\": -9360,\n        \"max\": 2880,\n        \"num_unique_values\": 189,\n        \"samples\": [\n          71,\n          -32,\n          5\n        ],\n        \"semantic_type\": \"\",\n        \"description\": \"\"\n      }\n    },\n    {\n      \"column\": \"UnitPrice\",\n      \"properties\": {\n        \"dtype\": \"number\",\n        \"std\": 159.20936302492166,\n        \"min\": 0.0,\n        \"max\": 13541.33,\n        \"num_unique_values\": 250,\n        \"samples\": [\n          6.37,\n          1.69,\n          2.96\n        ],\n        \"semantic_type\": \"\",\n        \"description\": \"\"\n      }\n    },\n    {\n      \"column\": \"CustomerID\",\n      \"properties\": {\n        \"dtype\": \"number\",\n        \"std\": 1735.1289982431647,\n        \"min\": 12347.0,\n        \"max\": 18269.0,\n        \"num_unique_values\": 817,\n        \"samples\": [\n          13145.0,\n          17975.0,\n          17238.0\n        ],\n        \"semantic_type\": \"\",\n        \"description\": \"\"\n      }\n    },\n    {\n      \"column\": \"Country\",\n      \"properties\": {\n        \"dtype\": \"category\",\n        \"num_unique_values\": 22,\n        \"samples\": [\n          \"United Kingdom\",\n          \"Lithuania\",\n          \"Spain\"\n        ],\n        \"semantic_type\": \"\",\n        \"description\": \"\"\n      }\n    },\n    {\n      \"column\": \"Year\",\n      \"properties\": {\n        \"dtype\": \"int32\",\n        \"num_unique_values\": 1,\n        \"samples\": [\n          2010\n        ],\n        \"semantic_type\": \"\",\n        \"description\": \"\"\n      }\n    },\n    {\n      \"column\": \"Month\",\n      \"properties\": {\n        \"dtype\": \"int32\",\n        \"num_unique_values\": 1,\n        \"samples\": [\n          12\n        ],\n        \"semantic_type\": \"\",\n        \"description\": \"\"\n      }\n    },\n    {\n      \"column\": \"Day\",\n      \"properties\": {\n        \"dtype\": \"int32\",\n        \"num_unique_values\": 13,\n        \"samples\": [\n          14\n        ],\n        \"semantic_type\": \"\",\n        \"description\": \"\"\n      }\n    },\n    {\n      \"column\": \"Hour\",\n      \"properties\": {\n        \"dtype\": \"int32\",\n        \"num_unique_values\": 14,\n        \"samples\": [\n          17\n        ],\n        \"semantic_type\": \"\",\n        \"description\": \"\"\n      }\n    },\n    {\n      \"column\": \"Weekday\",\n      \"properties\": {\n        \"dtype\": \"int32\",\n        \"num_unique_values\": 6,\n        \"samples\": [\n          2\n        ],\n        \"semantic_type\": \"\",\n        \"description\": \"\"\n      }\n    }\n  ]\n}",
              "type": "dataframe",
              "variable_name": "df_dec_range"
            },
            "text/html": [
              "\n",
              "  <div id=\"df-3851ef77-7efb-48f8-a1a6-c3270747f2c7\" class=\"colab-df-container\">\n",
              "    <div>\n",
              "<style scoped>\n",
              "    .dataframe tbody tr th:only-of-type {\n",
              "        vertical-align: middle;\n",
              "    }\n",
              "\n",
              "    .dataframe tbody tr th {\n",
              "        vertical-align: top;\n",
              "    }\n",
              "\n",
              "    .dataframe thead th {\n",
              "        text-align: right;\n",
              "    }\n",
              "</style>\n",
              "<table border=\"1\" class=\"dataframe\">\n",
              "  <thead>\n",
              "    <tr style=\"text-align: right;\">\n",
              "      <th></th>\n",
              "      <th>InvoiceNo</th>\n",
              "      <th>StockCode</th>\n",
              "      <th>Description</th>\n",
              "      <th>Quantity</th>\n",
              "      <th>UnitPrice</th>\n",
              "      <th>CustomerID</th>\n",
              "      <th>Country</th>\n",
              "      <th>Year</th>\n",
              "      <th>Month</th>\n",
              "      <th>Day</th>\n",
              "      <th>Hour</th>\n",
              "      <th>Weekday</th>\n",
              "    </tr>\n",
              "    <tr>\n",
              "      <th>InvoiceDate</th>\n",
              "      <th></th>\n",
              "      <th></th>\n",
              "      <th></th>\n",
              "      <th></th>\n",
              "      <th></th>\n",
              "      <th></th>\n",
              "      <th></th>\n",
              "      <th></th>\n",
              "      <th></th>\n",
              "      <th></th>\n",
              "      <th></th>\n",
              "      <th></th>\n",
              "    </tr>\n",
              "  </thead>\n",
              "  <tbody>\n",
              "    <tr>\n",
              "      <th>2010-12-01 08:26:00</th>\n",
              "      <td>536365</td>\n",
              "      <td>85123A</td>\n",
              "      <td>WHITE HANGING HEART T-LIGHT HOLDER</td>\n",
              "      <td>6</td>\n",
              "      <td>2.55</td>\n",
              "      <td>17850.0</td>\n",
              "      <td>United Kingdom</td>\n",
              "      <td>2010</td>\n",
              "      <td>12</td>\n",
              "      <td>1</td>\n",
              "      <td>8</td>\n",
              "      <td>2</td>\n",
              "    </tr>\n",
              "    <tr>\n",
              "      <th>2010-12-01 08:26:00</th>\n",
              "      <td>536365</td>\n",
              "      <td>71053</td>\n",
              "      <td>WHITE METAL LANTERN</td>\n",
              "      <td>6</td>\n",
              "      <td>3.39</td>\n",
              "      <td>17850.0</td>\n",
              "      <td>United Kingdom</td>\n",
              "      <td>2010</td>\n",
              "      <td>12</td>\n",
              "      <td>1</td>\n",
              "      <td>8</td>\n",
              "      <td>2</td>\n",
              "    </tr>\n",
              "    <tr>\n",
              "      <th>2010-12-01 08:26:00</th>\n",
              "      <td>536365</td>\n",
              "      <td>84406B</td>\n",
              "      <td>CREAM CUPID HEARTS COAT HANGER</td>\n",
              "      <td>8</td>\n",
              "      <td>2.75</td>\n",
              "      <td>17850.0</td>\n",
              "      <td>United Kingdom</td>\n",
              "      <td>2010</td>\n",
              "      <td>12</td>\n",
              "      <td>1</td>\n",
              "      <td>8</td>\n",
              "      <td>2</td>\n",
              "    </tr>\n",
              "    <tr>\n",
              "      <th>2010-12-01 08:26:00</th>\n",
              "      <td>536365</td>\n",
              "      <td>84029G</td>\n",
              "      <td>KNITTED UNION FLAG HOT WATER BOTTLE</td>\n",
              "      <td>6</td>\n",
              "      <td>3.39</td>\n",
              "      <td>17850.0</td>\n",
              "      <td>United Kingdom</td>\n",
              "      <td>2010</td>\n",
              "      <td>12</td>\n",
              "      <td>1</td>\n",
              "      <td>8</td>\n",
              "      <td>2</td>\n",
              "    </tr>\n",
              "    <tr>\n",
              "      <th>2010-12-01 08:26:00</th>\n",
              "      <td>536365</td>\n",
              "      <td>84029E</td>\n",
              "      <td>RED WOOLLY HOTTIE WHITE HEART.</td>\n",
              "      <td>6</td>\n",
              "      <td>3.39</td>\n",
              "      <td>17850.0</td>\n",
              "      <td>United Kingdom</td>\n",
              "      <td>2010</td>\n",
              "      <td>12</td>\n",
              "      <td>1</td>\n",
              "      <td>8</td>\n",
              "      <td>2</td>\n",
              "    </tr>\n",
              "  </tbody>\n",
              "</table>\n",
              "</div>\n",
              "    <div class=\"colab-df-buttons\">\n",
              "\n",
              "  <div class=\"colab-df-container\">\n",
              "    <button class=\"colab-df-convert\" onclick=\"convertToInteractive('df-3851ef77-7efb-48f8-a1a6-c3270747f2c7')\"\n",
              "            title=\"Convert this dataframe to an interactive table.\"\n",
              "            style=\"display:none;\">\n",
              "\n",
              "  <svg xmlns=\"http://www.w3.org/2000/svg\" height=\"24px\" viewBox=\"0 -960 960 960\">\n",
              "    <path d=\"M120-120v-720h720v720H120Zm60-500h600v-160H180v160Zm220 220h160v-160H400v160Zm0 220h160v-160H400v160ZM180-400h160v-160H180v160Zm440 0h160v-160H620v160ZM180-180h160v-160H180v160Zm440 0h160v-160H620v160Z\"/>\n",
              "  </svg>\n",
              "    </button>\n",
              "\n",
              "  <style>\n",
              "    .colab-df-container {\n",
              "      display:flex;\n",
              "      gap: 12px;\n",
              "    }\n",
              "\n",
              "    .colab-df-convert {\n",
              "      background-color: #E8F0FE;\n",
              "      border: none;\n",
              "      border-radius: 50%;\n",
              "      cursor: pointer;\n",
              "      display: none;\n",
              "      fill: #1967D2;\n",
              "      height: 32px;\n",
              "      padding: 0 0 0 0;\n",
              "      width: 32px;\n",
              "    }\n",
              "\n",
              "    .colab-df-convert:hover {\n",
              "      background-color: #E2EBFA;\n",
              "      box-shadow: 0px 1px 2px rgba(60, 64, 67, 0.3), 0px 1px 3px 1px rgba(60, 64, 67, 0.15);\n",
              "      fill: #174EA6;\n",
              "    }\n",
              "\n",
              "    .colab-df-buttons div {\n",
              "      margin-bottom: 4px;\n",
              "    }\n",
              "\n",
              "    [theme=dark] .colab-df-convert {\n",
              "      background-color: #3B4455;\n",
              "      fill: #D2E3FC;\n",
              "    }\n",
              "\n",
              "    [theme=dark] .colab-df-convert:hover {\n",
              "      background-color: #434B5C;\n",
              "      box-shadow: 0px 1px 3px 1px rgba(0, 0, 0, 0.15);\n",
              "      filter: drop-shadow(0px 1px 2px rgba(0, 0, 0, 0.3));\n",
              "      fill: #FFFFFF;\n",
              "    }\n",
              "  </style>\n",
              "\n",
              "    <script>\n",
              "      const buttonEl =\n",
              "        document.querySelector('#df-3851ef77-7efb-48f8-a1a6-c3270747f2c7 button.colab-df-convert');\n",
              "      buttonEl.style.display =\n",
              "        google.colab.kernel.accessAllowed ? 'block' : 'none';\n",
              "\n",
              "      async function convertToInteractive(key) {\n",
              "        const element = document.querySelector('#df-3851ef77-7efb-48f8-a1a6-c3270747f2c7');\n",
              "        const dataTable =\n",
              "          await google.colab.kernel.invokeFunction('convertToInteractive',\n",
              "                                                    [key], {});\n",
              "        if (!dataTable) return;\n",
              "\n",
              "        const docLinkHtml = 'Like what you see? Visit the ' +\n",
              "          '<a target=\"_blank\" href=https://colab.research.google.com/notebooks/data_table.ipynb>data table notebook</a>'\n",
              "          + ' to learn more about interactive tables.';\n",
              "        element.innerHTML = '';\n",
              "        dataTable['output_type'] = 'display_data';\n",
              "        await google.colab.output.renderOutput(dataTable, element);\n",
              "        const docLink = document.createElement('div');\n",
              "        docLink.innerHTML = docLinkHtml;\n",
              "        element.appendChild(docLink);\n",
              "      }\n",
              "    </script>\n",
              "  </div>\n",
              "\n",
              "\n",
              "<div id=\"df-d57cc63a-8353-42cd-a4a5-75d430845a02\">\n",
              "  <button class=\"colab-df-quickchart\" onclick=\"quickchart('df-d57cc63a-8353-42cd-a4a5-75d430845a02')\"\n",
              "            title=\"Suggest charts\"\n",
              "            style=\"display:none;\">\n",
              "\n",
              "<svg xmlns=\"http://www.w3.org/2000/svg\" height=\"24px\"viewBox=\"0 0 24 24\"\n",
              "     width=\"24px\">\n",
              "    <g>\n",
              "        <path d=\"M19 3H5c-1.1 0-2 .9-2 2v14c0 1.1.9 2 2 2h14c1.1 0 2-.9 2-2V5c0-1.1-.9-2-2-2zM9 17H7v-7h2v7zm4 0h-2V7h2v10zm4 0h-2v-4h2v4z\"/>\n",
              "    </g>\n",
              "</svg>\n",
              "  </button>\n",
              "\n",
              "<style>\n",
              "  .colab-df-quickchart {\n",
              "      --bg-color: #E8F0FE;\n",
              "      --fill-color: #1967D2;\n",
              "      --hover-bg-color: #E2EBFA;\n",
              "      --hover-fill-color: #174EA6;\n",
              "      --disabled-fill-color: #AAA;\n",
              "      --disabled-bg-color: #DDD;\n",
              "  }\n",
              "\n",
              "  [theme=dark] .colab-df-quickchart {\n",
              "      --bg-color: #3B4455;\n",
              "      --fill-color: #D2E3FC;\n",
              "      --hover-bg-color: #434B5C;\n",
              "      --hover-fill-color: #FFFFFF;\n",
              "      --disabled-bg-color: #3B4455;\n",
              "      --disabled-fill-color: #666;\n",
              "  }\n",
              "\n",
              "  .colab-df-quickchart {\n",
              "    background-color: var(--bg-color);\n",
              "    border: none;\n",
              "    border-radius: 50%;\n",
              "    cursor: pointer;\n",
              "    display: none;\n",
              "    fill: var(--fill-color);\n",
              "    height: 32px;\n",
              "    padding: 0;\n",
              "    width: 32px;\n",
              "  }\n",
              "\n",
              "  .colab-df-quickchart:hover {\n",
              "    background-color: var(--hover-bg-color);\n",
              "    box-shadow: 0 1px 2px rgba(60, 64, 67, 0.3), 0 1px 3px 1px rgba(60, 64, 67, 0.15);\n",
              "    fill: var(--button-hover-fill-color);\n",
              "  }\n",
              "\n",
              "  .colab-df-quickchart-complete:disabled,\n",
              "  .colab-df-quickchart-complete:disabled:hover {\n",
              "    background-color: var(--disabled-bg-color);\n",
              "    fill: var(--disabled-fill-color);\n",
              "    box-shadow: none;\n",
              "  }\n",
              "\n",
              "  .colab-df-spinner {\n",
              "    border: 2px solid var(--fill-color);\n",
              "    border-color: transparent;\n",
              "    border-bottom-color: var(--fill-color);\n",
              "    animation:\n",
              "      spin 1s steps(1) infinite;\n",
              "  }\n",
              "\n",
              "  @keyframes spin {\n",
              "    0% {\n",
              "      border-color: transparent;\n",
              "      border-bottom-color: var(--fill-color);\n",
              "      border-left-color: var(--fill-color);\n",
              "    }\n",
              "    20% {\n",
              "      border-color: transparent;\n",
              "      border-left-color: var(--fill-color);\n",
              "      border-top-color: var(--fill-color);\n",
              "    }\n",
              "    30% {\n",
              "      border-color: transparent;\n",
              "      border-left-color: var(--fill-color);\n",
              "      border-top-color: var(--fill-color);\n",
              "      border-right-color: var(--fill-color);\n",
              "    }\n",
              "    40% {\n",
              "      border-color: transparent;\n",
              "      border-right-color: var(--fill-color);\n",
              "      border-top-color: var(--fill-color);\n",
              "    }\n",
              "    60% {\n",
              "      border-color: transparent;\n",
              "      border-right-color: var(--fill-color);\n",
              "    }\n",
              "    80% {\n",
              "      border-color: transparent;\n",
              "      border-right-color: var(--fill-color);\n",
              "      border-bottom-color: var(--fill-color);\n",
              "    }\n",
              "    90% {\n",
              "      border-color: transparent;\n",
              "      border-bottom-color: var(--fill-color);\n",
              "    }\n",
              "  }\n",
              "</style>\n",
              "\n",
              "  <script>\n",
              "    async function quickchart(key) {\n",
              "      const quickchartButtonEl =\n",
              "        document.querySelector('#' + key + ' button');\n",
              "      quickchartButtonEl.disabled = true;  // To prevent multiple clicks.\n",
              "      quickchartButtonEl.classList.add('colab-df-spinner');\n",
              "      try {\n",
              "        const charts = await google.colab.kernel.invokeFunction(\n",
              "            'suggestCharts', [key], {});\n",
              "      } catch (error) {\n",
              "        console.error('Error during call to suggestCharts:', error);\n",
              "      }\n",
              "      quickchartButtonEl.classList.remove('colab-df-spinner');\n",
              "      quickchartButtonEl.classList.add('colab-df-quickchart-complete');\n",
              "    }\n",
              "    (() => {\n",
              "      let quickchartButtonEl =\n",
              "        document.querySelector('#df-d57cc63a-8353-42cd-a4a5-75d430845a02 button');\n",
              "      quickchartButtonEl.style.display =\n",
              "        google.colab.kernel.accessAllowed ? 'block' : 'none';\n",
              "    })();\n",
              "  </script>\n",
              "</div>\n",
              "\n",
              "    </div>\n",
              "  </div>\n"
            ],
            "text/plain": [
              "                    InvoiceNo StockCode                          Description  \\\n",
              "InvoiceDate                                                                    \n",
              "2010-12-01 08:26:00    536365    85123A   WHITE HANGING HEART T-LIGHT HOLDER   \n",
              "2010-12-01 08:26:00    536365     71053                  WHITE METAL LANTERN   \n",
              "2010-12-01 08:26:00    536365    84406B       CREAM CUPID HEARTS COAT HANGER   \n",
              "2010-12-01 08:26:00    536365    84029G  KNITTED UNION FLAG HOT WATER BOTTLE   \n",
              "2010-12-01 08:26:00    536365    84029E       RED WOOLLY HOTTIE WHITE HEART.   \n",
              "\n",
              "                     Quantity  UnitPrice  CustomerID         Country  Year  \\\n",
              "InvoiceDate                                                                  \n",
              "2010-12-01 08:26:00         6       2.55     17850.0  United Kingdom  2010   \n",
              "2010-12-01 08:26:00         6       3.39     17850.0  United Kingdom  2010   \n",
              "2010-12-01 08:26:00         8       2.75     17850.0  United Kingdom  2010   \n",
              "2010-12-01 08:26:00         6       3.39     17850.0  United Kingdom  2010   \n",
              "2010-12-01 08:26:00         6       3.39     17850.0  United Kingdom  2010   \n",
              "\n",
              "                     Month  Day  Hour  Weekday  \n",
              "InvoiceDate                                     \n",
              "2010-12-01 08:26:00     12    1     8        2  \n",
              "2010-12-01 08:26:00     12    1     8        2  \n",
              "2010-12-01 08:26:00     12    1     8        2  \n",
              "2010-12-01 08:26:00     12    1     8        2  \n",
              "2010-12-01 08:26:00     12    1     8        2  "
            ]
          },
          "execution_count": 15,
          "metadata": {},
          "output_type": "execute_result"
        }
      ],
      "source": [
        "df_dec_range = df.loc['2010-12-01':'2010-12-15']\n",
        "df_dec_range.head()"
      ]
    },
    {
      "cell_type": "code",
      "execution_count": 16,
      "metadata": {
        "colab": {
          "base_uri": "https://localhost:8080/"
        },
        "id": "4HvaKVy_pxMF",
        "outputId": "c1aa4eb7-fb30-4d8c-b99e-9007d483d871"
      },
      "outputs": [
        {
          "data": {
            "text/plain": [
              "DatetimeIndex(['2024-01-01', '2024-01-02', '2024-01-03', '2024-01-04',\n",
              "               '2024-01-05', '2024-01-06', '2024-01-07', '2024-01-08',\n",
              "               '2024-01-09', '2024-01-10',\n",
              "               ...\n",
              "               '2024-12-22', '2024-12-23', '2024-12-24', '2024-12-25',\n",
              "               '2024-12-26', '2024-12-27', '2024-12-28', '2024-12-29',\n",
              "               '2024-12-30', '2024-12-31'],\n",
              "              dtype='datetime64[ns]', length=366, freq='D')"
            ]
          },
          "execution_count": 16,
          "metadata": {},
          "output_type": "execute_result"
        }
      ],
      "source": [
        "date_range_new = pd.date_range(start='2024-01-01', end='2024-12-31', freq='D')\n",
        "date_range_new"
      ]
    },
    {
      "cell_type": "code",
      "execution_count": 17,
      "metadata": {
        "colab": {
          "base_uri": "https://localhost:8080/",
          "height": 206
        },
        "id": "CD10tif3pyTz",
        "outputId": "e13d416e-baeb-4f18-a0cd-39e00cabb504"
      },
      "outputs": [
        {
          "data": {
            "application/vnd.google.colaboratory.intrinsic+json": {
              "summary": "{\n  \"name\": \"df_dates\",\n  \"rows\": 366,\n  \"fields\": [\n    {\n      \"column\": \"Date\",\n      \"properties\": {\n        \"dtype\": \"date\",\n        \"min\": \"2024-01-01 00:00:00\",\n        \"max\": \"2024-12-31 00:00:00\",\n        \"num_unique_values\": 366,\n        \"samples\": [\n          \"2024-07-12 00:00:00\",\n          \"2024-02-03 00:00:00\",\n          \"2024-01-16 00:00:00\"\n        ],\n        \"semantic_type\": \"\",\n        \"description\": \"\"\n      }\n    }\n  ]\n}",
              "type": "dataframe",
              "variable_name": "df_dates"
            },
            "text/html": [
              "\n",
              "  <div id=\"df-d34b2626-237c-4b26-9b8c-f77937abc296\" class=\"colab-df-container\">\n",
              "    <div>\n",
              "<style scoped>\n",
              "    .dataframe tbody tr th:only-of-type {\n",
              "        vertical-align: middle;\n",
              "    }\n",
              "\n",
              "    .dataframe tbody tr th {\n",
              "        vertical-align: top;\n",
              "    }\n",
              "\n",
              "    .dataframe thead th {\n",
              "        text-align: right;\n",
              "    }\n",
              "</style>\n",
              "<table border=\"1\" class=\"dataframe\">\n",
              "  <thead>\n",
              "    <tr style=\"text-align: right;\">\n",
              "      <th></th>\n",
              "      <th>Date</th>\n",
              "    </tr>\n",
              "  </thead>\n",
              "  <tbody>\n",
              "    <tr>\n",
              "      <th>0</th>\n",
              "      <td>2024-01-01</td>\n",
              "    </tr>\n",
              "    <tr>\n",
              "      <th>1</th>\n",
              "      <td>2024-01-02</td>\n",
              "    </tr>\n",
              "    <tr>\n",
              "      <th>2</th>\n",
              "      <td>2024-01-03</td>\n",
              "    </tr>\n",
              "    <tr>\n",
              "      <th>3</th>\n",
              "      <td>2024-01-04</td>\n",
              "    </tr>\n",
              "    <tr>\n",
              "      <th>4</th>\n",
              "      <td>2024-01-05</td>\n",
              "    </tr>\n",
              "  </tbody>\n",
              "</table>\n",
              "</div>\n",
              "    <div class=\"colab-df-buttons\">\n",
              "\n",
              "  <div class=\"colab-df-container\">\n",
              "    <button class=\"colab-df-convert\" onclick=\"convertToInteractive('df-d34b2626-237c-4b26-9b8c-f77937abc296')\"\n",
              "            title=\"Convert this dataframe to an interactive table.\"\n",
              "            style=\"display:none;\">\n",
              "\n",
              "  <svg xmlns=\"http://www.w3.org/2000/svg\" height=\"24px\" viewBox=\"0 -960 960 960\">\n",
              "    <path d=\"M120-120v-720h720v720H120Zm60-500h600v-160H180v160Zm220 220h160v-160H400v160Zm0 220h160v-160H400v160ZM180-400h160v-160H180v160Zm440 0h160v-160H620v160ZM180-180h160v-160H180v160Zm440 0h160v-160H620v160Z\"/>\n",
              "  </svg>\n",
              "    </button>\n",
              "\n",
              "  <style>\n",
              "    .colab-df-container {\n",
              "      display:flex;\n",
              "      gap: 12px;\n",
              "    }\n",
              "\n",
              "    .colab-df-convert {\n",
              "      background-color: #E8F0FE;\n",
              "      border: none;\n",
              "      border-radius: 50%;\n",
              "      cursor: pointer;\n",
              "      display: none;\n",
              "      fill: #1967D2;\n",
              "      height: 32px;\n",
              "      padding: 0 0 0 0;\n",
              "      width: 32px;\n",
              "    }\n",
              "\n",
              "    .colab-df-convert:hover {\n",
              "      background-color: #E2EBFA;\n",
              "      box-shadow: 0px 1px 2px rgba(60, 64, 67, 0.3), 0px 1px 3px 1px rgba(60, 64, 67, 0.15);\n",
              "      fill: #174EA6;\n",
              "    }\n",
              "\n",
              "    .colab-df-buttons div {\n",
              "      margin-bottom: 4px;\n",
              "    }\n",
              "\n",
              "    [theme=dark] .colab-df-convert {\n",
              "      background-color: #3B4455;\n",
              "      fill: #D2E3FC;\n",
              "    }\n",
              "\n",
              "    [theme=dark] .colab-df-convert:hover {\n",
              "      background-color: #434B5C;\n",
              "      box-shadow: 0px 1px 3px 1px rgba(0, 0, 0, 0.15);\n",
              "      filter: drop-shadow(0px 1px 2px rgba(0, 0, 0, 0.3));\n",
              "      fill: #FFFFFF;\n",
              "    }\n",
              "  </style>\n",
              "\n",
              "    <script>\n",
              "      const buttonEl =\n",
              "        document.querySelector('#df-d34b2626-237c-4b26-9b8c-f77937abc296 button.colab-df-convert');\n",
              "      buttonEl.style.display =\n",
              "        google.colab.kernel.accessAllowed ? 'block' : 'none';\n",
              "\n",
              "      async function convertToInteractive(key) {\n",
              "        const element = document.querySelector('#df-d34b2626-237c-4b26-9b8c-f77937abc296');\n",
              "        const dataTable =\n",
              "          await google.colab.kernel.invokeFunction('convertToInteractive',\n",
              "                                                    [key], {});\n",
              "        if (!dataTable) return;\n",
              "\n",
              "        const docLinkHtml = 'Like what you see? Visit the ' +\n",
              "          '<a target=\"_blank\" href=https://colab.research.google.com/notebooks/data_table.ipynb>data table notebook</a>'\n",
              "          + ' to learn more about interactive tables.';\n",
              "        element.innerHTML = '';\n",
              "        dataTable['output_type'] = 'display_data';\n",
              "        await google.colab.output.renderOutput(dataTable, element);\n",
              "        const docLink = document.createElement('div');\n",
              "        docLink.innerHTML = docLinkHtml;\n",
              "        element.appendChild(docLink);\n",
              "      }\n",
              "    </script>\n",
              "  </div>\n",
              "\n",
              "\n",
              "<div id=\"df-24987586-99ca-41a4-840d-ba75d693fcfc\">\n",
              "  <button class=\"colab-df-quickchart\" onclick=\"quickchart('df-24987586-99ca-41a4-840d-ba75d693fcfc')\"\n",
              "            title=\"Suggest charts\"\n",
              "            style=\"display:none;\">\n",
              "\n",
              "<svg xmlns=\"http://www.w3.org/2000/svg\" height=\"24px\"viewBox=\"0 0 24 24\"\n",
              "     width=\"24px\">\n",
              "    <g>\n",
              "        <path d=\"M19 3H5c-1.1 0-2 .9-2 2v14c0 1.1.9 2 2 2h14c1.1 0 2-.9 2-2V5c0-1.1-.9-2-2-2zM9 17H7v-7h2v7zm4 0h-2V7h2v10zm4 0h-2v-4h2v4z\"/>\n",
              "    </g>\n",
              "</svg>\n",
              "  </button>\n",
              "\n",
              "<style>\n",
              "  .colab-df-quickchart {\n",
              "      --bg-color: #E8F0FE;\n",
              "      --fill-color: #1967D2;\n",
              "      --hover-bg-color: #E2EBFA;\n",
              "      --hover-fill-color: #174EA6;\n",
              "      --disabled-fill-color: #AAA;\n",
              "      --disabled-bg-color: #DDD;\n",
              "  }\n",
              "\n",
              "  [theme=dark] .colab-df-quickchart {\n",
              "      --bg-color: #3B4455;\n",
              "      --fill-color: #D2E3FC;\n",
              "      --hover-bg-color: #434B5C;\n",
              "      --hover-fill-color: #FFFFFF;\n",
              "      --disabled-bg-color: #3B4455;\n",
              "      --disabled-fill-color: #666;\n",
              "  }\n",
              "\n",
              "  .colab-df-quickchart {\n",
              "    background-color: var(--bg-color);\n",
              "    border: none;\n",
              "    border-radius: 50%;\n",
              "    cursor: pointer;\n",
              "    display: none;\n",
              "    fill: var(--fill-color);\n",
              "    height: 32px;\n",
              "    padding: 0;\n",
              "    width: 32px;\n",
              "  }\n",
              "\n",
              "  .colab-df-quickchart:hover {\n",
              "    background-color: var(--hover-bg-color);\n",
              "    box-shadow: 0 1px 2px rgba(60, 64, 67, 0.3), 0 1px 3px 1px rgba(60, 64, 67, 0.15);\n",
              "    fill: var(--button-hover-fill-color);\n",
              "  }\n",
              "\n",
              "  .colab-df-quickchart-complete:disabled,\n",
              "  .colab-df-quickchart-complete:disabled:hover {\n",
              "    background-color: var(--disabled-bg-color);\n",
              "    fill: var(--disabled-fill-color);\n",
              "    box-shadow: none;\n",
              "  }\n",
              "\n",
              "  .colab-df-spinner {\n",
              "    border: 2px solid var(--fill-color);\n",
              "    border-color: transparent;\n",
              "    border-bottom-color: var(--fill-color);\n",
              "    animation:\n",
              "      spin 1s steps(1) infinite;\n",
              "  }\n",
              "\n",
              "  @keyframes spin {\n",
              "    0% {\n",
              "      border-color: transparent;\n",
              "      border-bottom-color: var(--fill-color);\n",
              "      border-left-color: var(--fill-color);\n",
              "    }\n",
              "    20% {\n",
              "      border-color: transparent;\n",
              "      border-left-color: var(--fill-color);\n",
              "      border-top-color: var(--fill-color);\n",
              "    }\n",
              "    30% {\n",
              "      border-color: transparent;\n",
              "      border-left-color: var(--fill-color);\n",
              "      border-top-color: var(--fill-color);\n",
              "      border-right-color: var(--fill-color);\n",
              "    }\n",
              "    40% {\n",
              "      border-color: transparent;\n",
              "      border-right-color: var(--fill-color);\n",
              "      border-top-color: var(--fill-color);\n",
              "    }\n",
              "    60% {\n",
              "      border-color: transparent;\n",
              "      border-right-color: var(--fill-color);\n",
              "    }\n",
              "    80% {\n",
              "      border-color: transparent;\n",
              "      border-right-color: var(--fill-color);\n",
              "      border-bottom-color: var(--fill-color);\n",
              "    }\n",
              "    90% {\n",
              "      border-color: transparent;\n",
              "      border-bottom-color: var(--fill-color);\n",
              "    }\n",
              "  }\n",
              "</style>\n",
              "\n",
              "  <script>\n",
              "    async function quickchart(key) {\n",
              "      const quickchartButtonEl =\n",
              "        document.querySelector('#' + key + ' button');\n",
              "      quickchartButtonEl.disabled = true;  // To prevent multiple clicks.\n",
              "      quickchartButtonEl.classList.add('colab-df-spinner');\n",
              "      try {\n",
              "        const charts = await google.colab.kernel.invokeFunction(\n",
              "            'suggestCharts', [key], {});\n",
              "      } catch (error) {\n",
              "        console.error('Error during call to suggestCharts:', error);\n",
              "      }\n",
              "      quickchartButtonEl.classList.remove('colab-df-spinner');\n",
              "      quickchartButtonEl.classList.add('colab-df-quickchart-complete');\n",
              "    }\n",
              "    (() => {\n",
              "      let quickchartButtonEl =\n",
              "        document.querySelector('#df-24987586-99ca-41a4-840d-ba75d693fcfc button');\n",
              "      quickchartButtonEl.style.display =\n",
              "        google.colab.kernel.accessAllowed ? 'block' : 'none';\n",
              "    })();\n",
              "  </script>\n",
              "</div>\n",
              "\n",
              "    </div>\n",
              "  </div>\n"
            ],
            "text/plain": [
              "        Date\n",
              "0 2024-01-01\n",
              "1 2024-01-02\n",
              "2 2024-01-03\n",
              "3 2024-01-04\n",
              "4 2024-01-05"
            ]
          },
          "execution_count": 17,
          "metadata": {},
          "output_type": "execute_result"
        }
      ],
      "source": [
        "df_dates = pd.DataFrame(date_range_new, columns=['Date'])\n",
        "df_dates.head()"
      ]
    },
    {
      "cell_type": "markdown",
      "metadata": {
        "id": "MCqllbiJYQWZ"
      },
      "source": [
        "# Creación de dataframes en Pandas"
      ]
    },
    {
      "cell_type": "code",
      "execution_count": null,
      "metadata": {
        "colab": {
          "base_uri": "https://localhost:8080/"
        },
        "id": "YyXm4ecvb5KJ",
        "outputId": "0575f7a1-8d25-4a45-e7e2-6234fbdfd6a3"
      },
      "outputs": [
        {
          "name": "stdout",
          "output_type": "stream",
          "text": [
            "  InvoiceNo StockCode                          Description  Quantity  \\\n",
            "0    536365    85123A   WHITE HANGING HEART T-LIGHT HOLDER         6   \n",
            "1    536365     71053                  WHITE METAL LANTERN         6   \n",
            "2    536365    84406B       CREAM CUPID HEARTS COAT HANGER         8   \n",
            "3    536365    84029G  KNITTED UNION FLAG HOT WATER BOTTLE         6   \n",
            "4    536365    84029E       RED WOOLLY HOTTIE WHITE HEART.         6   \n",
            "\n",
            "           InvoiceDate  UnitPrice  CustomerID         Country  \n",
            "0  2010-12-01 08:26:00       2.55     17850.0  United Kingdom  \n",
            "1  2010-12-01 08:26:00       3.39     17850.0  United Kingdom  \n",
            "2  2010-12-01 08:26:00       2.75     17850.0  United Kingdom  \n",
            "3  2010-12-01 08:26:00       3.39     17850.0  United Kingdom  \n",
            "4  2010-12-01 08:26:00       3.39     17850.0  United Kingdom  \n"
          ]
        }
      ],
      "source": [
        "import pandas as pd\n",
        "\n",
        "file_path = '/content/online_retail.csv'\n",
        "sales_data = pd.read_csv(file_path)\n",
        "print(sales_data.head())"
      ]
    },
    {
      "cell_type": "code",
      "execution_count": null,
      "metadata": {
        "colab": {
          "base_uri": "https://localhost:8080/"
        },
        "id": "VDVzZ5GUds0e",
        "outputId": "cb4e7d1d-b663-4a58-f472-401a8f3e8855"
      },
      "outputs": [
        {
          "name": "stdout",
          "output_type": "stream",
          "text": [
            "   A  B  c\n",
            "0  1  2  3\n",
            "1  4  5  6\n",
            "2  7  8  9\n"
          ]
        }
      ],
      "source": [
        "import numpy as np\n",
        "\n",
        "data = np.array([[1,2,3], [4,5,6], [7,8,9]])\n",
        "\n",
        "dt_from_array = pd.DataFrame(data, columns=['A','B', 'c'])\n",
        "print(dt_from_array)"
      ]
    },
    {
      "cell_type": "code",
      "execution_count": null,
      "metadata": {
        "colab": {
          "base_uri": "https://localhost:8080/"
        },
        "id": "gFYhjs_Rea_5",
        "outputId": "68560ffe-749c-4835-a96a-fff1aef18a99"
      },
      "outputs": [
        {
          "name": "stdout",
          "output_type": "stream",
          "text": [
            "   ID  Name  Age\n",
            "0   1  Jhon   22\n",
            "1   2  Anna   24\n"
          ]
        }
      ],
      "source": [
        "data = [[1,'Jhon', 22], [2,'Anna', 24]]\n",
        "\n",
        "df_from_list = pd.DataFrame(data, columns = ['ID', 'Name', 'Age'])\n",
        "print(df_from_list)"
      ]
    },
    {
      "cell_type": "code",
      "execution_count": null,
      "metadata": {
        "colab": {
          "base_uri": "https://localhost:8080/"
        },
        "id": "ytAQ_b8uexXI",
        "outputId": "2aed6152-45ca-4ec7-8087-20d8ae6b0496"
      },
      "outputs": [
        {
          "name": "stdout",
          "output_type": "stream",
          "text": [
            "   ID  Name  Age\n",
            "0   1  Jhon   22\n"
          ]
        }
      ],
      "source": [
        "data = [{'ID': 1,\n",
        "         'Name': 'Jhon',\n",
        "         'Age' : 22}]\n",
        "dt_from_dict_list = pd.DataFrame(data)\n",
        "print(dt_from_dict_list )"
      ]
    },
    {
      "cell_type": "code",
      "execution_count": null,
      "metadata": {
        "colab": {
          "base_uri": "https://localhost:8080/"
        },
        "id": "TfPWQwJqf61J",
        "outputId": "9bc04d7f-2c98-4fa5-e29a-47b79f0bbaa6"
      },
      "outputs": [
        {
          "name": "stdout",
          "output_type": "stream",
          "text": [
            "   ID  Name  Age\n",
            "0   1  Jhon   22\n",
            "1   2  Anna   24\n",
            "2   3  Mike   21\n"
          ]
        }
      ],
      "source": [
        "data = {'ID': [1,2,3], 'Name': ['Jhon', 'Anna', 'Mike'], 'Age': [22,24,21]}\n",
        "\n",
        "df_from_dict = pd.DataFrame(data)\n",
        "print(df_from_dict)"
      ]
    },
    {
      "cell_type": "code",
      "execution_count": null,
      "metadata": {
        "colab": {
          "base_uri": "https://localhost:8080/"
        },
        "id": "kCeB0FfZg0S0",
        "outputId": "6268c442-5562-4bf2-d9ad-246fd4338591"
      },
      "outputs": [
        {
          "name": "stdout",
          "output_type": "stream",
          "text": [
            "   ID  Name  Age\n",
            "0   1  Jhon   22\n",
            "1   2  Anna   24\n",
            "2   3  Mike   21\n"
          ]
        }
      ],
      "source": [
        "data = {'ID': pd.Series([1,2,3]),\n",
        "        'Name': pd.Series(['Jhon', 'Anna', 'Mike']),\n",
        "        'Age': pd.Series([22,24,21])}\n",
        "\n",
        "df_from_series_dict = pd.DataFrame(data)\n",
        "print(df_from_series_dict)"
      ]
    },
    {
      "cell_type": "code",
      "execution_count": null,
      "metadata": {
        "id": "RjJmtNdwhbGJ"
      },
      "outputs": [],
      "source": [
        "from google.colab import drive\n",
        "\n",
        "drive.mount('/content/drive')\n",
        "file_path = \"/content/drive/My Drive/online_retail.csv\"\n",
        "\n",
        "sales_data = pd.read_csv(file_path)\n",
        "print(sales_data.head())"
      ]
    },
    {
      "cell_type": "code",
      "execution_count": null,
      "metadata": {
        "id": "LcOH41Xvh7_-"
      },
      "outputs": [],
      "source": [
        "from google.colab import drive\n",
        "drive.mount('/content/drive')"
      ]
    },
    {
      "cell_type": "markdown",
      "metadata": {
        "id": "aDq9k7UnmlJV"
      },
      "source": [
        "# Matplotlib"
      ]
    },
    {
      "cell_type": "code",
      "execution_count": null,
      "metadata": {
        "colab": {
          "base_uri": "https://localhost:8080/"
        },
        "id": "9yv9WGhtm6_r",
        "outputId": "f420f029-3080-462b-ca55-32101b38d26f"
      },
      "outputs": [
        {
          "name": "stdout",
          "output_type": "stream",
          "text": [
            "Requirement already satisfied: matplotlib in /usr/local/lib/python3.10/dist-packages (3.7.1)\n",
            "Requirement already satisfied: contourpy>=1.0.1 in /usr/local/lib/python3.10/dist-packages (from matplotlib) (1.2.1)\n",
            "Requirement already satisfied: cycler>=0.10 in /usr/local/lib/python3.10/dist-packages (from matplotlib) (0.12.1)\n",
            "Requirement already satisfied: fonttools>=4.22.0 in /usr/local/lib/python3.10/dist-packages (from matplotlib) (4.53.1)\n",
            "Requirement already satisfied: kiwisolver>=1.0.1 in /usr/local/lib/python3.10/dist-packages (from matplotlib) (1.4.5)\n",
            "Requirement already satisfied: numpy>=1.20 in /usr/local/lib/python3.10/dist-packages (from matplotlib) (1.26.4)\n",
            "Requirement already satisfied: packaging>=20.0 in /usr/local/lib/python3.10/dist-packages (from matplotlib) (24.1)\n",
            "Requirement already satisfied: pillow>=6.2.0 in /usr/local/lib/python3.10/dist-packages (from matplotlib) (9.4.0)\n",
            "Requirement already satisfied: pyparsing>=2.3.1 in /usr/local/lib/python3.10/dist-packages (from matplotlib) (3.1.2)\n",
            "Requirement already satisfied: python-dateutil>=2.7 in /usr/local/lib/python3.10/dist-packages (from matplotlib) (2.8.2)\n",
            "Requirement already satisfied: six>=1.5 in /usr/local/lib/python3.10/dist-packages (from python-dateutil>=2.7->matplotlib) (1.16.0)\n"
          ]
        }
      ],
      "source": [
        "pip install matplotlib"
      ]
    },
    {
      "cell_type": "code",
      "execution_count": null,
      "metadata": {
        "colab": {
          "base_uri": "https://localhost:8080/",
          "height": 564
        },
        "id": "yT97UG-znCZj",
        "outputId": "a71706e3-7e78-44a1-f73a-99812c056624"
      },
      "outputs": [
        {
          "data": {
            "image/png": "[encoded data removed]",
            "text/plain": [
              "<Figure size 800x600 with 1 Axes>"
            ]
          },
          "metadata": {},
          "output_type": "display_data"
        }
      ],
      "source": [
        "import numpy as np\n",
        "import matplotlib.pyplot as plt\n",
        "\n",
        "month = np.array(['E', 'F', 'M', 'A', 'Ma'])\n",
        "sales = np.array([20,25,30,28,35])\n",
        "\n",
        "#Configurar el tamaño del gráfico\n",
        "plt.figure(figsize=(8,6))\n",
        "\n",
        "#Crear el gráfico\n",
        "plt.plot(month, sales, marker='o', color='blue')\n",
        "\n",
        "plt.title('Ventas mensuales de un producto')\n",
        "plt.xlabel('Meses')\n",
        "plt.ylabel('Ventas en miles de unidades')\n",
        "\n",
        "plt.show()"
      ]
    },
    {
      "cell_type": "code",
      "execution_count": null,
      "metadata": {
        "colab": {
          "base_uri": "https://localhost:8080/",
          "height": 565
        },
        "id": "VBOrTtYirL4H",
        "outputId": "c9e31db5-ef39-4295-90ba-901c3e98f56b"
      },
      "outputs": [
        {
          "data": {
            "image/png": "[encoded data removed]",
            "text/plain": [
              "<Figure size 800x600 with 1 Axes>"
            ]
          },
          "metadata": {},
          "output_type": "display_data"
        }
      ],
      "source": [
        "import matplotlib.pyplot as plt\n",
        "\n",
        "#Configurar el tamaño del gráfico\n",
        "plt.figure(figsize=(8,6))\n",
        "\n",
        "hours = [2,3,4,5,6,7,8]\n",
        "exam = [55,60,65,70,75,80,85]\n",
        "\n",
        "plt.scatter(hours, exam, color='green')\n",
        "\n",
        "plt.title('Relación entre horas estudiadas y el puntaje')\n",
        "plt.xlabel('Horas')\n",
        "plt.ylabel('Puntaje')\n",
        "\n",
        "plt.show()"
      ]
    },
    {
      "cell_type": "markdown",
      "metadata": {
        "id": "URmypzsywqGr"
      },
      "source": [
        "# Personalización"
      ]
    },
    {
      "cell_type": "code",
      "execution_count": null,
      "metadata": {
        "colab": {
          "base_uri": "https://localhost:8080/",
          "height": 565
        },
        "id": "OnrOSttnxnsC",
        "outputId": "e35cc87a-e7f6-4b62-b25c-341a88fa1cdc"
      },
      "outputs": [
        {
          "data": {
            "image/png": "[encoded data removed]",
            "text/plain": [
              "<Figure size 800x600 with 1 Axes>"
            ]
          },
          "metadata": {},
          "output_type": "display_data"
        }
      ],
      "source": [
        "import matplotlib.pyplot as plt\n",
        "\n",
        "#Configurar el tamaño del gráfico\n",
        "plt.figure(figsize=(8,6))\n",
        "\n",
        "hours = [2,3,4,5,6,7,8]\n",
        "exam_scores_student_1 = [55, 60, 65, 70, 75, 80, 85]\n",
        "exam_scores_student_2 = [50, 58, 63, 69, 74, 78, 83]\n",
        "\n",
        "#Crear gráfico de dispersión de dos estudiantes\n",
        "plt.scatter(hours, exam_scores_student_1, marker='o', color='green', label = 'Estudiante 1')\n",
        "plt.scatter(hours, exam_scores_student_2, marker='s', color='red', label = 'Estudiante 2')\n",
        "\n",
        "plt.title('Relación entre horas estudiadas y el puntaje de dos estudiantes')\n",
        "plt.xlabel('Horas')\n",
        "plt.ylabel('Puntaje')\n",
        "\n",
        "plt.show()"
      ]
    },
    {
      "cell_type": "code",
      "execution_count": null,
      "metadata": {
        "colab": {
          "base_uri": "https://localhost:8080/",
          "height": 565
        },
        "id": "NUxS6C6M1GQE",
        "outputId": "b83e0fd6-25a2-45c5-cfab-e062ff9eceac"
      },
      "outputs": [
        {
          "data": {
            "image/png": "[encoded data removed]",
            "text/plain": [
              "<Figure size 800x600 with 1 Axes>"
            ]
          },
          "metadata": {},
          "output_type": "display_data"
        }
      ],
      "source": [
        "import matplotlib.pyplot as plt\n",
        "\n",
        "#Configurar el tamaño del gráfico\n",
        "plt.figure(figsize=(8,6))\n",
        "\n",
        "hours = [2,3,4,5,6,7,8]\n",
        "exam_scores_student_1 = [55, 60, 65, 70, 75, 80, 85]\n",
        "exam_scores_student_2 = [50, 58, 63, 69, 74, 78, 83]\n",
        "\n",
        "#Crear gráfico de dispersión de dos estudiantes\n",
        "plt.plot(hours, exam_scores_student_1, marker='o', color='green', linestyle='-', linewidth = 2 , label = 'Estudiante 1')\n",
        "plt.plot(hours, exam_scores_student_2, marker='s', color='red', linestyle='--', linewidth = 2, label = 'Estudiante 2')\n",
        "\n",
        "plt.title('Relación entre horas estudiadas y el puntaje de dos estudiantes')\n",
        "plt.xlabel('Horas')\n",
        "plt.ylabel('Puntaje')\n",
        "\n",
        "plt.show()"
      ]
    },
    {
      "cell_type": "markdown",
      "metadata": {
        "id": "01EyNbSEBQEX"
      },
      "source": [
        "# Barras y Pastel"
      ]
    },
    {
      "cell_type": "code",
      "execution_count": null,
      "metadata": {
        "colab": {
          "base_uri": "https://localhost:8080/",
          "height": 564
        },
        "id": "tZTM9861BTJZ",
        "outputId": "8927bbbf-a75b-485f-8592-d828329ddd7f"
      },
      "outputs": [
        {
          "data": {
            "image/png": "[encoded data removed]",
            "text/plain": [
              "<Figure size 800x600 with 1 Axes>"
            ]
          },
          "metadata": {},
          "output_type": "display_data"
        }
      ],
      "source": [
        "import matplotlib.pyplot as plt\n",
        "\n",
        "plt.figure(figsize=(8,6))\n",
        "\n",
        "categories = ['Producto A', 'Producto B', 'Producto C']\n",
        "sales = [120,150,90]\n",
        "\n",
        "#Creación del gráfico de barras verticales\n",
        "plt.bar(categories, sales, color='skyblue', label='Ventas mensuales')\n",
        "\n",
        "#Anotación con flecha para destacar un punto específico\n",
        "plt.annotate('Máximo de ventas', xy=('Producto B', 150),xytext=('Producto C', 160),\n",
        "             arrowprops= dict(facecolor = 'black', shrink= 0.05))\n",
        "\n",
        "plt.title('Ventas de productos en un mes')\n",
        "plt.xlabel('Productos')\n",
        "plt.ylabel('Ventas')\n",
        "\n",
        "#plt.legend()\n",
        "\n",
        "plt.show()"
      ]
    },
    {
      "cell_type": "code",
      "execution_count": null,
      "metadata": {
        "colab": {
          "base_uri": "https://localhost:8080/",
          "height": 564
        },
        "id": "NcsprWXdENaD",
        "outputId": "dbae0bb5-3f4d-4c99-c3d6-959de03e2d91"
      },
      "outputs": [
        {
          "data": {
            "image/png": "[encoded data removed]",
            "text/plain": [
              "<Figure size 800x600 with 1 Axes>"
            ]
          },
          "metadata": {},
          "output_type": "display_data"
        }
      ],
      "source": [
        "import matplotlib.pyplot as plt\n",
        "\n",
        "plt.figure(figsize=(8,6))\n",
        "\n",
        "categories = ['Producto A', 'Producto B', 'Producto C']\n",
        "sales = [120,150,90]\n",
        "\n",
        "#Creación del gráfico de barras verticales\n",
        "plt.barh(categories, sales, color='skyblue', label='Ventas mensuales')\n",
        "\n",
        "\n",
        "plt.title('Ventas de productos en un mes')\n",
        "plt.ylabel('Productos')\n",
        "plt.xlabel('Ventas')\n",
        "\n",
        "#plt.legend()\n",
        "\n",
        "plt.show()"
      ]
    },
    {
      "cell_type": "code",
      "execution_count": null,
      "metadata": {
        "colab": {
          "base_uri": "https://localhost:8080/",
          "height": 521
        },
        "id": "08y7ZjDxBXcn",
        "outputId": "4b401330-baac-45fb-9e0b-d123597dea04"
      },
      "outputs": [
        {
          "data": {
            "image/png": "[encoded data removed]",
            "text/plain": [
              "<Figure size 800x600 with 1 Axes>"
            ]
          },
          "metadata": {},
          "output_type": "display_data"
        }
      ],
      "source": [
        "import matplotlib.pyplot as plt\n",
        "\n",
        "# Configurar el tamaño de la figura\n",
        "plt.figure(figsize=(8, 6))\n",
        "\n",
        "# Datos de ejemplo: Participación de mercado por producto\n",
        "products = ['Producto A', 'Producto B', 'Producto C']\n",
        "market_share = [50, 35, 15]\n",
        "\n",
        "# Creación del diagrama de pastel\n",
        "plt.pie(market_share, labels=products, autopct='%1.1f%%', startangle= 140,\n",
        "        colors=['gold', 'lightcoral', 'orange'] )\n",
        "\n",
        "#Título\n",
        "plt.title('Participación de Mercado por Producto')\n",
        "\n",
        "# Asegurar que el gráfico sea un círculo\n",
        "plt.axis('equal')\n",
        "\n",
        "# Mostrar el gráfico\n",
        "plt.show()"
      ]
    },
    {
      "cell_type": "markdown",
      "metadata": {
        "id": "6b9HeF33SjtP"
      },
      "source": [
        "# Gráficos de Histograma y Boxplot para distribuciones"
      ]
    },
    {
      "cell_type": "code",
      "execution_count": null,
      "metadata": {
        "colab": {
          "base_uri": "https://localhost:8080/"
        },
        "id": "lb8z1snLSmqt",
        "outputId": "4eb13071-482c-488f-d1b2-a31950b6088b"
      },
      "outputs": [
        {
          "name": "stdout",
          "output_type": "stream",
          "text": [
            "[177.45553169 178.83906076 181.88289816 169.5200205  170.07417256\n",
            " 171.84403311 162.06802896 169.89863075 169.6047942  173.37033625\n",
            " 162.73566637 181.25408883 179.50687689 161.65885819 173.69773821\n",
            " 158.37410557 170.7754144  159.51454595 168.11787151 168.27631534\n",
            " 166.85218875 168.01743821 171.84705935 167.8277882  167.90496428\n",
            " 166.76009035 180.3016     164.99491393 170.61388675 167.26440615\n",
            " 173.1968298  153.02649651 156.94524986 168.68294722 161.28931073\n",
            " 155.88712902 172.55022578 157.23175676 186.40273001 176.22336322\n",
            " 172.17448316 181.43577536 176.82169916 163.77455897 166.80958797\n",
            " 170.97091448 168.74763573 178.15314511 178.025117   162.75405103\n",
            " 152.21866389 138.11567281 163.68208796 171.23540497 174.25235486\n",
            " 171.51560742 162.41822879 188.04154637 162.12072889 186.71251663\n",
            " 172.3207514  165.48002304 160.35546325 181.47527982 162.10167999\n",
            " 174.18460061 188.24537486 173.10548041 151.23105068 183.8447082\n",
            " 179.18080111 151.32948357 191.27336313 193.21298972 178.61825456\n",
            " 141.94855874 164.9465612  174.77272691 175.58889073 172.51473634\n",
            " 173.94164077 170.26227185 159.38104272 175.52325273 154.21576342\n",
            " 142.30971586 175.01310529 164.69511883 182.03016029 180.05225754\n",
            " 150.85853809 166.83145152 174.14479838 177.1469129  176.39782155\n",
            " 172.95738147 170.64393448 152.07084027 151.28297108 180.30875815\n",
            " 174.6984162  176.4015149  155.23435957 175.90651628 183.82988746\n",
            " 174.52519077 187.80354919 161.80700767 178.21648453 153.94932196\n",
            " 166.85465159 191.83707248 168.88417451 178.06257835 176.04962356\n",
            " 172.00274311 172.06907948 171.22865302 164.99557516 153.36067011\n",
            " 171.5371747  176.60269244 157.05774031 151.19555085 190.78925867\n",
            " 174.52112436 166.88175909 177.65562442 177.02166474 165.73006497\n",
            " 175.57166116 156.50582356 155.23508686 167.70073992 152.1339787\n",
            " 166.73320046 157.69819496 151.65994993 169.57332321 179.85289878\n",
            " 155.59035492 168.56369786 164.0808513  170.7621951  185.57579952\n",
            " 170.61461155 148.13934056 189.76904386 173.23076538 177.77141816\n",
            " 177.74136558 177.93465494 174.96642817 183.67891058 178.08490205\n",
            " 173.5182702  158.52907462 186.10647482 176.88432139 165.9569269\n",
            " 161.24843672 171.60544429 156.57371826 171.88050742 158.66185118\n",
            " 183.20316417 155.49811154 169.5882835  152.4112122  178.2666704\n",
            " 174.20532874 170.56319574 167.09290932 172.30684027 182.05613951\n",
            " 167.94855845 163.68707242 171.99734908 175.68699867 152.49800283\n",
            " 172.68845932 165.22552655 168.74730495 184.62291352 150.36334215\n",
            " 157.88868042 184.27810198 171.11684717 167.99870169 181.18916751\n",
            " 161.27444835 168.08502223 178.17680517 181.16823098 175.85602091\n",
            " 177.16430662 156.92064755 176.17098718 166.84802901 149.43859688]\n"
          ]
        }
      ],
      "source": [
        "import numpy as np\n",
        "import matplotlib.pyplot as plt\n",
        "\n",
        "data = np.random.normal(170, 10, 200)\n",
        "print(data)"
      ]
    },
    {
      "cell_type": "code",
      "execution_count": null,
      "metadata": {
        "colab": {
          "base_uri": "https://localhost:8080/",
          "height": 472
        },
        "id": "BvRJVDEJSoZ9",
        "outputId": "d14b4dc1-1f43-40a5-f847-8495326f5c02"
      },
      "outputs": [
        {
          "data": {
            "image/png": "[encoded data removed]",
            "text/plain": [
              "<Figure size 640x480 with 1 Axes>"
            ]
          },
          "metadata": {},
          "output_type": "display_data"
        }
      ],
      "source": [
        "plt.hist(data, color='salmon', bins=20, edgecolor='black', alpha=0.6)\n",
        "plt.title('Distribución de alturas')\n",
        "plt.xlabel('Altura (cm)')\n",
        "plt.ylabel('Densidad')\n",
        "plt.show()"
      ]
    },
    {
      "cell_type": "code",
      "execution_count": null,
      "metadata": {
        "colab": {
          "base_uri": "https://localhost:8080/"
        },
        "id": "Zof5F9AYZNOd",
        "outputId": "e8b19836-61a0-45ef-f7e2-047f1697785d"
      },
      "outputs": [
        {
          "name": "stdout",
          "output_type": "stream",
          "text": [
            "[array([38.82026173, 32.00078604, 34.89368992, 41.204466  , 39.33778995,\n",
            "       25.1136106 , 34.75044209, 29.24321396, 29.48390574, 32.05299251,\n",
            "       30.72021786, 37.27136753, 33.80518863, 30.60837508, 32.21931616,\n",
            "       31.66837164, 37.47039537, 28.97420868, 31.56533851, 25.7295213 ,\n",
            "       17.23505092, 33.26809298, 34.32218099, 26.2891749 , 41.34877312,\n",
            "       22.72817163, 30.22879259, 29.06408075, 37.66389607, 37.34679385,\n",
            "       30.77473713, 31.8908126 , 25.56107126, 20.09601766, 28.26043925,\n",
            "       30.78174485, 36.1514534 , 36.01189924, 28.06336591, 28.48848625,\n",
            "       24.75723517, 22.89991031, 21.46864905, 39.75387698, 27.45173909,\n",
            "       27.80962849, 23.7360232 , 33.88745178, 21.93051076, 28.9362986 ,\n",
            "       25.52266719, 31.93451249, 27.44597431, 24.09683908, 29.85908886,\n",
            "       32.14165935, 30.33258611, 31.51235949, 26.82838953, 28.18629417,\n",
            "       26.63769776, 28.20223419, 25.93426859, 21.36858699, 30.88713071,\n",
            "       27.99109532, 21.84900827, 32.31391128, 25.46350818, 30.25972698,\n",
            "       33.64545281, 30.64491455, 35.69700342, 23.8258709 , 32.01170821,\n",
            "       26.57594955, 25.64601425, 27.10575168, 28.44223734, 30.28082671,\n",
            "       24.1742508 , 34.50413243, 32.3283122 , 22.31878157, 37.44126097,\n",
            "       39.47944588, 35.89389786, 29.10037582, 24.64623689, 35.27225863,\n",
            "       27.98411527, 36.11222535, 31.04137489, 34.88319518, 31.78183199,\n",
            "       33.53286584, 30.0525001 , 38.92935247, 30.63456046, 32.00994682]), array([49.41575349, 33.26120469, 33.64757501, 44.84698354, 34.13438297,\n",
            "       49.71810593, 37.9319051 , 36.26272594, 49.61471013, 47.40257396,\n",
            "       49.3377948 , 44.53022329, 35.69387157, 49.55032477, 38.65998315,\n",
            "       44.01228198, 44.73625984, 39.22494953, 43.07039685, 44.61103336,\n",
            "       41.88212766, 34.50299605, 41.49119087, 46.63192948, 36.5271607 ,\n",
            "       39.2518273 , 37.82423224, 49.24631864, 43.36147379, 42.03730918,\n",
            "       36.15041963, 42.69624596, 36.6283367 , 40.15915279, 36.82076961,\n",
            "       43.38216647, 42.88295408, 38.95850622, 41.98003356, 34.53469246,\n",
            "       32.54371204, 42.19695851, 40.83336748, 43.17515718, 51.91572387,\n",
            "       44.72239743, 35.43588887, 45.58508144, 33.42046295, 37.69207698,\n",
            "       39.65879197, 48.56671361, 36.27622589, 35.86780731, 39.50773738,\n",
            "       36.68260857, 45.63317961, 34.60034246, 34.26265674, 37.81089978,\n",
            "       37.50983775, 49.64766027, 44.74710403, 40.43775621, 33.87282241,\n",
            "       44.22181488, 34.99892326, 32.27614452, 45.94014896, 41.58471306,\n",
            "       44.60429412, 41.59363826, 44.28415306, 36.74487203, 34.82878579,\n",
            "       43.40797259, 35.98295168, 36.55225111, 37.72233748, 40.0873958 ,\n",
            "       38.23003044, 33.12524353, 36.78190799, 28.88298424, 43.12615726,\n",
            "       31.98971172, 34.4780833 , 40.2608254 , 36.30218502, 47.71507298,\n",
            "       33.53571545, 41.33525435, 39.80358591, 34.15953251, 42.6163833 ,\n",
            "       39.14226834, 43.85895276, 44.11752077, 50.81617975, 46.68263975]), array([33.15409081, 33.80310411, 40.49829798, 38.27631865, 38.20065763,\n",
            "       26.91521978, 34.87836938, 31.30984545, 36.399623  , 34.50924805,\n",
            "       39.55089454, 36.58609108, 38.93163981, 32.66790452, 30.27776872,\n",
            "       32.94975153, 34.91489793, 36.89575868, 46.29654475, 34.78871424,\n",
            "       30.220275  , 33.27009112, 32.68202013, 37.40740737, 27.29601493,\n",
            "       35.31630997, 35.78253269, 36.16090518, 32.01341966, 33.81039135,\n",
            "       27.87969546, 32.53340058, 32.28569262, 37.08025023, 29.21908784,\n",
            "       38.90599051, 42.47242272, 24.65007487, 37.13129365, 38.38454018,\n",
            "       31.81281487, 33.01364093, 34.33559711, 33.5110456 , 33.45493515,\n",
            "       26.61998097, 40.76165782, 40.39809296, 30.9331787 , 27.66787836,\n",
            "       37.60532438, 32.12106015, 35.70976582, 33.40335791, 38.45769376,\n",
            "       38.47374572, 31.37201311, 28.08318022, 27.08530801, 38.0518969 ,\n",
            "       29.05570371, 32.46591823, 32.01842981, 34.73716352, 25.31860097,\n",
            "       35.94389298, 37.61945512, 35.44211044, 33.44556914, 35.48700083,\n",
            "       36.99523173, 21.13703622, 44.77956154, 36.95046661, 31.73795709,\n",
            "       33.04523312, 37.46870889, 34.4194803 , 24.84657766, 45.32246431,\n",
            "       34.44729671, 40.10086356, 31.53975076, 42.68188527, 36.43171844,\n",
            "       38.04421917, 29.77373317, 41.05572645, 38.44909082, 41.50923115,\n",
            "       31.8595622 , 32.59486441, 46.51958349, 29.69992089, 34.3202515 ,\n",
            "       40.68445681, 35.48862484, 37.9147684 , 33.00275485, 36.85027944])]\n"
          ]
        }
      ],
      "source": [
        "np.random.seed(0)\n",
        "ages = [np.random.normal(30, 5, 100),\n",
        "        np.random.normal(40, 5, 100),\n",
        "        np.random.normal(35, 5, 100)]\n",
        "print(ages)"
      ]
    },
    {
      "cell_type": "code",
      "execution_count": null,
      "metadata": {
        "colab": {
          "base_uri": "https://localhost:8080/",
          "height": 472
        },
        "id": "cY8OUbEDaK7f",
        "outputId": "823a02c0-474f-47de-978d-4791e52c0d8e"
      },
      "outputs": [
        {
          "data": {
            "image/png": "[encoded data removed]",
            "text/plain": [
              "<Figure size 640x480 with 1 Axes>"
            ]
          },
          "metadata": {},
          "output_type": "display_data"
        }
      ],
      "source": [
        "plt.boxplot(ages, patch_artist=True, notch=True, vert=True,\n",
        "            labels=['Grupo 1','Grupo 2','Grupo 3'])\n",
        "\n",
        "plt.title('Distribución de edades por grupo')\n",
        "plt.xlabel('Grupo')\n",
        "plt.ylabel('Edad (años)')\n",
        "plt.show()"
      ]
    },
    {
      "cell_type": "markdown",
      "metadata": {
        "id": "I-dEiZ6MfeKa"
      },
      "source": [
        "# Subplots y Layouts Avanzados"
      ]
    },
    {
      "cell_type": "code",
      "execution_count": null,
      "metadata": {
        "id": "6weH2o3ofiqc"
      },
      "outputs": [],
      "source": [
        "import matplotlib.pyplot as plt\n",
        "import numpy as np\n",
        "import matplotlib.gridspec as gridspec\n",
        "\n",
        "x = np.linspace(0, 10, 100)\n",
        "y = np.sin(x)\n",
        "\n",
        "data = np.random.randn(100)"
      ]
    },
    {
      "cell_type": "code",
      "execution_count": null,
      "metadata": {
        "colab": {
          "base_uri": "https://localhost:8080/",
          "height": 807
        },
        "id": "GtsOLGPBfize",
        "outputId": "9544e525-f4e3-4155-e884-396edd50920f"
      },
      "outputs": [
        {
          "data": {
            "image/png": "[encoded data removed]",
            "text/plain": [
              "<Figure size 1000x800 with 3 Axes>"
            ]
          },
          "metadata": {},
          "output_type": "display_data"
        }
      ],
      "source": [
        "gs = gridspec.GridSpec(2,2, height_ratios=[2,1],width_ratios=[1,1])\n",
        "fig = plt.figure(figsize =(10,8))\n",
        "\n",
        "# Primer subplot grande, ocupa toda la primera fila\n",
        "ax1 = fig.add_subplot(gs[0,:])\n",
        "ax1.plot(x,y, color = 'blue')\n",
        "ax1.set_title('Seno de X')\n",
        "ax1.set_xlabel('x')\n",
        "ax1.set_ylabel('sin(x)')\n",
        "\n",
        "# Segundo subplot, ocupa la esquina inferior izquierda\n",
        "ax2 = fig.add_subplot(gs[1,0])\n",
        "ax2.hist(data, bins = 20, color='purple', edgecolor='black')\n",
        "ax1.set_title('Histograma')\n",
        "ax1.set_xlabel('Valor')\n",
        "ax1.set_ylabel('Frecuencia')\n",
        "\n",
        "# Tercer subplot, ubicado en la esquian inferior derecha\n",
        "ax3 = fig.add_subplot(gs[1,1])\n",
        "ax3.scatter(x,y, color = 'red')\n",
        "ax1.set_title('Dispersión de Seno')\n",
        "ax1.set_xlabel('x')\n",
        "ax1.set_ylabel('Frecuencia')\n",
        "\n",
        "plt.tight_layout()\n",
        "\n",
        "plt.show()"
      ]
    },
    {
      "cell_type": "markdown",
      "metadata": {
        "id": "X1-RD6zjog-h"
      },
      "source": [
        "\n",
        "# Series de tiempo"
      ]
    },
    {
      "cell_type": "code",
      "execution_count": null,
      "metadata": {
        "id": "LqFguzB_oiwt"
      },
      "outputs": [],
      "source": [
        "import matplotlib.pyplot as plt\n",
        "import pandas as pd\n",
        "import numpy as np\n",
        "from matplotlib.dates import DateFormatter\n",
        "\n",
        "dates = pd.date_range(start= '2023-01-01', periods=100)\n",
        "\n",
        "values = np.random.rand(100).cumsum()\n",
        "\n",
        "data = pd.DataFrame({'Date': dates, 'Value': values})"
      ]
    },
    {
      "cell_type": "code",
      "execution_count": null,
      "metadata": {
        "colab": {
          "base_uri": "https://localhost:8080/",
          "height": 617
        },
        "id": "n0sC9cdwojpc",
        "outputId": "6aaa4477-0c60-4b64-cce5-97c098238474"
      },
      "outputs": [
        {
          "data": {
            "image/png": "[encoded data removed]",
            "text/plain": [
              "<Figure size 1200x600 with 1 Axes>"
            ]
          },
          "metadata": {},
          "output_type": "display_data"
        }
      ],
      "source": [
        "#Crear Gráfico de líneas\n",
        "fig, ax = plt.subplots(figsize=(12,6))\n",
        "\n",
        "ax.plot(data['Date'], data['Value'], color = 'green')\n",
        "\n",
        "plt.xticks(rotation=45)\n",
        "\n",
        "plt.title('Serie de tiempo con formato en las fechas')\n",
        "plt.xlabel('Date')\n",
        "plt.ylabel('Value')\n",
        "\n",
        "plt.show()"
      ]
    },
    {
      "cell_type": "code",
      "execution_count": null,
      "metadata": {
        "colab": {
          "base_uri": "https://localhost:8080/",
          "height": 487
        },
        "id": "F7hLG_QCumDa",
        "outputId": "9500aa6e-3a9e-4ee3-c4c0-7478d4b282ac"
      },
      "outputs": [
        {
          "data": {
            "image/png": "[encoded data removed]",
            "text/plain": [
              "<Figure size 640x480 with 1 Axes>"
            ]
          },
          "metadata": {},
          "output_type": "display_data"
        }
      ],
      "source": [
        "dates = pd.date_range(start='2023-01-01', periods=12, freq='M')\n",
        "sales = np.random.randint(1000, 5000, size=12)\n",
        "\n",
        "sales_data = pd.DataFrame=({'Date': dates, 'Sales': sales})\n",
        "\n",
        "plt.plot(sales_data['Date'],sales_data['Sales'], marker='o',\n",
        "         linestyle = '-', label = 'Ventas mensuales')\n",
        "\n",
        "plt.gca().xaxis.set_major_formatter(DateFormatter('%b %Y'))\n",
        "\n",
        "plt.xticks(rotation=45)\n",
        "\n",
        "plt.title('Análisis de ventas mensuales')\n",
        "plt.xlabel('Date')\n",
        "plt.ylabel('Sales')\n",
        "\n",
        "plt.legend()\n",
        "\n",
        "plt.tight_layout()\n",
        "\n",
        "plt.show()"
      ]
    }
  ],
  "metadata": {
    "colab": {
      "collapsed_sections": [
        "hJftkellT_HL",
        "y_pyqw0a_071",
        "zDxxN0p_YuJV",
        "fKZ6zzGvmfpA",
        "IQmcW41MyDx4",
        "sbacxokKL6zn",
        "DD9z-gvyVPeH",
        "mJ63tV3Ccbz3",
        "R861s2E2BcTU",
        "E7-UGd80H4yw",
        "mnaDSILuTLEn",
        "HttwsTREcFot",
        "VXxEF97hj1ES",
        "YFaMmDl0xeq4",
        "3DJZIwii_ET6",
        "tb_pFxQRZ26x",
        "XeK48SxxUuHr",
        "s6EFZiQOg5B8",
        "l4ZcuxZQmNPY"
      ],
      "provenance": []
    },
    "kernelspec": {
      "display_name": "Python 3",
      "name": "python3"
    },
    "language_info": {
      "name": "python"
    }
  },
  "nbformat": 4,
  "nbformat_minor": 0
}
