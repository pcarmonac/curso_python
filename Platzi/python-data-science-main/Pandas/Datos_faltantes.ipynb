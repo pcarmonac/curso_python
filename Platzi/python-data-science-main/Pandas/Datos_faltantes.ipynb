{
  "nbformat": 4,
  "nbformat_minor": 0,
  "metadata": {
    "colab": {
      "provenance": []
    },
    "kernelspec": {
      "name": "python3",
      "display_name": "Python 3"
    },
    "language_info": {
      "name": "python"
    }
  },
  "cells": [
    {
      "cell_type": "markdown",
      "source": [
        "# Datos Faltantes"
      ],
      "metadata": {
        "id": "uI7_YNwXlMe1"
      }
    },
    {
      "cell_type": "code",
      "source": [
        "import pandas as pd\n",
        "\n",
        "path = '/content/online_retail.csv'\n",
        "retail_data = pd.read_csv(path)"
      ],
      "metadata": {
        "id": "2T4M6lUdIuMZ"
      },
      "execution_count": 80,
      "outputs": []
    },
    {
      "cell_type": "code",
      "source": [
        "missing_data = retail_data.isna()\n",
        "print(missing_data)"
      ],
      "metadata": {
        "colab": {
          "base_uri": "https://localhost:8080/"
        },
        "id": "bk8xKZzzJo0b",
        "outputId": "02ace3f6-734e-47f3-d44c-d5e1d0859fb3"
      },
      "execution_count": 81,
      "outputs": [
        {
          "output_type": "stream",
          "name": "stdout",
          "text": [
            "        InvoiceNo  StockCode  Description  Quantity  InvoiceDate  UnitPrice  \\\n",
            "0           False      False        False     False        False      False   \n",
            "1           False      False        False     False        False      False   \n",
            "2           False      False        False     False        False      False   \n",
            "3           False      False        False     False        False      False   \n",
            "4           False      False        False     False        False      False   \n",
            "...           ...        ...          ...       ...          ...        ...   \n",
            "541904      False      False        False     False        False      False   \n",
            "541905      False      False        False     False        False      False   \n",
            "541906      False      False        False     False        False      False   \n",
            "541907      False      False        False     False        False      False   \n",
            "541908      False      False        False     False        False      False   \n",
            "\n",
            "        CustomerID  Country  \n",
            "0            False    False  \n",
            "1            False    False  \n",
            "2            False    False  \n",
            "3            False    False  \n",
            "4            False    False  \n",
            "...            ...      ...  \n",
            "541904       False    False  \n",
            "541905       False    False  \n",
            "541906       False    False  \n",
            "541907       False    False  \n",
            "541908       False    False  \n",
            "\n",
            "[541909 rows x 8 columns]\n"
          ]
        }
      ]
    },
    {
      "cell_type": "code",
      "source": [
        "print(missing_data.head())"
      ],
      "metadata": {
        "colab": {
          "base_uri": "https://localhost:8080/"
        },
        "id": "vPXe_S2xJql5",
        "outputId": "6fa5a1b4-ae18-4254-a65b-81558730f48f"
      },
      "execution_count": 82,
      "outputs": [
        {
          "output_type": "stream",
          "name": "stdout",
          "text": [
            "   InvoiceNo  StockCode  Description  Quantity  InvoiceDate  UnitPrice  \\\n",
            "0      False      False        False     False        False      False   \n",
            "1      False      False        False     False        False      False   \n",
            "2      False      False        False     False        False      False   \n",
            "3      False      False        False     False        False      False   \n",
            "4      False      False        False     False        False      False   \n",
            "\n",
            "   CustomerID  Country  \n",
            "0       False    False  \n",
            "1       False    False  \n",
            "2       False    False  \n",
            "3       False    False  \n",
            "4       False    False  \n"
          ]
        }
      ]
    },
    {
      "cell_type": "code",
      "source": [
        "missing_data_count = retail_data.isna().sum()\n",
        "print('Conteo de datos faltantes por columna:\\n',missing_data_count )"
      ],
      "metadata": {
        "colab": {
          "base_uri": "https://localhost:8080/"
        },
        "id": "FA-3yMjUJsA9",
        "outputId": "476b065a-362e-44e8-94c4-2a84e50383a3"
      },
      "execution_count": 83,
      "outputs": [
        {
          "output_type": "stream",
          "name": "stdout",
          "text": [
            "Conteo de datos faltantes por columna:\n",
            " InvoiceNo           0\n",
            "StockCode           0\n",
            "Description      1454\n",
            "Quantity            0\n",
            "InvoiceDate         0\n",
            "UnitPrice           0\n",
            "CustomerID     135080\n",
            "Country             0\n",
            "dtype: int64\n"
          ]
        }
      ]
    },
    {
      "cell_type": "code",
      "source": [
        "no_missing_rows = retail_data.dropna()\n",
        "print('Datos sin filas con valores faltantes:\\n', no_missing_rows)"
      ],
      "metadata": {
        "colab": {
          "base_uri": "https://localhost:8080/"
        },
        "id": "aB7HdNkqJtSx",
        "outputId": "12a990c7-8983-477e-c70a-c7b02cb09134"
      },
      "execution_count": 84,
      "outputs": [
        {
          "output_type": "stream",
          "name": "stdout",
          "text": [
            "Datos sin filas con valores faltantes:\n",
            "        InvoiceNo StockCode                          Description  Quantity  \\\n",
            "0         536365    85123A   WHITE HANGING HEART T-LIGHT HOLDER         6   \n",
            "1         536365     71053                  WHITE METAL LANTERN         6   \n",
            "2         536365    84406B       CREAM CUPID HEARTS COAT HANGER         8   \n",
            "3         536365    84029G  KNITTED UNION FLAG HOT WATER BOTTLE         6   \n",
            "4         536365    84029E       RED WOOLLY HOTTIE WHITE HEART.         6   \n",
            "...          ...       ...                                  ...       ...   \n",
            "541904    581587     22613          PACK OF 20 SPACEBOY NAPKINS        12   \n",
            "541905    581587     22899         CHILDREN'S APRON DOLLY GIRL          6   \n",
            "541906    581587     23254        CHILDRENS CUTLERY DOLLY GIRL          4   \n",
            "541907    581587     23255      CHILDRENS CUTLERY CIRCUS PARADE         4   \n",
            "541908    581587     22138        BAKING SET 9 PIECE RETROSPOT          3   \n",
            "\n",
            "                InvoiceDate  UnitPrice  CustomerID         Country  \n",
            "0       2010-12-01 08:26:00       2.55     17850.0  United Kingdom  \n",
            "1       2010-12-01 08:26:00       3.39     17850.0  United Kingdom  \n",
            "2       2010-12-01 08:26:00       2.75     17850.0  United Kingdom  \n",
            "3       2010-12-01 08:26:00       3.39     17850.0  United Kingdom  \n",
            "4       2010-12-01 08:26:00       3.39     17850.0  United Kingdom  \n",
            "...                     ...        ...         ...             ...  \n",
            "541904  2011-12-09 12:50:00       0.85     12680.0          France  \n",
            "541905  2011-12-09 12:50:00       2.10     12680.0          France  \n",
            "541906  2011-12-09 12:50:00       4.15     12680.0          France  \n",
            "541907  2011-12-09 12:50:00       4.15     12680.0          France  \n",
            "541908  2011-12-09 12:50:00       4.95     12680.0          France  \n",
            "\n",
            "[406829 rows x 8 columns]\n"
          ]
        }
      ]
    },
    {
      "cell_type": "code",
      "source": [
        "no_missing_columns = retail_data.dropna(axis=1)\n",
        "print('DAtos sin columnas con valores faltantes:\\n', no_missing_columns)"
      ],
      "metadata": {
        "colab": {
          "base_uri": "https://localhost:8080/"
        },
        "id": "qbM69P0IJuv-",
        "outputId": "93aa0006-ef3a-4246-a557-a36b9d7044a8"
      },
      "execution_count": 85,
      "outputs": [
        {
          "output_type": "stream",
          "name": "stdout",
          "text": [
            "DAtos sin columnas con valores faltantes:\n",
            "        InvoiceNo StockCode  Quantity          InvoiceDate  UnitPrice  \\\n",
            "0         536365    85123A         6  2010-12-01 08:26:00       2.55   \n",
            "1         536365     71053         6  2010-12-01 08:26:00       3.39   \n",
            "2         536365    84406B         8  2010-12-01 08:26:00       2.75   \n",
            "3         536365    84029G         6  2010-12-01 08:26:00       3.39   \n",
            "4         536365    84029E         6  2010-12-01 08:26:00       3.39   \n",
            "...          ...       ...       ...                  ...        ...   \n",
            "541904    581587     22613        12  2011-12-09 12:50:00       0.85   \n",
            "541905    581587     22899         6  2011-12-09 12:50:00       2.10   \n",
            "541906    581587     23254         4  2011-12-09 12:50:00       4.15   \n",
            "541907    581587     23255         4  2011-12-09 12:50:00       4.15   \n",
            "541908    581587     22138         3  2011-12-09 12:50:00       4.95   \n",
            "\n",
            "               Country  \n",
            "0       United Kingdom  \n",
            "1       United Kingdom  \n",
            "2       United Kingdom  \n",
            "3       United Kingdom  \n",
            "4       United Kingdom  \n",
            "...                ...  \n",
            "541904          France  \n",
            "541905          France  \n",
            "541906          France  \n",
            "541907          France  \n",
            "541908          France  \n",
            "\n",
            "[541909 rows x 6 columns]\n"
          ]
        }
      ]
    },
    {
      "cell_type": "code",
      "source": [
        "retail_data_filled_zeros = retail_data.fillna(0)\n",
        "retail_data_filled_zeros_count = retail_data_filled_zeros.isna().sum()\n",
        "print(retail_data_filled_zeros_count)"
      ],
      "metadata": {
        "colab": {
          "base_uri": "https://localhost:8080/"
        },
        "id": "YGRCwQQBJwFr",
        "outputId": "9b163c04-f58c-494e-daab-1aa49e9008ba"
      },
      "execution_count": 86,
      "outputs": [
        {
          "output_type": "stream",
          "name": "stdout",
          "text": [
            "InvoiceNo      0\n",
            "StockCode      0\n",
            "Description    0\n",
            "Quantity       0\n",
            "InvoiceDate    0\n",
            "UnitPrice      0\n",
            "CustomerID     0\n",
            "Country        0\n",
            "dtype: int64\n"
          ]
        }
      ]
    },
    {
      "cell_type": "code",
      "source": [
        "mean_unit_price = retail_data['UnitPrice'].mean()\n",
        "retail_data_filled_mean = retail_data['UnitPrice'].fillna(mean_unit_price)\n",
        "print(retail_data_filled_mean)"
      ],
      "metadata": {
        "colab": {
          "base_uri": "https://localhost:8080/"
        },
        "id": "Y1e1d6SeJxtt",
        "outputId": "117c56ac-12c3-420f-b51f-cab50414d584"
      },
      "execution_count": 87,
      "outputs": [
        {
          "output_type": "stream",
          "name": "stdout",
          "text": [
            "0         2.55\n",
            "1         3.39\n",
            "2         2.75\n",
            "3         3.39\n",
            "4         3.39\n",
            "          ... \n",
            "541904    0.85\n",
            "541905    2.10\n",
            "541906    4.15\n",
            "541907    4.15\n",
            "541908    4.95\n",
            "Name: UnitPrice, Length: 541909, dtype: float64\n"
          ]
        }
      ]
    },
    {
      "cell_type": "code",
      "source": [],
      "metadata": {
        "id": "eEWMFxqzJzN2"
      },
      "execution_count": null,
      "outputs": []
    }
  ]
}