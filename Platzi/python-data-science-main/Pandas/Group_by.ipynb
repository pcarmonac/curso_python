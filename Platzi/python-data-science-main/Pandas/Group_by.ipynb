{
  "nbformat": 4,
  "nbformat_minor": 0,
  "metadata": {
    "colab": {
      "provenance": []
    },
    "kernelspec": {
      "name": "python3",
      "display_name": "Python 3"
    },
    "language_info": {
      "name": "python"
    }
  },
  "cells": [
    {
      "cell_type": "markdown",
      "source": [
        "# Group by\n"
      ],
      "metadata": {
        "id": "uI7_YNwXlMe1"
      }
    },
    {
      "cell_type": "code",
      "source": [
        "import pandas as pd\n",
        "\n",
        "path = '/content/online_retail.csv'\n",
        "df = pd.read_csv(path)"
      ],
      "metadata": {
        "id": "2T4M6lUdIuMZ"
      },
      "execution_count": 89,
      "outputs": []
    },
    {
      "cell_type": "code",
      "source": [
        "country_count = df['Country'].value_counts()\n",
        "print(country_count)"
      ],
      "metadata": {
        "colab": {
          "base_uri": "https://localhost:8080/"
        },
        "id": "Q9VkKzS2K8fb",
        "outputId": "2bc7c9b7-b8cf-475a-a63a-88d1860d73d6"
      },
      "execution_count": 96,
      "outputs": [
        {
          "output_type": "stream",
          "name": "stdout",
          "text": [
            "Country\n",
            "United Kingdom          495478\n",
            "Germany                   9495\n",
            "France                    8557\n",
            "EIRE                      8196\n",
            "Spain                     2533\n",
            "Netherlands               2371\n",
            "Belgium                   2069\n",
            "Switzerland               2002\n",
            "Portugal                  1519\n",
            "Australia                 1259\n",
            "Norway                    1086\n",
            "Italy                      803\n",
            "Channel Islands            758\n",
            "Finland                    695\n",
            "Cyprus                     622\n",
            "Sweden                     462\n",
            "Unspecified                446\n",
            "Austria                    401\n",
            "Denmark                    389\n",
            "Japan                      358\n",
            "Poland                     341\n",
            "Israel                     297\n",
            "USA                        291\n",
            "Hong Kong                  288\n",
            "Singapore                  229\n",
            "Iceland                    182\n",
            "Canada                     151\n",
            "Greece                     146\n",
            "Malta                      127\n",
            "United Arab Emirates        68\n",
            "European Community          61\n",
            "RSA                         58\n",
            "Lebanon                     45\n",
            "Lithuania                   35\n",
            "Brazil                      32\n",
            "Czech Republic              30\n",
            "Bahrain                     19\n",
            "Saudi Arabia                10\n",
            "Name: count, dtype: int64\n"
          ]
        }
      ]
    },
    {
      "cell_type": "code",
      "source": [
        "country_group = df.groupby('Country')['Quantity'].sum()\n",
        "print(country_group)"
      ],
      "metadata": {
        "colab": {
          "base_uri": "https://localhost:8080/"
        },
        "id": "WGd_uNz_LCro",
        "outputId": "bdbb717a-c7c4-484f-e5c4-bc5a3dc6c600"
      },
      "execution_count": 97,
      "outputs": [
        {
          "output_type": "stream",
          "name": "stdout",
          "text": [
            "Country\n",
            "Australia                 83653\n",
            "Austria                    4827\n",
            "Bahrain                     260\n",
            "Belgium                   23152\n",
            "Brazil                      356\n",
            "Canada                     2763\n",
            "Channel Islands            9479\n",
            "Cyprus                     6317\n",
            "Czech Republic              592\n",
            "Denmark                    8188\n",
            "EIRE                     142637\n",
            "European Community          497\n",
            "Finland                   10666\n",
            "France                   110480\n",
            "Germany                  117448\n",
            "Greece                     1556\n",
            "Hong Kong                  4769\n",
            "Iceland                    2458\n",
            "Israel                     4353\n",
            "Italy                      7999\n",
            "Japan                     25218\n",
            "Lebanon                     386\n",
            "Lithuania                   652\n",
            "Malta                       944\n",
            "Netherlands              200128\n",
            "Norway                    19247\n",
            "Poland                     3653\n",
            "Portugal                  16180\n",
            "RSA                         352\n",
            "Saudi Arabia                 75\n",
            "Singapore                  5234\n",
            "Spain                     26824\n",
            "Sweden                    35637\n",
            "Switzerland               30325\n",
            "USA                        1034\n",
            "United Arab Emirates        982\n",
            "United Kingdom          4263829\n",
            "Unspecified                3300\n",
            "Name: Quantity, dtype: int64\n"
          ]
        }
      ]
    },
    {
      "cell_type": "code",
      "source": [
        "country_stats = df.groupby('Country')['UnitPrice'].agg(['mean', 'sum'])\n",
        "print(country_stats)"
      ],
      "metadata": {
        "colab": {
          "base_uri": "https://localhost:8080/"
        },
        "id": "ltYBuB1NLEfV",
        "outputId": "9ff8b948-2325-4898-9e56-9ae91825ed3f"
      },
      "execution_count": 98,
      "outputs": [
        {
          "output_type": "stream",
          "name": "stdout",
          "text": [
            "                            mean          sum\n",
            "Country                                      \n",
            "Australia               3.220612     4054.750\n",
            "Austria                 4.243192     1701.520\n",
            "Bahrain                 4.556316       86.570\n",
            "Belgium                 3.644335     7540.130\n",
            "Brazil                  4.456250      142.600\n",
            "Canada                  6.030331      910.580\n",
            "Channel Islands         4.932124     3738.550\n",
            "Cyprus                  6.302363     3920.070\n",
            "Czech Republic          2.938333       88.150\n",
            "Denmark                 3.256941     1266.950\n",
            "EIRE                    5.911077    48447.190\n",
            "European Community      4.820492      294.050\n",
            "Finland                 5.448705     3786.850\n",
            "France                  5.028864    43031.990\n",
            "Germany                 3.966930    37666.000\n",
            "Greece                  4.885548      713.290\n",
            "Hong Kong              42.505208    12241.500\n",
            "Iceland                 2.644011      481.210\n",
            "Israel                  3.633131     1079.040\n",
            "Italy                   4.831121     3879.390\n",
            "Japan                   2.276145      814.860\n",
            "Lebanon                 5.387556      242.440\n",
            "Lithuania               2.841143       99.440\n",
            "Malta                   5.244173      666.010\n",
            "Netherlands             2.738317     6492.550\n",
            "Norway                  6.012026     6529.060\n",
            "Poland                  4.170880     1422.270\n",
            "Portugal                8.582976    13037.540\n",
            "RSA                     4.277586      248.100\n",
            "Saudi Arabia            2.411000       24.110\n",
            "Singapore             109.645808    25108.890\n",
            "Spain                   4.987544    12633.450\n",
            "Sweden                  3.910887     1806.830\n",
            "Switzerland             3.403442     6813.690\n",
            "USA                     2.216426      644.980\n",
            "United Arab Emirates    3.380735      229.890\n",
            "United Kingdom          4.532422  2245715.474\n",
            "Unspecified             2.699574     1204.010\n"
          ]
        }
      ]
    },
    {
      "cell_type": "code",
      "source": [
        "country_stock_group = df.groupby(['Country', 'StockCode'])['Quantity'].sum()\n",
        "print(country_stock_group)"
      ],
      "metadata": {
        "colab": {
          "base_uri": "https://localhost:8080/"
        },
        "id": "patB1e6iLFIO",
        "outputId": "588f4b84-f7fe-408b-e5c0-1a82536d74b4"
      },
      "execution_count": 99,
      "outputs": [
        {
          "output_type": "stream",
          "name": "stdout",
          "text": [
            "Country      StockCode\n",
            "Australia    15036        600\n",
            "             15056BL        3\n",
            "             16161P       400\n",
            "             16169E        25\n",
            "             20665          6\n",
            "                         ... \n",
            "Unspecified  85180A         2\n",
            "             85180B         1\n",
            "             85212         12\n",
            "             85213         12\n",
            "             85227         10\n",
            "Name: Quantity, Length: 19839, dtype: int64\n"
          ]
        }
      ]
    },
    {
      "cell_type": "code",
      "source": [
        "def total_revenue(group):\n",
        "  return (group['Quantity'] * group['UnitPrice']).sum()\n",
        "\n",
        "revenue_per_country = df.groupby('Country').apply(total_revenue)\n",
        "print(revenue_per_country)"
      ],
      "metadata": {
        "colab": {
          "base_uri": "https://localhost:8080/"
        },
        "id": "iJKb8OgjLGlo",
        "outputId": "7474893b-39e6-4a4a-a5c6-7020d822364d"
      },
      "execution_count": 100,
      "outputs": [
        {
          "output_type": "stream",
          "name": "stdout",
          "text": [
            "Country\n",
            "Australia                137077.270\n",
            "Austria                   10154.320\n",
            "Bahrain                     548.400\n",
            "Belgium                   40910.960\n",
            "Brazil                     1143.600\n",
            "Canada                     3666.380\n",
            "Channel Islands           20086.290\n",
            "Cyprus                    12946.290\n",
            "Czech Republic              707.720\n",
            "Denmark                   18768.140\n",
            "EIRE                     263276.820\n",
            "European Community         1291.750\n",
            "Finland                   22326.740\n",
            "France                   197403.900\n",
            "Germany                  221698.210\n",
            "Greece                     4710.520\n",
            "Hong Kong                 10117.040\n",
            "Iceland                    4310.000\n",
            "Israel                     7907.820\n",
            "Italy                     16890.510\n",
            "Japan                     35340.620\n",
            "Lebanon                    1693.880\n",
            "Lithuania                  1661.060\n",
            "Malta                      2505.470\n",
            "Netherlands              284661.540\n",
            "Norway                    35163.460\n",
            "Poland                     7213.140\n",
            "Portugal                  29367.020\n",
            "RSA                        1002.310\n",
            "Saudi Arabia                131.170\n",
            "Singapore                  9120.390\n",
            "Spain                     54774.580\n",
            "Sweden                    36595.910\n",
            "Switzerland               56385.350\n",
            "USA                        1730.920\n",
            "United Arab Emirates       1902.280\n",
            "United Kingdom          8187806.364\n",
            "Unspecified                4749.790\n",
            "dtype: float64\n"
          ]
        }
      ]
    }
  ]
}