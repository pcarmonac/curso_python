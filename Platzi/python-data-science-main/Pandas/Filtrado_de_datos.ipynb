{
  "nbformat": 4,
  "nbformat_minor": 0,
  "metadata": {
    "colab": {
      "provenance": []
    },
    "kernelspec": {
      "name": "python3",
      "display_name": "Python 3"
    },
    "language_info": {
      "name": "python"
    }
  },
  "cells": [
    {
      "cell_type": "markdown",
      "source": [
        "# Filtrado de datos"
      ],
      "metadata": {
        "id": "uI7_YNwXlMe1"
      }
    },
    {
      "cell_type": "code",
      "source": [
        "import pandas as pd\n",
        "\n",
        "# Leer el dataset de ventas desde un archivo CSV\n",
        "file_path = \"/content/online_retail.csv\"\n",
        "sales_data = pd.read_csv(file_path)\n",
        "\n",
        "# Convertir la columna 'InvoiceDate' a tipo datetime\n",
        "sales_data['InvoiceDate'] = pd.to_datetime(sales_data['InvoiceDate'])\n",
        "\n",
        "# Eliminar filas con valores faltantes en las columnas críticas\n",
        "sales_data.dropna(subset=['CustomerID', 'InvoiceDate'], inplace=True)\n",
        "\n",
        "# Crear una nueva columna 'TotalPrice'\n",
        "sales_data['TotalPrice'] = sales_data['Quantity'] * sales_data['UnitPrice']\n",
        "\n",
        "print(sales_data.head())\n"
      ],
      "metadata": {
        "colab": {
          "base_uri": "https://localhost:8080/"
        },
        "id": "VK8Aom0SMEta",
        "outputId": "212e63c8-13ad-47d6-9309-2ce537860874"
      },
      "execution_count": 111,
      "outputs": [
        {
          "output_type": "stream",
          "name": "stdout",
          "text": [
            "  InvoiceNo StockCode                          Description  Quantity  \\\n",
            "0    536365    85123A   WHITE HANGING HEART T-LIGHT HOLDER         6   \n",
            "1    536365     71053                  WHITE METAL LANTERN         6   \n",
            "2    536365    84406B       CREAM CUPID HEARTS COAT HANGER         8   \n",
            "3    536365    84029G  KNITTED UNION FLAG HOT WATER BOTTLE         6   \n",
            "4    536365    84029E       RED WOOLLY HOTTIE WHITE HEART.         6   \n",
            "\n",
            "          InvoiceDate  UnitPrice  CustomerID         Country  TotalPrice  \n",
            "0 2010-12-01 08:26:00       2.55     17850.0  United Kingdom       15.30  \n",
            "1 2010-12-01 08:26:00       3.39     17850.0  United Kingdom       20.34  \n",
            "2 2010-12-01 08:26:00       2.75     17850.0  United Kingdom       22.00  \n",
            "3 2010-12-01 08:26:00       3.39     17850.0  United Kingdom       20.34  \n",
            "4 2010-12-01 08:26:00       3.39     17850.0  United Kingdom       20.34  \n"
          ]
        }
      ]
    },
    {
      "cell_type": "code",
      "source": [
        "#Filtrar ventas en el Reino Unido - UK\n",
        "uk_sales = sales_data[sales_data['Country'] == 'United Kingdom']\n",
        "print(uk_sales)"
      ],
      "metadata": {
        "colab": {
          "base_uri": "https://localhost:8080/"
        },
        "id": "D_8kD_I0NWtV",
        "outputId": "d0ce5fac-3f13-4b26-991e-b3b7cce78241"
      },
      "execution_count": 112,
      "outputs": [
        {
          "output_type": "stream",
          "name": "stdout",
          "text": [
            "       InvoiceNo StockCode                          Description  Quantity  \\\n",
            "0         536365    85123A   WHITE HANGING HEART T-LIGHT HOLDER         6   \n",
            "1         536365     71053                  WHITE METAL LANTERN         6   \n",
            "2         536365    84406B       CREAM CUPID HEARTS COAT HANGER         8   \n",
            "3         536365    84029G  KNITTED UNION FLAG HOT WATER BOTTLE         6   \n",
            "4         536365    84029E       RED WOOLLY HOTTIE WHITE HEART.         6   \n",
            "...          ...       ...                                  ...       ...   \n",
            "541889    581585     22466       FAIRY TALE COTTAGE NIGHT LIGHT        12   \n",
            "541890    581586     22061  LARGE CAKE STAND  HANGING STRAWBERY         8   \n",
            "541891    581586     23275     SET OF 3 HANGING OWLS OLLIE BEAK        24   \n",
            "541892    581586     21217        RED RETROSPOT ROUND CAKE TINS        24   \n",
            "541893    581586     20685                DOORMAT RED RETROSPOT        10   \n",
            "\n",
            "               InvoiceDate  UnitPrice  CustomerID         Country  TotalPrice  \n",
            "0      2010-12-01 08:26:00       2.55     17850.0  United Kingdom       15.30  \n",
            "1      2010-12-01 08:26:00       3.39     17850.0  United Kingdom       20.34  \n",
            "2      2010-12-01 08:26:00       2.75     17850.0  United Kingdom       22.00  \n",
            "3      2010-12-01 08:26:00       3.39     17850.0  United Kingdom       20.34  \n",
            "4      2010-12-01 08:26:00       3.39     17850.0  United Kingdom       20.34  \n",
            "...                    ...        ...         ...             ...         ...  \n",
            "541889 2011-12-09 12:31:00       1.95     15804.0  United Kingdom       23.40  \n",
            "541890 2011-12-09 12:49:00       2.95     13113.0  United Kingdom       23.60  \n",
            "541891 2011-12-09 12:49:00       1.25     13113.0  United Kingdom       30.00  \n",
            "541892 2011-12-09 12:49:00       8.95     13113.0  United Kingdom      214.80  \n",
            "541893 2011-12-09 12:49:00       7.08     13113.0  United Kingdom       70.80  \n",
            "\n",
            "[361878 rows x 9 columns]\n"
          ]
        }
      ]
    },
    {
      "cell_type": "code",
      "source": [
        "high_quantity_sales = sales_data[sales_data['Quantity'] > 40]\n",
        "print(high_quantity_sales)"
      ],
      "metadata": {
        "colab": {
          "base_uri": "https://localhost:8080/"
        },
        "id": "g7NvmxtbNYyh",
        "outputId": "a3bd78f1-a7d2-4706-c52c-0d30356d34c5"
      },
      "execution_count": 113,
      "outputs": [
        {
          "output_type": "stream",
          "name": "stdout",
          "text": [
            "       InvoiceNo StockCode                         Description  Quantity  \\\n",
            "31        536370     10002         INFLATABLE POLITICAL GLOBE         48   \n",
            "46        536371     22086     PAPER CHAIN KIT 50'S CHRISTMAS         80   \n",
            "82        536376     22114   HOT WATER BOTTLE TEA AND SYMPATHY        48   \n",
            "83        536376     21733    RED HANGING HEART T-LIGHT HOLDER        64   \n",
            "96        536378     21212     PACK OF 72 RETROSPOT CAKE CASES       120   \n",
            "...          ...       ...                                 ...       ...   \n",
            "541746    581571     23167      SMALL CERAMIC TOP STORAGE JAR         96   \n",
            "541747    581571     21314       SMALL GLASS HEART TRINKET POT        48   \n",
            "541751    581572     23328  SET 6 SCHOOL MILK BOTTLES IN CRATE        48   \n",
            "541867    581584     20832    RED FLOCK LOVE HEART PHOTO FRAME        72   \n",
            "541868    581584     85038     6 CHOCOLATE LOVE HEART T-LIGHTS        48   \n",
            "\n",
            "               InvoiceDate  UnitPrice  CustomerID         Country  TotalPrice  \n",
            "31     2010-12-01 08:45:00       0.85     12583.0          France       40.80  \n",
            "46     2010-12-01 09:00:00       2.55     13748.0  United Kingdom      204.00  \n",
            "82     2010-12-01 09:32:00       3.45     15291.0  United Kingdom      165.60  \n",
            "83     2010-12-01 09:32:00       2.55     15291.0  United Kingdom      163.20  \n",
            "96     2010-12-01 09:37:00       0.42     14688.0  United Kingdom       50.40  \n",
            "...                    ...        ...         ...             ...         ...  \n",
            "541746 2011-12-09 12:00:00       0.69     15311.0  United Kingdom       66.24  \n",
            "541747 2011-12-09 12:00:00       1.85     15311.0  United Kingdom       88.80  \n",
            "541751 2011-12-09 12:08:00       3.39     16705.0  United Kingdom      162.72  \n",
            "541867 2011-12-09 12:25:00       0.72     13777.0  United Kingdom       51.84  \n",
            "541868 2011-12-09 12:25:00       1.85     13777.0  United Kingdom       88.80  \n",
            "\n",
            "[18591 rows x 9 columns]\n"
          ]
        }
      ]
    },
    {
      "cell_type": "code",
      "source": [
        "uk_high_quantity_sales = sales_data[(sales_data['Country'] == 'United Kingdom') &\n",
        "                                    (sales_data['Quantity'] > 300)]\n",
        "print(uk_high_quantity_sales)"
      ],
      "metadata": {
        "colab": {
          "base_uri": "https://localhost:8080/"
        },
        "id": "Qk779tbCNaXV",
        "outputId": "deaf8c07-292e-481c-9721-ff96215f6f5d"
      },
      "execution_count": 114,
      "outputs": [
        {
          "output_type": "stream",
          "name": "stdout",
          "text": [
            "       InvoiceNo StockCode                     Description  Quantity  \\\n",
            "181       536387     22466   FAIRY TALE COTTAGE NIGHTLIGHT       432   \n",
            "182       536387     21731   RED TOADSTOOL LED NIGHT LIGHT       432   \n",
            "730       536437     17021          NAMASTE SWAGAT INCENSE       600   \n",
            "870       536477     21137        BLACK RECORD COVER FRAME       480   \n",
            "2364      536584    84029E  RED WOOLLY HOTTIE WHITE HEART.       384   \n",
            "...          ...       ...                             ...       ...   \n",
            "540060    581457     22189         CREAM HEART CARD HOLDER       324   \n",
            "540061    581457     23543             WALL ART KEEP CALM        698   \n",
            "540070    581458     22197                  POPCORN HOLDER      1500   \n",
            "540071    581459     22197                  POPCORN HOLDER      1200   \n",
            "540421    581483     23843     PAPER CRAFT , LITTLE BIRDIE     80995   \n",
            "\n",
            "               InvoiceDate  UnitPrice  CustomerID         Country  TotalPrice  \n",
            "181    2010-12-01 09:58:00       1.45     16029.0  United Kingdom      626.40  \n",
            "182    2010-12-01 09:58:00       1.25     16029.0  United Kingdom      540.00  \n",
            "730    2010-12-01 12:12:00       0.24     13694.0  United Kingdom      144.00  \n",
            "870    2010-12-01 12:27:00       3.39     16210.0  United Kingdom     1627.20  \n",
            "2364   2010-12-01 16:22:00       2.95     13777.0  United Kingdom     1132.80  \n",
            "...                    ...        ...         ...             ...         ...  \n",
            "540060 2011-12-08 18:43:00       3.39     18102.0  United Kingdom     1098.36  \n",
            "540061 2011-12-08 18:43:00       4.15     18102.0  United Kingdom     2896.70  \n",
            "540070 2011-12-08 18:45:00       0.72     17949.0  United Kingdom     1080.00  \n",
            "540071 2011-12-08 18:46:00       0.72     17949.0  United Kingdom      864.00  \n",
            "540421 2011-12-09 09:15:00       2.08     16446.0  United Kingdom   168469.60  \n",
            "\n",
            "[727 rows x 9 columns]\n"
          ]
        }
      ]
    },
    {
      "cell_type": "code",
      "source": [
        "sales_2011 = sales_data[sales_data['InvoiceDate'].dt.year == 2011]\n",
        "print(sales_2011)"
      ],
      "metadata": {
        "colab": {
          "base_uri": "https://localhost:8080/"
        },
        "id": "hgiqDNg1Nb7C",
        "outputId": "c4b061c6-680f-4dec-a6f0-b29e29f33f61"
      },
      "execution_count": 115,
      "outputs": [
        {
          "output_type": "stream",
          "name": "stdout",
          "text": [
            "       InvoiceNo StockCode                      Description  Quantity  \\\n",
            "42481     539993     22386          JUMBO BAG PINK POLKADOT        10   \n",
            "42482     539993     21499               BLUE POLKADOT WRAP        25   \n",
            "42483     539993     21498              RED RETROSPOT WRAP         25   \n",
            "42484     539993     22379         RECYCLING BAG RETROSPOT          5   \n",
            "42485     539993     20718        RED RETROSPOT SHOPPER BAG        10   \n",
            "...          ...       ...                              ...       ...   \n",
            "541904    581587     22613      PACK OF 20 SPACEBOY NAPKINS        12   \n",
            "541905    581587     22899     CHILDREN'S APRON DOLLY GIRL          6   \n",
            "541906    581587     23254    CHILDRENS CUTLERY DOLLY GIRL          4   \n",
            "541907    581587     23255  CHILDRENS CUTLERY CIRCUS PARADE         4   \n",
            "541908    581587     22138    BAKING SET 9 PIECE RETROSPOT          3   \n",
            "\n",
            "               InvoiceDate  UnitPrice  CustomerID         Country  TotalPrice  \n",
            "42481  2011-01-04 10:00:00       1.95     13313.0  United Kingdom       19.50  \n",
            "42482  2011-01-04 10:00:00       0.42     13313.0  United Kingdom       10.50  \n",
            "42483  2011-01-04 10:00:00       0.42     13313.0  United Kingdom       10.50  \n",
            "42484  2011-01-04 10:00:00       2.10     13313.0  United Kingdom       10.50  \n",
            "42485  2011-01-04 10:00:00       1.25     13313.0  United Kingdom       12.50  \n",
            "...                    ...        ...         ...             ...         ...  \n",
            "541904 2011-12-09 12:50:00       0.85     12680.0          France       10.20  \n",
            "541905 2011-12-09 12:50:00       2.10     12680.0          France       12.60  \n",
            "541906 2011-12-09 12:50:00       4.15     12680.0          France       16.60  \n",
            "541907 2011-12-09 12:50:00       4.15     12680.0          France       16.60  \n",
            "541908 2011-12-09 12:50:00       4.95     12680.0          France       14.85  \n",
            "\n",
            "[379979 rows x 9 columns]\n"
          ]
        }
      ]
    },
    {
      "cell_type": "code",
      "source": [
        "sales_2010 = sales_data[sales_data['InvoiceDate'].dt.year == 2010]\n",
        "print(sales_2010)"
      ],
      "metadata": {
        "colab": {
          "base_uri": "https://localhost:8080/"
        },
        "id": "Oa0bLNAHNd5K",
        "outputId": "f7f60ec4-2304-4f76-c683-1a07d131fe67"
      },
      "execution_count": 116,
      "outputs": [
        {
          "output_type": "stream",
          "name": "stdout",
          "text": [
            "      InvoiceNo StockCode                          Description  Quantity  \\\n",
            "0        536365    85123A   WHITE HANGING HEART T-LIGHT HOLDER         6   \n",
            "1        536365     71053                  WHITE METAL LANTERN         6   \n",
            "2        536365    84406B       CREAM CUPID HEARTS COAT HANGER         8   \n",
            "3        536365    84029G  KNITTED UNION FLAG HOT WATER BOTTLE         6   \n",
            "4        536365    84029E       RED WOOLLY HOTTIE WHITE HEART.         6   \n",
            "...         ...       ...                                  ...       ...   \n",
            "42448    539988     84380    SET OF 3 BUTTERFLY COOKIE CUTTERS         1   \n",
            "42449    539988    84849D                HOT BATHS SOAP HOLDER         1   \n",
            "42450    539988    84849B               FAIRY SOAP SOAP HOLDER         1   \n",
            "42451    539988     22854          CREAM SWEETHEART EGG HOLDER         2   \n",
            "42452    539988    47559B                  TEA TIME OVEN GLOVE         2   \n",
            "\n",
            "              InvoiceDate  UnitPrice  CustomerID         Country  TotalPrice  \n",
            "0     2010-12-01 08:26:00       2.55     17850.0  United Kingdom       15.30  \n",
            "1     2010-12-01 08:26:00       3.39     17850.0  United Kingdom       20.34  \n",
            "2     2010-12-01 08:26:00       2.75     17850.0  United Kingdom       22.00  \n",
            "3     2010-12-01 08:26:00       3.39     17850.0  United Kingdom       20.34  \n",
            "4     2010-12-01 08:26:00       3.39     17850.0  United Kingdom       20.34  \n",
            "...                   ...        ...         ...             ...         ...  \n",
            "42448 2010-12-23 16:06:00       1.25     18116.0  United Kingdom        1.25  \n",
            "42449 2010-12-23 16:06:00       1.69     18116.0  United Kingdom        1.69  \n",
            "42450 2010-12-23 16:06:00       1.69     18116.0  United Kingdom        1.69  \n",
            "42451 2010-12-23 16:06:00       4.95     18116.0  United Kingdom        9.90  \n",
            "42452 2010-12-23 16:06:00       1.25     18116.0  United Kingdom        2.50  \n",
            "\n",
            "[26850 rows x 9 columns]\n"
          ]
        }
      ]
    },
    {
      "cell_type": "code",
      "source": [
        "sales_dec_2010 = sales_data[(sales_data['InvoiceDate'].dt.year == 2010) &\n",
        "                            (sales_data['InvoiceDate'].dt.month == 12)]\n",
        "print(sales_dec_2010)"
      ],
      "metadata": {
        "colab": {
          "base_uri": "https://localhost:8080/"
        },
        "id": "2udmVXA3NfjB",
        "outputId": "ac9b0e45-bec4-48cb-fa2d-00bd552157f3"
      },
      "execution_count": 117,
      "outputs": [
        {
          "output_type": "stream",
          "name": "stdout",
          "text": [
            "      InvoiceNo StockCode                          Description  Quantity  \\\n",
            "0        536365    85123A   WHITE HANGING HEART T-LIGHT HOLDER         6   \n",
            "1        536365     71053                  WHITE METAL LANTERN         6   \n",
            "2        536365    84406B       CREAM CUPID HEARTS COAT HANGER         8   \n",
            "3        536365    84029G  KNITTED UNION FLAG HOT WATER BOTTLE         6   \n",
            "4        536365    84029E       RED WOOLLY HOTTIE WHITE HEART.         6   \n",
            "...         ...       ...                                  ...       ...   \n",
            "42448    539988     84380    SET OF 3 BUTTERFLY COOKIE CUTTERS         1   \n",
            "42449    539988    84849D                HOT BATHS SOAP HOLDER         1   \n",
            "42450    539988    84849B               FAIRY SOAP SOAP HOLDER         1   \n",
            "42451    539988     22854          CREAM SWEETHEART EGG HOLDER         2   \n",
            "42452    539988    47559B                  TEA TIME OVEN GLOVE         2   \n",
            "\n",
            "              InvoiceDate  UnitPrice  CustomerID         Country  TotalPrice  \n",
            "0     2010-12-01 08:26:00       2.55     17850.0  United Kingdom       15.30  \n",
            "1     2010-12-01 08:26:00       3.39     17850.0  United Kingdom       20.34  \n",
            "2     2010-12-01 08:26:00       2.75     17850.0  United Kingdom       22.00  \n",
            "3     2010-12-01 08:26:00       3.39     17850.0  United Kingdom       20.34  \n",
            "4     2010-12-01 08:26:00       3.39     17850.0  United Kingdom       20.34  \n",
            "...                   ...        ...         ...             ...         ...  \n",
            "42448 2010-12-23 16:06:00       1.25     18116.0  United Kingdom        1.25  \n",
            "42449 2010-12-23 16:06:00       1.69     18116.0  United Kingdom        1.69  \n",
            "42450 2010-12-23 16:06:00       1.69     18116.0  United Kingdom        1.69  \n",
            "42451 2010-12-23 16:06:00       4.95     18116.0  United Kingdom        9.90  \n",
            "42452 2010-12-23 16:06:00       1.25     18116.0  United Kingdom        2.50  \n",
            "\n",
            "[26850 rows x 9 columns]\n"
          ]
        }
      ]
    }
  ]
}