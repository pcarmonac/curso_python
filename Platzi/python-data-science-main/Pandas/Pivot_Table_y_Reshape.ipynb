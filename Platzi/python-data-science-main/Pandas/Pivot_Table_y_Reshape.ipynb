{
  "nbformat": 4,
  "nbformat_minor": 0,
  "metadata": {
    "colab": {
      "provenance": []
    },
    "kernelspec": {
      "name": "python3",
      "display_name": "Python 3"
    },
    "language_info": {
      "name": "python"
    }
  },
  "cells": [
    {
      "cell_type": "markdown",
      "source": [
        "# Pivot Table y Reshape"
      ],
      "metadata": {
        "id": "uI7_YNwXlMe1"
      }
    },
    {
      "cell_type": "code",
      "source": [
        "pivot_table = pd.pivot_table(sales_data, values = 'Quantity', index = 'Country',\n",
        "                             columns='StockCode', aggfunc='sum')\n",
        "print(pivot_table)"
      ],
      "metadata": {
        "id": "szl2ObnqS8vf"
      },
      "execution_count": null,
      "outputs": []
    },
    {
      "cell_type": "code",
      "source": [
        "df = pd.DataFrame({\n",
        "    'A': ['foo', 'bar', 'baz'],\n",
        "    'B': [1, 2, 3],\n",
        "    'C': [4, 5, 6]\n",
        "})\n",
        "print(df)"
      ],
      "metadata": {
        "colab": {
          "base_uri": "https://localhost:8080/"
        },
        "id": "8gQuYlrtTSEx",
        "outputId": "993ac037-373f-4b90-9d00-4e1807d07f65"
      },
      "execution_count": 118,
      "outputs": [
        {
          "output_type": "stream",
          "name": "stdout",
          "text": [
            "     A  B  C\n",
            "0  foo  1  4\n",
            "1  bar  2  5\n",
            "2  baz  3  6\n"
          ]
        }
      ]
    },
    {
      "cell_type": "code",
      "source": [
        "df_stacked = df.stack()\n",
        "print(df_stacked)"
      ],
      "metadata": {
        "colab": {
          "base_uri": "https://localhost:8080/"
        },
        "id": "NJX5GdNLTT-8",
        "outputId": "2d79686f-bd67-4c52-ecdf-3a4120b38ec9"
      },
      "execution_count": 119,
      "outputs": [
        {
          "output_type": "stream",
          "name": "stdout",
          "text": [
            "0  A    foo\n",
            "   B      1\n",
            "   C      4\n",
            "1  A    bar\n",
            "   B      2\n",
            "   C      5\n",
            "2  A    baz\n",
            "   B      3\n",
            "   C      6\n",
            "dtype: object\n"
          ]
        }
      ]
    }
  ]
}