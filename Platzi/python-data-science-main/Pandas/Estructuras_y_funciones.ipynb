{
  "nbformat": 4,
  "nbformat_minor": 0,
  "metadata": {
    "colab": {
      "provenance": []
    },
    "kernelspec": {
      "name": "python3",
      "display_name": "Python 3"
    },
    "language_info": {
      "name": "python"
    }
  },
  "cells": [
    {
      "cell_type": "markdown",
      "source": [
        "# Estructuras y funciones"
      ],
      "metadata": {
        "id": "uI7_YNwXlMe1"
      }
    },
    {
      "cell_type": "code",
      "source": [
        "import pandas as pd\n",
        "\n",
        "path = '/content/online_retail.csv'\n",
        "retail_data = pd.read_csv(path)"
      ],
      "metadata": {
        "id": "mGY196qTH0ue"
      },
      "execution_count": 61,
      "outputs": []
    },
    {
      "cell_type": "code",
      "source": [
        "# Nombres de columnas\n",
        "columns_names = retail_data.columns\n",
        "print(columns_names)"
      ],
      "metadata": {
        "colab": {
          "base_uri": "https://localhost:8080/"
        },
        "id": "jFH5YoZZHvgv",
        "outputId": "223bdbb6-e75d-49d2-b9b3-410afd5f278d"
      },
      "execution_count": 62,
      "outputs": [
        {
          "output_type": "stream",
          "name": "stdout",
          "text": [
            "Index(['InvoiceNo', 'StockCode', 'Description', 'Quantity', 'InvoiceDate',\n",
            "       'UnitPrice', 'CustomerID', 'Country'],\n",
            "      dtype='object')\n"
          ]
        }
      ]
    },
    {
      "cell_type": "code",
      "source": [
        "num_rows, num_columns = retail_data.shape\n",
        "print('Número de filas', num_rows)\n",
        "print('Número de columnas', num_columns)"
      ],
      "metadata": {
        "colab": {
          "base_uri": "https://localhost:8080/"
        },
        "id": "2R0gA_TjH2yC",
        "outputId": "4d2959f9-7153-4b3d-c0b0-38af5cdfcb28"
      },
      "execution_count": 63,
      "outputs": [
        {
          "output_type": "stream",
          "name": "stdout",
          "text": [
            "Número de filas 541909\n",
            "Número de columnas 8\n"
          ]
        }
      ]
    },
    {
      "cell_type": "code",
      "source": [
        "daily_sales = retail_data['Quantity']\n",
        "print(daily_sales)\n",
        "print(daily_sales[2])"
      ],
      "metadata": {
        "colab": {
          "base_uri": "https://localhost:8080/"
        },
        "id": "AxyIu3foH5AB",
        "outputId": "d850bb21-5251-4adc-842f-51167036c533"
      },
      "execution_count": 64,
      "outputs": [
        {
          "output_type": "stream",
          "name": "stdout",
          "text": [
            "0          6\n",
            "1          6\n",
            "2          8\n",
            "3          6\n",
            "4          6\n",
            "          ..\n",
            "541904    12\n",
            "541905     6\n",
            "541906     4\n",
            "541907     4\n",
            "541908     3\n",
            "Name: Quantity, Length: 541909, dtype: int64\n",
            "8\n"
          ]
        }
      ]
    },
    {
      "cell_type": "code",
      "source": [
        "summary = retail_data.describe()\n",
        "print(summary)"
      ],
      "metadata": {
        "colab": {
          "base_uri": "https://localhost:8080/"
        },
        "id": "DDYXtV-KH6bT",
        "outputId": "fc30e85d-0a10-4662-a312-8d63a1b69cd2"
      },
      "execution_count": 65,
      "outputs": [
        {
          "output_type": "stream",
          "name": "stdout",
          "text": [
            "            Quantity      UnitPrice     CustomerID\n",
            "count  541909.000000  541909.000000  406829.000000\n",
            "mean        9.552250       4.611114   15287.690570\n",
            "std       218.081158      96.759853    1713.600303\n",
            "min    -80995.000000  -11062.060000   12346.000000\n",
            "25%         1.000000       1.250000   13953.000000\n",
            "50%         3.000000       2.080000   15152.000000\n",
            "75%        10.000000       4.130000   16791.000000\n",
            "max     80995.000000   38970.000000   18287.000000\n"
          ]
        }
      ]
    },
    {
      "cell_type": "code",
      "source": [
        "mean_value = daily_sales.mean()\n",
        "print('La media es', mean_value)"
      ],
      "metadata": {
        "colab": {
          "base_uri": "https://localhost:8080/"
        },
        "id": "UDfn1IaqH7t5",
        "outputId": "671b7658-0f63-43ff-a1bf-3d8dbd5f38f0"
      },
      "execution_count": 66,
      "outputs": [
        {
          "output_type": "stream",
          "name": "stdout",
          "text": [
            "La media es 9.55224954743324\n"
          ]
        }
      ]
    },
    {
      "cell_type": "code",
      "source": [
        "median_value = daily_sales.median()\n",
        "print('La mediana es', mean_value)"
      ],
      "metadata": {
        "colab": {
          "base_uri": "https://localhost:8080/"
        },
        "id": "rPZZ8iIcH9TU",
        "outputId": "043c56ed-09c8-48f3-979f-e91887e255b1"
      },
      "execution_count": 67,
      "outputs": [
        {
          "output_type": "stream",
          "name": "stdout",
          "text": [
            "La mediana es 9.55224954743324\n"
          ]
        }
      ]
    },
    {
      "cell_type": "code",
      "source": [
        "sum_value = daily_sales.sum()\n",
        "print('La suma total es', mean_value)"
      ],
      "metadata": {
        "colab": {
          "base_uri": "https://localhost:8080/"
        },
        "id": "z6gnA3j2H-i8",
        "outputId": "316fb3b6-c5d6-4f98-ac0e-5e195f2e7600"
      },
      "execution_count": 68,
      "outputs": [
        {
          "output_type": "stream",
          "name": "stdout",
          "text": [
            "La suma total es 9.55224954743324\n"
          ]
        }
      ]
    },
    {
      "cell_type": "code",
      "source": [
        "count_values = daily_sales.count()\n",
        "print(count_values)"
      ],
      "metadata": {
        "colab": {
          "base_uri": "https://localhost:8080/"
        },
        "id": "BsZ6uoefH_4R",
        "outputId": "1e0b33c2-1973-4190-cc11-2f841830e34f"
      },
      "execution_count": 69,
      "outputs": [
        {
          "output_type": "stream",
          "name": "stdout",
          "text": [
            "541909\n"
          ]
        }
      ]
    },
    {
      "cell_type": "code",
      "source": [
        "import pandas as pd\n",
        "\n",
        "daily_sales = pd.Series([10, 20, None, 40, 50])\n",
        "\n",
        "# Suma de Quantity\n",
        "total_sum = daily_sales.sum()\n",
        "print(\"Suma de Quantity:\", total_sum)\n",
        "\n",
        "# Conteo de Quantity\n",
        "count_values = daily_sales.count()\n",
        "print(\"Conteo de Quantity:\", count_values)"
      ],
      "metadata": {
        "colab": {
          "base_uri": "https://localhost:8080/"
        },
        "id": "WXTQUIUBIBTU",
        "outputId": "edf8396c-9d30-4b35-cea3-ef213be9520f"
      },
      "execution_count": 70,
      "outputs": [
        {
          "output_type": "stream",
          "name": "stdout",
          "text": [
            "Suma de Quantity: 120.0\n",
            "Conteo de Quantity: 4\n"
          ]
        }
      ]
    }
  ]
}