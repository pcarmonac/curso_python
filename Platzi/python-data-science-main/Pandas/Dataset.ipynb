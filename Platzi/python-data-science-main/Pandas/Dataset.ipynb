{
  "nbformat": 4,
  "nbformat_minor": 0,
  "metadata": {
    "colab": {
      "provenance": []
    },
    "kernelspec": {
      "name": "python3",
      "display_name": "Python 3"
    },
    "language_info": {
      "name": "python"
    }
  },
  "cells": [
    {
      "cell_type": "markdown",
      "source": [
        "# 12 Dataset"
      ],
      "metadata": {
        "id": "uI7_YNwXlMe1"
      }
    },
    {
      "cell_type": "code",
      "source": [
        "import pandas as pd\n",
        "\n",
        "path = '/content/online_retail.csv'\n",
        "retail_data = pd.read_csv(path)\n",
        "\n",
        "#Excel\n",
        "#data_excel = pd.read_excel(path)\n",
        "\n",
        "#JSON\n",
        "#data_json = pd.read_json(path)\n",
        "\n",
        "#print(type(retail_data))\n",
        "print(retail_data)"
      ],
      "metadata": {
        "colab": {
          "base_uri": "https://localhost:8080/"
        },
        "id": "3s0qaCHwFEhn",
        "outputId": "1c4ab785-7f15-4e09-c01e-57ab0a0bf00c"
      },
      "execution_count": 59,
      "outputs": [
        {
          "output_type": "stream",
          "name": "stdout",
          "text": [
            "       InvoiceNo StockCode                          Description  Quantity  \\\n",
            "0         536365    85123A   WHITE HANGING HEART T-LIGHT HOLDER         6   \n",
            "1         536365     71053                  WHITE METAL LANTERN         6   \n",
            "2         536365    84406B       CREAM CUPID HEARTS COAT HANGER         8   \n",
            "3         536365    84029G  KNITTED UNION FLAG HOT WATER BOTTLE         6   \n",
            "4         536365    84029E       RED WOOLLY HOTTIE WHITE HEART.         6   \n",
            "...          ...       ...                                  ...       ...   \n",
            "541904    581587     22613          PACK OF 20 SPACEBOY NAPKINS        12   \n",
            "541905    581587     22899         CHILDREN'S APRON DOLLY GIRL          6   \n",
            "541906    581587     23254        CHILDRENS CUTLERY DOLLY GIRL          4   \n",
            "541907    581587     23255      CHILDRENS CUTLERY CIRCUS PARADE         4   \n",
            "541908    581587     22138        BAKING SET 9 PIECE RETROSPOT          3   \n",
            "\n",
            "                InvoiceDate  UnitPrice  CustomerID         Country  \n",
            "0       2010-12-01 08:26:00       2.55     17850.0  United Kingdom  \n",
            "1       2010-12-01 08:26:00       3.39     17850.0  United Kingdom  \n",
            "2       2010-12-01 08:26:00       2.75     17850.0  United Kingdom  \n",
            "3       2010-12-01 08:26:00       3.39     17850.0  United Kingdom  \n",
            "4       2010-12-01 08:26:00       3.39     17850.0  United Kingdom  \n",
            "...                     ...        ...         ...             ...  \n",
            "541904  2011-12-09 12:50:00       0.85     12680.0          France  \n",
            "541905  2011-12-09 12:50:00       2.10     12680.0          France  \n",
            "541906  2011-12-09 12:50:00       4.15     12680.0          France  \n",
            "541907  2011-12-09 12:50:00       4.15     12680.0          France  \n",
            "541908  2011-12-09 12:50:00       4.95     12680.0          France  \n",
            "\n",
            "[541909 rows x 8 columns]\n"
          ]
        }
      ]
    }
  ]
}