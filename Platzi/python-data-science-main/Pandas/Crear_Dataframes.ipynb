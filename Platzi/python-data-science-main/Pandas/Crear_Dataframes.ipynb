{
  "nbformat": 4,
  "nbformat_minor": 0,
  "metadata": {
    "colab": {
      "provenance": []
    },
    "kernelspec": {
      "name": "python3",
      "display_name": "Python 3"
    },
    "language_info": {
      "name": "python"
    }
  },
  "cells": [
    {
      "cell_type": "code",
      "execution_count": null,
      "metadata": {
        "id": "QEvi7xlla_7a"
      },
      "outputs": [],
      "source": [
        "import pandas as pd\n",
        "\n",
        "file_path = '/content/online_retail.csv'\n",
        "sales_data = pd.read_csv(file_path)\n",
        "print(sales_data.head())"
      ]
    },
    {
      "cell_type": "code",
      "source": [
        "import numpy as np\n",
        "\n",
        "data = np.array([[1,2,3], [4,5,6], [7,8,9]])\n",
        "\n",
        "dt_from_array = pd.DataFrame(data, columns=['A','B', 'c'])\n",
        "print(dt_from_array)"
      ],
      "metadata": {
        "colab": {
          "base_uri": "https://localhost:8080/"
        },
        "id": "lNVYt1VEb_Es",
        "outputId": "c5185e8d-54d8-4caf-a56f-f847e408d5cf"
      },
      "execution_count": 2,
      "outputs": [
        {
          "output_type": "stream",
          "name": "stdout",
          "text": [
            "   A  B  c\n",
            "0  1  2  3\n",
            "1  4  5  6\n",
            "2  7  8  9\n"
          ]
        }
      ]
    },
    {
      "cell_type": "code",
      "source": [
        "data = [[1,'Jhon', 22], [2,'Anna', 24]]\n",
        "\n",
        "df_from_list = pd.DataFrame(data, columns = ['ID', 'Name', 'Age'])\n",
        "print(df_from_list)"
      ],
      "metadata": {
        "colab": {
          "base_uri": "https://localhost:8080/"
        },
        "id": "F-117BlScF-S",
        "outputId": "b3230678-1cee-4e0f-f926-80c376a3a878"
      },
      "execution_count": 3,
      "outputs": [
        {
          "output_type": "stream",
          "name": "stdout",
          "text": [
            "   ID  Name  Age\n",
            "0   1  Jhon   22\n",
            "1   2  Anna   24\n"
          ]
        }
      ]
    },
    {
      "cell_type": "code",
      "source": [
        "data = [{'ID': 1,\n",
        "         'Name': 'Jhon',\n",
        "         'Age' : 22}]\n",
        "dt_from_dict_list = pd.DataFrame(data)\n",
        "print(dt_from_dict_list )"
      ],
      "metadata": {
        "colab": {
          "base_uri": "https://localhost:8080/"
        },
        "id": "05KpybBncFzK",
        "outputId": "c688b272-3ced-4ddd-bea3-b797e2306850"
      },
      "execution_count": 4,
      "outputs": [
        {
          "output_type": "stream",
          "name": "stdout",
          "text": [
            "   ID  Name  Age\n",
            "0   1  Jhon   22\n"
          ]
        }
      ]
    },
    {
      "cell_type": "code",
      "source": [
        "data = {'ID': [1,2,3], 'Name': ['Jhon', 'Anna', 'Mike'], 'Age': [22,24,21]}\n",
        "\n",
        "df_from_dict = pd.DataFrame(data)\n",
        "print(df_from_dict)"
      ],
      "metadata": {
        "colab": {
          "base_uri": "https://localhost:8080/"
        },
        "id": "OEMxU56LcA4a",
        "outputId": "ba9603f6-9903-42b8-d1c1-63415660efbe"
      },
      "execution_count": 5,
      "outputs": [
        {
          "output_type": "stream",
          "name": "stdout",
          "text": [
            "   ID  Name  Age\n",
            "0   1  Jhon   22\n",
            "1   2  Anna   24\n",
            "2   3  Mike   21\n"
          ]
        }
      ]
    },
    {
      "cell_type": "code",
      "source": [
        "data = {'ID': pd.Series([1,2,3]),\n",
        "        'Name': pd.Series(['Jhon', 'Anna', 'Mike']),\n",
        "        'Age': pd.Series([22,24,21])}\n",
        "\n",
        "df_from_series_dict = pd.DataFrame(data)\n",
        "print(df_from_series_dict)"
      ],
      "metadata": {
        "colab": {
          "base_uri": "https://localhost:8080/"
        },
        "id": "FXU5IbvlcKMr",
        "outputId": "d6e82366-51f4-4e83-8e50-88efd7e95296"
      },
      "execution_count": 6,
      "outputs": [
        {
          "output_type": "stream",
          "name": "stdout",
          "text": [
            "   ID  Name  Age\n",
            "0   1  Jhon   22\n",
            "1   2  Anna   24\n",
            "2   3  Mike   21\n"
          ]
        }
      ]
    },
    {
      "cell_type": "code",
      "source": [
        "from google.colab import drive\n",
        "\n",
        "drive.mount('/content/drive')\n",
        "file_path = \"/content/drive/My Drive/online_retail.csv\"\n",
        "\n",
        "sales_data = pd.read_csv(file_path)\n",
        "print(sales_data.head())"
      ],
      "metadata": {
        "id": "jdvdjvu8cLdx"
      },
      "execution_count": null,
      "outputs": []
    },
    {
      "cell_type": "code",
      "source": [
        "from google.colab import drive\n",
        "drive.mount('/content/drive')"
      ],
      "metadata": {
        "id": "EvUH2x06cOqg"
      },
      "execution_count": null,
      "outputs": []
    }
  ]
}